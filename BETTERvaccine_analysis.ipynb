{
 "cells": [
  {
   "cell_type": "markdown",
   "metadata": {},
   "source": [
    "# CLEANING AND ADDING COLUMNS"
   ]
  },
  {
   "cell_type": "markdown",
   "metadata": {},
   "source": [
    "imports"
   ]
  },
  {
   "cell_type": "code",
   "execution_count": 1,
   "metadata": {
    "ExecuteTime": {
     "end_time": "2023-09-27T16:44:21.769132Z",
     "start_time": "2023-09-27T16:44:20.855950Z"
    }
   },
   "outputs": [],
   "source": [
    "import pandas as pd\n",
    "import numpy as np\n",
    "import matplotlib.pyplot as plt"
   ]
  },
  {
   "cell_type": "code",
   "execution_count": 2,
   "outputs": [],
   "source": [
    "df = pd.read_excel('vaccine_data.xlsx')\n",
    "drop = ['Note','P1Com','P2Com','P3Com','Parents','CeCo']\n",
    "df.drop(columns=drop, inplace=True)"
   ],
   "metadata": {
    "collapsed": false,
    "ExecuteTime": {
     "end_time": "2023-09-27T16:44:23.662787Z",
     "start_time": "2023-09-27T16:44:23.231695Z"
    }
   }
  },
  {
   "cell_type": "markdown",
   "metadata": {
    "ExecuteTime": {
     "end_time": "2023-07-25T16:47:34.996782Z",
     "start_time": "2023-07-25T16:47:34.446608Z"
    }
   },
   "source": [
    "convert \"Attended\" columns to datetime and make sure \"NO SHOW\" columns do not have NaT"
   ]
  },
  {
   "cell_type": "code",
   "execution_count": 3,
   "metadata": {
    "ExecuteTime": {
     "end_time": "2023-09-27T16:44:25.035983Z",
     "start_time": "2023-09-27T16:44:25.000810Z"
    }
   },
   "outputs": [],
   "source": [
    "df['Att1'] = pd.to_datetime(df['Att1'], errors='coerce')\n",
    "df['Att2'] = pd.to_datetime(df['Att2'], errors='coerce')\n",
    "df['Att3'] = pd.to_datetime(df['Att3'], errors='coerce')\n",
    "df['Att4'] = pd.to_datetime(df['Att4'], errors='coerce')\n",
    "df['Att5'] = pd.to_datetime(df['Att5'], errors='coerce')\n",
    "df['DoB'] = pd.to_datetime(df['DoB'], errors='coerce')\n",
    "# df['CeDB'] = pd.to_datetime(df['CeDB'], errors='coerce')\n",
    "for idx, row in df.iterrows():\n",
    "    if row['ReNu'] == 'NO SHOW':\n",
    "        df.at[idx, 'Att1'] = 'NO SHOW'\n",
    "        df.at[idx, 'Att2'] = 'NO SHOW'\n",
    "        df.at[idx, 'Att3'] = 'NO SHOW'\n",
    "        df.at[idx, 'Att4'] = 'NO SHOW'\n",
    "        df.at[idx, 'Att5'] = 'NO SHOW'\n",
    "        df.at[idx, 'ReDB'] = 'NO SHOW'\n",
    "df['Att1'].fillna('None', inplace=True)\n",
    "df['Att2'].fillna('None', inplace=True)\n",
    "df['Att3'].fillna('None', inplace=True)\n",
    "df['Att4'].fillna('None', inplace=True)\n",
    "df['Att5'].fillna('None', inplace=True)"
   ]
  },
  {
   "cell_type": "markdown",
   "metadata": {},
   "source": [
    "make one DOB column"
   ]
  },
  {
   "cell_type": "code",
   "execution_count": 4,
   "metadata": {
    "ExecuteTime": {
     "end_time": "2023-09-27T16:44:26.074069Z",
     "start_time": "2023-09-27T16:44:26.065366Z"
    }
   },
   "outputs": [],
   "source": [
    "# DOBs = []\n",
    "# for idx, row in df.iterrows():\n",
    "#     if df.at[idx, 'ReDB'] != 'NO SHOW':\n",
    "#         date = df.at[idx, 'ReDB']\n",
    "#         DOBs.append(date)\n",
    "#     else:\n",
    "#         date = df.at[idx, 'CeDB']\n",
    "#         DOBs.append(date)\n",
    "# df['DOB'] = DOBs\n"
   ]
  },
  {
   "cell_type": "markdown",
   "metadata": {
    "ExecuteTime": {
     "end_time": "2023-07-20T00:57:35.969670Z",
     "start_time": "2023-07-20T00:57:35.942732Z"
    }
   },
   "source": [
    "age column"
   ]
  },
  {
   "cell_type": "code",
   "execution_count": 5,
   "metadata": {
    "ExecuteTime": {
     "end_time": "2023-09-27T16:44:27.140948Z",
     "start_time": "2023-09-27T16:44:26.965286Z"
    }
   },
   "outputs": [],
   "source": [
    "dates = []\n",
    "\n",
    "for idx, row in df.iterrows():\n",
    "    if row['Att1'] == 'NO SHOW':\n",
    "        dates.append(pd.to_datetime('3/15/2023'))\n",
    "        continue\n",
    "    if row['Att1'] == pd.to_datetime('3/15/2023'):\n",
    "        dates.append(pd.to_datetime('3/15/2023'))\n",
    "        continue\n",
    "    if row['Att2'] == pd.to_datetime('4/15/2023'):\n",
    "        dates.append(pd.to_datetime('4/15/2023'))\n",
    "        continue\n",
    "    if row['Att3'] == pd.to_datetime('5/15/2023'):\n",
    "        dates.append(pd.to_datetime('5/15/2023'))\n",
    "        continue\n",
    "    if row['Att4'] == pd.to_datetime('6/15/2023'):\n",
    "        dates.append(pd.to_datetime('6/15/2023'))\n",
    "        continue\n",
    "    if row['Att5'] == pd.to_datetime('7/15/2023'):\n",
    "        dates.append(pd.to_datetime('7/15/2023'))\n",
    "        continue\n",
    "\n",
    "df['dates'] = dates\n",
    "ages = list(df['dates'] - df['DoB'])\n",
    "df['AGE'] = ages\n",
    "df['AGE'] = df['AGE'].dt.days / 30\n",
    "df.drop(columns=['dates'], inplace=True)"
   ]
  },
  {
   "cell_type": "markdown",
   "metadata": {
    "ExecuteTime": {
     "end_time": "2023-07-20T00:58:49.646274Z",
     "start_time": "2023-07-20T00:58:49.634920Z"
    }
   },
   "source": [
    "PreV column"
   ]
  },
  {
   "cell_type": "code",
   "execution_count": 6,
   "metadata": {
    "ExecuteTime": {
     "end_time": "2023-09-27T16:44:28.203167Z",
     "start_time": "2023-09-27T16:44:28.192990Z"
    }
   },
   "outputs": [],
   "source": [
    "preV_P = []\n",
    "for idx, row in df.iterrows():\n",
    "    if row['ReNu'] == 'NO SHOW':\n",
    "        preV_P.append('?')\n",
    "        continue\n",
    "    count = 0\n",
    "    for col in df.columns:\n",
    "        if row[col] == 'P':\n",
    "            count = count + 1\n",
    "    if count >= 1:\n",
    "        preV_P.append('Yes')\n",
    "    else:\n",
    "        preV_P.append('No')\n",
    "df['PreV'] = preV_P"
   ]
  },
  {
   "cell_type": "markdown",
   "metadata": {},
   "source": [
    "UTD column"
   ]
  },
  {
   "cell_type": "code",
   "execution_count": 7,
   "metadata": {
    "ExecuteTime": {
     "end_time": "2023-09-27T16:44:29.161371Z",
     "start_time": "2023-09-27T16:44:29.109903Z"
    }
   },
   "outputs": [],
   "source": [
    "penta_cols = ['P1Pe3','P2Pe3','P3Pe3','P4Pe3', 'P5Pe3']\n",
    "polio_cols = ['P1Po3','P2Po3','P3Po3','P4Po3', 'P5Po3']\n",
    "utd = []\n",
    "for idx, row in df.iterrows():\n",
    "    if row['ReNu'] == 'NO SHOW':\n",
    "        utd.append('?')\n",
    "        continue\n",
    "    UTD_Pe = False\n",
    "    UTD_Po = False\n",
    "    while not UTD_Pe and not UTD_Po:\n",
    "        for col in penta_cols:\n",
    "            if row[col] == 'Yes' or row[col] == 'P':\n",
    "                UTD_Pe = True\n",
    "        for col2 in polio_cols:\n",
    "            if row[col2] == 'Yes' or row[col2] == 'P':\n",
    "                UTD_Po = True\n",
    "        utd.append(UTD_Pe and UTD_Po)\n",
    "        if not UTD_Pe and not UTD_Po:\n",
    "            break\n",
    "df['UTD'] = utd"
   ]
  },
  {
   "cell_type": "markdown",
   "metadata": {},
   "source": [
    "insert \"-\" if the child did not attend on that date"
   ]
  },
  {
   "cell_type": "code",
   "execution_count": 8,
   "metadata": {
    "ExecuteTime": {
     "end_time": "2023-09-27T16:44:30.071383Z",
     "start_time": "2023-09-27T16:44:30.055681Z"
    }
   },
   "outputs": [],
   "source": [
    "for idx, row in df.iterrows():\n",
    "    if row['Att1'] == 'None': # first came in Apr/May/June\n",
    "        #print(7)\n",
    "        df.at[idx, 'P1BC'] = '-'\n",
    "        df.at[idx, 'P1Po1'] = '-'\n",
    "        df.at[idx, 'P1Po2'] = '-'\n",
    "        df.at[idx, 'P1Po3'] = '-'\n",
    "        df.at[idx, 'P1Pe1'] = '-'\n",
    "        df.at[idx, 'P1Pe2'] = '-'\n",
    "        df.at[idx, 'P1Pe3'] = '-'\n",
    "        df.at[idx, 'P1M1'] = '-'\n",
    "        df.at[idx, 'P1M2'] = '-'\n",
    "    if (row['Att2'] == 'None') and (row['Att1'] == 'None'): # first came in May/June\n",
    "        df.at[idx, 'P2BC'] = '-'\n",
    "        df.at[idx, 'P2Po1'] = '-'\n",
    "        df.at[idx, 'P2Po2'] = '-'\n",
    "        df.at[idx, 'P2Po3'] = '-'\n",
    "        df.at[idx, 'P2Pe1'] = '-'\n",
    "        df.at[idx, 'P2Pe2'] = '-'\n",
    "        df.at[idx, 'P2Pe3'] = '-'\n",
    "        df.at[idx, 'P2M1'] = '-'\n",
    "        df.at[idx, 'P2M2'] = '-'\n",
    "    if (row['Att3'] == 'None') and (row['Att1'] == 'None') and (row['Att2'] == 'None'): # first came in June\n",
    "        df.at[idx, 'P3BC'] = '-'\n",
    "        df.at[idx, 'P3Po1'] = '-'\n",
    "        df.at[idx, 'P3Po2'] = '-'\n",
    "        df.at[idx, 'P3Po3'] = '-'\n",
    "        df.at[idx, 'P3Pe1'] = '-'\n",
    "        df.at[idx, 'P3Pe2'] = '-'\n",
    "        df.at[idx, 'P3Pe3'] = '-'\n",
    "        df.at[idx, 'P3M1'] = '-'\n",
    "        df.at[idx, 'P3M2'] = '-'\n",
    "    if (row['Att4'] == 'None' ) and (row['Att3'] == 'None') and (row['Att1'] == 'None') and (row['Att2'] == 'None'): # first came in July\n",
    "        df.at[idx, 'P4BC'] = '-'\n",
    "        df.at[idx, 'P4Po1'] = '-'\n",
    "        df.at[idx, 'P4Po2'] = '-'\n",
    "        df.at[idx, 'P4Po3'] = '-'\n",
    "        df.at[idx, 'P4Pe1'] = '-'\n",
    "        df.at[idx, 'P4Pe2'] = '-'\n",
    "        df.at[idx, 'P4Pe3'] = '-'\n",
    "        df.at[idx, 'P4M1'] = '-'\n",
    "        df.at[idx, 'P4M2'] = '-'"
   ]
  },
  {
   "cell_type": "code",
   "execution_count": 9,
   "metadata": {
    "ExecuteTime": {
     "end_time": "2023-09-27T16:44:30.695722Z",
     "start_time": "2023-09-27T16:44:30.682048Z"
    }
   },
   "outputs": [],
   "source": [
    "df['UTD'] = df['UTD'].replace(True,'Yes')\n",
    "df['UTD'] = df['UTD'].replace(False, 'No')"
   ]
  },
  {
   "cell_type": "markdown",
   "metadata": {
    "ExecuteTime": {
     "end_time": "2023-07-20T01:07:30.960837Z",
     "start_time": "2023-07-20T01:07:30.941802Z"
    }
   },
   "source": [
    "Age columns at different months"
   ]
  },
  {
   "cell_type": "code",
   "execution_count": 10,
   "metadata": {
    "ExecuteTime": {
     "end_time": "2023-09-27T16:44:32.029407Z",
     "start_time": "2023-09-27T16:44:31.685432Z"
    }
   },
   "outputs": [],
   "source": [
    "age_apr15 = []\n",
    "for idx, row in df.iterrows():\n",
    "    if row['Att1'] == pd.to_datetime('3/15/2023'):\n",
    "        age_apr15.append(row['AGE'] + 1)\n",
    "        continue\n",
    "    if row['Att2'] == pd.to_datetime('4/15/2023'):\n",
    "        age_apr15.append(row['AGE'])\n",
    "        continue\n",
    "    if row['Att3'] == pd.to_datetime('5/15/2023'):\n",
    "        age_apr15.append(row['AGE'] - 1)\n",
    "        continue\n",
    "    if row['Att1'] == 'NO SHOW':\n",
    "        age_apr15.append(row['AGE'] + 1)\n",
    "        continue\n",
    "    if row['Att4'] == pd.to_datetime('6/15/2023'):\n",
    "        age_apr15.append(row['AGE'] - 2)\n",
    "        continue\n",
    "    if row['Att5'] == pd.to_datetime('7/15/2023'): # first came in July\n",
    "        age_apr15.append(row['AGE'] - 3)\n",
    "        continue\n",
    "age_may15 = []\n",
    "for idx, row in df.iterrows():\n",
    "    if row['Att1'] == pd.to_datetime('3/15/2023'):\n",
    "        age_may15.append(row['AGE'] + 2)\n",
    "        continue\n",
    "    if row['Att1'] == 'NO SHOW':\n",
    "        age_may15.append(row['AGE'] + 2)\n",
    "    if row['Att2'] == pd.to_datetime('4/15/2023'):\n",
    "        age_may15.append(row['AGE'] + 1)\n",
    "        continue\n",
    "    if row['Att3'] == pd.to_datetime('5/15/2023'):\n",
    "        age_may15.append(row['AGE'])\n",
    "        continue\n",
    "    if row['Att4'] == pd.to_datetime('6/15/2023'):\n",
    "        age_may15.append(row['AGE'] - 1)\n",
    "        continue\n",
    "    if row['Att5'] == pd.to_datetime('7/15/2023'):\n",
    "        age_may15.append(row['AGE'] - 2)\n",
    "        continue\n",
    "age_june15 = []\n",
    "for idx, row in df.iterrows():\n",
    "    if row['Att1'] == pd.to_datetime('3/15/2023'):\n",
    "        age_june15.append(row['AGE'] + 3)\n",
    "        continue\n",
    "    if row['Att1'] == 'NO SHOW':\n",
    "        age_june15.append(row['AGE'] + 3)\n",
    "    if row['Att2'] == pd.to_datetime('4/15/2023'):\n",
    "        age_june15.append(row['AGE'] + 2)\n",
    "        continue\n",
    "    if row['Att3'] == pd.to_datetime('5/15/2023'):\n",
    "        age_june15.append(row['AGE'] + 1)\n",
    "        continue\n",
    "    if row['Att4'] == pd.to_datetime('6/15/2023'):\n",
    "        age_june15.append(row['AGE'])\n",
    "        continue\n",
    "    if row['Att5'] == pd.to_datetime('7/15/2023'):\n",
    "        age_june15.append(row['AGE'] - 1)\n",
    "        continue\n",
    "age_july15 = []\n",
    "for idx, row in df.iterrows():\n",
    "    if row['Att1'] == pd.to_datetime('3/15/2023'):\n",
    "        age_july15.append(row['AGE'] + 4)\n",
    "        continue\n",
    "    if row['Att1'] == 'NO SHOW':\n",
    "        age_july15.append(row['AGE'] + 4)\n",
    "    if row['Att2'] == pd.to_datetime('4/15/2023'):\n",
    "        age_july15.append(row['AGE'] + 3)\n",
    "        continue\n",
    "    if row['Att3'] == pd.to_datetime('5/15/2023'):\n",
    "        age_july15.append(row['AGE'] + 2)\n",
    "        continue\n",
    "    if row['Att4'] == pd.to_datetime('6/15/2023'):\n",
    "        age_july15.append(row['AGE']+ 1)\n",
    "        continue\n",
    "    if row['Att5'] == pd.to_datetime('7/15/2023'):\n",
    "        age_july15.append(row['AGE'])\n",
    "        continue\n",
    "\n",
    "df['AGE_APR15'] = age_apr15\n",
    "df['AGE_MAY15'] = age_may15\n",
    "df['AGE_JUNE15'] = age_june15\n",
    "df['AGE_JULY15'] = age_july15\n"
   ]
  },
  {
   "cell_type": "code",
   "execution_count": 11,
   "outputs": [
    {
     "data": {
      "text/plain": "6.466666666666667"
     },
     "execution_count": 11,
     "metadata": {},
     "output_type": "execute_result"
    }
   ],
   "source": [
    "no = df.loc[df['PreV']=='No',:]\n",
    "no['AGE'].median()\n",
    "np.quantile(a=no['AGE'], q=0.75) - np.quantile(a=no['AGE'], q=0.25)"
   ],
   "metadata": {
    "collapsed": false,
    "ExecuteTime": {
     "end_time": "2023-09-27T16:44:32.963043Z",
     "start_time": "2023-09-27T16:44:32.933923Z"
    }
   }
  },
  {
   "cell_type": "markdown",
   "source": [],
   "metadata": {
    "collapsed": false
   }
  },
  {
   "cell_type": "code",
   "execution_count": 18,
   "outputs": [
    {
     "data": {
      "text/plain": "    ReNu                 Att1                 Att2                 Att3  \\\n15    16  2023-03-15 00:00:00  2023-04-15 00:00:00  2023-05-15 00:00:00   \n16    17  2023-03-15 00:00:00  2023-04-15 00:00:00  2023-05-15 00:00:00   \n17    18  2023-03-15 00:00:00  2023-04-15 00:00:00  2023-05-15 00:00:00   \n19    20  2023-03-15 00:00:00  2023-04-15 00:00:00  2023-05-15 00:00:00   \n24    25  2023-03-15 00:00:00  2023-04-15 00:00:00  2023-05-15 00:00:00   \n26    27  2023-03-15 00:00:00                 None                 None   \n27    28  2023-03-15 00:00:00  2023-04-15 00:00:00  2023-05-15 00:00:00   \n28    29  2023-03-15 00:00:00  2023-04-15 00:00:00  2023-05-15 00:00:00   \n29    30  2023-03-15 00:00:00  2023-04-15 00:00:00  2023-05-15 00:00:00   \n32    33  2023-03-15 00:00:00  2023-04-15 00:00:00  2023-05-15 00:00:00   \n33    34  2023-03-15 00:00:00  2023-04-15 00:00:00  2023-05-15 00:00:00   \n38    39  2023-03-15 00:00:00  2023-04-15 00:00:00  2023-05-15 00:00:00   \n43    44  2023-03-15 00:00:00  2023-04-15 00:00:00  2023-05-15 00:00:00   \n49    50  2023-03-15 00:00:00  2023-04-15 00:00:00  2023-05-15 00:00:00   \n52    53  2023-03-15 00:00:00  2023-04-15 00:00:00  2023-05-15 00:00:00   \n56    57  2023-03-15 00:00:00  2023-04-15 00:00:00  2023-05-15 00:00:00   \n57    58  2023-03-15 00:00:00  2023-04-15 00:00:00  2023-05-15 00:00:00   \n58    59  2023-03-15 00:00:00  2023-04-15 00:00:00  2023-05-15 00:00:00   \n59    60  2023-03-15 00:00:00  2023-04-15 00:00:00  2023-05-15 00:00:00   \n60    61  2023-03-15 00:00:00  2023-04-15 00:00:00  2023-05-15 00:00:00   \n69    70  2023-03-15 00:00:00  2023-04-15 00:00:00  2023-05-15 00:00:00   \n91    92  2023-03-15 00:00:00  2023-04-15 00:00:00  2023-05-15 00:00:00   \n92    93  2023-03-15 00:00:00  2023-04-15 00:00:00  2023-05-15 00:00:00   \n95    96  2023-03-15 00:00:00  2023-04-15 00:00:00  2023-05-15 00:00:00   \n96    97  2023-03-15 00:00:00  2023-04-15 00:00:00  2023-05-15 00:00:00   \n102  103  2023-03-15 00:00:00  2023-04-15 00:00:00  2023-05-15 00:00:00   \n104  105  2023-03-15 00:00:00  2023-04-15 00:00:00  2023-05-15 00:00:00   \n107  108  2023-03-15 00:00:00  2023-04-15 00:00:00                 None   \n109  110  2023-03-15 00:00:00  2023-04-15 00:00:00  2023-05-15 00:00:00   \n110  111  2023-03-15 00:00:00  2023-04-15 00:00:00  2023-05-15 00:00:00   \n111  112  2023-03-15 00:00:00  2023-04-15 00:00:00  2023-05-15 00:00:00   \n\n                    Att4                 Att5 PreV  \\\n15   2023-06-15 00:00:00  2023-07-15 00:00:00   No   \n16   2023-06-15 00:00:00                 None   No   \n17   2023-06-15 00:00:00                 None   No   \n19   2023-06-15 00:00:00  2023-07-15 00:00:00   No   \n24   2023-06-15 00:00:00                 None   No   \n26   2023-06-15 00:00:00  2023-07-15 00:00:00   No   \n27   2023-06-15 00:00:00                 None   No   \n28   2023-06-15 00:00:00  2023-07-15 00:00:00   No   \n29   2023-06-15 00:00:00                 None   No   \n32   2023-06-15 00:00:00                 None   No   \n33   2023-06-15 00:00:00                 None   No   \n38   2023-06-15 00:00:00                 None   No   \n43   2023-06-15 00:00:00                 None   No   \n49   2023-06-15 00:00:00                 None   No   \n52   2023-06-15 00:00:00  2023-07-15 00:00:00   No   \n56   2023-06-15 00:00:00                 None   No   \n57   2023-06-15 00:00:00                 None   No   \n58   2023-06-15 00:00:00                 None   No   \n59   2023-06-15 00:00:00                 None   No   \n60   2023-06-15 00:00:00  2023-07-15 00:00:00   No   \n69   2023-06-15 00:00:00  2023-07-15 00:00:00   No   \n91   2023-06-15 00:00:00                 None   No   \n92   2023-06-15 00:00:00                 None   No   \n95   2023-06-15 00:00:00                 None   No   \n96   2023-06-15 00:00:00  2023-07-15 00:00:00   No   \n102  2023-06-15 00:00:00                 None   No   \n104  2023-06-15 00:00:00                 None   No   \n107  2023-06-15 00:00:00  2023-07-15 00:00:00   No   \n109  2023-06-15 00:00:00  2023-07-15 00:00:00   No   \n110  2023-06-15 00:00:00  2023-07-15 00:00:00   No   \n111  2023-06-15 00:00:00                 None   No   \n\n                             Name Sex        DoB  ... P5Po2 P5Po3 P5M1 P5M2  \\\n15               မောင်ဘရူနိုပေါလ်   M 2022-10-14  ...   Yes   Yes  Yes   No   \n16                        မမေရီဦး   F 2022-05-11  ...   Yes   Yes  Yes  Yes   \n17                    မအက်စတာမိုး   F 2022-04-21  ...   Yes   Yes  Yes  Yes   \n19                 မောင်ကောင်းထက်   M 2022-10-16  ...   Yes   Yes  Yes   No   \n24                        မထရေးဇာ   F 2022-05-21  ...   Yes   Yes  Yes  Yes   \n26                        မဒေါရစ်   F 2023-03-01  ...   Yes   Yes   No   No   \n27                 မောင်ဂျူးနီယို   M 2022-05-18  ...   Yes   Yes  Yes  Yes   \n28            မောင်ခရစ္စတိုစတုန်း   M 2022-09-13  ...   Yes   Yes  Yes  Yes   \n29                 မောင်ဂျက်စတင်း   M 2022-04-15  ...   Yes   Yes  Yes  Yes   \n32           မမယ်ရီလင်း(ဟယ်လီးနာ)   F 2022-08-18  ...   Yes   Yes  Yes   No   \n33   မောင်ခရစ်အောင်ဘုန်းမြတ်ကျော်   M 2022-06-29  ...   Yes   Yes  Yes  Yes   \n38                   မအက်စတာဖြိုး   F 2022-04-12  ...   Yes   Yes  Yes  Yes   \n43                  မအိန်ဂျယ်လင်း   F 2023-02-03  ...   Yes   Yes   No   No   \n49             မဂျူးဒစ်ဇူဇန်အောင်   F 2023-01-25  ...   Yes   Yes   No   No   \n52      မောင်ဂျွန်နယူးမဲစိုးနိုင်   M 2022-05-15  ...   Yes   Yes  Yes  Yes   \n56                      မကက်သရင်း   F 2023-02-13  ...   Yes   Yes   No   No   \n57                       မဂျဲနီဦး   F 2022-08-10  ...   Yes   Yes  Yes  Yes   \n58                       မအဂ္ဂနက်   F 2022-04-25  ...   Yes   Yes  Yes  Yes   \n59              မောင်ကောင်းမြတ်ဦး   M 2023-01-20  ...   Yes   Yes   No   No   \n60             မဟာနာကယ်ရိုလှိုင်း   F 2022-09-15  ...   Yes   Yes  Yes  Yes   \n69                    မောင်စတီဗင်   M 2023-02-04  ...   Yes   Yes   No   No   \n91                      မရိုစလင်း   F 2022-06-03  ...   Yes   Yes  Yes  Yes   \n92                    မရို့စ်မေရီ   F 2022-10-13  ...   Yes   Yes   No   No   \n95                       မဆိုဖီရာ   F 2022-06-20  ...   Yes   Yes  Yes  Yes   \n96                    မဘယ်ရောနီကာ   F 2022-09-03  ...   Yes   Yes  Yes  Yes   \n102         မောင်ဂျွန်ထက်နေဇင်လတ်   M 2022-05-07  ...   Yes   Yes  Yes  Yes   \n104             မောင်လော်ရင်းရှို   M 2022-12-10  ...   Yes   Yes   No   No   \n107                   မောင်ညေးရယ်   M 2023-01-14  ...   Yes   Yes   No   No   \n109                     မစုစူးမြာ   F 2022-10-08  ...   Yes   Yes  Yes   No   \n110             မဖီလိုမီးနာဆုမိုး   F 2023-02-12  ...   Yes   Yes   No   No   \n111                  မောင်ရစ်ချက်   M 2023-01-13  ...   Yes   Yes   No   No   \n\n    ReDB        AGE  AGE_APR15  AGE_MAY15 AGE_JUNE15 AGE_JULY15  \n15   NaN   5.066667   6.066667   7.066667   8.066667   9.066667  \n16   NaN  10.266667  11.266667  12.266667  13.266667  14.266667  \n17   NaN  10.933333  11.933333  12.933333  13.933333  14.933333  \n19   NaN   5.000000   6.000000   7.000000   8.000000   9.000000  \n24   NaN   9.933333  10.933333  11.933333  12.933333  13.933333  \n26   NaN   0.466667   1.466667   2.466667   3.466667   4.466667  \n27   NaN  10.033333  11.033333  12.033333  13.033333  14.033333  \n28   NaN   6.100000   7.100000   8.100000   9.100000  10.100000  \n29   NaN  11.133333  12.133333  13.133333  14.133333  15.133333  \n32   NaN   6.966667   7.966667   8.966667   9.966667  10.966667  \n33   NaN   8.633333   9.633333  10.633333  11.633333  12.633333  \n38   NaN  11.233333  12.233333  13.233333  14.233333  15.233333  \n43   NaN   1.333333   2.333333   3.333333   4.333333   5.333333  \n49   NaN   1.633333   2.633333   3.633333   4.633333   5.633333  \n52   NaN  10.133333  11.133333  12.133333  13.133333  14.133333  \n56   NaN   1.000000   2.000000   3.000000   4.000000   5.000000  \n57   NaN   7.233333   8.233333   9.233333  10.233333  11.233333  \n58   NaN  10.800000  11.800000  12.800000  13.800000  14.800000  \n59   NaN   1.800000   2.800000   3.800000   4.800000   5.800000  \n60   NaN   6.033333   7.033333   8.033333   9.033333  10.033333  \n69   NaN   1.300000   2.300000   3.300000   4.300000   5.300000  \n91   NaN   9.500000  10.500000  11.500000  12.500000  13.500000  \n92   NaN   5.100000   6.100000   7.100000   8.100000   9.100000  \n95   NaN   8.933333   9.933333  10.933333  11.933333  12.933333  \n96   NaN   6.433333   7.433333   8.433333   9.433333  10.433333  \n102  NaN  10.400000  11.400000  12.400000  13.400000  14.400000  \n104  NaN   3.166667   4.166667   5.166667   6.166667   7.166667  \n107  NaN   2.000000   3.000000   4.000000   5.000000   6.000000  \n109  NaN   5.266667   6.266667   7.266667   8.266667   9.266667  \n110  NaN   1.033333   2.033333   3.033333   4.033333   5.033333  \n111  NaN   2.033333   3.033333   4.033333   5.033333   6.033333  \n\n[31 rows x 65 columns]",
      "text/html": "<div>\n<style scoped>\n    .dataframe tbody tr th:only-of-type {\n        vertical-align: middle;\n    }\n\n    .dataframe tbody tr th {\n        vertical-align: top;\n    }\n\n    .dataframe thead th {\n        text-align: right;\n    }\n</style>\n<table border=\"1\" class=\"dataframe\">\n  <thead>\n    <tr style=\"text-align: right;\">\n      <th></th>\n      <th>ReNu</th>\n      <th>Att1</th>\n      <th>Att2</th>\n      <th>Att3</th>\n      <th>Att4</th>\n      <th>Att5</th>\n      <th>PreV</th>\n      <th>Name</th>\n      <th>Sex</th>\n      <th>DoB</th>\n      <th>...</th>\n      <th>P5Po2</th>\n      <th>P5Po3</th>\n      <th>P5M1</th>\n      <th>P5M2</th>\n      <th>ReDB</th>\n      <th>AGE</th>\n      <th>AGE_APR15</th>\n      <th>AGE_MAY15</th>\n      <th>AGE_JUNE15</th>\n      <th>AGE_JULY15</th>\n    </tr>\n  </thead>\n  <tbody>\n    <tr>\n      <th>15</th>\n      <td>16</td>\n      <td>2023-03-15 00:00:00</td>\n      <td>2023-04-15 00:00:00</td>\n      <td>2023-05-15 00:00:00</td>\n      <td>2023-06-15 00:00:00</td>\n      <td>2023-07-15 00:00:00</td>\n      <td>No</td>\n      <td>မောင်ဘရူနိုပေါလ်</td>\n      <td>M</td>\n      <td>2022-10-14</td>\n      <td>...</td>\n      <td>Yes</td>\n      <td>Yes</td>\n      <td>Yes</td>\n      <td>No</td>\n      <td>NaN</td>\n      <td>5.066667</td>\n      <td>6.066667</td>\n      <td>7.066667</td>\n      <td>8.066667</td>\n      <td>9.066667</td>\n    </tr>\n    <tr>\n      <th>16</th>\n      <td>17</td>\n      <td>2023-03-15 00:00:00</td>\n      <td>2023-04-15 00:00:00</td>\n      <td>2023-05-15 00:00:00</td>\n      <td>2023-06-15 00:00:00</td>\n      <td>None</td>\n      <td>No</td>\n      <td>မမေရီဦး</td>\n      <td>F</td>\n      <td>2022-05-11</td>\n      <td>...</td>\n      <td>Yes</td>\n      <td>Yes</td>\n      <td>Yes</td>\n      <td>Yes</td>\n      <td>NaN</td>\n      <td>10.266667</td>\n      <td>11.266667</td>\n      <td>12.266667</td>\n      <td>13.266667</td>\n      <td>14.266667</td>\n    </tr>\n    <tr>\n      <th>17</th>\n      <td>18</td>\n      <td>2023-03-15 00:00:00</td>\n      <td>2023-04-15 00:00:00</td>\n      <td>2023-05-15 00:00:00</td>\n      <td>2023-06-15 00:00:00</td>\n      <td>None</td>\n      <td>No</td>\n      <td>မအက်စတာမိုး</td>\n      <td>F</td>\n      <td>2022-04-21</td>\n      <td>...</td>\n      <td>Yes</td>\n      <td>Yes</td>\n      <td>Yes</td>\n      <td>Yes</td>\n      <td>NaN</td>\n      <td>10.933333</td>\n      <td>11.933333</td>\n      <td>12.933333</td>\n      <td>13.933333</td>\n      <td>14.933333</td>\n    </tr>\n    <tr>\n      <th>19</th>\n      <td>20</td>\n      <td>2023-03-15 00:00:00</td>\n      <td>2023-04-15 00:00:00</td>\n      <td>2023-05-15 00:00:00</td>\n      <td>2023-06-15 00:00:00</td>\n      <td>2023-07-15 00:00:00</td>\n      <td>No</td>\n      <td>မောင်ကောင်းထက်</td>\n      <td>M</td>\n      <td>2022-10-16</td>\n      <td>...</td>\n      <td>Yes</td>\n      <td>Yes</td>\n      <td>Yes</td>\n      <td>No</td>\n      <td>NaN</td>\n      <td>5.000000</td>\n      <td>6.000000</td>\n      <td>7.000000</td>\n      <td>8.000000</td>\n      <td>9.000000</td>\n    </tr>\n    <tr>\n      <th>24</th>\n      <td>25</td>\n      <td>2023-03-15 00:00:00</td>\n      <td>2023-04-15 00:00:00</td>\n      <td>2023-05-15 00:00:00</td>\n      <td>2023-06-15 00:00:00</td>\n      <td>None</td>\n      <td>No</td>\n      <td>မထရေးဇာ</td>\n      <td>F</td>\n      <td>2022-05-21</td>\n      <td>...</td>\n      <td>Yes</td>\n      <td>Yes</td>\n      <td>Yes</td>\n      <td>Yes</td>\n      <td>NaN</td>\n      <td>9.933333</td>\n      <td>10.933333</td>\n      <td>11.933333</td>\n      <td>12.933333</td>\n      <td>13.933333</td>\n    </tr>\n    <tr>\n      <th>26</th>\n      <td>27</td>\n      <td>2023-03-15 00:00:00</td>\n      <td>None</td>\n      <td>None</td>\n      <td>2023-06-15 00:00:00</td>\n      <td>2023-07-15 00:00:00</td>\n      <td>No</td>\n      <td>မဒေါရစ်</td>\n      <td>F</td>\n      <td>2023-03-01</td>\n      <td>...</td>\n      <td>Yes</td>\n      <td>Yes</td>\n      <td>No</td>\n      <td>No</td>\n      <td>NaN</td>\n      <td>0.466667</td>\n      <td>1.466667</td>\n      <td>2.466667</td>\n      <td>3.466667</td>\n      <td>4.466667</td>\n    </tr>\n    <tr>\n      <th>27</th>\n      <td>28</td>\n      <td>2023-03-15 00:00:00</td>\n      <td>2023-04-15 00:00:00</td>\n      <td>2023-05-15 00:00:00</td>\n      <td>2023-06-15 00:00:00</td>\n      <td>None</td>\n      <td>No</td>\n      <td>မောင်ဂျူးနီယို</td>\n      <td>M</td>\n      <td>2022-05-18</td>\n      <td>...</td>\n      <td>Yes</td>\n      <td>Yes</td>\n      <td>Yes</td>\n      <td>Yes</td>\n      <td>NaN</td>\n      <td>10.033333</td>\n      <td>11.033333</td>\n      <td>12.033333</td>\n      <td>13.033333</td>\n      <td>14.033333</td>\n    </tr>\n    <tr>\n      <th>28</th>\n      <td>29</td>\n      <td>2023-03-15 00:00:00</td>\n      <td>2023-04-15 00:00:00</td>\n      <td>2023-05-15 00:00:00</td>\n      <td>2023-06-15 00:00:00</td>\n      <td>2023-07-15 00:00:00</td>\n      <td>No</td>\n      <td>မောင်ခရစ္စတိုစတုန်း</td>\n      <td>M</td>\n      <td>2022-09-13</td>\n      <td>...</td>\n      <td>Yes</td>\n      <td>Yes</td>\n      <td>Yes</td>\n      <td>Yes</td>\n      <td>NaN</td>\n      <td>6.100000</td>\n      <td>7.100000</td>\n      <td>8.100000</td>\n      <td>9.100000</td>\n      <td>10.100000</td>\n    </tr>\n    <tr>\n      <th>29</th>\n      <td>30</td>\n      <td>2023-03-15 00:00:00</td>\n      <td>2023-04-15 00:00:00</td>\n      <td>2023-05-15 00:00:00</td>\n      <td>2023-06-15 00:00:00</td>\n      <td>None</td>\n      <td>No</td>\n      <td>မောင်ဂျက်စတင်း</td>\n      <td>M</td>\n      <td>2022-04-15</td>\n      <td>...</td>\n      <td>Yes</td>\n      <td>Yes</td>\n      <td>Yes</td>\n      <td>Yes</td>\n      <td>NaN</td>\n      <td>11.133333</td>\n      <td>12.133333</td>\n      <td>13.133333</td>\n      <td>14.133333</td>\n      <td>15.133333</td>\n    </tr>\n    <tr>\n      <th>32</th>\n      <td>33</td>\n      <td>2023-03-15 00:00:00</td>\n      <td>2023-04-15 00:00:00</td>\n      <td>2023-05-15 00:00:00</td>\n      <td>2023-06-15 00:00:00</td>\n      <td>None</td>\n      <td>No</td>\n      <td>မမယ်ရီလင်း(ဟယ်လီးနာ)</td>\n      <td>F</td>\n      <td>2022-08-18</td>\n      <td>...</td>\n      <td>Yes</td>\n      <td>Yes</td>\n      <td>Yes</td>\n      <td>No</td>\n      <td>NaN</td>\n      <td>6.966667</td>\n      <td>7.966667</td>\n      <td>8.966667</td>\n      <td>9.966667</td>\n      <td>10.966667</td>\n    </tr>\n    <tr>\n      <th>33</th>\n      <td>34</td>\n      <td>2023-03-15 00:00:00</td>\n      <td>2023-04-15 00:00:00</td>\n      <td>2023-05-15 00:00:00</td>\n      <td>2023-06-15 00:00:00</td>\n      <td>None</td>\n      <td>No</td>\n      <td>မောင်ခရစ်အောင်ဘုန်းမြတ်ကျော်</td>\n      <td>M</td>\n      <td>2022-06-29</td>\n      <td>...</td>\n      <td>Yes</td>\n      <td>Yes</td>\n      <td>Yes</td>\n      <td>Yes</td>\n      <td>NaN</td>\n      <td>8.633333</td>\n      <td>9.633333</td>\n      <td>10.633333</td>\n      <td>11.633333</td>\n      <td>12.633333</td>\n    </tr>\n    <tr>\n      <th>38</th>\n      <td>39</td>\n      <td>2023-03-15 00:00:00</td>\n      <td>2023-04-15 00:00:00</td>\n      <td>2023-05-15 00:00:00</td>\n      <td>2023-06-15 00:00:00</td>\n      <td>None</td>\n      <td>No</td>\n      <td>မအက်စတာဖြိုး</td>\n      <td>F</td>\n      <td>2022-04-12</td>\n      <td>...</td>\n      <td>Yes</td>\n      <td>Yes</td>\n      <td>Yes</td>\n      <td>Yes</td>\n      <td>NaN</td>\n      <td>11.233333</td>\n      <td>12.233333</td>\n      <td>13.233333</td>\n      <td>14.233333</td>\n      <td>15.233333</td>\n    </tr>\n    <tr>\n      <th>43</th>\n      <td>44</td>\n      <td>2023-03-15 00:00:00</td>\n      <td>2023-04-15 00:00:00</td>\n      <td>2023-05-15 00:00:00</td>\n      <td>2023-06-15 00:00:00</td>\n      <td>None</td>\n      <td>No</td>\n      <td>မအိန်ဂျယ်လင်း</td>\n      <td>F</td>\n      <td>2023-02-03</td>\n      <td>...</td>\n      <td>Yes</td>\n      <td>Yes</td>\n      <td>No</td>\n      <td>No</td>\n      <td>NaN</td>\n      <td>1.333333</td>\n      <td>2.333333</td>\n      <td>3.333333</td>\n      <td>4.333333</td>\n      <td>5.333333</td>\n    </tr>\n    <tr>\n      <th>49</th>\n      <td>50</td>\n      <td>2023-03-15 00:00:00</td>\n      <td>2023-04-15 00:00:00</td>\n      <td>2023-05-15 00:00:00</td>\n      <td>2023-06-15 00:00:00</td>\n      <td>None</td>\n      <td>No</td>\n      <td>မဂျူးဒစ်ဇူဇန်အောင်</td>\n      <td>F</td>\n      <td>2023-01-25</td>\n      <td>...</td>\n      <td>Yes</td>\n      <td>Yes</td>\n      <td>No</td>\n      <td>No</td>\n      <td>NaN</td>\n      <td>1.633333</td>\n      <td>2.633333</td>\n      <td>3.633333</td>\n      <td>4.633333</td>\n      <td>5.633333</td>\n    </tr>\n    <tr>\n      <th>52</th>\n      <td>53</td>\n      <td>2023-03-15 00:00:00</td>\n      <td>2023-04-15 00:00:00</td>\n      <td>2023-05-15 00:00:00</td>\n      <td>2023-06-15 00:00:00</td>\n      <td>2023-07-15 00:00:00</td>\n      <td>No</td>\n      <td>မောင်ဂျွန်နယူးမဲစိုးနိုင်</td>\n      <td>M</td>\n      <td>2022-05-15</td>\n      <td>...</td>\n      <td>Yes</td>\n      <td>Yes</td>\n      <td>Yes</td>\n      <td>Yes</td>\n      <td>NaN</td>\n      <td>10.133333</td>\n      <td>11.133333</td>\n      <td>12.133333</td>\n      <td>13.133333</td>\n      <td>14.133333</td>\n    </tr>\n    <tr>\n      <th>56</th>\n      <td>57</td>\n      <td>2023-03-15 00:00:00</td>\n      <td>2023-04-15 00:00:00</td>\n      <td>2023-05-15 00:00:00</td>\n      <td>2023-06-15 00:00:00</td>\n      <td>None</td>\n      <td>No</td>\n      <td>မကက်သရင်း</td>\n      <td>F</td>\n      <td>2023-02-13</td>\n      <td>...</td>\n      <td>Yes</td>\n      <td>Yes</td>\n      <td>No</td>\n      <td>No</td>\n      <td>NaN</td>\n      <td>1.000000</td>\n      <td>2.000000</td>\n      <td>3.000000</td>\n      <td>4.000000</td>\n      <td>5.000000</td>\n    </tr>\n    <tr>\n      <th>57</th>\n      <td>58</td>\n      <td>2023-03-15 00:00:00</td>\n      <td>2023-04-15 00:00:00</td>\n      <td>2023-05-15 00:00:00</td>\n      <td>2023-06-15 00:00:00</td>\n      <td>None</td>\n      <td>No</td>\n      <td>မဂျဲနီဦး</td>\n      <td>F</td>\n      <td>2022-08-10</td>\n      <td>...</td>\n      <td>Yes</td>\n      <td>Yes</td>\n      <td>Yes</td>\n      <td>Yes</td>\n      <td>NaN</td>\n      <td>7.233333</td>\n      <td>8.233333</td>\n      <td>9.233333</td>\n      <td>10.233333</td>\n      <td>11.233333</td>\n    </tr>\n    <tr>\n      <th>58</th>\n      <td>59</td>\n      <td>2023-03-15 00:00:00</td>\n      <td>2023-04-15 00:00:00</td>\n      <td>2023-05-15 00:00:00</td>\n      <td>2023-06-15 00:00:00</td>\n      <td>None</td>\n      <td>No</td>\n      <td>မအဂ္ဂနက်</td>\n      <td>F</td>\n      <td>2022-04-25</td>\n      <td>...</td>\n      <td>Yes</td>\n      <td>Yes</td>\n      <td>Yes</td>\n      <td>Yes</td>\n      <td>NaN</td>\n      <td>10.800000</td>\n      <td>11.800000</td>\n      <td>12.800000</td>\n      <td>13.800000</td>\n      <td>14.800000</td>\n    </tr>\n    <tr>\n      <th>59</th>\n      <td>60</td>\n      <td>2023-03-15 00:00:00</td>\n      <td>2023-04-15 00:00:00</td>\n      <td>2023-05-15 00:00:00</td>\n      <td>2023-06-15 00:00:00</td>\n      <td>None</td>\n      <td>No</td>\n      <td>မောင်ကောင်းမြတ်ဦး</td>\n      <td>M</td>\n      <td>2023-01-20</td>\n      <td>...</td>\n      <td>Yes</td>\n      <td>Yes</td>\n      <td>No</td>\n      <td>No</td>\n      <td>NaN</td>\n      <td>1.800000</td>\n      <td>2.800000</td>\n      <td>3.800000</td>\n      <td>4.800000</td>\n      <td>5.800000</td>\n    </tr>\n    <tr>\n      <th>60</th>\n      <td>61</td>\n      <td>2023-03-15 00:00:00</td>\n      <td>2023-04-15 00:00:00</td>\n      <td>2023-05-15 00:00:00</td>\n      <td>2023-06-15 00:00:00</td>\n      <td>2023-07-15 00:00:00</td>\n      <td>No</td>\n      <td>မဟာနာကယ်ရိုလှိုင်း</td>\n      <td>F</td>\n      <td>2022-09-15</td>\n      <td>...</td>\n      <td>Yes</td>\n      <td>Yes</td>\n      <td>Yes</td>\n      <td>Yes</td>\n      <td>NaN</td>\n      <td>6.033333</td>\n      <td>7.033333</td>\n      <td>8.033333</td>\n      <td>9.033333</td>\n      <td>10.033333</td>\n    </tr>\n    <tr>\n      <th>69</th>\n      <td>70</td>\n      <td>2023-03-15 00:00:00</td>\n      <td>2023-04-15 00:00:00</td>\n      <td>2023-05-15 00:00:00</td>\n      <td>2023-06-15 00:00:00</td>\n      <td>2023-07-15 00:00:00</td>\n      <td>No</td>\n      <td>မောင်စတီဗင်</td>\n      <td>M</td>\n      <td>2023-02-04</td>\n      <td>...</td>\n      <td>Yes</td>\n      <td>Yes</td>\n      <td>No</td>\n      <td>No</td>\n      <td>NaN</td>\n      <td>1.300000</td>\n      <td>2.300000</td>\n      <td>3.300000</td>\n      <td>4.300000</td>\n      <td>5.300000</td>\n    </tr>\n    <tr>\n      <th>91</th>\n      <td>92</td>\n      <td>2023-03-15 00:00:00</td>\n      <td>2023-04-15 00:00:00</td>\n      <td>2023-05-15 00:00:00</td>\n      <td>2023-06-15 00:00:00</td>\n      <td>None</td>\n      <td>No</td>\n      <td>မရိုစလင်း</td>\n      <td>F</td>\n      <td>2022-06-03</td>\n      <td>...</td>\n      <td>Yes</td>\n      <td>Yes</td>\n      <td>Yes</td>\n      <td>Yes</td>\n      <td>NaN</td>\n      <td>9.500000</td>\n      <td>10.500000</td>\n      <td>11.500000</td>\n      <td>12.500000</td>\n      <td>13.500000</td>\n    </tr>\n    <tr>\n      <th>92</th>\n      <td>93</td>\n      <td>2023-03-15 00:00:00</td>\n      <td>2023-04-15 00:00:00</td>\n      <td>2023-05-15 00:00:00</td>\n      <td>2023-06-15 00:00:00</td>\n      <td>None</td>\n      <td>No</td>\n      <td>မရို့စ်မေရီ</td>\n      <td>F</td>\n      <td>2022-10-13</td>\n      <td>...</td>\n      <td>Yes</td>\n      <td>Yes</td>\n      <td>No</td>\n      <td>No</td>\n      <td>NaN</td>\n      <td>5.100000</td>\n      <td>6.100000</td>\n      <td>7.100000</td>\n      <td>8.100000</td>\n      <td>9.100000</td>\n    </tr>\n    <tr>\n      <th>95</th>\n      <td>96</td>\n      <td>2023-03-15 00:00:00</td>\n      <td>2023-04-15 00:00:00</td>\n      <td>2023-05-15 00:00:00</td>\n      <td>2023-06-15 00:00:00</td>\n      <td>None</td>\n      <td>No</td>\n      <td>မဆိုဖီရာ</td>\n      <td>F</td>\n      <td>2022-06-20</td>\n      <td>...</td>\n      <td>Yes</td>\n      <td>Yes</td>\n      <td>Yes</td>\n      <td>Yes</td>\n      <td>NaN</td>\n      <td>8.933333</td>\n      <td>9.933333</td>\n      <td>10.933333</td>\n      <td>11.933333</td>\n      <td>12.933333</td>\n    </tr>\n    <tr>\n      <th>96</th>\n      <td>97</td>\n      <td>2023-03-15 00:00:00</td>\n      <td>2023-04-15 00:00:00</td>\n      <td>2023-05-15 00:00:00</td>\n      <td>2023-06-15 00:00:00</td>\n      <td>2023-07-15 00:00:00</td>\n      <td>No</td>\n      <td>မဘယ်ရောနီကာ</td>\n      <td>F</td>\n      <td>2022-09-03</td>\n      <td>...</td>\n      <td>Yes</td>\n      <td>Yes</td>\n      <td>Yes</td>\n      <td>Yes</td>\n      <td>NaN</td>\n      <td>6.433333</td>\n      <td>7.433333</td>\n      <td>8.433333</td>\n      <td>9.433333</td>\n      <td>10.433333</td>\n    </tr>\n    <tr>\n      <th>102</th>\n      <td>103</td>\n      <td>2023-03-15 00:00:00</td>\n      <td>2023-04-15 00:00:00</td>\n      <td>2023-05-15 00:00:00</td>\n      <td>2023-06-15 00:00:00</td>\n      <td>None</td>\n      <td>No</td>\n      <td>မောင်ဂျွန်ထက်နေဇင်လတ်</td>\n      <td>M</td>\n      <td>2022-05-07</td>\n      <td>...</td>\n      <td>Yes</td>\n      <td>Yes</td>\n      <td>Yes</td>\n      <td>Yes</td>\n      <td>NaN</td>\n      <td>10.400000</td>\n      <td>11.400000</td>\n      <td>12.400000</td>\n      <td>13.400000</td>\n      <td>14.400000</td>\n    </tr>\n    <tr>\n      <th>104</th>\n      <td>105</td>\n      <td>2023-03-15 00:00:00</td>\n      <td>2023-04-15 00:00:00</td>\n      <td>2023-05-15 00:00:00</td>\n      <td>2023-06-15 00:00:00</td>\n      <td>None</td>\n      <td>No</td>\n      <td>မောင်လော်ရင်းရှို</td>\n      <td>M</td>\n      <td>2022-12-10</td>\n      <td>...</td>\n      <td>Yes</td>\n      <td>Yes</td>\n      <td>No</td>\n      <td>No</td>\n      <td>NaN</td>\n      <td>3.166667</td>\n      <td>4.166667</td>\n      <td>5.166667</td>\n      <td>6.166667</td>\n      <td>7.166667</td>\n    </tr>\n    <tr>\n      <th>107</th>\n      <td>108</td>\n      <td>2023-03-15 00:00:00</td>\n      <td>2023-04-15 00:00:00</td>\n      <td>None</td>\n      <td>2023-06-15 00:00:00</td>\n      <td>2023-07-15 00:00:00</td>\n      <td>No</td>\n      <td>မောင်ညေးရယ်</td>\n      <td>M</td>\n      <td>2023-01-14</td>\n      <td>...</td>\n      <td>Yes</td>\n      <td>Yes</td>\n      <td>No</td>\n      <td>No</td>\n      <td>NaN</td>\n      <td>2.000000</td>\n      <td>3.000000</td>\n      <td>4.000000</td>\n      <td>5.000000</td>\n      <td>6.000000</td>\n    </tr>\n    <tr>\n      <th>109</th>\n      <td>110</td>\n      <td>2023-03-15 00:00:00</td>\n      <td>2023-04-15 00:00:00</td>\n      <td>2023-05-15 00:00:00</td>\n      <td>2023-06-15 00:00:00</td>\n      <td>2023-07-15 00:00:00</td>\n      <td>No</td>\n      <td>မစုစူးမြာ</td>\n      <td>F</td>\n      <td>2022-10-08</td>\n      <td>...</td>\n      <td>Yes</td>\n      <td>Yes</td>\n      <td>Yes</td>\n      <td>No</td>\n      <td>NaN</td>\n      <td>5.266667</td>\n      <td>6.266667</td>\n      <td>7.266667</td>\n      <td>8.266667</td>\n      <td>9.266667</td>\n    </tr>\n    <tr>\n      <th>110</th>\n      <td>111</td>\n      <td>2023-03-15 00:00:00</td>\n      <td>2023-04-15 00:00:00</td>\n      <td>2023-05-15 00:00:00</td>\n      <td>2023-06-15 00:00:00</td>\n      <td>2023-07-15 00:00:00</td>\n      <td>No</td>\n      <td>မဖီလိုမီးနာဆုမိုး</td>\n      <td>F</td>\n      <td>2023-02-12</td>\n      <td>...</td>\n      <td>Yes</td>\n      <td>Yes</td>\n      <td>No</td>\n      <td>No</td>\n      <td>NaN</td>\n      <td>1.033333</td>\n      <td>2.033333</td>\n      <td>3.033333</td>\n      <td>4.033333</td>\n      <td>5.033333</td>\n    </tr>\n    <tr>\n      <th>111</th>\n      <td>112</td>\n      <td>2023-03-15 00:00:00</td>\n      <td>2023-04-15 00:00:00</td>\n      <td>2023-05-15 00:00:00</td>\n      <td>2023-06-15 00:00:00</td>\n      <td>None</td>\n      <td>No</td>\n      <td>မောင်ရစ်ချက်</td>\n      <td>M</td>\n      <td>2023-01-13</td>\n      <td>...</td>\n      <td>Yes</td>\n      <td>Yes</td>\n      <td>No</td>\n      <td>No</td>\n      <td>NaN</td>\n      <td>2.033333</td>\n      <td>3.033333</td>\n      <td>4.033333</td>\n      <td>5.033333</td>\n      <td>6.033333</td>\n    </tr>\n  </tbody>\n</table>\n<p>31 rows × 65 columns</p>\n</div>"
     },
     "execution_count": 18,
     "metadata": {},
     "output_type": "execute_result"
    }
   ],
   "source": [
    "pop = df.loc[(df['PreV']=='No')&(df['AGE_MAY15']>=2)&(df['IDP']=='Yes'), :] # 49\n",
    "pop.loc[pop['P5Po3']=='Yes', :]"
   ],
   "metadata": {
    "collapsed": false,
    "ExecuteTime": {
     "end_time": "2023-09-17T19:37:29.147047Z",
     "start_time": "2023-09-17T19:37:29.117622Z"
    }
   }
  },
  {
   "cell_type": "code",
   "execution_count": 20,
   "outputs": [
    {
     "data": {
      "text/plain": "0.6326530612244898"
     },
     "execution_count": 20,
     "metadata": {},
     "output_type": "execute_result"
    }
   ],
   "source": [],
   "metadata": {
    "collapsed": false,
    "ExecuteTime": {
     "end_time": "2023-09-17T19:38:00.072781Z",
     "start_time": "2023-09-17T19:38:00.028564Z"
    }
   }
  },
  {
   "cell_type": "code",
   "execution_count": 16,
   "outputs": [
    {
     "name": "stderr",
     "output_type": "stream",
     "text": [
      "/var/folders/7y/1xn42rwd5hxgh74ds6lh1rmm0000gn/T/ipykernel_94310/3565680073.py:3: SettingWithCopyWarning: \n",
      "A value is trying to be set on a copy of a slice from a DataFrame\n",
      "\n",
      "See the caveats in the documentation: https://pandas.pydata.org/pandas-docs/stable/user_guide/indexing.html#returning-a-view-versus-a-copy\n",
      "  cen.dropna(inplace=True)\n"
     ]
    },
    {
     "data": {
      "text/plain": "6.058333333333333"
     },
     "execution_count": 16,
     "metadata": {},
     "output_type": "execute_result"
    }
   ],
   "source": [
    "import numpy as np\n",
    "cen = df.loc[df['CeNu']!='None', :]\n",
    "cen.dropna(inplace=True)\n",
    "cen['AGE'].median()\n",
    "np.percentile(a=cen['AGE'], q=75) - np.percentile(a=cen['AGE'], q=25)"
   ],
   "metadata": {
    "collapsed": false,
    "ExecuteTime": {
     "end_time": "2023-09-17T00:51:12.668331Z",
     "start_time": "2023-09-17T00:51:12.639123Z"
    }
   }
  },
  {
   "cell_type": "markdown",
   "metadata": {},
   "source": []
  },
  {
   "cell_type": "code",
   "execution_count": 24,
   "outputs": [
    {
     "data": {
      "text/plain": "    ReNu                 Att1                 Att2                 Att3  \\\n0      1  2023-03-15 00:00:00  2023-04-15 00:00:00  2023-05-15 00:00:00   \n1      2  2023-03-15 00:00:00  2023-04-15 00:00:00  2023-05-15 00:00:00   \n2      3  2023-03-15 00:00:00                 None                 None   \n3      4  2023-03-15 00:00:00  2023-04-15 00:00:00  2023-05-15 00:00:00   \n4      5  2023-03-15 00:00:00  2023-04-15 00:00:00  2023-05-15 00:00:00   \n5      6  2023-03-15 00:00:00  2023-04-15 00:00:00  2023-05-15 00:00:00   \n6      7  2023-03-15 00:00:00  2023-04-15 00:00:00  2023-05-15 00:00:00   \n7      8  2023-03-15 00:00:00  2023-04-15 00:00:00  2023-05-15 00:00:00   \n8      9  2023-03-15 00:00:00  2023-04-15 00:00:00  2023-05-15 00:00:00   \n9     10  2023-03-15 00:00:00  2023-04-15 00:00:00  2023-05-15 00:00:00   \n11    12  2023-03-15 00:00:00  2023-04-15 00:00:00  2023-05-15 00:00:00   \n13    14  2023-03-15 00:00:00  2023-04-15 00:00:00  2023-05-15 00:00:00   \n14    15  2023-03-15 00:00:00  2023-04-15 00:00:00  2023-05-15 00:00:00   \n20    21  2023-03-15 00:00:00  2023-04-15 00:00:00                 None   \n21    22  2023-03-15 00:00:00  2023-04-15 00:00:00  2023-05-15 00:00:00   \n22    23  2023-03-15 00:00:00  2023-04-15 00:00:00  2023-05-15 00:00:00   \n23    24  2023-03-15 00:00:00  2023-04-15 00:00:00  2023-05-15 00:00:00   \n25    26  2023-03-15 00:00:00  2023-04-15 00:00:00  2023-05-15 00:00:00   \n30    31  2023-03-15 00:00:00  2023-04-15 00:00:00  2023-05-15 00:00:00   \n34    35  2023-03-15 00:00:00  2023-04-15 00:00:00  2023-05-15 00:00:00   \n36    37  2023-03-15 00:00:00  2023-04-15 00:00:00  2023-05-15 00:00:00   \n39    40  2023-03-15 00:00:00  2023-04-15 00:00:00  2023-05-15 00:00:00   \n40    41  2023-03-15 00:00:00  2023-04-15 00:00:00  2023-05-15 00:00:00   \n42    43  2023-03-15 00:00:00  2023-04-15 00:00:00  2023-05-15 00:00:00   \n45    46  2023-03-15 00:00:00  2023-04-15 00:00:00  2023-05-15 00:00:00   \n48    49  2023-03-15 00:00:00  2023-04-15 00:00:00  2023-05-15 00:00:00   \n53    54  2023-03-15 00:00:00  2023-04-15 00:00:00  2023-05-15 00:00:00   \n54    55  2023-03-15 00:00:00                 None                 None   \n63    64  2023-03-15 00:00:00  2023-04-15 00:00:00  2023-05-15 00:00:00   \n77    78  2023-03-15 00:00:00  2023-04-15 00:00:00  2023-05-15 00:00:00   \n78    79  2023-03-15 00:00:00  2023-04-15 00:00:00  2023-05-15 00:00:00   \n80    81  2023-03-15 00:00:00  2023-04-15 00:00:00  2023-05-15 00:00:00   \n86    87  2023-03-15 00:00:00  2023-04-15 00:00:00  2023-05-15 00:00:00   \n87    88  2023-03-15 00:00:00  2023-04-15 00:00:00  2023-05-15 00:00:00   \n98    99  2023-03-15 00:00:00  2023-04-15 00:00:00  2023-05-15 00:00:00   \n103  104  2023-03-15 00:00:00  2023-04-15 00:00:00  2023-05-15 00:00:00   \n112  113  2023-03-15 00:00:00  2023-04-15 00:00:00  2023-05-15 00:00:00   \n114  115  2023-03-15 00:00:00  2023-04-15 00:00:00  2023-05-15 00:00:00   \n115  116                 None  2023-04-15 00:00:00  2023-05-15 00:00:00   \n121  122                 None  2023-04-15 00:00:00  2023-05-15 00:00:00   \n130  131                 None                 None  2023-05-15 00:00:00   \n136  137                 None                 None  2023-05-15 00:00:00   \n140  141                 None                 None  2023-05-15 00:00:00   \n141  142                 None                 None  2023-05-15 00:00:00   \n142  143                 None                 None  2023-05-15 00:00:00   \n\n                    Att4                 Att5 PreV                 Name Sex  \\\n0    2023-06-15 00:00:00                 None   No        မောင်အာဗေးလယ်   M   \n1    2023-06-15 00:00:00                 None   No            မသူဇာဝင်း   F   \n2    2023-06-15 00:00:00  2023-07-15 00:00:00   No                မစုစု   F   \n3    2023-06-15 00:00:00                 None   No          မောင်စတီဗင်   M   \n4    2023-06-15 00:00:00                 None   No       မောင်ဂျက်စတင်း   M   \n5    2023-06-15 00:00:00                 None   No          မဖြူဖြူထွေး   F   \n6    2023-06-15 00:00:00                 None   No      မောင်ထွန်းမောင်   M   \n7    2023-06-15 00:00:00                 None   No   မောင်ခရစ္စတီယားနို   M   \n8    2023-06-15 00:00:00                 None   No       မောင်ရောင်နီဦး   M   \n9    2023-06-15 00:00:00                 None   No          မဖရန်စ္စစကာ   F   \n11   2023-06-15 00:00:00                 None   No        မောင်ဂျိုးဇက်   M   \n13   2023-06-15 00:00:00                 None   No           မကော်ရက်တီ   F   \n14   2023-06-15 00:00:00                 None   No          မအီနိုးဆင့်   F   \n20   2023-06-15 00:00:00  2023-07-15 00:00:00   No          မောင်ဘဲနဒစ်   M   \n21   2023-06-15 00:00:00                 None   No  မအော်ရီးယန်ဂျွန်စီး   F   \n22   2023-06-15 00:00:00  2023-07-15 00:00:00   No        မောင်အိုက်ဇက်   M   \n23   2023-06-15 00:00:00                 None   No         မရီတာအယ်လ်မာ   F   \n25   2023-06-15 00:00:00                 None   No    မောင်ဟိုင်းဂျီနူး   M   \n30   2023-06-15 00:00:00                 None   No  မောင်ရိုမားနိုပေါအီ   M   \n34   2023-06-15 00:00:00                 None   No           မခရစ္စတင်း   F   \n36   2023-06-15 00:00:00                 None   No        မောင်ဂျိုးဇက်   M   \n39   2023-06-15 00:00:00                 None   No           မဂျူးလိယက်   F   \n40   2023-06-15 00:00:00                 None   No               မဂျဲနီ   F   \n42   2023-06-15 00:00:00                 None   No            မရာဇင်းတာ   F   \n45   2023-06-15 00:00:00                 None   No     မောင်ဒေးဗစ်ဂျွန်   M   \n48   2023-06-15 00:00:00                 None   No        မောင်မိုက်ကယ်   M   \n53   2023-06-15 00:00:00                 None   No         မောင်လောရင်း   M   \n54   2023-06-15 00:00:00  2023-07-15 00:00:00   No       မောင်ဂျွန်ပီတာ   M   \n63   2023-06-15 00:00:00  2023-07-15 00:00:00   No        မောင်ဂျိုးဇက်   M   \n77   2023-06-15 00:00:00                 None   No            မရိုစလင်း   F   \n78   2023-06-15 00:00:00                 None   No            မအဲလိဇဘက်   F   \n80   2023-06-15 00:00:00                 None   No          မသဇင်မိုးဦး   F   \n86   2023-06-15 00:00:00                 None   No     မောင်အောင်ဆန်းဦး   M   \n87   2023-06-15 00:00:00                 None   No            မကြိုးကြာ   F   \n98   2023-06-15 00:00:00  2023-07-15 00:00:00   No            မရိုမားနာ   F   \n103  2023-06-15 00:00:00  2023-07-15 00:00:00   No     မမာဒလေးနာစနေမိုး   F   \n112  2023-06-15 00:00:00                 None   No         မောင်ဖိလိပို   M   \n114  2023-06-15 00:00:00                 None   No      မဂျယ်လမင်းလာ့လာ   F   \n115  2023-06-15 00:00:00  2023-07-15 00:00:00   No            မောင်လုကု   M   \n121  2023-06-15 00:00:00                 None   No        မောင်ထူးနိုင်   M   \n130  2023-06-15 00:00:00  2023-07-15 00:00:00   No            မောင်ပီတာ   M   \n136  2023-06-15 00:00:00  2023-07-15 00:00:00   No     မောင်အလွိုက်ရှက်   M   \n140  2023-06-15 00:00:00  2023-07-15 00:00:00   No          မောင်ကိုရယ်   M   \n141  2023-06-15 00:00:00  2023-07-15 00:00:00   No            မရိုစလင်း   F   \n142  2023-06-15 00:00:00  2023-07-15 00:00:00   No             မဂျူးဒစ်   F   \n\n           DoB  ... P5Po2 P5Po3 P5M1 P5M2 ReDB        AGE  AGE_APR15  \\\n0   2023-02-02  ...   Yes   Yes   No   No  NaN   1.366667   2.366667   \n1   2023-01-19  ...   Yes   Yes   No   No  NaN   1.833333   2.833333   \n2   2022-05-26  ...   Yes   Yes  Yes  Yes  NaN   9.766667  10.766667   \n3   2022-12-09  ...   Yes   Yes   No   No  NaN   3.200000   4.200000   \n4   2022-06-07  ...   Yes   Yes  Yes  Yes  NaN   9.366667  10.366667   \n5   2022-06-12  ...   Yes   Yes  Yes  Yes  NaN   9.200000  10.200000   \n6   2022-05-28  ...   Yes   Yes  Yes  Yes  NaN   9.700000  10.700000   \n7   2022-04-08  ...   Yes   Yes  Yes  Yes  NaN  11.366667  12.366667   \n8   2022-06-25  ...   Yes   Yes  Yes  Yes  NaN   8.766667   9.766667   \n9   2023-01-28  ...   Yes   Yes   No   No  NaN   1.533333   2.533333   \n11  2022-07-20  ...   Yes   Yes  Yes  Yes  NaN   7.933333   8.933333   \n13  2022-11-09  ...   Yes   Yes   No   No  NaN   4.200000   5.200000   \n14  2022-11-30  ...   Yes   Yes   No   No  NaN   3.500000   4.500000   \n20  2023-01-12  ...   Yes   Yes   No   No  NaN   2.066667   3.066667   \n21  2023-02-11  ...   Yes   Yes   No   No  NaN   1.066667   2.066667   \n22  2022-10-15  ...   Yes   Yes  Yes   No  NaN   5.033333   6.033333   \n23  2022-11-27  ...   Yes   Yes   No   No  NaN   3.600000   4.600000   \n25  2022-12-17  ...   Yes   Yes   No   No  NaN   2.933333   3.933333   \n30  2022-07-05  ...   Yes   Yes  Yes  Yes  NaN   8.433333   9.433333   \n34  2022-11-06  ...   Yes   Yes   No   No  NaN   4.300000   5.300000   \n36  2022-11-26  ...   Yes   Yes   No   No  NaN   3.633333   4.633333   \n39  2022-08-03  ...   Yes   Yes  Yes  Yes  NaN   7.466667   8.466667   \n40  2022-07-11  ...   Yes   Yes  Yes  Yes  NaN   8.233333   9.233333   \n42  2022-08-01  ...   Yes   Yes  Yes  Yes  NaN   7.533333   8.533333   \n45  2022-06-16  ...   Yes   Yes  Yes  Yes  NaN   9.066667  10.066667   \n48  2022-11-01  ...   Yes   Yes   No   No  NaN   4.466667   5.466667   \n53  2022-07-20  ...   Yes   Yes  Yes  Yes  NaN   7.933333   8.933333   \n54  2023-02-22  ...   Yes   Yes   No   No  NaN   0.700000   1.700000   \n63  2022-08-27  ...   Yes   Yes  Yes  Yes  NaN   6.666667   7.666667   \n77  2022-04-12  ...   Yes   Yes  Yes  Yes  NaN  11.233333  12.233333   \n78  2022-04-23  ...   Yes   Yes  Yes  Yes  NaN  10.866667  11.866667   \n80  2022-07-04  ...   Yes   Yes  Yes  Yes  NaN   8.466667   9.466667   \n86  2022-04-11  ...   Yes   Yes  Yes  Yes  NaN  11.266667  12.266667   \n87  2023-02-09  ...   Yes   Yes   No   No  NaN   1.133333   2.133333   \n98  2022-09-18  ...   Yes   Yes  Yes   No  NaN   5.933333   6.933333   \n103 2022-09-21  ...   Yes   Yes  Yes   No  NaN   5.833333   6.833333   \n112 2022-05-07  ...   Yes   Yes  Yes  Yes  NaN  10.400000  11.400000   \n114 2022-06-15  ...   Yes   Yes  Yes  Yes  NaN   9.100000  10.100000   \n115 2022-08-23  ...   Yes   Yes  Yes  Yes  NaN   7.833333   7.833333   \n121 2022-11-08  ...   Yes   Yes   No   No  NaN   5.266667   5.266667   \n130 2022-11-18  ...   Yes   Yes   No   No  NaN   5.933333   4.933333   \n136 2021-11-11  ...   Yes   Yes  Yes  Yes  NaN  18.333333  17.333333   \n140 2023-02-18  ...   Yes   Yes   No   No  NaN   2.866667   1.866667   \n141 2023-01-19  ...   Yes   Yes   No   No  NaN   3.866667   2.866667   \n142 2022-10-28  ...   Yes   Yes   No   No  NaN   6.633333   5.633333   \n\n     AGE_MAY15 AGE_JUNE15 AGE_JULY15  \n0     3.366667   4.366667   5.366667  \n1     3.833333   4.833333   5.833333  \n2    11.766667  12.766667  13.766667  \n3     5.200000   6.200000   7.200000  \n4    11.366667  12.366667  13.366667  \n5    11.200000  12.200000  13.200000  \n6    11.700000  12.700000  13.700000  \n7    13.366667  14.366667  15.366667  \n8    10.766667  11.766667  12.766667  \n9     3.533333   4.533333   5.533333  \n11    9.933333  10.933333  11.933333  \n13    6.200000   7.200000   8.200000  \n14    5.500000   6.500000   7.500000  \n20    4.066667   5.066667   6.066667  \n21    3.066667   4.066667   5.066667  \n22    7.033333   8.033333   9.033333  \n23    5.600000   6.600000   7.600000  \n25    4.933333   5.933333   6.933333  \n30   10.433333  11.433333  12.433333  \n34    6.300000   7.300000   8.300000  \n36    5.633333   6.633333   7.633333  \n39    9.466667  10.466667  11.466667  \n40   10.233333  11.233333  12.233333  \n42    9.533333  10.533333  11.533333  \n45   11.066667  12.066667  13.066667  \n48    6.466667   7.466667   8.466667  \n53    9.933333  10.933333  11.933333  \n54    2.700000   3.700000   4.700000  \n63    8.666667   9.666667  10.666667  \n77   13.233333  14.233333  15.233333  \n78   12.866667  13.866667  14.866667  \n80   10.466667  11.466667  12.466667  \n86   13.266667  14.266667  15.266667  \n87    3.133333   4.133333   5.133333  \n98    7.933333   8.933333   9.933333  \n103   7.833333   8.833333   9.833333  \n112  12.400000  13.400000  14.400000  \n114  11.100000  12.100000  13.100000  \n115   8.833333   9.833333  10.833333  \n121   6.266667   7.266667   8.266667  \n130   5.933333   6.933333   7.933333  \n136  18.333333  19.333333  20.333333  \n140   2.866667   3.866667   4.866667  \n141   3.866667   4.866667   5.866667  \n142   6.633333   7.633333   8.633333  \n\n[45 rows x 65 columns]",
      "text/html": "<div>\n<style scoped>\n    .dataframe tbody tr th:only-of-type {\n        vertical-align: middle;\n    }\n\n    .dataframe tbody tr th {\n        vertical-align: top;\n    }\n\n    .dataframe thead th {\n        text-align: right;\n    }\n</style>\n<table border=\"1\" class=\"dataframe\">\n  <thead>\n    <tr style=\"text-align: right;\">\n      <th></th>\n      <th>ReNu</th>\n      <th>Att1</th>\n      <th>Att2</th>\n      <th>Att3</th>\n      <th>Att4</th>\n      <th>Att5</th>\n      <th>PreV</th>\n      <th>Name</th>\n      <th>Sex</th>\n      <th>DoB</th>\n      <th>...</th>\n      <th>P5Po2</th>\n      <th>P5Po3</th>\n      <th>P5M1</th>\n      <th>P5M2</th>\n      <th>ReDB</th>\n      <th>AGE</th>\n      <th>AGE_APR15</th>\n      <th>AGE_MAY15</th>\n      <th>AGE_JUNE15</th>\n      <th>AGE_JULY15</th>\n    </tr>\n  </thead>\n  <tbody>\n    <tr>\n      <th>0</th>\n      <td>1</td>\n      <td>2023-03-15 00:00:00</td>\n      <td>2023-04-15 00:00:00</td>\n      <td>2023-05-15 00:00:00</td>\n      <td>2023-06-15 00:00:00</td>\n      <td>None</td>\n      <td>No</td>\n      <td>မောင်အာဗေးလယ်</td>\n      <td>M</td>\n      <td>2023-02-02</td>\n      <td>...</td>\n      <td>Yes</td>\n      <td>Yes</td>\n      <td>No</td>\n      <td>No</td>\n      <td>NaN</td>\n      <td>1.366667</td>\n      <td>2.366667</td>\n      <td>3.366667</td>\n      <td>4.366667</td>\n      <td>5.366667</td>\n    </tr>\n    <tr>\n      <th>1</th>\n      <td>2</td>\n      <td>2023-03-15 00:00:00</td>\n      <td>2023-04-15 00:00:00</td>\n      <td>2023-05-15 00:00:00</td>\n      <td>2023-06-15 00:00:00</td>\n      <td>None</td>\n      <td>No</td>\n      <td>မသူဇာဝင်း</td>\n      <td>F</td>\n      <td>2023-01-19</td>\n      <td>...</td>\n      <td>Yes</td>\n      <td>Yes</td>\n      <td>No</td>\n      <td>No</td>\n      <td>NaN</td>\n      <td>1.833333</td>\n      <td>2.833333</td>\n      <td>3.833333</td>\n      <td>4.833333</td>\n      <td>5.833333</td>\n    </tr>\n    <tr>\n      <th>2</th>\n      <td>3</td>\n      <td>2023-03-15 00:00:00</td>\n      <td>None</td>\n      <td>None</td>\n      <td>2023-06-15 00:00:00</td>\n      <td>2023-07-15 00:00:00</td>\n      <td>No</td>\n      <td>မစုစု</td>\n      <td>F</td>\n      <td>2022-05-26</td>\n      <td>...</td>\n      <td>Yes</td>\n      <td>Yes</td>\n      <td>Yes</td>\n      <td>Yes</td>\n      <td>NaN</td>\n      <td>9.766667</td>\n      <td>10.766667</td>\n      <td>11.766667</td>\n      <td>12.766667</td>\n      <td>13.766667</td>\n    </tr>\n    <tr>\n      <th>3</th>\n      <td>4</td>\n      <td>2023-03-15 00:00:00</td>\n      <td>2023-04-15 00:00:00</td>\n      <td>2023-05-15 00:00:00</td>\n      <td>2023-06-15 00:00:00</td>\n      <td>None</td>\n      <td>No</td>\n      <td>မောင်စတီဗင်</td>\n      <td>M</td>\n      <td>2022-12-09</td>\n      <td>...</td>\n      <td>Yes</td>\n      <td>Yes</td>\n      <td>No</td>\n      <td>No</td>\n      <td>NaN</td>\n      <td>3.200000</td>\n      <td>4.200000</td>\n      <td>5.200000</td>\n      <td>6.200000</td>\n      <td>7.200000</td>\n    </tr>\n    <tr>\n      <th>4</th>\n      <td>5</td>\n      <td>2023-03-15 00:00:00</td>\n      <td>2023-04-15 00:00:00</td>\n      <td>2023-05-15 00:00:00</td>\n      <td>2023-06-15 00:00:00</td>\n      <td>None</td>\n      <td>No</td>\n      <td>မောင်ဂျက်စတင်း</td>\n      <td>M</td>\n      <td>2022-06-07</td>\n      <td>...</td>\n      <td>Yes</td>\n      <td>Yes</td>\n      <td>Yes</td>\n      <td>Yes</td>\n      <td>NaN</td>\n      <td>9.366667</td>\n      <td>10.366667</td>\n      <td>11.366667</td>\n      <td>12.366667</td>\n      <td>13.366667</td>\n    </tr>\n    <tr>\n      <th>5</th>\n      <td>6</td>\n      <td>2023-03-15 00:00:00</td>\n      <td>2023-04-15 00:00:00</td>\n      <td>2023-05-15 00:00:00</td>\n      <td>2023-06-15 00:00:00</td>\n      <td>None</td>\n      <td>No</td>\n      <td>မဖြူဖြူထွေး</td>\n      <td>F</td>\n      <td>2022-06-12</td>\n      <td>...</td>\n      <td>Yes</td>\n      <td>Yes</td>\n      <td>Yes</td>\n      <td>Yes</td>\n      <td>NaN</td>\n      <td>9.200000</td>\n      <td>10.200000</td>\n      <td>11.200000</td>\n      <td>12.200000</td>\n      <td>13.200000</td>\n    </tr>\n    <tr>\n      <th>6</th>\n      <td>7</td>\n      <td>2023-03-15 00:00:00</td>\n      <td>2023-04-15 00:00:00</td>\n      <td>2023-05-15 00:00:00</td>\n      <td>2023-06-15 00:00:00</td>\n      <td>None</td>\n      <td>No</td>\n      <td>မောင်ထွန်းမောင်</td>\n      <td>M</td>\n      <td>2022-05-28</td>\n      <td>...</td>\n      <td>Yes</td>\n      <td>Yes</td>\n      <td>Yes</td>\n      <td>Yes</td>\n      <td>NaN</td>\n      <td>9.700000</td>\n      <td>10.700000</td>\n      <td>11.700000</td>\n      <td>12.700000</td>\n      <td>13.700000</td>\n    </tr>\n    <tr>\n      <th>7</th>\n      <td>8</td>\n      <td>2023-03-15 00:00:00</td>\n      <td>2023-04-15 00:00:00</td>\n      <td>2023-05-15 00:00:00</td>\n      <td>2023-06-15 00:00:00</td>\n      <td>None</td>\n      <td>No</td>\n      <td>မောင်ခရစ္စတီယားနို</td>\n      <td>M</td>\n      <td>2022-04-08</td>\n      <td>...</td>\n      <td>Yes</td>\n      <td>Yes</td>\n      <td>Yes</td>\n      <td>Yes</td>\n      <td>NaN</td>\n      <td>11.366667</td>\n      <td>12.366667</td>\n      <td>13.366667</td>\n      <td>14.366667</td>\n      <td>15.366667</td>\n    </tr>\n    <tr>\n      <th>8</th>\n      <td>9</td>\n      <td>2023-03-15 00:00:00</td>\n      <td>2023-04-15 00:00:00</td>\n      <td>2023-05-15 00:00:00</td>\n      <td>2023-06-15 00:00:00</td>\n      <td>None</td>\n      <td>No</td>\n      <td>မောင်ရောင်နီဦး</td>\n      <td>M</td>\n      <td>2022-06-25</td>\n      <td>...</td>\n      <td>Yes</td>\n      <td>Yes</td>\n      <td>Yes</td>\n      <td>Yes</td>\n      <td>NaN</td>\n      <td>8.766667</td>\n      <td>9.766667</td>\n      <td>10.766667</td>\n      <td>11.766667</td>\n      <td>12.766667</td>\n    </tr>\n    <tr>\n      <th>9</th>\n      <td>10</td>\n      <td>2023-03-15 00:00:00</td>\n      <td>2023-04-15 00:00:00</td>\n      <td>2023-05-15 00:00:00</td>\n      <td>2023-06-15 00:00:00</td>\n      <td>None</td>\n      <td>No</td>\n      <td>မဖရန်စ္စစကာ</td>\n      <td>F</td>\n      <td>2023-01-28</td>\n      <td>...</td>\n      <td>Yes</td>\n      <td>Yes</td>\n      <td>No</td>\n      <td>No</td>\n      <td>NaN</td>\n      <td>1.533333</td>\n      <td>2.533333</td>\n      <td>3.533333</td>\n      <td>4.533333</td>\n      <td>5.533333</td>\n    </tr>\n    <tr>\n      <th>11</th>\n      <td>12</td>\n      <td>2023-03-15 00:00:00</td>\n      <td>2023-04-15 00:00:00</td>\n      <td>2023-05-15 00:00:00</td>\n      <td>2023-06-15 00:00:00</td>\n      <td>None</td>\n      <td>No</td>\n      <td>မောင်ဂျိုးဇက်</td>\n      <td>M</td>\n      <td>2022-07-20</td>\n      <td>...</td>\n      <td>Yes</td>\n      <td>Yes</td>\n      <td>Yes</td>\n      <td>Yes</td>\n      <td>NaN</td>\n      <td>7.933333</td>\n      <td>8.933333</td>\n      <td>9.933333</td>\n      <td>10.933333</td>\n      <td>11.933333</td>\n    </tr>\n    <tr>\n      <th>13</th>\n      <td>14</td>\n      <td>2023-03-15 00:00:00</td>\n      <td>2023-04-15 00:00:00</td>\n      <td>2023-05-15 00:00:00</td>\n      <td>2023-06-15 00:00:00</td>\n      <td>None</td>\n      <td>No</td>\n      <td>မကော်ရက်တီ</td>\n      <td>F</td>\n      <td>2022-11-09</td>\n      <td>...</td>\n      <td>Yes</td>\n      <td>Yes</td>\n      <td>No</td>\n      <td>No</td>\n      <td>NaN</td>\n      <td>4.200000</td>\n      <td>5.200000</td>\n      <td>6.200000</td>\n      <td>7.200000</td>\n      <td>8.200000</td>\n    </tr>\n    <tr>\n      <th>14</th>\n      <td>15</td>\n      <td>2023-03-15 00:00:00</td>\n      <td>2023-04-15 00:00:00</td>\n      <td>2023-05-15 00:00:00</td>\n      <td>2023-06-15 00:00:00</td>\n      <td>None</td>\n      <td>No</td>\n      <td>မအီနိုးဆင့်</td>\n      <td>F</td>\n      <td>2022-11-30</td>\n      <td>...</td>\n      <td>Yes</td>\n      <td>Yes</td>\n      <td>No</td>\n      <td>No</td>\n      <td>NaN</td>\n      <td>3.500000</td>\n      <td>4.500000</td>\n      <td>5.500000</td>\n      <td>6.500000</td>\n      <td>7.500000</td>\n    </tr>\n    <tr>\n      <th>20</th>\n      <td>21</td>\n      <td>2023-03-15 00:00:00</td>\n      <td>2023-04-15 00:00:00</td>\n      <td>None</td>\n      <td>2023-06-15 00:00:00</td>\n      <td>2023-07-15 00:00:00</td>\n      <td>No</td>\n      <td>မောင်ဘဲနဒစ်</td>\n      <td>M</td>\n      <td>2023-01-12</td>\n      <td>...</td>\n      <td>Yes</td>\n      <td>Yes</td>\n      <td>No</td>\n      <td>No</td>\n      <td>NaN</td>\n      <td>2.066667</td>\n      <td>3.066667</td>\n      <td>4.066667</td>\n      <td>5.066667</td>\n      <td>6.066667</td>\n    </tr>\n    <tr>\n      <th>21</th>\n      <td>22</td>\n      <td>2023-03-15 00:00:00</td>\n      <td>2023-04-15 00:00:00</td>\n      <td>2023-05-15 00:00:00</td>\n      <td>2023-06-15 00:00:00</td>\n      <td>None</td>\n      <td>No</td>\n      <td>မအော်ရီးယန်ဂျွန်စီး</td>\n      <td>F</td>\n      <td>2023-02-11</td>\n      <td>...</td>\n      <td>Yes</td>\n      <td>Yes</td>\n      <td>No</td>\n      <td>No</td>\n      <td>NaN</td>\n      <td>1.066667</td>\n      <td>2.066667</td>\n      <td>3.066667</td>\n      <td>4.066667</td>\n      <td>5.066667</td>\n    </tr>\n    <tr>\n      <th>22</th>\n      <td>23</td>\n      <td>2023-03-15 00:00:00</td>\n      <td>2023-04-15 00:00:00</td>\n      <td>2023-05-15 00:00:00</td>\n      <td>2023-06-15 00:00:00</td>\n      <td>2023-07-15 00:00:00</td>\n      <td>No</td>\n      <td>မောင်အိုက်ဇက်</td>\n      <td>M</td>\n      <td>2022-10-15</td>\n      <td>...</td>\n      <td>Yes</td>\n      <td>Yes</td>\n      <td>Yes</td>\n      <td>No</td>\n      <td>NaN</td>\n      <td>5.033333</td>\n      <td>6.033333</td>\n      <td>7.033333</td>\n      <td>8.033333</td>\n      <td>9.033333</td>\n    </tr>\n    <tr>\n      <th>23</th>\n      <td>24</td>\n      <td>2023-03-15 00:00:00</td>\n      <td>2023-04-15 00:00:00</td>\n      <td>2023-05-15 00:00:00</td>\n      <td>2023-06-15 00:00:00</td>\n      <td>None</td>\n      <td>No</td>\n      <td>မရီတာအယ်လ်မာ</td>\n      <td>F</td>\n      <td>2022-11-27</td>\n      <td>...</td>\n      <td>Yes</td>\n      <td>Yes</td>\n      <td>No</td>\n      <td>No</td>\n      <td>NaN</td>\n      <td>3.600000</td>\n      <td>4.600000</td>\n      <td>5.600000</td>\n      <td>6.600000</td>\n      <td>7.600000</td>\n    </tr>\n    <tr>\n      <th>25</th>\n      <td>26</td>\n      <td>2023-03-15 00:00:00</td>\n      <td>2023-04-15 00:00:00</td>\n      <td>2023-05-15 00:00:00</td>\n      <td>2023-06-15 00:00:00</td>\n      <td>None</td>\n      <td>No</td>\n      <td>မောင်ဟိုင်းဂျီနူး</td>\n      <td>M</td>\n      <td>2022-12-17</td>\n      <td>...</td>\n      <td>Yes</td>\n      <td>Yes</td>\n      <td>No</td>\n      <td>No</td>\n      <td>NaN</td>\n      <td>2.933333</td>\n      <td>3.933333</td>\n      <td>4.933333</td>\n      <td>5.933333</td>\n      <td>6.933333</td>\n    </tr>\n    <tr>\n      <th>30</th>\n      <td>31</td>\n      <td>2023-03-15 00:00:00</td>\n      <td>2023-04-15 00:00:00</td>\n      <td>2023-05-15 00:00:00</td>\n      <td>2023-06-15 00:00:00</td>\n      <td>None</td>\n      <td>No</td>\n      <td>မောင်ရိုမားနိုပေါအီ</td>\n      <td>M</td>\n      <td>2022-07-05</td>\n      <td>...</td>\n      <td>Yes</td>\n      <td>Yes</td>\n      <td>Yes</td>\n      <td>Yes</td>\n      <td>NaN</td>\n      <td>8.433333</td>\n      <td>9.433333</td>\n      <td>10.433333</td>\n      <td>11.433333</td>\n      <td>12.433333</td>\n    </tr>\n    <tr>\n      <th>34</th>\n      <td>35</td>\n      <td>2023-03-15 00:00:00</td>\n      <td>2023-04-15 00:00:00</td>\n      <td>2023-05-15 00:00:00</td>\n      <td>2023-06-15 00:00:00</td>\n      <td>None</td>\n      <td>No</td>\n      <td>မခရစ္စတင်း</td>\n      <td>F</td>\n      <td>2022-11-06</td>\n      <td>...</td>\n      <td>Yes</td>\n      <td>Yes</td>\n      <td>No</td>\n      <td>No</td>\n      <td>NaN</td>\n      <td>4.300000</td>\n      <td>5.300000</td>\n      <td>6.300000</td>\n      <td>7.300000</td>\n      <td>8.300000</td>\n    </tr>\n    <tr>\n      <th>36</th>\n      <td>37</td>\n      <td>2023-03-15 00:00:00</td>\n      <td>2023-04-15 00:00:00</td>\n      <td>2023-05-15 00:00:00</td>\n      <td>2023-06-15 00:00:00</td>\n      <td>None</td>\n      <td>No</td>\n      <td>မောင်ဂျိုးဇက်</td>\n      <td>M</td>\n      <td>2022-11-26</td>\n      <td>...</td>\n      <td>Yes</td>\n      <td>Yes</td>\n      <td>No</td>\n      <td>No</td>\n      <td>NaN</td>\n      <td>3.633333</td>\n      <td>4.633333</td>\n      <td>5.633333</td>\n      <td>6.633333</td>\n      <td>7.633333</td>\n    </tr>\n    <tr>\n      <th>39</th>\n      <td>40</td>\n      <td>2023-03-15 00:00:00</td>\n      <td>2023-04-15 00:00:00</td>\n      <td>2023-05-15 00:00:00</td>\n      <td>2023-06-15 00:00:00</td>\n      <td>None</td>\n      <td>No</td>\n      <td>မဂျူးလိယက်</td>\n      <td>F</td>\n      <td>2022-08-03</td>\n      <td>...</td>\n      <td>Yes</td>\n      <td>Yes</td>\n      <td>Yes</td>\n      <td>Yes</td>\n      <td>NaN</td>\n      <td>7.466667</td>\n      <td>8.466667</td>\n      <td>9.466667</td>\n      <td>10.466667</td>\n      <td>11.466667</td>\n    </tr>\n    <tr>\n      <th>40</th>\n      <td>41</td>\n      <td>2023-03-15 00:00:00</td>\n      <td>2023-04-15 00:00:00</td>\n      <td>2023-05-15 00:00:00</td>\n      <td>2023-06-15 00:00:00</td>\n      <td>None</td>\n      <td>No</td>\n      <td>မဂျဲနီ</td>\n      <td>F</td>\n      <td>2022-07-11</td>\n      <td>...</td>\n      <td>Yes</td>\n      <td>Yes</td>\n      <td>Yes</td>\n      <td>Yes</td>\n      <td>NaN</td>\n      <td>8.233333</td>\n      <td>9.233333</td>\n      <td>10.233333</td>\n      <td>11.233333</td>\n      <td>12.233333</td>\n    </tr>\n    <tr>\n      <th>42</th>\n      <td>43</td>\n      <td>2023-03-15 00:00:00</td>\n      <td>2023-04-15 00:00:00</td>\n      <td>2023-05-15 00:00:00</td>\n      <td>2023-06-15 00:00:00</td>\n      <td>None</td>\n      <td>No</td>\n      <td>မရာဇင်းတာ</td>\n      <td>F</td>\n      <td>2022-08-01</td>\n      <td>...</td>\n      <td>Yes</td>\n      <td>Yes</td>\n      <td>Yes</td>\n      <td>Yes</td>\n      <td>NaN</td>\n      <td>7.533333</td>\n      <td>8.533333</td>\n      <td>9.533333</td>\n      <td>10.533333</td>\n      <td>11.533333</td>\n    </tr>\n    <tr>\n      <th>45</th>\n      <td>46</td>\n      <td>2023-03-15 00:00:00</td>\n      <td>2023-04-15 00:00:00</td>\n      <td>2023-05-15 00:00:00</td>\n      <td>2023-06-15 00:00:00</td>\n      <td>None</td>\n      <td>No</td>\n      <td>မောင်ဒေးဗစ်ဂျွန်</td>\n      <td>M</td>\n      <td>2022-06-16</td>\n      <td>...</td>\n      <td>Yes</td>\n      <td>Yes</td>\n      <td>Yes</td>\n      <td>Yes</td>\n      <td>NaN</td>\n      <td>9.066667</td>\n      <td>10.066667</td>\n      <td>11.066667</td>\n      <td>12.066667</td>\n      <td>13.066667</td>\n    </tr>\n    <tr>\n      <th>48</th>\n      <td>49</td>\n      <td>2023-03-15 00:00:00</td>\n      <td>2023-04-15 00:00:00</td>\n      <td>2023-05-15 00:00:00</td>\n      <td>2023-06-15 00:00:00</td>\n      <td>None</td>\n      <td>No</td>\n      <td>မောင်မိုက်ကယ်</td>\n      <td>M</td>\n      <td>2022-11-01</td>\n      <td>...</td>\n      <td>Yes</td>\n      <td>Yes</td>\n      <td>No</td>\n      <td>No</td>\n      <td>NaN</td>\n      <td>4.466667</td>\n      <td>5.466667</td>\n      <td>6.466667</td>\n      <td>7.466667</td>\n      <td>8.466667</td>\n    </tr>\n    <tr>\n      <th>53</th>\n      <td>54</td>\n      <td>2023-03-15 00:00:00</td>\n      <td>2023-04-15 00:00:00</td>\n      <td>2023-05-15 00:00:00</td>\n      <td>2023-06-15 00:00:00</td>\n      <td>None</td>\n      <td>No</td>\n      <td>မောင်လောရင်း</td>\n      <td>M</td>\n      <td>2022-07-20</td>\n      <td>...</td>\n      <td>Yes</td>\n      <td>Yes</td>\n      <td>Yes</td>\n      <td>Yes</td>\n      <td>NaN</td>\n      <td>7.933333</td>\n      <td>8.933333</td>\n      <td>9.933333</td>\n      <td>10.933333</td>\n      <td>11.933333</td>\n    </tr>\n    <tr>\n      <th>54</th>\n      <td>55</td>\n      <td>2023-03-15 00:00:00</td>\n      <td>None</td>\n      <td>None</td>\n      <td>2023-06-15 00:00:00</td>\n      <td>2023-07-15 00:00:00</td>\n      <td>No</td>\n      <td>မောင်ဂျွန်ပီတာ</td>\n      <td>M</td>\n      <td>2023-02-22</td>\n      <td>...</td>\n      <td>Yes</td>\n      <td>Yes</td>\n      <td>No</td>\n      <td>No</td>\n      <td>NaN</td>\n      <td>0.700000</td>\n      <td>1.700000</td>\n      <td>2.700000</td>\n      <td>3.700000</td>\n      <td>4.700000</td>\n    </tr>\n    <tr>\n      <th>63</th>\n      <td>64</td>\n      <td>2023-03-15 00:00:00</td>\n      <td>2023-04-15 00:00:00</td>\n      <td>2023-05-15 00:00:00</td>\n      <td>2023-06-15 00:00:00</td>\n      <td>2023-07-15 00:00:00</td>\n      <td>No</td>\n      <td>မောင်ဂျိုးဇက်</td>\n      <td>M</td>\n      <td>2022-08-27</td>\n      <td>...</td>\n      <td>Yes</td>\n      <td>Yes</td>\n      <td>Yes</td>\n      <td>Yes</td>\n      <td>NaN</td>\n      <td>6.666667</td>\n      <td>7.666667</td>\n      <td>8.666667</td>\n      <td>9.666667</td>\n      <td>10.666667</td>\n    </tr>\n    <tr>\n      <th>77</th>\n      <td>78</td>\n      <td>2023-03-15 00:00:00</td>\n      <td>2023-04-15 00:00:00</td>\n      <td>2023-05-15 00:00:00</td>\n      <td>2023-06-15 00:00:00</td>\n      <td>None</td>\n      <td>No</td>\n      <td>မရိုစလင်း</td>\n      <td>F</td>\n      <td>2022-04-12</td>\n      <td>...</td>\n      <td>Yes</td>\n      <td>Yes</td>\n      <td>Yes</td>\n      <td>Yes</td>\n      <td>NaN</td>\n      <td>11.233333</td>\n      <td>12.233333</td>\n      <td>13.233333</td>\n      <td>14.233333</td>\n      <td>15.233333</td>\n    </tr>\n    <tr>\n      <th>78</th>\n      <td>79</td>\n      <td>2023-03-15 00:00:00</td>\n      <td>2023-04-15 00:00:00</td>\n      <td>2023-05-15 00:00:00</td>\n      <td>2023-06-15 00:00:00</td>\n      <td>None</td>\n      <td>No</td>\n      <td>မအဲလိဇဘက်</td>\n      <td>F</td>\n      <td>2022-04-23</td>\n      <td>...</td>\n      <td>Yes</td>\n      <td>Yes</td>\n      <td>Yes</td>\n      <td>Yes</td>\n      <td>NaN</td>\n      <td>10.866667</td>\n      <td>11.866667</td>\n      <td>12.866667</td>\n      <td>13.866667</td>\n      <td>14.866667</td>\n    </tr>\n    <tr>\n      <th>80</th>\n      <td>81</td>\n      <td>2023-03-15 00:00:00</td>\n      <td>2023-04-15 00:00:00</td>\n      <td>2023-05-15 00:00:00</td>\n      <td>2023-06-15 00:00:00</td>\n      <td>None</td>\n      <td>No</td>\n      <td>မသဇင်မိုးဦး</td>\n      <td>F</td>\n      <td>2022-07-04</td>\n      <td>...</td>\n      <td>Yes</td>\n      <td>Yes</td>\n      <td>Yes</td>\n      <td>Yes</td>\n      <td>NaN</td>\n      <td>8.466667</td>\n      <td>9.466667</td>\n      <td>10.466667</td>\n      <td>11.466667</td>\n      <td>12.466667</td>\n    </tr>\n    <tr>\n      <th>86</th>\n      <td>87</td>\n      <td>2023-03-15 00:00:00</td>\n      <td>2023-04-15 00:00:00</td>\n      <td>2023-05-15 00:00:00</td>\n      <td>2023-06-15 00:00:00</td>\n      <td>None</td>\n      <td>No</td>\n      <td>မောင်အောင်ဆန်းဦး</td>\n      <td>M</td>\n      <td>2022-04-11</td>\n      <td>...</td>\n      <td>Yes</td>\n      <td>Yes</td>\n      <td>Yes</td>\n      <td>Yes</td>\n      <td>NaN</td>\n      <td>11.266667</td>\n      <td>12.266667</td>\n      <td>13.266667</td>\n      <td>14.266667</td>\n      <td>15.266667</td>\n    </tr>\n    <tr>\n      <th>87</th>\n      <td>88</td>\n      <td>2023-03-15 00:00:00</td>\n      <td>2023-04-15 00:00:00</td>\n      <td>2023-05-15 00:00:00</td>\n      <td>2023-06-15 00:00:00</td>\n      <td>None</td>\n      <td>No</td>\n      <td>မကြိုးကြာ</td>\n      <td>F</td>\n      <td>2023-02-09</td>\n      <td>...</td>\n      <td>Yes</td>\n      <td>Yes</td>\n      <td>No</td>\n      <td>No</td>\n      <td>NaN</td>\n      <td>1.133333</td>\n      <td>2.133333</td>\n      <td>3.133333</td>\n      <td>4.133333</td>\n      <td>5.133333</td>\n    </tr>\n    <tr>\n      <th>98</th>\n      <td>99</td>\n      <td>2023-03-15 00:00:00</td>\n      <td>2023-04-15 00:00:00</td>\n      <td>2023-05-15 00:00:00</td>\n      <td>2023-06-15 00:00:00</td>\n      <td>2023-07-15 00:00:00</td>\n      <td>No</td>\n      <td>မရိုမားနာ</td>\n      <td>F</td>\n      <td>2022-09-18</td>\n      <td>...</td>\n      <td>Yes</td>\n      <td>Yes</td>\n      <td>Yes</td>\n      <td>No</td>\n      <td>NaN</td>\n      <td>5.933333</td>\n      <td>6.933333</td>\n      <td>7.933333</td>\n      <td>8.933333</td>\n      <td>9.933333</td>\n    </tr>\n    <tr>\n      <th>103</th>\n      <td>104</td>\n      <td>2023-03-15 00:00:00</td>\n      <td>2023-04-15 00:00:00</td>\n      <td>2023-05-15 00:00:00</td>\n      <td>2023-06-15 00:00:00</td>\n      <td>2023-07-15 00:00:00</td>\n      <td>No</td>\n      <td>မမာဒလေးနာစနေမိုး</td>\n      <td>F</td>\n      <td>2022-09-21</td>\n      <td>...</td>\n      <td>Yes</td>\n      <td>Yes</td>\n      <td>Yes</td>\n      <td>No</td>\n      <td>NaN</td>\n      <td>5.833333</td>\n      <td>6.833333</td>\n      <td>7.833333</td>\n      <td>8.833333</td>\n      <td>9.833333</td>\n    </tr>\n    <tr>\n      <th>112</th>\n      <td>113</td>\n      <td>2023-03-15 00:00:00</td>\n      <td>2023-04-15 00:00:00</td>\n      <td>2023-05-15 00:00:00</td>\n      <td>2023-06-15 00:00:00</td>\n      <td>None</td>\n      <td>No</td>\n      <td>မောင်ဖိလိပို</td>\n      <td>M</td>\n      <td>2022-05-07</td>\n      <td>...</td>\n      <td>Yes</td>\n      <td>Yes</td>\n      <td>Yes</td>\n      <td>Yes</td>\n      <td>NaN</td>\n      <td>10.400000</td>\n      <td>11.400000</td>\n      <td>12.400000</td>\n      <td>13.400000</td>\n      <td>14.400000</td>\n    </tr>\n    <tr>\n      <th>114</th>\n      <td>115</td>\n      <td>2023-03-15 00:00:00</td>\n      <td>2023-04-15 00:00:00</td>\n      <td>2023-05-15 00:00:00</td>\n      <td>2023-06-15 00:00:00</td>\n      <td>None</td>\n      <td>No</td>\n      <td>မဂျယ်လမင်းလာ့လာ</td>\n      <td>F</td>\n      <td>2022-06-15</td>\n      <td>...</td>\n      <td>Yes</td>\n      <td>Yes</td>\n      <td>Yes</td>\n      <td>Yes</td>\n      <td>NaN</td>\n      <td>9.100000</td>\n      <td>10.100000</td>\n      <td>11.100000</td>\n      <td>12.100000</td>\n      <td>13.100000</td>\n    </tr>\n    <tr>\n      <th>115</th>\n      <td>116</td>\n      <td>None</td>\n      <td>2023-04-15 00:00:00</td>\n      <td>2023-05-15 00:00:00</td>\n      <td>2023-06-15 00:00:00</td>\n      <td>2023-07-15 00:00:00</td>\n      <td>No</td>\n      <td>မောင်လုကု</td>\n      <td>M</td>\n      <td>2022-08-23</td>\n      <td>...</td>\n      <td>Yes</td>\n      <td>Yes</td>\n      <td>Yes</td>\n      <td>Yes</td>\n      <td>NaN</td>\n      <td>7.833333</td>\n      <td>7.833333</td>\n      <td>8.833333</td>\n      <td>9.833333</td>\n      <td>10.833333</td>\n    </tr>\n    <tr>\n      <th>121</th>\n      <td>122</td>\n      <td>None</td>\n      <td>2023-04-15 00:00:00</td>\n      <td>2023-05-15 00:00:00</td>\n      <td>2023-06-15 00:00:00</td>\n      <td>None</td>\n      <td>No</td>\n      <td>မောင်ထူးနိုင်</td>\n      <td>M</td>\n      <td>2022-11-08</td>\n      <td>...</td>\n      <td>Yes</td>\n      <td>Yes</td>\n      <td>No</td>\n      <td>No</td>\n      <td>NaN</td>\n      <td>5.266667</td>\n      <td>5.266667</td>\n      <td>6.266667</td>\n      <td>7.266667</td>\n      <td>8.266667</td>\n    </tr>\n    <tr>\n      <th>130</th>\n      <td>131</td>\n      <td>None</td>\n      <td>None</td>\n      <td>2023-05-15 00:00:00</td>\n      <td>2023-06-15 00:00:00</td>\n      <td>2023-07-15 00:00:00</td>\n      <td>No</td>\n      <td>မောင်ပီတာ</td>\n      <td>M</td>\n      <td>2022-11-18</td>\n      <td>...</td>\n      <td>Yes</td>\n      <td>Yes</td>\n      <td>No</td>\n      <td>No</td>\n      <td>NaN</td>\n      <td>5.933333</td>\n      <td>4.933333</td>\n      <td>5.933333</td>\n      <td>6.933333</td>\n      <td>7.933333</td>\n    </tr>\n    <tr>\n      <th>136</th>\n      <td>137</td>\n      <td>None</td>\n      <td>None</td>\n      <td>2023-05-15 00:00:00</td>\n      <td>2023-06-15 00:00:00</td>\n      <td>2023-07-15 00:00:00</td>\n      <td>No</td>\n      <td>မောင်အလွိုက်ရှက်</td>\n      <td>M</td>\n      <td>2021-11-11</td>\n      <td>...</td>\n      <td>Yes</td>\n      <td>Yes</td>\n      <td>Yes</td>\n      <td>Yes</td>\n      <td>NaN</td>\n      <td>18.333333</td>\n      <td>17.333333</td>\n      <td>18.333333</td>\n      <td>19.333333</td>\n      <td>20.333333</td>\n    </tr>\n    <tr>\n      <th>140</th>\n      <td>141</td>\n      <td>None</td>\n      <td>None</td>\n      <td>2023-05-15 00:00:00</td>\n      <td>2023-06-15 00:00:00</td>\n      <td>2023-07-15 00:00:00</td>\n      <td>No</td>\n      <td>မောင်ကိုရယ်</td>\n      <td>M</td>\n      <td>2023-02-18</td>\n      <td>...</td>\n      <td>Yes</td>\n      <td>Yes</td>\n      <td>No</td>\n      <td>No</td>\n      <td>NaN</td>\n      <td>2.866667</td>\n      <td>1.866667</td>\n      <td>2.866667</td>\n      <td>3.866667</td>\n      <td>4.866667</td>\n    </tr>\n    <tr>\n      <th>141</th>\n      <td>142</td>\n      <td>None</td>\n      <td>None</td>\n      <td>2023-05-15 00:00:00</td>\n      <td>2023-06-15 00:00:00</td>\n      <td>2023-07-15 00:00:00</td>\n      <td>No</td>\n      <td>မရိုစလင်း</td>\n      <td>F</td>\n      <td>2023-01-19</td>\n      <td>...</td>\n      <td>Yes</td>\n      <td>Yes</td>\n      <td>No</td>\n      <td>No</td>\n      <td>NaN</td>\n      <td>3.866667</td>\n      <td>2.866667</td>\n      <td>3.866667</td>\n      <td>4.866667</td>\n      <td>5.866667</td>\n    </tr>\n    <tr>\n      <th>142</th>\n      <td>143</td>\n      <td>None</td>\n      <td>None</td>\n      <td>2023-05-15 00:00:00</td>\n      <td>2023-06-15 00:00:00</td>\n      <td>2023-07-15 00:00:00</td>\n      <td>No</td>\n      <td>မဂျူးဒစ်</td>\n      <td>F</td>\n      <td>2022-10-28</td>\n      <td>...</td>\n      <td>Yes</td>\n      <td>Yes</td>\n      <td>No</td>\n      <td>No</td>\n      <td>NaN</td>\n      <td>6.633333</td>\n      <td>5.633333</td>\n      <td>6.633333</td>\n      <td>7.633333</td>\n      <td>8.633333</td>\n    </tr>\n  </tbody>\n</table>\n<p>45 rows × 65 columns</p>\n</div>"
     },
     "execution_count": 24,
     "metadata": {},
     "output_type": "execute_result"
    }
   ],
   "source": [
    "nonidp = df.loc[(df['IDP']=='No')&(df['ReNu']!='NO SHOW')&(df['PreV']=='No'), :]\n",
    "elg = nonidp.loc[nonidp['AGE_MAY15']>=2, :] # 80 zero-dose non-IDPs eligible for penta and polio\n",
    "elg.loc[(elg['P5Po3']=='Yes'),:] # 56"
   ],
   "metadata": {
    "collapsed": false,
    "ExecuteTime": {
     "end_time": "2023-09-14T15:32:34.270990Z",
     "start_time": "2023-09-14T15:32:34.205918Z"
    }
   }
  },
  {
   "cell_type": "code",
   "execution_count": 25,
   "outputs": [
    {
     "data": {
      "text/plain": "0.5625"
     },
     "execution_count": 25,
     "metadata": {},
     "output_type": "execute_result"
    }
   ],
   "source": [
    "45/80"
   ],
   "metadata": {
    "collapsed": false,
    "ExecuteTime": {
     "end_time": "2023-09-14T15:32:39.920978Z",
     "start_time": "2023-09-14T15:32:39.897100Z"
    }
   }
  },
  {
   "cell_type": "code",
   "execution_count": 17,
   "outputs": [
    {
     "data": {
      "text/plain": "    ReNu                 Att1                 Att2                 Att3  \\\n15    16  2023-03-15 00:00:00  2023-04-15 00:00:00  2023-05-15 00:00:00   \n16    17  2023-03-15 00:00:00  2023-04-15 00:00:00  2023-05-15 00:00:00   \n17    18  2023-03-15 00:00:00  2023-04-15 00:00:00  2023-05-15 00:00:00   \n18    19  2023-03-15 00:00:00  2023-04-15 00:00:00  2023-05-15 00:00:00   \n19    20  2023-03-15 00:00:00  2023-04-15 00:00:00  2023-05-15 00:00:00   \n..   ...                  ...                  ...                  ...   \n176  177                 None                 None                 None   \n177  178                 None                 None                 None   \n180  181                 None                 None                 None   \n182  183                 None                 None                 None   \n183  184                 None                 None                 None   \n\n                    Att4                 Att5 PreV              Name Sex  \\\n15   2023-06-15 00:00:00  2023-07-15 00:00:00   No  မောင်ဘရူနိုပေါလ်   M   \n16   2023-06-15 00:00:00                 None   No           မမေရီဦး   F   \n17   2023-06-15 00:00:00                 None   No       မအက်စတာမိုး   F   \n18                  None                 None   No        မအော်ရီးယာ   F   \n19   2023-06-15 00:00:00  2023-07-15 00:00:00   No    မောင်ကောင်းထက်   M   \n..                   ...                  ...  ...               ...  ..   \n176                 None  2023-07-15 00:00:00   No     မောင်သောမတ်စ်   M   \n177                 None  2023-07-15 00:00:00   No    မောင်ဂျက်စတင်း   M   \n180                 None  2023-07-15 00:00:00   No        မောင်ထားရု   M   \n182                 None  2023-07-15 00:00:00   No          မဗျားမြာ   F   \n183                 None  2023-07-15 00:00:00  Yes       မောင်ရောဘတ်   M   \n\n           DoB  ... P5Po2 P5Po3 P5M1 P5M2 ReDB        AGE  AGE_APR15  \\\n15  2022-10-14  ...   Yes   Yes  Yes   No  NaN   5.066667   6.066667   \n16  2022-05-11  ...   Yes   Yes  Yes  Yes  NaN  10.266667  11.266667   \n17  2022-04-21  ...   Yes   Yes  Yes  Yes  NaN  10.933333  11.933333   \n18  2022-03-11  ...   Yes    No  Yes  Yes  NaN  12.300000  13.300000   \n19  2022-10-16  ...   Yes   Yes  Yes   No  NaN   5.000000   6.000000   \n..         ...  ...   ...   ...  ...  ...  ...        ...        ...   \n176 2023-01-28  ...    No    No   No   No  NaN   5.600000   2.600000   \n177 2023-02-17  ...    No    No   No   No  NaN   4.933333   1.933333   \n180 2023-04-09  ...    No    No   No   No  NaN   3.233333   0.233333   \n182 2022-11-11  ...    No    No   No   No  NaN   8.200000   5.200000   \n183 2020-09-17  ...     P     P  Yes   No  NaN  34.366667  31.366667   \n\n     AGE_MAY15 AGE_JUNE15 AGE_JULY15  \n15    7.066667   8.066667   9.066667  \n16   12.266667  13.266667  14.266667  \n17   12.933333  13.933333  14.933333  \n18   14.300000  15.300000  16.300000  \n19    7.000000   8.000000   9.000000  \n..         ...        ...        ...  \n176   3.600000   4.600000   5.600000  \n177   2.933333   3.933333   4.933333  \n180   1.233333   2.233333   3.233333  \n182   6.200000   7.200000   8.200000  \n183  32.366667  33.366667  34.366667  \n\n[79 rows x 65 columns]",
      "text/html": "<div>\n<style scoped>\n    .dataframe tbody tr th:only-of-type {\n        vertical-align: middle;\n    }\n\n    .dataframe tbody tr th {\n        vertical-align: top;\n    }\n\n    .dataframe thead th {\n        text-align: right;\n    }\n</style>\n<table border=\"1\" class=\"dataframe\">\n  <thead>\n    <tr style=\"text-align: right;\">\n      <th></th>\n      <th>ReNu</th>\n      <th>Att1</th>\n      <th>Att2</th>\n      <th>Att3</th>\n      <th>Att4</th>\n      <th>Att5</th>\n      <th>PreV</th>\n      <th>Name</th>\n      <th>Sex</th>\n      <th>DoB</th>\n      <th>...</th>\n      <th>P5Po2</th>\n      <th>P5Po3</th>\n      <th>P5M1</th>\n      <th>P5M2</th>\n      <th>ReDB</th>\n      <th>AGE</th>\n      <th>AGE_APR15</th>\n      <th>AGE_MAY15</th>\n      <th>AGE_JUNE15</th>\n      <th>AGE_JULY15</th>\n    </tr>\n  </thead>\n  <tbody>\n    <tr>\n      <th>15</th>\n      <td>16</td>\n      <td>2023-03-15 00:00:00</td>\n      <td>2023-04-15 00:00:00</td>\n      <td>2023-05-15 00:00:00</td>\n      <td>2023-06-15 00:00:00</td>\n      <td>2023-07-15 00:00:00</td>\n      <td>No</td>\n      <td>မောင်ဘရူနိုပေါလ်</td>\n      <td>M</td>\n      <td>2022-10-14</td>\n      <td>...</td>\n      <td>Yes</td>\n      <td>Yes</td>\n      <td>Yes</td>\n      <td>No</td>\n      <td>NaN</td>\n      <td>5.066667</td>\n      <td>6.066667</td>\n      <td>7.066667</td>\n      <td>8.066667</td>\n      <td>9.066667</td>\n    </tr>\n    <tr>\n      <th>16</th>\n      <td>17</td>\n      <td>2023-03-15 00:00:00</td>\n      <td>2023-04-15 00:00:00</td>\n      <td>2023-05-15 00:00:00</td>\n      <td>2023-06-15 00:00:00</td>\n      <td>None</td>\n      <td>No</td>\n      <td>မမေရီဦး</td>\n      <td>F</td>\n      <td>2022-05-11</td>\n      <td>...</td>\n      <td>Yes</td>\n      <td>Yes</td>\n      <td>Yes</td>\n      <td>Yes</td>\n      <td>NaN</td>\n      <td>10.266667</td>\n      <td>11.266667</td>\n      <td>12.266667</td>\n      <td>13.266667</td>\n      <td>14.266667</td>\n    </tr>\n    <tr>\n      <th>17</th>\n      <td>18</td>\n      <td>2023-03-15 00:00:00</td>\n      <td>2023-04-15 00:00:00</td>\n      <td>2023-05-15 00:00:00</td>\n      <td>2023-06-15 00:00:00</td>\n      <td>None</td>\n      <td>No</td>\n      <td>မအက်စတာမိုး</td>\n      <td>F</td>\n      <td>2022-04-21</td>\n      <td>...</td>\n      <td>Yes</td>\n      <td>Yes</td>\n      <td>Yes</td>\n      <td>Yes</td>\n      <td>NaN</td>\n      <td>10.933333</td>\n      <td>11.933333</td>\n      <td>12.933333</td>\n      <td>13.933333</td>\n      <td>14.933333</td>\n    </tr>\n    <tr>\n      <th>18</th>\n      <td>19</td>\n      <td>2023-03-15 00:00:00</td>\n      <td>2023-04-15 00:00:00</td>\n      <td>2023-05-15 00:00:00</td>\n      <td>None</td>\n      <td>None</td>\n      <td>No</td>\n      <td>မအော်ရီးယာ</td>\n      <td>F</td>\n      <td>2022-03-11</td>\n      <td>...</td>\n      <td>Yes</td>\n      <td>No</td>\n      <td>Yes</td>\n      <td>Yes</td>\n      <td>NaN</td>\n      <td>12.300000</td>\n      <td>13.300000</td>\n      <td>14.300000</td>\n      <td>15.300000</td>\n      <td>16.300000</td>\n    </tr>\n    <tr>\n      <th>19</th>\n      <td>20</td>\n      <td>2023-03-15 00:00:00</td>\n      <td>2023-04-15 00:00:00</td>\n      <td>2023-05-15 00:00:00</td>\n      <td>2023-06-15 00:00:00</td>\n      <td>2023-07-15 00:00:00</td>\n      <td>No</td>\n      <td>မောင်ကောင်းထက်</td>\n      <td>M</td>\n      <td>2022-10-16</td>\n      <td>...</td>\n      <td>Yes</td>\n      <td>Yes</td>\n      <td>Yes</td>\n      <td>No</td>\n      <td>NaN</td>\n      <td>5.000000</td>\n      <td>6.000000</td>\n      <td>7.000000</td>\n      <td>8.000000</td>\n      <td>9.000000</td>\n    </tr>\n    <tr>\n      <th>...</th>\n      <td>...</td>\n      <td>...</td>\n      <td>...</td>\n      <td>...</td>\n      <td>...</td>\n      <td>...</td>\n      <td>...</td>\n      <td>...</td>\n      <td>...</td>\n      <td>...</td>\n      <td>...</td>\n      <td>...</td>\n      <td>...</td>\n      <td>...</td>\n      <td>...</td>\n      <td>...</td>\n      <td>...</td>\n      <td>...</td>\n      <td>...</td>\n      <td>...</td>\n      <td>...</td>\n    </tr>\n    <tr>\n      <th>176</th>\n      <td>177</td>\n      <td>None</td>\n      <td>None</td>\n      <td>None</td>\n      <td>None</td>\n      <td>2023-07-15 00:00:00</td>\n      <td>No</td>\n      <td>မောင်သောမတ်စ်</td>\n      <td>M</td>\n      <td>2023-01-28</td>\n      <td>...</td>\n      <td>No</td>\n      <td>No</td>\n      <td>No</td>\n      <td>No</td>\n      <td>NaN</td>\n      <td>5.600000</td>\n      <td>2.600000</td>\n      <td>3.600000</td>\n      <td>4.600000</td>\n      <td>5.600000</td>\n    </tr>\n    <tr>\n      <th>177</th>\n      <td>178</td>\n      <td>None</td>\n      <td>None</td>\n      <td>None</td>\n      <td>None</td>\n      <td>2023-07-15 00:00:00</td>\n      <td>No</td>\n      <td>မောင်ဂျက်စတင်း</td>\n      <td>M</td>\n      <td>2023-02-17</td>\n      <td>...</td>\n      <td>No</td>\n      <td>No</td>\n      <td>No</td>\n      <td>No</td>\n      <td>NaN</td>\n      <td>4.933333</td>\n      <td>1.933333</td>\n      <td>2.933333</td>\n      <td>3.933333</td>\n      <td>4.933333</td>\n    </tr>\n    <tr>\n      <th>180</th>\n      <td>181</td>\n      <td>None</td>\n      <td>None</td>\n      <td>None</td>\n      <td>None</td>\n      <td>2023-07-15 00:00:00</td>\n      <td>No</td>\n      <td>မောင်ထားရု</td>\n      <td>M</td>\n      <td>2023-04-09</td>\n      <td>...</td>\n      <td>No</td>\n      <td>No</td>\n      <td>No</td>\n      <td>No</td>\n      <td>NaN</td>\n      <td>3.233333</td>\n      <td>0.233333</td>\n      <td>1.233333</td>\n      <td>2.233333</td>\n      <td>3.233333</td>\n    </tr>\n    <tr>\n      <th>182</th>\n      <td>183</td>\n      <td>None</td>\n      <td>None</td>\n      <td>None</td>\n      <td>None</td>\n      <td>2023-07-15 00:00:00</td>\n      <td>No</td>\n      <td>မဗျားမြာ</td>\n      <td>F</td>\n      <td>2022-11-11</td>\n      <td>...</td>\n      <td>No</td>\n      <td>No</td>\n      <td>No</td>\n      <td>No</td>\n      <td>NaN</td>\n      <td>8.200000</td>\n      <td>5.200000</td>\n      <td>6.200000</td>\n      <td>7.200000</td>\n      <td>8.200000</td>\n    </tr>\n    <tr>\n      <th>183</th>\n      <td>184</td>\n      <td>None</td>\n      <td>None</td>\n      <td>None</td>\n      <td>None</td>\n      <td>2023-07-15 00:00:00</td>\n      <td>Yes</td>\n      <td>မောင်ရောဘတ်</td>\n      <td>M</td>\n      <td>2020-09-17</td>\n      <td>...</td>\n      <td>P</td>\n      <td>P</td>\n      <td>Yes</td>\n      <td>No</td>\n      <td>NaN</td>\n      <td>34.366667</td>\n      <td>31.366667</td>\n      <td>32.366667</td>\n      <td>33.366667</td>\n      <td>34.366667</td>\n    </tr>\n  </tbody>\n</table>\n<p>79 rows × 65 columns</p>\n</div>"
     },
     "execution_count": 17,
     "metadata": {},
     "output_type": "execute_result"
    }
   ],
   "source": [
    "df.loc[(df['ReNu']!='NO SHOW')&(df['IDP']=='Yes'),:]"
   ],
   "metadata": {
    "collapsed": false,
    "ExecuteTime": {
     "end_time": "2023-09-07T15:39:59.726029Z",
     "start_time": "2023-09-07T15:39:59.705050Z"
    }
   }
  },
  {
   "cell_type": "code",
   "execution_count": 34,
   "outputs": [
    {
     "data": {
      "text/plain": "0.5490196078431373"
     },
     "execution_count": 34,
     "metadata": {},
     "output_type": "execute_result"
    }
   ],
   "source": [
    "84/153"
   ],
   "metadata": {
    "collapsed": false,
    "ExecuteTime": {
     "end_time": "2023-09-06T19:08:09.574104Z",
     "start_time": "2023-09-06T19:08:09.567559Z"
    }
   }
  },
  {
   "cell_type": "code",
   "execution_count": 32,
   "outputs": [
    {
     "data": {
      "text/plain": "    ReNu                 Att1                 Att2                 Att3  \\\n2      3  2023-03-15 00:00:00                 None                 None   \n4      5  2023-03-15 00:00:00  2023-04-15 00:00:00  2023-05-15 00:00:00   \n5      6  2023-03-15 00:00:00  2023-04-15 00:00:00  2023-05-15 00:00:00   \n6      7  2023-03-15 00:00:00  2023-04-15 00:00:00  2023-05-15 00:00:00   \n7      8  2023-03-15 00:00:00  2023-04-15 00:00:00  2023-05-15 00:00:00   \n..   ...                  ...                  ...                  ...   \n166  167                 None                 None                 None   \n175  176                 None                 None                 None   \n176  177                 None                 None                 None   \n177  178                 None                 None                 None   \n182  183                 None                 None                 None   \n\n                    Att4                 Att5 PreV                Name Sex  \\\n2    2023-06-15 00:00:00  2023-07-15 00:00:00   No               မစုစု   F   \n4    2023-06-15 00:00:00                 None   No      မောင်ဂျက်စတင်း   M   \n5    2023-06-15 00:00:00                 None   No         မဖြူဖြူထွေး   F   \n6    2023-06-15 00:00:00                 None   No     မောင်ထွန်းမောင်   M   \n7    2023-06-15 00:00:00                 None   No  မောင်ခရစ္စတီယားနို   M   \n..                   ...                  ...  ...                 ...  ..   \n166                 None  2023-07-15 00:00:00   No          မောင်ဖဲဘူး   M   \n175                 None  2023-07-15 00:00:00   No        မောင်သားကြီး   M   \n176                 None  2023-07-15 00:00:00   No       မောင်သောမတ်စ်   M   \n177                 None  2023-07-15 00:00:00   No      မောင်ဂျက်စတင်း   M   \n182                 None  2023-07-15 00:00:00   No            မဗျားမြာ   F   \n\n           DoB  ... P5Po2 P5Po3 P5M1 P5M2 ReDB        AGE  AGE_APR15  \\\n2   2022-05-26  ...   Yes   Yes  Yes  Yes  NaN   9.766667  10.766667   \n4   2022-06-07  ...   Yes   Yes  Yes  Yes  NaN   9.366667  10.366667   \n5   2022-06-12  ...   Yes   Yes  Yes  Yes  NaN   9.200000  10.200000   \n6   2022-05-28  ...   Yes   Yes  Yes  Yes  NaN   9.700000  10.700000   \n7   2022-04-08  ...   Yes   Yes  Yes  Yes  NaN  11.366667  12.366667   \n..         ...  ...   ...   ...  ...  ...  ...        ...        ...   \n166 2023-01-04  ...    No    No   No   No  NaN   6.400000   3.400000   \n175 2023-02-10  ...    No    No   No   No  NaN   5.166667   2.166667   \n176 2023-01-28  ...    No    No   No   No  NaN   5.600000   2.600000   \n177 2023-02-17  ...    No    No   No   No  NaN   4.933333   1.933333   \n182 2022-11-11  ...    No    No   No   No  NaN   8.200000   5.200000   \n\n     AGE_MAY15 AGE_JUNE15 AGE_JULY15  \n2    11.766667  12.766667  13.766667  \n4    11.366667  12.366667  13.366667  \n5    11.200000  12.200000  13.200000  \n6    11.700000  12.700000  13.700000  \n7    13.366667  14.366667  15.366667  \n..         ...        ...        ...  \n166   4.400000   5.400000   6.400000  \n175   3.166667   4.166667   5.166667  \n176   3.600000   4.600000   5.600000  \n177   2.933333   3.933333   4.933333  \n182   6.200000   7.200000   8.200000  \n\n[82 rows x 65 columns]",
      "text/html": "<div>\n<style scoped>\n    .dataframe tbody tr th:only-of-type {\n        vertical-align: middle;\n    }\n\n    .dataframe tbody tr th {\n        vertical-align: top;\n    }\n\n    .dataframe thead th {\n        text-align: right;\n    }\n</style>\n<table border=\"1\" class=\"dataframe\">\n  <thead>\n    <tr style=\"text-align: right;\">\n      <th></th>\n      <th>ReNu</th>\n      <th>Att1</th>\n      <th>Att2</th>\n      <th>Att3</th>\n      <th>Att4</th>\n      <th>Att5</th>\n      <th>PreV</th>\n      <th>Name</th>\n      <th>Sex</th>\n      <th>DoB</th>\n      <th>...</th>\n      <th>P5Po2</th>\n      <th>P5Po3</th>\n      <th>P5M1</th>\n      <th>P5M2</th>\n      <th>ReDB</th>\n      <th>AGE</th>\n      <th>AGE_APR15</th>\n      <th>AGE_MAY15</th>\n      <th>AGE_JUNE15</th>\n      <th>AGE_JULY15</th>\n    </tr>\n  </thead>\n  <tbody>\n    <tr>\n      <th>2</th>\n      <td>3</td>\n      <td>2023-03-15 00:00:00</td>\n      <td>None</td>\n      <td>None</td>\n      <td>2023-06-15 00:00:00</td>\n      <td>2023-07-15 00:00:00</td>\n      <td>No</td>\n      <td>မစုစု</td>\n      <td>F</td>\n      <td>2022-05-26</td>\n      <td>...</td>\n      <td>Yes</td>\n      <td>Yes</td>\n      <td>Yes</td>\n      <td>Yes</td>\n      <td>NaN</td>\n      <td>9.766667</td>\n      <td>10.766667</td>\n      <td>11.766667</td>\n      <td>12.766667</td>\n      <td>13.766667</td>\n    </tr>\n    <tr>\n      <th>4</th>\n      <td>5</td>\n      <td>2023-03-15 00:00:00</td>\n      <td>2023-04-15 00:00:00</td>\n      <td>2023-05-15 00:00:00</td>\n      <td>2023-06-15 00:00:00</td>\n      <td>None</td>\n      <td>No</td>\n      <td>မောင်ဂျက်စတင်း</td>\n      <td>M</td>\n      <td>2022-06-07</td>\n      <td>...</td>\n      <td>Yes</td>\n      <td>Yes</td>\n      <td>Yes</td>\n      <td>Yes</td>\n      <td>NaN</td>\n      <td>9.366667</td>\n      <td>10.366667</td>\n      <td>11.366667</td>\n      <td>12.366667</td>\n      <td>13.366667</td>\n    </tr>\n    <tr>\n      <th>5</th>\n      <td>6</td>\n      <td>2023-03-15 00:00:00</td>\n      <td>2023-04-15 00:00:00</td>\n      <td>2023-05-15 00:00:00</td>\n      <td>2023-06-15 00:00:00</td>\n      <td>None</td>\n      <td>No</td>\n      <td>မဖြူဖြူထွေး</td>\n      <td>F</td>\n      <td>2022-06-12</td>\n      <td>...</td>\n      <td>Yes</td>\n      <td>Yes</td>\n      <td>Yes</td>\n      <td>Yes</td>\n      <td>NaN</td>\n      <td>9.200000</td>\n      <td>10.200000</td>\n      <td>11.200000</td>\n      <td>12.200000</td>\n      <td>13.200000</td>\n    </tr>\n    <tr>\n      <th>6</th>\n      <td>7</td>\n      <td>2023-03-15 00:00:00</td>\n      <td>2023-04-15 00:00:00</td>\n      <td>2023-05-15 00:00:00</td>\n      <td>2023-06-15 00:00:00</td>\n      <td>None</td>\n      <td>No</td>\n      <td>မောင်ထွန်းမောင်</td>\n      <td>M</td>\n      <td>2022-05-28</td>\n      <td>...</td>\n      <td>Yes</td>\n      <td>Yes</td>\n      <td>Yes</td>\n      <td>Yes</td>\n      <td>NaN</td>\n      <td>9.700000</td>\n      <td>10.700000</td>\n      <td>11.700000</td>\n      <td>12.700000</td>\n      <td>13.700000</td>\n    </tr>\n    <tr>\n      <th>7</th>\n      <td>8</td>\n      <td>2023-03-15 00:00:00</td>\n      <td>2023-04-15 00:00:00</td>\n      <td>2023-05-15 00:00:00</td>\n      <td>2023-06-15 00:00:00</td>\n      <td>None</td>\n      <td>No</td>\n      <td>မောင်ခရစ္စတီယားနို</td>\n      <td>M</td>\n      <td>2022-04-08</td>\n      <td>...</td>\n      <td>Yes</td>\n      <td>Yes</td>\n      <td>Yes</td>\n      <td>Yes</td>\n      <td>NaN</td>\n      <td>11.366667</td>\n      <td>12.366667</td>\n      <td>13.366667</td>\n      <td>14.366667</td>\n      <td>15.366667</td>\n    </tr>\n    <tr>\n      <th>...</th>\n      <td>...</td>\n      <td>...</td>\n      <td>...</td>\n      <td>...</td>\n      <td>...</td>\n      <td>...</td>\n      <td>...</td>\n      <td>...</td>\n      <td>...</td>\n      <td>...</td>\n      <td>...</td>\n      <td>...</td>\n      <td>...</td>\n      <td>...</td>\n      <td>...</td>\n      <td>...</td>\n      <td>...</td>\n      <td>...</td>\n      <td>...</td>\n      <td>...</td>\n      <td>...</td>\n    </tr>\n    <tr>\n      <th>166</th>\n      <td>167</td>\n      <td>None</td>\n      <td>None</td>\n      <td>None</td>\n      <td>None</td>\n      <td>2023-07-15 00:00:00</td>\n      <td>No</td>\n      <td>မောင်ဖဲဘူး</td>\n      <td>M</td>\n      <td>2023-01-04</td>\n      <td>...</td>\n      <td>No</td>\n      <td>No</td>\n      <td>No</td>\n      <td>No</td>\n      <td>NaN</td>\n      <td>6.400000</td>\n      <td>3.400000</td>\n      <td>4.400000</td>\n      <td>5.400000</td>\n      <td>6.400000</td>\n    </tr>\n    <tr>\n      <th>175</th>\n      <td>176</td>\n      <td>None</td>\n      <td>None</td>\n      <td>None</td>\n      <td>None</td>\n      <td>2023-07-15 00:00:00</td>\n      <td>No</td>\n      <td>မောင်သားကြီး</td>\n      <td>M</td>\n      <td>2023-02-10</td>\n      <td>...</td>\n      <td>No</td>\n      <td>No</td>\n      <td>No</td>\n      <td>No</td>\n      <td>NaN</td>\n      <td>5.166667</td>\n      <td>2.166667</td>\n      <td>3.166667</td>\n      <td>4.166667</td>\n      <td>5.166667</td>\n    </tr>\n    <tr>\n      <th>176</th>\n      <td>177</td>\n      <td>None</td>\n      <td>None</td>\n      <td>None</td>\n      <td>None</td>\n      <td>2023-07-15 00:00:00</td>\n      <td>No</td>\n      <td>မောင်သောမတ်စ်</td>\n      <td>M</td>\n      <td>2023-01-28</td>\n      <td>...</td>\n      <td>No</td>\n      <td>No</td>\n      <td>No</td>\n      <td>No</td>\n      <td>NaN</td>\n      <td>5.600000</td>\n      <td>2.600000</td>\n      <td>3.600000</td>\n      <td>4.600000</td>\n      <td>5.600000</td>\n    </tr>\n    <tr>\n      <th>177</th>\n      <td>178</td>\n      <td>None</td>\n      <td>None</td>\n      <td>None</td>\n      <td>None</td>\n      <td>2023-07-15 00:00:00</td>\n      <td>No</td>\n      <td>မောင်ဂျက်စတင်း</td>\n      <td>M</td>\n      <td>2023-02-17</td>\n      <td>...</td>\n      <td>No</td>\n      <td>No</td>\n      <td>No</td>\n      <td>No</td>\n      <td>NaN</td>\n      <td>4.933333</td>\n      <td>1.933333</td>\n      <td>2.933333</td>\n      <td>3.933333</td>\n      <td>4.933333</td>\n    </tr>\n    <tr>\n      <th>182</th>\n      <td>183</td>\n      <td>None</td>\n      <td>None</td>\n      <td>None</td>\n      <td>None</td>\n      <td>2023-07-15 00:00:00</td>\n      <td>No</td>\n      <td>မဗျားမြာ</td>\n      <td>F</td>\n      <td>2022-11-11</td>\n      <td>...</td>\n      <td>No</td>\n      <td>No</td>\n      <td>No</td>\n      <td>No</td>\n      <td>NaN</td>\n      <td>8.200000</td>\n      <td>5.200000</td>\n      <td>6.200000</td>\n      <td>7.200000</td>\n      <td>8.200000</td>\n    </tr>\n  </tbody>\n</table>\n<p>82 rows × 65 columns</p>\n</div>"
     },
     "execution_count": 32,
     "metadata": {},
     "output_type": "execute_result"
    }
   ],
   "source": [
    "t = df.loc[(df['AGE']>=4)&(df['AGE']<=12)&(df['ReNu']!='NO SHOW'),:]\n",
    "t.loc[t['PreV']=='No',:]"
   ],
   "metadata": {
    "collapsed": false,
    "ExecuteTime": {
     "end_time": "2023-09-06T19:05:05.624767Z",
     "start_time": "2023-09-06T19:05:05.579293Z"
    }
   }
  },
  {
   "cell_type": "code",
   "execution_count": 15,
   "outputs": [],
   "source": [
    "df['IDP'].fillna('No', inplace=True)"
   ],
   "metadata": {
    "collapsed": false,
    "ExecuteTime": {
     "end_time": "2023-09-07T15:39:03.467104Z",
     "start_time": "2023-09-07T15:39:03.457256Z"
    }
   }
  },
  {
   "cell_type": "code",
   "execution_count": 27,
   "outputs": [
    {
     "data": {
      "text/plain": "    ReNu                 Att1                 Att2                 Att3  \\\n15    16  2023-03-15 00:00:00  2023-04-15 00:00:00  2023-05-15 00:00:00   \n16    17  2023-03-15 00:00:00  2023-04-15 00:00:00  2023-05-15 00:00:00   \n17    18  2023-03-15 00:00:00  2023-04-15 00:00:00  2023-05-15 00:00:00   \n18    19  2023-03-15 00:00:00  2023-04-15 00:00:00  2023-05-15 00:00:00   \n19    20  2023-03-15 00:00:00  2023-04-15 00:00:00  2023-05-15 00:00:00   \n..   ...                  ...                  ...                  ...   \n176  177                 None                 None                 None   \n177  178                 None                 None                 None   \n180  181                 None                 None                 None   \n182  183                 None                 None                 None   \n183  184                 None                 None                 None   \n\n                    Att4                 Att5 PreV              Name Sex  \\\n15   2023-06-15 00:00:00  2023-07-15 00:00:00   No  မောင်ဘရူနိုပေါလ်   M   \n16   2023-06-15 00:00:00                 None   No           မမေရီဦး   F   \n17   2023-06-15 00:00:00                 None   No       မအက်စတာမိုး   F   \n18                  None                 None   No        မအော်ရီးယာ   F   \n19   2023-06-15 00:00:00  2023-07-15 00:00:00   No    မောင်ကောင်းထက်   M   \n..                   ...                  ...  ...               ...  ..   \n176                 None  2023-07-15 00:00:00   No     မောင်သောမတ်စ်   M   \n177                 None  2023-07-15 00:00:00   No    မောင်ဂျက်စတင်း   M   \n180                 None  2023-07-15 00:00:00   No        မောင်ထားရု   M   \n182                 None  2023-07-15 00:00:00   No          မဗျားမြာ   F   \n183                 None  2023-07-15 00:00:00  Yes       မောင်ရောဘတ်   M   \n\n           DoB  ... P5Po2 P5Po3 P5M1 P5M2 ReDB        AGE  AGE_APR15  \\\n15  2022-10-14  ...   Yes   Yes  Yes   No  NaN   5.066667   6.066667   \n16  2022-05-11  ...   Yes   Yes  Yes  Yes  NaN  10.266667  11.266667   \n17  2022-04-21  ...   Yes   Yes  Yes  Yes  NaN  10.933333  11.933333   \n18  2022-03-11  ...   Yes    No  Yes  Yes  NaN  12.300000  13.300000   \n19  2022-10-16  ...   Yes   Yes  Yes   No  NaN   5.000000   6.000000   \n..         ...  ...   ...   ...  ...  ...  ...        ...        ...   \n176 2023-01-28  ...    No    No   No   No  NaN   5.600000   2.600000   \n177 2023-02-17  ...    No    No   No   No  NaN   4.933333   1.933333   \n180 2023-04-09  ...    No    No   No   No  NaN   3.233333   0.233333   \n182 2022-11-11  ...    No    No   No   No  NaN   8.200000   5.200000   \n183 2020-09-17  ...     P     P  Yes   No  NaN  34.366667  31.366667   \n\n     AGE_MAY15 AGE_JUNE15 AGE_JULY15  \n15    7.066667   8.066667   9.066667  \n16   12.266667  13.266667  14.266667  \n17   12.933333  13.933333  14.933333  \n18   14.300000  15.300000  16.300000  \n19    7.000000   8.000000   9.000000  \n..         ...        ...        ...  \n176   3.600000   4.600000   5.600000  \n177   2.933333   3.933333   4.933333  \n180   1.233333   2.233333   3.233333  \n182   6.200000   7.200000   8.200000  \n183  32.366667  33.366667  34.366667  \n\n[79 rows x 65 columns]",
      "text/html": "<div>\n<style scoped>\n    .dataframe tbody tr th:only-of-type {\n        vertical-align: middle;\n    }\n\n    .dataframe tbody tr th {\n        vertical-align: top;\n    }\n\n    .dataframe thead th {\n        text-align: right;\n    }\n</style>\n<table border=\"1\" class=\"dataframe\">\n  <thead>\n    <tr style=\"text-align: right;\">\n      <th></th>\n      <th>ReNu</th>\n      <th>Att1</th>\n      <th>Att2</th>\n      <th>Att3</th>\n      <th>Att4</th>\n      <th>Att5</th>\n      <th>PreV</th>\n      <th>Name</th>\n      <th>Sex</th>\n      <th>DoB</th>\n      <th>...</th>\n      <th>P5Po2</th>\n      <th>P5Po3</th>\n      <th>P5M1</th>\n      <th>P5M2</th>\n      <th>ReDB</th>\n      <th>AGE</th>\n      <th>AGE_APR15</th>\n      <th>AGE_MAY15</th>\n      <th>AGE_JUNE15</th>\n      <th>AGE_JULY15</th>\n    </tr>\n  </thead>\n  <tbody>\n    <tr>\n      <th>15</th>\n      <td>16</td>\n      <td>2023-03-15 00:00:00</td>\n      <td>2023-04-15 00:00:00</td>\n      <td>2023-05-15 00:00:00</td>\n      <td>2023-06-15 00:00:00</td>\n      <td>2023-07-15 00:00:00</td>\n      <td>No</td>\n      <td>မောင်ဘရူနိုပေါလ်</td>\n      <td>M</td>\n      <td>2022-10-14</td>\n      <td>...</td>\n      <td>Yes</td>\n      <td>Yes</td>\n      <td>Yes</td>\n      <td>No</td>\n      <td>NaN</td>\n      <td>5.066667</td>\n      <td>6.066667</td>\n      <td>7.066667</td>\n      <td>8.066667</td>\n      <td>9.066667</td>\n    </tr>\n    <tr>\n      <th>16</th>\n      <td>17</td>\n      <td>2023-03-15 00:00:00</td>\n      <td>2023-04-15 00:00:00</td>\n      <td>2023-05-15 00:00:00</td>\n      <td>2023-06-15 00:00:00</td>\n      <td>None</td>\n      <td>No</td>\n      <td>မမေရီဦး</td>\n      <td>F</td>\n      <td>2022-05-11</td>\n      <td>...</td>\n      <td>Yes</td>\n      <td>Yes</td>\n      <td>Yes</td>\n      <td>Yes</td>\n      <td>NaN</td>\n      <td>10.266667</td>\n      <td>11.266667</td>\n      <td>12.266667</td>\n      <td>13.266667</td>\n      <td>14.266667</td>\n    </tr>\n    <tr>\n      <th>17</th>\n      <td>18</td>\n      <td>2023-03-15 00:00:00</td>\n      <td>2023-04-15 00:00:00</td>\n      <td>2023-05-15 00:00:00</td>\n      <td>2023-06-15 00:00:00</td>\n      <td>None</td>\n      <td>No</td>\n      <td>မအက်စတာမိုး</td>\n      <td>F</td>\n      <td>2022-04-21</td>\n      <td>...</td>\n      <td>Yes</td>\n      <td>Yes</td>\n      <td>Yes</td>\n      <td>Yes</td>\n      <td>NaN</td>\n      <td>10.933333</td>\n      <td>11.933333</td>\n      <td>12.933333</td>\n      <td>13.933333</td>\n      <td>14.933333</td>\n    </tr>\n    <tr>\n      <th>18</th>\n      <td>19</td>\n      <td>2023-03-15 00:00:00</td>\n      <td>2023-04-15 00:00:00</td>\n      <td>2023-05-15 00:00:00</td>\n      <td>None</td>\n      <td>None</td>\n      <td>No</td>\n      <td>မအော်ရီးယာ</td>\n      <td>F</td>\n      <td>2022-03-11</td>\n      <td>...</td>\n      <td>Yes</td>\n      <td>No</td>\n      <td>Yes</td>\n      <td>Yes</td>\n      <td>NaN</td>\n      <td>12.300000</td>\n      <td>13.300000</td>\n      <td>14.300000</td>\n      <td>15.300000</td>\n      <td>16.300000</td>\n    </tr>\n    <tr>\n      <th>19</th>\n      <td>20</td>\n      <td>2023-03-15 00:00:00</td>\n      <td>2023-04-15 00:00:00</td>\n      <td>2023-05-15 00:00:00</td>\n      <td>2023-06-15 00:00:00</td>\n      <td>2023-07-15 00:00:00</td>\n      <td>No</td>\n      <td>မောင်ကောင်းထက်</td>\n      <td>M</td>\n      <td>2022-10-16</td>\n      <td>...</td>\n      <td>Yes</td>\n      <td>Yes</td>\n      <td>Yes</td>\n      <td>No</td>\n      <td>NaN</td>\n      <td>5.000000</td>\n      <td>6.000000</td>\n      <td>7.000000</td>\n      <td>8.000000</td>\n      <td>9.000000</td>\n    </tr>\n    <tr>\n      <th>...</th>\n      <td>...</td>\n      <td>...</td>\n      <td>...</td>\n      <td>...</td>\n      <td>...</td>\n      <td>...</td>\n      <td>...</td>\n      <td>...</td>\n      <td>...</td>\n      <td>...</td>\n      <td>...</td>\n      <td>...</td>\n      <td>...</td>\n      <td>...</td>\n      <td>...</td>\n      <td>...</td>\n      <td>...</td>\n      <td>...</td>\n      <td>...</td>\n      <td>...</td>\n      <td>...</td>\n    </tr>\n    <tr>\n      <th>176</th>\n      <td>177</td>\n      <td>None</td>\n      <td>None</td>\n      <td>None</td>\n      <td>None</td>\n      <td>2023-07-15 00:00:00</td>\n      <td>No</td>\n      <td>မောင်သောမတ်စ်</td>\n      <td>M</td>\n      <td>2023-01-28</td>\n      <td>...</td>\n      <td>No</td>\n      <td>No</td>\n      <td>No</td>\n      <td>No</td>\n      <td>NaN</td>\n      <td>5.600000</td>\n      <td>2.600000</td>\n      <td>3.600000</td>\n      <td>4.600000</td>\n      <td>5.600000</td>\n    </tr>\n    <tr>\n      <th>177</th>\n      <td>178</td>\n      <td>None</td>\n      <td>None</td>\n      <td>None</td>\n      <td>None</td>\n      <td>2023-07-15 00:00:00</td>\n      <td>No</td>\n      <td>မောင်ဂျက်စတင်း</td>\n      <td>M</td>\n      <td>2023-02-17</td>\n      <td>...</td>\n      <td>No</td>\n      <td>No</td>\n      <td>No</td>\n      <td>No</td>\n      <td>NaN</td>\n      <td>4.933333</td>\n      <td>1.933333</td>\n      <td>2.933333</td>\n      <td>3.933333</td>\n      <td>4.933333</td>\n    </tr>\n    <tr>\n      <th>180</th>\n      <td>181</td>\n      <td>None</td>\n      <td>None</td>\n      <td>None</td>\n      <td>None</td>\n      <td>2023-07-15 00:00:00</td>\n      <td>No</td>\n      <td>မောင်ထားရု</td>\n      <td>M</td>\n      <td>2023-04-09</td>\n      <td>...</td>\n      <td>No</td>\n      <td>No</td>\n      <td>No</td>\n      <td>No</td>\n      <td>NaN</td>\n      <td>3.233333</td>\n      <td>0.233333</td>\n      <td>1.233333</td>\n      <td>2.233333</td>\n      <td>3.233333</td>\n    </tr>\n    <tr>\n      <th>182</th>\n      <td>183</td>\n      <td>None</td>\n      <td>None</td>\n      <td>None</td>\n      <td>None</td>\n      <td>2023-07-15 00:00:00</td>\n      <td>No</td>\n      <td>မဗျားမြာ</td>\n      <td>F</td>\n      <td>2022-11-11</td>\n      <td>...</td>\n      <td>No</td>\n      <td>No</td>\n      <td>No</td>\n      <td>No</td>\n      <td>NaN</td>\n      <td>8.200000</td>\n      <td>5.200000</td>\n      <td>6.200000</td>\n      <td>7.200000</td>\n      <td>8.200000</td>\n    </tr>\n    <tr>\n      <th>183</th>\n      <td>184</td>\n      <td>None</td>\n      <td>None</td>\n      <td>None</td>\n      <td>None</td>\n      <td>2023-07-15 00:00:00</td>\n      <td>Yes</td>\n      <td>မောင်ရောဘတ်</td>\n      <td>M</td>\n      <td>2020-09-17</td>\n      <td>...</td>\n      <td>P</td>\n      <td>P</td>\n      <td>Yes</td>\n      <td>No</td>\n      <td>NaN</td>\n      <td>34.366667</td>\n      <td>31.366667</td>\n      <td>32.366667</td>\n      <td>33.366667</td>\n      <td>34.366667</td>\n    </tr>\n  </tbody>\n</table>\n<p>79 rows × 65 columns</p>\n</div>"
     },
     "execution_count": 27,
     "metadata": {},
     "output_type": "execute_result"
    }
   ],
   "source": [
    "df.loc[df['IDP']=='Yes',:]"
   ],
   "metadata": {
    "collapsed": false,
    "ExecuteTime": {
     "end_time": "2023-09-06T16:55:15.054803Z",
     "start_time": "2023-09-06T16:55:15.007023Z"
    }
   }
  },
  {
   "cell_type": "markdown",
   "metadata": {},
   "source": [
    "# ANALYSIS"
   ]
  },
  {
   "cell_type": "code",
   "execution_count": 29,
   "outputs": [
    {
     "data": {
      "text/plain": "0.31225296442687744"
     },
     "execution_count": 29,
     "metadata": {},
     "output_type": "execute_result"
    }
   ],
   "source": [
    "79/253"
   ],
   "metadata": {
    "collapsed": false,
    "ExecuteTime": {
     "end_time": "2023-09-06T16:55:46.523453Z",
     "start_time": "2023-09-06T16:55:46.498267Z"
    }
   }
  },
  {
   "cell_type": "code",
   "execution_count": 44,
   "outputs": [
    {
     "name": "stdout",
     "output_type": "stream",
     "text": [
      "6.216666666666667\n",
      "184\n",
      "7.2666666666666675\n"
     ]
    }
   ],
   "source": [
    "import numpy\n",
    "df2 = df.loc[df['PreV']!='?', :]\n",
    "# df2.drop(labels=215, inplace=True, axis=0)\n",
    "print(df2['AGE'].median())\n",
    "print(len(df2))\n",
    "print(numpy.percentile(a=df2['AGE'], q=75) - numpy.percentile(a=df2['AGE'], q=25))\n",
    "# cen"
   ],
   "metadata": {
    "collapsed": false,
    "ExecuteTime": {
     "end_time": "2023-09-02T04:34:53.748404Z",
     "start_time": "2023-09-02T04:34:53.726386Z"
    }
   }
  },
  {
   "cell_type": "code",
   "execution_count": 21,
   "outputs": [
    {
     "data": {
      "text/plain": "    ReNu                 Att1                 Att2                 Att3  \\\n2      3  2023-03-15 00:00:00                 None                 None   \n5      6  2023-03-15 00:00:00  2023-04-15 00:00:00  2023-05-15 00:00:00   \n6      7  2023-03-15 00:00:00  2023-04-15 00:00:00  2023-05-15 00:00:00   \n7      8  2023-03-15 00:00:00  2023-04-15 00:00:00  2023-05-15 00:00:00   \n8      9  2023-03-15 00:00:00  2023-04-15 00:00:00  2023-05-15 00:00:00   \n11    12  2023-03-15 00:00:00  2023-04-15 00:00:00  2023-05-15 00:00:00   \n16    17  2023-03-15 00:00:00  2023-04-15 00:00:00  2023-05-15 00:00:00   \n17    18  2023-03-15 00:00:00  2023-04-15 00:00:00  2023-05-15 00:00:00   \n24    25  2023-03-15 00:00:00  2023-04-15 00:00:00  2023-05-15 00:00:00   \n27    28  2023-03-15 00:00:00  2023-04-15 00:00:00  2023-05-15 00:00:00   \n28    29  2023-03-15 00:00:00  2023-04-15 00:00:00  2023-05-15 00:00:00   \n29    30  2023-03-15 00:00:00  2023-04-15 00:00:00  2023-05-15 00:00:00   \n30    31  2023-03-15 00:00:00  2023-04-15 00:00:00  2023-05-15 00:00:00   \n33    34  2023-03-15 00:00:00  2023-04-15 00:00:00  2023-05-15 00:00:00   \n38    39  2023-03-15 00:00:00  2023-04-15 00:00:00  2023-05-15 00:00:00   \n39    40  2023-03-15 00:00:00  2023-04-15 00:00:00  2023-05-15 00:00:00   \n40    41  2023-03-15 00:00:00  2023-04-15 00:00:00  2023-05-15 00:00:00   \n42    43  2023-03-15 00:00:00  2023-04-15 00:00:00  2023-05-15 00:00:00   \n45    46  2023-03-15 00:00:00  2023-04-15 00:00:00  2023-05-15 00:00:00   \n52    53  2023-03-15 00:00:00  2023-04-15 00:00:00  2023-05-15 00:00:00   \n53    54  2023-03-15 00:00:00  2023-04-15 00:00:00  2023-05-15 00:00:00   \n57    58  2023-03-15 00:00:00  2023-04-15 00:00:00  2023-05-15 00:00:00   \n58    59  2023-03-15 00:00:00  2023-04-15 00:00:00  2023-05-15 00:00:00   \n60    61  2023-03-15 00:00:00  2023-04-15 00:00:00  2023-05-15 00:00:00   \n63    64  2023-03-15 00:00:00  2023-04-15 00:00:00  2023-05-15 00:00:00   \n77    78  2023-03-15 00:00:00  2023-04-15 00:00:00  2023-05-15 00:00:00   \n78    79  2023-03-15 00:00:00  2023-04-15 00:00:00  2023-05-15 00:00:00   \n80    81  2023-03-15 00:00:00  2023-04-15 00:00:00  2023-05-15 00:00:00   \n86    87  2023-03-15 00:00:00  2023-04-15 00:00:00  2023-05-15 00:00:00   \n91    92  2023-03-15 00:00:00  2023-04-15 00:00:00  2023-05-15 00:00:00   \n95    96  2023-03-15 00:00:00  2023-04-15 00:00:00  2023-05-15 00:00:00   \n96    97  2023-03-15 00:00:00  2023-04-15 00:00:00  2023-05-15 00:00:00   \n102  103  2023-03-15 00:00:00  2023-04-15 00:00:00  2023-05-15 00:00:00   \n112  113  2023-03-15 00:00:00  2023-04-15 00:00:00  2023-05-15 00:00:00   \n114  115  2023-03-15 00:00:00  2023-04-15 00:00:00  2023-05-15 00:00:00   \n115  116                 None  2023-04-15 00:00:00  2023-05-15 00:00:00   \n\n                    Att4                 Att5 PreV  \\\n2    2023-06-15 00:00:00  2023-07-15 00:00:00   No   \n5    2023-06-15 00:00:00                 None   No   \n6    2023-06-15 00:00:00                 None   No   \n7    2023-06-15 00:00:00                 None   No   \n8    2023-06-15 00:00:00                 None   No   \n11   2023-06-15 00:00:00                 None   No   \n16   2023-06-15 00:00:00                 None   No   \n17   2023-06-15 00:00:00                 None   No   \n24   2023-06-15 00:00:00                 None   No   \n27   2023-06-15 00:00:00                 None   No   \n28   2023-06-15 00:00:00  2023-07-15 00:00:00   No   \n29   2023-06-15 00:00:00                 None   No   \n30   2023-06-15 00:00:00                 None   No   \n33   2023-06-15 00:00:00                 None   No   \n38   2023-06-15 00:00:00                 None   No   \n39   2023-06-15 00:00:00                 None   No   \n40   2023-06-15 00:00:00                 None   No   \n42   2023-06-15 00:00:00                 None   No   \n45   2023-06-15 00:00:00                 None   No   \n52   2023-06-15 00:00:00  2023-07-15 00:00:00   No   \n53   2023-06-15 00:00:00                 None   No   \n57   2023-06-15 00:00:00                 None   No   \n58   2023-06-15 00:00:00                 None   No   \n60   2023-06-15 00:00:00  2023-07-15 00:00:00   No   \n63   2023-06-15 00:00:00  2023-07-15 00:00:00   No   \n77   2023-06-15 00:00:00                 None   No   \n78   2023-06-15 00:00:00                 None   No   \n80   2023-06-15 00:00:00                 None   No   \n86   2023-06-15 00:00:00                 None   No   \n91   2023-06-15 00:00:00                 None   No   \n95   2023-06-15 00:00:00                 None   No   \n96   2023-06-15 00:00:00  2023-07-15 00:00:00   No   \n102  2023-06-15 00:00:00                 None   No   \n112  2023-06-15 00:00:00                 None   No   \n114  2023-06-15 00:00:00                 None   No   \n115  2023-06-15 00:00:00  2023-07-15 00:00:00   No   \n\n                             Name Sex        DoB  ... P5Po2 P5Po3 P5M1 P5M2  \\\n2                           မစုစု   F 2022-05-26  ...   Yes   Yes  Yes  Yes   \n5                     မဖြူဖြူထွေး   F 2022-06-12  ...   Yes   Yes  Yes  Yes   \n6                 မောင်ထွန်းမောင်   M 2022-05-28  ...   Yes   Yes  Yes  Yes   \n7              မောင်ခရစ္စတီယားနို   M 2022-04-08  ...   Yes   Yes  Yes  Yes   \n8                  မောင်ရောင်နီဦး   M 2022-06-25  ...   Yes   Yes  Yes  Yes   \n11                  မောင်ဂျိုးဇက်   M 2022-07-20  ...   Yes   Yes  Yes  Yes   \n16                        မမေရီဦး   F 2022-05-11  ...   Yes   Yes  Yes  Yes   \n17                    မအက်စတာမိုး   F 2022-04-21  ...   Yes   Yes  Yes  Yes   \n24                        မထရေးဇာ   F 2022-05-21  ...   Yes   Yes  Yes  Yes   \n27                 မောင်ဂျူးနီယို   M 2022-05-18  ...   Yes   Yes  Yes  Yes   \n28            မောင်ခရစ္စတိုစတုန်း   M 2022-09-13  ...   Yes   Yes  Yes  Yes   \n29                 မောင်ဂျက်စတင်း   M 2022-04-15  ...   Yes   Yes  Yes  Yes   \n30            မောင်ရိုမားနိုပေါအီ   M 2022-07-05  ...   Yes   Yes  Yes  Yes   \n33   မောင်ခရစ်အောင်ဘုန်းမြတ်ကျော်   M 2022-06-29  ...   Yes   Yes  Yes  Yes   \n38                   မအက်စတာဖြိုး   F 2022-04-12  ...   Yes   Yes  Yes  Yes   \n39                     မဂျူးလိယက်   F 2022-08-03  ...   Yes   Yes  Yes  Yes   \n40                         မဂျဲနီ   F 2022-07-11  ...   Yes   Yes  Yes  Yes   \n42                      မရာဇင်းတာ   F 2022-08-01  ...   Yes   Yes  Yes  Yes   \n45               မောင်ဒေးဗစ်ဂျွန်   M 2022-06-16  ...   Yes   Yes  Yes  Yes   \n52      မောင်ဂျွန်နယူးမဲစိုးနိုင်   M 2022-05-15  ...   Yes   Yes  Yes  Yes   \n53                   မောင်လောရင်း   M 2022-07-20  ...   Yes   Yes  Yes  Yes   \n57                       မဂျဲနီဦး   F 2022-08-10  ...   Yes   Yes  Yes  Yes   \n58                       မအဂ္ဂနက်   F 2022-04-25  ...   Yes   Yes  Yes  Yes   \n60             မဟာနာကယ်ရိုလှိုင်း   F 2022-09-15  ...   Yes   Yes  Yes  Yes   \n63                  မောင်ဂျိုးဇက်   M 2022-08-27  ...   Yes   Yes  Yes  Yes   \n77                      မရိုစလင်း   F 2022-04-12  ...   Yes   Yes  Yes  Yes   \n78                      မအဲလိဇဘက်   F 2022-04-23  ...   Yes   Yes  Yes  Yes   \n80                    မသဇင်မိုးဦး   F 2022-07-04  ...   Yes   Yes  Yes  Yes   \n86               မောင်အောင်ဆန်းဦး   M 2022-04-11  ...   Yes   Yes  Yes  Yes   \n91                      မရိုစလင်း   F 2022-06-03  ...   Yes   Yes  Yes  Yes   \n95                       မဆိုဖီရာ   F 2022-06-20  ...   Yes   Yes  Yes  Yes   \n96                    မဘယ်ရောနီကာ   F 2022-09-03  ...   Yes   Yes  Yes  Yes   \n102         မောင်ဂျွန်ထက်နေဇင်လတ်   M 2022-05-07  ...   Yes   Yes  Yes  Yes   \n112                  မောင်ဖိလိပို   M 2022-05-07  ...   Yes   Yes  Yes  Yes   \n114               မဂျယ်လမင်းလာ့လာ   F 2022-06-15  ...   Yes   Yes  Yes  Yes   \n115                     မောင်လုကု   M 2022-08-23  ...   Yes   Yes  Yes  Yes   \n\n    ReDB        AGE  AGE_APR15  AGE_MAY15 AGE_JUNE15 AGE_JULY15  \n2    NaN   9.766667  10.766667  11.766667  12.766667  13.766667  \n5    NaN   9.200000  10.200000  11.200000  12.200000  13.200000  \n6    NaN   9.700000  10.700000  11.700000  12.700000  13.700000  \n7    NaN  11.366667  12.366667  13.366667  14.366667  15.366667  \n8    NaN   8.766667   9.766667  10.766667  11.766667  12.766667  \n11   NaN   7.933333   8.933333   9.933333  10.933333  11.933333  \n16   NaN  10.266667  11.266667  12.266667  13.266667  14.266667  \n17   NaN  10.933333  11.933333  12.933333  13.933333  14.933333  \n24   NaN   9.933333  10.933333  11.933333  12.933333  13.933333  \n27   NaN  10.033333  11.033333  12.033333  13.033333  14.033333  \n28   NaN   6.100000   7.100000   8.100000   9.100000  10.100000  \n29   NaN  11.133333  12.133333  13.133333  14.133333  15.133333  \n30   NaN   8.433333   9.433333  10.433333  11.433333  12.433333  \n33   NaN   8.633333   9.633333  10.633333  11.633333  12.633333  \n38   NaN  11.233333  12.233333  13.233333  14.233333  15.233333  \n39   NaN   7.466667   8.466667   9.466667  10.466667  11.466667  \n40   NaN   8.233333   9.233333  10.233333  11.233333  12.233333  \n42   NaN   7.533333   8.533333   9.533333  10.533333  11.533333  \n45   NaN   9.066667  10.066667  11.066667  12.066667  13.066667  \n52   NaN  10.133333  11.133333  12.133333  13.133333  14.133333  \n53   NaN   7.933333   8.933333   9.933333  10.933333  11.933333  \n57   NaN   7.233333   8.233333   9.233333  10.233333  11.233333  \n58   NaN  10.800000  11.800000  12.800000  13.800000  14.800000  \n60   NaN   6.033333   7.033333   8.033333   9.033333  10.033333  \n63   NaN   6.666667   7.666667   8.666667   9.666667  10.666667  \n77   NaN  11.233333  12.233333  13.233333  14.233333  15.233333  \n78   NaN  10.866667  11.866667  12.866667  13.866667  14.866667  \n80   NaN   8.466667   9.466667  10.466667  11.466667  12.466667  \n86   NaN  11.266667  12.266667  13.266667  14.266667  15.266667  \n91   NaN   9.500000  10.500000  11.500000  12.500000  13.500000  \n95   NaN   8.933333   9.933333  10.933333  11.933333  12.933333  \n96   NaN   6.433333   7.433333   8.433333   9.433333  10.433333  \n102  NaN  10.400000  11.400000  12.400000  13.400000  14.400000  \n112  NaN  10.400000  11.400000  12.400000  13.400000  14.400000  \n114  NaN   9.100000  10.100000  11.100000  12.100000  13.100000  \n115  NaN   7.833333   7.833333   8.833333   9.833333  10.833333  \n\n[36 rows x 64 columns]",
      "text/html": "<div>\n<style scoped>\n    .dataframe tbody tr th:only-of-type {\n        vertical-align: middle;\n    }\n\n    .dataframe tbody tr th {\n        vertical-align: top;\n    }\n\n    .dataframe thead th {\n        text-align: right;\n    }\n</style>\n<table border=\"1\" class=\"dataframe\">\n  <thead>\n    <tr style=\"text-align: right;\">\n      <th></th>\n      <th>ReNu</th>\n      <th>Att1</th>\n      <th>Att2</th>\n      <th>Att3</th>\n      <th>Att4</th>\n      <th>Att5</th>\n      <th>PreV</th>\n      <th>Name</th>\n      <th>Sex</th>\n      <th>DoB</th>\n      <th>...</th>\n      <th>P5Po2</th>\n      <th>P5Po3</th>\n      <th>P5M1</th>\n      <th>P5M2</th>\n      <th>ReDB</th>\n      <th>AGE</th>\n      <th>AGE_APR15</th>\n      <th>AGE_MAY15</th>\n      <th>AGE_JUNE15</th>\n      <th>AGE_JULY15</th>\n    </tr>\n  </thead>\n  <tbody>\n    <tr>\n      <th>2</th>\n      <td>3</td>\n      <td>2023-03-15 00:00:00</td>\n      <td>None</td>\n      <td>None</td>\n      <td>2023-06-15 00:00:00</td>\n      <td>2023-07-15 00:00:00</td>\n      <td>No</td>\n      <td>မစုစု</td>\n      <td>F</td>\n      <td>2022-05-26</td>\n      <td>...</td>\n      <td>Yes</td>\n      <td>Yes</td>\n      <td>Yes</td>\n      <td>Yes</td>\n      <td>NaN</td>\n      <td>9.766667</td>\n      <td>10.766667</td>\n      <td>11.766667</td>\n      <td>12.766667</td>\n      <td>13.766667</td>\n    </tr>\n    <tr>\n      <th>5</th>\n      <td>6</td>\n      <td>2023-03-15 00:00:00</td>\n      <td>2023-04-15 00:00:00</td>\n      <td>2023-05-15 00:00:00</td>\n      <td>2023-06-15 00:00:00</td>\n      <td>None</td>\n      <td>No</td>\n      <td>မဖြူဖြူထွေး</td>\n      <td>F</td>\n      <td>2022-06-12</td>\n      <td>...</td>\n      <td>Yes</td>\n      <td>Yes</td>\n      <td>Yes</td>\n      <td>Yes</td>\n      <td>NaN</td>\n      <td>9.200000</td>\n      <td>10.200000</td>\n      <td>11.200000</td>\n      <td>12.200000</td>\n      <td>13.200000</td>\n    </tr>\n    <tr>\n      <th>6</th>\n      <td>7</td>\n      <td>2023-03-15 00:00:00</td>\n      <td>2023-04-15 00:00:00</td>\n      <td>2023-05-15 00:00:00</td>\n      <td>2023-06-15 00:00:00</td>\n      <td>None</td>\n      <td>No</td>\n      <td>မောင်ထွန်းမောင်</td>\n      <td>M</td>\n      <td>2022-05-28</td>\n      <td>...</td>\n      <td>Yes</td>\n      <td>Yes</td>\n      <td>Yes</td>\n      <td>Yes</td>\n      <td>NaN</td>\n      <td>9.700000</td>\n      <td>10.700000</td>\n      <td>11.700000</td>\n      <td>12.700000</td>\n      <td>13.700000</td>\n    </tr>\n    <tr>\n      <th>7</th>\n      <td>8</td>\n      <td>2023-03-15 00:00:00</td>\n      <td>2023-04-15 00:00:00</td>\n      <td>2023-05-15 00:00:00</td>\n      <td>2023-06-15 00:00:00</td>\n      <td>None</td>\n      <td>No</td>\n      <td>မောင်ခရစ္စတီယားနို</td>\n      <td>M</td>\n      <td>2022-04-08</td>\n      <td>...</td>\n      <td>Yes</td>\n      <td>Yes</td>\n      <td>Yes</td>\n      <td>Yes</td>\n      <td>NaN</td>\n      <td>11.366667</td>\n      <td>12.366667</td>\n      <td>13.366667</td>\n      <td>14.366667</td>\n      <td>15.366667</td>\n    </tr>\n    <tr>\n      <th>8</th>\n      <td>9</td>\n      <td>2023-03-15 00:00:00</td>\n      <td>2023-04-15 00:00:00</td>\n      <td>2023-05-15 00:00:00</td>\n      <td>2023-06-15 00:00:00</td>\n      <td>None</td>\n      <td>No</td>\n      <td>မောင်ရောင်နီဦး</td>\n      <td>M</td>\n      <td>2022-06-25</td>\n      <td>...</td>\n      <td>Yes</td>\n      <td>Yes</td>\n      <td>Yes</td>\n      <td>Yes</td>\n      <td>NaN</td>\n      <td>8.766667</td>\n      <td>9.766667</td>\n      <td>10.766667</td>\n      <td>11.766667</td>\n      <td>12.766667</td>\n    </tr>\n    <tr>\n      <th>11</th>\n      <td>12</td>\n      <td>2023-03-15 00:00:00</td>\n      <td>2023-04-15 00:00:00</td>\n      <td>2023-05-15 00:00:00</td>\n      <td>2023-06-15 00:00:00</td>\n      <td>None</td>\n      <td>No</td>\n      <td>မောင်ဂျိုးဇက်</td>\n      <td>M</td>\n      <td>2022-07-20</td>\n      <td>...</td>\n      <td>Yes</td>\n      <td>Yes</td>\n      <td>Yes</td>\n      <td>Yes</td>\n      <td>NaN</td>\n      <td>7.933333</td>\n      <td>8.933333</td>\n      <td>9.933333</td>\n      <td>10.933333</td>\n      <td>11.933333</td>\n    </tr>\n    <tr>\n      <th>16</th>\n      <td>17</td>\n      <td>2023-03-15 00:00:00</td>\n      <td>2023-04-15 00:00:00</td>\n      <td>2023-05-15 00:00:00</td>\n      <td>2023-06-15 00:00:00</td>\n      <td>None</td>\n      <td>No</td>\n      <td>မမေရီဦး</td>\n      <td>F</td>\n      <td>2022-05-11</td>\n      <td>...</td>\n      <td>Yes</td>\n      <td>Yes</td>\n      <td>Yes</td>\n      <td>Yes</td>\n      <td>NaN</td>\n      <td>10.266667</td>\n      <td>11.266667</td>\n      <td>12.266667</td>\n      <td>13.266667</td>\n      <td>14.266667</td>\n    </tr>\n    <tr>\n      <th>17</th>\n      <td>18</td>\n      <td>2023-03-15 00:00:00</td>\n      <td>2023-04-15 00:00:00</td>\n      <td>2023-05-15 00:00:00</td>\n      <td>2023-06-15 00:00:00</td>\n      <td>None</td>\n      <td>No</td>\n      <td>မအက်စတာမိုး</td>\n      <td>F</td>\n      <td>2022-04-21</td>\n      <td>...</td>\n      <td>Yes</td>\n      <td>Yes</td>\n      <td>Yes</td>\n      <td>Yes</td>\n      <td>NaN</td>\n      <td>10.933333</td>\n      <td>11.933333</td>\n      <td>12.933333</td>\n      <td>13.933333</td>\n      <td>14.933333</td>\n    </tr>\n    <tr>\n      <th>24</th>\n      <td>25</td>\n      <td>2023-03-15 00:00:00</td>\n      <td>2023-04-15 00:00:00</td>\n      <td>2023-05-15 00:00:00</td>\n      <td>2023-06-15 00:00:00</td>\n      <td>None</td>\n      <td>No</td>\n      <td>မထရေးဇာ</td>\n      <td>F</td>\n      <td>2022-05-21</td>\n      <td>...</td>\n      <td>Yes</td>\n      <td>Yes</td>\n      <td>Yes</td>\n      <td>Yes</td>\n      <td>NaN</td>\n      <td>9.933333</td>\n      <td>10.933333</td>\n      <td>11.933333</td>\n      <td>12.933333</td>\n      <td>13.933333</td>\n    </tr>\n    <tr>\n      <th>27</th>\n      <td>28</td>\n      <td>2023-03-15 00:00:00</td>\n      <td>2023-04-15 00:00:00</td>\n      <td>2023-05-15 00:00:00</td>\n      <td>2023-06-15 00:00:00</td>\n      <td>None</td>\n      <td>No</td>\n      <td>မောင်ဂျူးနီယို</td>\n      <td>M</td>\n      <td>2022-05-18</td>\n      <td>...</td>\n      <td>Yes</td>\n      <td>Yes</td>\n      <td>Yes</td>\n      <td>Yes</td>\n      <td>NaN</td>\n      <td>10.033333</td>\n      <td>11.033333</td>\n      <td>12.033333</td>\n      <td>13.033333</td>\n      <td>14.033333</td>\n    </tr>\n    <tr>\n      <th>28</th>\n      <td>29</td>\n      <td>2023-03-15 00:00:00</td>\n      <td>2023-04-15 00:00:00</td>\n      <td>2023-05-15 00:00:00</td>\n      <td>2023-06-15 00:00:00</td>\n      <td>2023-07-15 00:00:00</td>\n      <td>No</td>\n      <td>မောင်ခရစ္စတိုစတုန်း</td>\n      <td>M</td>\n      <td>2022-09-13</td>\n      <td>...</td>\n      <td>Yes</td>\n      <td>Yes</td>\n      <td>Yes</td>\n      <td>Yes</td>\n      <td>NaN</td>\n      <td>6.100000</td>\n      <td>7.100000</td>\n      <td>8.100000</td>\n      <td>9.100000</td>\n      <td>10.100000</td>\n    </tr>\n    <tr>\n      <th>29</th>\n      <td>30</td>\n      <td>2023-03-15 00:00:00</td>\n      <td>2023-04-15 00:00:00</td>\n      <td>2023-05-15 00:00:00</td>\n      <td>2023-06-15 00:00:00</td>\n      <td>None</td>\n      <td>No</td>\n      <td>မောင်ဂျက်စတင်း</td>\n      <td>M</td>\n      <td>2022-04-15</td>\n      <td>...</td>\n      <td>Yes</td>\n      <td>Yes</td>\n      <td>Yes</td>\n      <td>Yes</td>\n      <td>NaN</td>\n      <td>11.133333</td>\n      <td>12.133333</td>\n      <td>13.133333</td>\n      <td>14.133333</td>\n      <td>15.133333</td>\n    </tr>\n    <tr>\n      <th>30</th>\n      <td>31</td>\n      <td>2023-03-15 00:00:00</td>\n      <td>2023-04-15 00:00:00</td>\n      <td>2023-05-15 00:00:00</td>\n      <td>2023-06-15 00:00:00</td>\n      <td>None</td>\n      <td>No</td>\n      <td>မောင်ရိုမားနိုပေါအီ</td>\n      <td>M</td>\n      <td>2022-07-05</td>\n      <td>...</td>\n      <td>Yes</td>\n      <td>Yes</td>\n      <td>Yes</td>\n      <td>Yes</td>\n      <td>NaN</td>\n      <td>8.433333</td>\n      <td>9.433333</td>\n      <td>10.433333</td>\n      <td>11.433333</td>\n      <td>12.433333</td>\n    </tr>\n    <tr>\n      <th>33</th>\n      <td>34</td>\n      <td>2023-03-15 00:00:00</td>\n      <td>2023-04-15 00:00:00</td>\n      <td>2023-05-15 00:00:00</td>\n      <td>2023-06-15 00:00:00</td>\n      <td>None</td>\n      <td>No</td>\n      <td>မောင်ခရစ်အောင်ဘုန်းမြတ်ကျော်</td>\n      <td>M</td>\n      <td>2022-06-29</td>\n      <td>...</td>\n      <td>Yes</td>\n      <td>Yes</td>\n      <td>Yes</td>\n      <td>Yes</td>\n      <td>NaN</td>\n      <td>8.633333</td>\n      <td>9.633333</td>\n      <td>10.633333</td>\n      <td>11.633333</td>\n      <td>12.633333</td>\n    </tr>\n    <tr>\n      <th>38</th>\n      <td>39</td>\n      <td>2023-03-15 00:00:00</td>\n      <td>2023-04-15 00:00:00</td>\n      <td>2023-05-15 00:00:00</td>\n      <td>2023-06-15 00:00:00</td>\n      <td>None</td>\n      <td>No</td>\n      <td>မအက်စတာဖြိုး</td>\n      <td>F</td>\n      <td>2022-04-12</td>\n      <td>...</td>\n      <td>Yes</td>\n      <td>Yes</td>\n      <td>Yes</td>\n      <td>Yes</td>\n      <td>NaN</td>\n      <td>11.233333</td>\n      <td>12.233333</td>\n      <td>13.233333</td>\n      <td>14.233333</td>\n      <td>15.233333</td>\n    </tr>\n    <tr>\n      <th>39</th>\n      <td>40</td>\n      <td>2023-03-15 00:00:00</td>\n      <td>2023-04-15 00:00:00</td>\n      <td>2023-05-15 00:00:00</td>\n      <td>2023-06-15 00:00:00</td>\n      <td>None</td>\n      <td>No</td>\n      <td>မဂျူးလိယက်</td>\n      <td>F</td>\n      <td>2022-08-03</td>\n      <td>...</td>\n      <td>Yes</td>\n      <td>Yes</td>\n      <td>Yes</td>\n      <td>Yes</td>\n      <td>NaN</td>\n      <td>7.466667</td>\n      <td>8.466667</td>\n      <td>9.466667</td>\n      <td>10.466667</td>\n      <td>11.466667</td>\n    </tr>\n    <tr>\n      <th>40</th>\n      <td>41</td>\n      <td>2023-03-15 00:00:00</td>\n      <td>2023-04-15 00:00:00</td>\n      <td>2023-05-15 00:00:00</td>\n      <td>2023-06-15 00:00:00</td>\n      <td>None</td>\n      <td>No</td>\n      <td>မဂျဲနီ</td>\n      <td>F</td>\n      <td>2022-07-11</td>\n      <td>...</td>\n      <td>Yes</td>\n      <td>Yes</td>\n      <td>Yes</td>\n      <td>Yes</td>\n      <td>NaN</td>\n      <td>8.233333</td>\n      <td>9.233333</td>\n      <td>10.233333</td>\n      <td>11.233333</td>\n      <td>12.233333</td>\n    </tr>\n    <tr>\n      <th>42</th>\n      <td>43</td>\n      <td>2023-03-15 00:00:00</td>\n      <td>2023-04-15 00:00:00</td>\n      <td>2023-05-15 00:00:00</td>\n      <td>2023-06-15 00:00:00</td>\n      <td>None</td>\n      <td>No</td>\n      <td>မရာဇင်းတာ</td>\n      <td>F</td>\n      <td>2022-08-01</td>\n      <td>...</td>\n      <td>Yes</td>\n      <td>Yes</td>\n      <td>Yes</td>\n      <td>Yes</td>\n      <td>NaN</td>\n      <td>7.533333</td>\n      <td>8.533333</td>\n      <td>9.533333</td>\n      <td>10.533333</td>\n      <td>11.533333</td>\n    </tr>\n    <tr>\n      <th>45</th>\n      <td>46</td>\n      <td>2023-03-15 00:00:00</td>\n      <td>2023-04-15 00:00:00</td>\n      <td>2023-05-15 00:00:00</td>\n      <td>2023-06-15 00:00:00</td>\n      <td>None</td>\n      <td>No</td>\n      <td>မောင်ဒေးဗစ်ဂျွန်</td>\n      <td>M</td>\n      <td>2022-06-16</td>\n      <td>...</td>\n      <td>Yes</td>\n      <td>Yes</td>\n      <td>Yes</td>\n      <td>Yes</td>\n      <td>NaN</td>\n      <td>9.066667</td>\n      <td>10.066667</td>\n      <td>11.066667</td>\n      <td>12.066667</td>\n      <td>13.066667</td>\n    </tr>\n    <tr>\n      <th>52</th>\n      <td>53</td>\n      <td>2023-03-15 00:00:00</td>\n      <td>2023-04-15 00:00:00</td>\n      <td>2023-05-15 00:00:00</td>\n      <td>2023-06-15 00:00:00</td>\n      <td>2023-07-15 00:00:00</td>\n      <td>No</td>\n      <td>မောင်ဂျွန်နယူးမဲစိုးနိုင်</td>\n      <td>M</td>\n      <td>2022-05-15</td>\n      <td>...</td>\n      <td>Yes</td>\n      <td>Yes</td>\n      <td>Yes</td>\n      <td>Yes</td>\n      <td>NaN</td>\n      <td>10.133333</td>\n      <td>11.133333</td>\n      <td>12.133333</td>\n      <td>13.133333</td>\n      <td>14.133333</td>\n    </tr>\n    <tr>\n      <th>53</th>\n      <td>54</td>\n      <td>2023-03-15 00:00:00</td>\n      <td>2023-04-15 00:00:00</td>\n      <td>2023-05-15 00:00:00</td>\n      <td>2023-06-15 00:00:00</td>\n      <td>None</td>\n      <td>No</td>\n      <td>မောင်လောရင်း</td>\n      <td>M</td>\n      <td>2022-07-20</td>\n      <td>...</td>\n      <td>Yes</td>\n      <td>Yes</td>\n      <td>Yes</td>\n      <td>Yes</td>\n      <td>NaN</td>\n      <td>7.933333</td>\n      <td>8.933333</td>\n      <td>9.933333</td>\n      <td>10.933333</td>\n      <td>11.933333</td>\n    </tr>\n    <tr>\n      <th>57</th>\n      <td>58</td>\n      <td>2023-03-15 00:00:00</td>\n      <td>2023-04-15 00:00:00</td>\n      <td>2023-05-15 00:00:00</td>\n      <td>2023-06-15 00:00:00</td>\n      <td>None</td>\n      <td>No</td>\n      <td>မဂျဲနီဦး</td>\n      <td>F</td>\n      <td>2022-08-10</td>\n      <td>...</td>\n      <td>Yes</td>\n      <td>Yes</td>\n      <td>Yes</td>\n      <td>Yes</td>\n      <td>NaN</td>\n      <td>7.233333</td>\n      <td>8.233333</td>\n      <td>9.233333</td>\n      <td>10.233333</td>\n      <td>11.233333</td>\n    </tr>\n    <tr>\n      <th>58</th>\n      <td>59</td>\n      <td>2023-03-15 00:00:00</td>\n      <td>2023-04-15 00:00:00</td>\n      <td>2023-05-15 00:00:00</td>\n      <td>2023-06-15 00:00:00</td>\n      <td>None</td>\n      <td>No</td>\n      <td>မအဂ္ဂနက်</td>\n      <td>F</td>\n      <td>2022-04-25</td>\n      <td>...</td>\n      <td>Yes</td>\n      <td>Yes</td>\n      <td>Yes</td>\n      <td>Yes</td>\n      <td>NaN</td>\n      <td>10.800000</td>\n      <td>11.800000</td>\n      <td>12.800000</td>\n      <td>13.800000</td>\n      <td>14.800000</td>\n    </tr>\n    <tr>\n      <th>60</th>\n      <td>61</td>\n      <td>2023-03-15 00:00:00</td>\n      <td>2023-04-15 00:00:00</td>\n      <td>2023-05-15 00:00:00</td>\n      <td>2023-06-15 00:00:00</td>\n      <td>2023-07-15 00:00:00</td>\n      <td>No</td>\n      <td>မဟာနာကယ်ရိုလှိုင်း</td>\n      <td>F</td>\n      <td>2022-09-15</td>\n      <td>...</td>\n      <td>Yes</td>\n      <td>Yes</td>\n      <td>Yes</td>\n      <td>Yes</td>\n      <td>NaN</td>\n      <td>6.033333</td>\n      <td>7.033333</td>\n      <td>8.033333</td>\n      <td>9.033333</td>\n      <td>10.033333</td>\n    </tr>\n    <tr>\n      <th>63</th>\n      <td>64</td>\n      <td>2023-03-15 00:00:00</td>\n      <td>2023-04-15 00:00:00</td>\n      <td>2023-05-15 00:00:00</td>\n      <td>2023-06-15 00:00:00</td>\n      <td>2023-07-15 00:00:00</td>\n      <td>No</td>\n      <td>မောင်ဂျိုးဇက်</td>\n      <td>M</td>\n      <td>2022-08-27</td>\n      <td>...</td>\n      <td>Yes</td>\n      <td>Yes</td>\n      <td>Yes</td>\n      <td>Yes</td>\n      <td>NaN</td>\n      <td>6.666667</td>\n      <td>7.666667</td>\n      <td>8.666667</td>\n      <td>9.666667</td>\n      <td>10.666667</td>\n    </tr>\n    <tr>\n      <th>77</th>\n      <td>78</td>\n      <td>2023-03-15 00:00:00</td>\n      <td>2023-04-15 00:00:00</td>\n      <td>2023-05-15 00:00:00</td>\n      <td>2023-06-15 00:00:00</td>\n      <td>None</td>\n      <td>No</td>\n      <td>မရိုစလင်း</td>\n      <td>F</td>\n      <td>2022-04-12</td>\n      <td>...</td>\n      <td>Yes</td>\n      <td>Yes</td>\n      <td>Yes</td>\n      <td>Yes</td>\n      <td>NaN</td>\n      <td>11.233333</td>\n      <td>12.233333</td>\n      <td>13.233333</td>\n      <td>14.233333</td>\n      <td>15.233333</td>\n    </tr>\n    <tr>\n      <th>78</th>\n      <td>79</td>\n      <td>2023-03-15 00:00:00</td>\n      <td>2023-04-15 00:00:00</td>\n      <td>2023-05-15 00:00:00</td>\n      <td>2023-06-15 00:00:00</td>\n      <td>None</td>\n      <td>No</td>\n      <td>မအဲလိဇဘက်</td>\n      <td>F</td>\n      <td>2022-04-23</td>\n      <td>...</td>\n      <td>Yes</td>\n      <td>Yes</td>\n      <td>Yes</td>\n      <td>Yes</td>\n      <td>NaN</td>\n      <td>10.866667</td>\n      <td>11.866667</td>\n      <td>12.866667</td>\n      <td>13.866667</td>\n      <td>14.866667</td>\n    </tr>\n    <tr>\n      <th>80</th>\n      <td>81</td>\n      <td>2023-03-15 00:00:00</td>\n      <td>2023-04-15 00:00:00</td>\n      <td>2023-05-15 00:00:00</td>\n      <td>2023-06-15 00:00:00</td>\n      <td>None</td>\n      <td>No</td>\n      <td>မသဇင်မိုးဦး</td>\n      <td>F</td>\n      <td>2022-07-04</td>\n      <td>...</td>\n      <td>Yes</td>\n      <td>Yes</td>\n      <td>Yes</td>\n      <td>Yes</td>\n      <td>NaN</td>\n      <td>8.466667</td>\n      <td>9.466667</td>\n      <td>10.466667</td>\n      <td>11.466667</td>\n      <td>12.466667</td>\n    </tr>\n    <tr>\n      <th>86</th>\n      <td>87</td>\n      <td>2023-03-15 00:00:00</td>\n      <td>2023-04-15 00:00:00</td>\n      <td>2023-05-15 00:00:00</td>\n      <td>2023-06-15 00:00:00</td>\n      <td>None</td>\n      <td>No</td>\n      <td>မောင်အောင်ဆန်းဦး</td>\n      <td>M</td>\n      <td>2022-04-11</td>\n      <td>...</td>\n      <td>Yes</td>\n      <td>Yes</td>\n      <td>Yes</td>\n      <td>Yes</td>\n      <td>NaN</td>\n      <td>11.266667</td>\n      <td>12.266667</td>\n      <td>13.266667</td>\n      <td>14.266667</td>\n      <td>15.266667</td>\n    </tr>\n    <tr>\n      <th>91</th>\n      <td>92</td>\n      <td>2023-03-15 00:00:00</td>\n      <td>2023-04-15 00:00:00</td>\n      <td>2023-05-15 00:00:00</td>\n      <td>2023-06-15 00:00:00</td>\n      <td>None</td>\n      <td>No</td>\n      <td>မရိုစလင်း</td>\n      <td>F</td>\n      <td>2022-06-03</td>\n      <td>...</td>\n      <td>Yes</td>\n      <td>Yes</td>\n      <td>Yes</td>\n      <td>Yes</td>\n      <td>NaN</td>\n      <td>9.500000</td>\n      <td>10.500000</td>\n      <td>11.500000</td>\n      <td>12.500000</td>\n      <td>13.500000</td>\n    </tr>\n    <tr>\n      <th>95</th>\n      <td>96</td>\n      <td>2023-03-15 00:00:00</td>\n      <td>2023-04-15 00:00:00</td>\n      <td>2023-05-15 00:00:00</td>\n      <td>2023-06-15 00:00:00</td>\n      <td>None</td>\n      <td>No</td>\n      <td>မဆိုဖီရာ</td>\n      <td>F</td>\n      <td>2022-06-20</td>\n      <td>...</td>\n      <td>Yes</td>\n      <td>Yes</td>\n      <td>Yes</td>\n      <td>Yes</td>\n      <td>NaN</td>\n      <td>8.933333</td>\n      <td>9.933333</td>\n      <td>10.933333</td>\n      <td>11.933333</td>\n      <td>12.933333</td>\n    </tr>\n    <tr>\n      <th>96</th>\n      <td>97</td>\n      <td>2023-03-15 00:00:00</td>\n      <td>2023-04-15 00:00:00</td>\n      <td>2023-05-15 00:00:00</td>\n      <td>2023-06-15 00:00:00</td>\n      <td>2023-07-15 00:00:00</td>\n      <td>No</td>\n      <td>မဘယ်ရောနီကာ</td>\n      <td>F</td>\n      <td>2022-09-03</td>\n      <td>...</td>\n      <td>Yes</td>\n      <td>Yes</td>\n      <td>Yes</td>\n      <td>Yes</td>\n      <td>NaN</td>\n      <td>6.433333</td>\n      <td>7.433333</td>\n      <td>8.433333</td>\n      <td>9.433333</td>\n      <td>10.433333</td>\n    </tr>\n    <tr>\n      <th>102</th>\n      <td>103</td>\n      <td>2023-03-15 00:00:00</td>\n      <td>2023-04-15 00:00:00</td>\n      <td>2023-05-15 00:00:00</td>\n      <td>2023-06-15 00:00:00</td>\n      <td>None</td>\n      <td>No</td>\n      <td>မောင်ဂျွန်ထက်နေဇင်လတ်</td>\n      <td>M</td>\n      <td>2022-05-07</td>\n      <td>...</td>\n      <td>Yes</td>\n      <td>Yes</td>\n      <td>Yes</td>\n      <td>Yes</td>\n      <td>NaN</td>\n      <td>10.400000</td>\n      <td>11.400000</td>\n      <td>12.400000</td>\n      <td>13.400000</td>\n      <td>14.400000</td>\n    </tr>\n    <tr>\n      <th>112</th>\n      <td>113</td>\n      <td>2023-03-15 00:00:00</td>\n      <td>2023-04-15 00:00:00</td>\n      <td>2023-05-15 00:00:00</td>\n      <td>2023-06-15 00:00:00</td>\n      <td>None</td>\n      <td>No</td>\n      <td>မောင်ဖိလိပို</td>\n      <td>M</td>\n      <td>2022-05-07</td>\n      <td>...</td>\n      <td>Yes</td>\n      <td>Yes</td>\n      <td>Yes</td>\n      <td>Yes</td>\n      <td>NaN</td>\n      <td>10.400000</td>\n      <td>11.400000</td>\n      <td>12.400000</td>\n      <td>13.400000</td>\n      <td>14.400000</td>\n    </tr>\n    <tr>\n      <th>114</th>\n      <td>115</td>\n      <td>2023-03-15 00:00:00</td>\n      <td>2023-04-15 00:00:00</td>\n      <td>2023-05-15 00:00:00</td>\n      <td>2023-06-15 00:00:00</td>\n      <td>None</td>\n      <td>No</td>\n      <td>မဂျယ်လမင်းလာ့လာ</td>\n      <td>F</td>\n      <td>2022-06-15</td>\n      <td>...</td>\n      <td>Yes</td>\n      <td>Yes</td>\n      <td>Yes</td>\n      <td>Yes</td>\n      <td>NaN</td>\n      <td>9.100000</td>\n      <td>10.100000</td>\n      <td>11.100000</td>\n      <td>12.100000</td>\n      <td>13.100000</td>\n    </tr>\n    <tr>\n      <th>115</th>\n      <td>116</td>\n      <td>None</td>\n      <td>2023-04-15 00:00:00</td>\n      <td>2023-05-15 00:00:00</td>\n      <td>2023-06-15 00:00:00</td>\n      <td>2023-07-15 00:00:00</td>\n      <td>No</td>\n      <td>မောင်လုကု</td>\n      <td>M</td>\n      <td>2022-08-23</td>\n      <td>...</td>\n      <td>Yes</td>\n      <td>Yes</td>\n      <td>Yes</td>\n      <td>Yes</td>\n      <td>NaN</td>\n      <td>7.833333</td>\n      <td>7.833333</td>\n      <td>8.833333</td>\n      <td>9.833333</td>\n      <td>10.833333</td>\n    </tr>\n  </tbody>\n</table>\n<p>36 rows × 64 columns</p>\n</div>"
     },
     "execution_count": 21,
     "metadata": {},
     "output_type": "execute_result"
    }
   ],
   "source": [
    "elg = df.loc[(df['PreV']=='No')&(df['AGE_MAY15']>=2)&(df['AGE']<=12)&(df['AGE_JUNE15']>=9),:] # eligible for BCG, Penta, OPV, MMR\n",
    "elg.loc[(elg['UTD']=='Yes')&(elg['P5M2']=='Yes')&(elg['P5BC']=='Yes'),:] # how many UTD for all four"
   ],
   "metadata": {
    "collapsed": false,
    "ExecuteTime": {
     "end_time": "2023-08-25T15:43:42.879783Z",
     "start_time": "2023-08-25T15:43:42.822079Z"
    }
   }
  },
  {
   "cell_type": "code",
   "execution_count": 56,
   "outputs": [
    {
     "name": "stdout",
     "output_type": "stream",
     "text": [
      "31\n"
     ]
    },
    {
     "data": {
      "text/plain": "    ReNu                 Att1                 Att2                 Att3  \\\n4      5  2023-03-15 00:00:00  2023-04-15 00:00:00  2023-05-15 00:00:00   \n6      7  2023-03-15 00:00:00  2023-04-15 00:00:00  2023-05-15 00:00:00   \n7      8  2023-03-15 00:00:00  2023-04-15 00:00:00  2023-05-15 00:00:00   \n8      9  2023-03-15 00:00:00  2023-04-15 00:00:00  2023-05-15 00:00:00   \n11    12  2023-03-15 00:00:00  2023-04-15 00:00:00  2023-05-15 00:00:00   \n27    28  2023-03-15 00:00:00  2023-04-15 00:00:00  2023-05-15 00:00:00   \n28    29  2023-03-15 00:00:00  2023-04-15 00:00:00  2023-05-15 00:00:00   \n29    30  2023-03-15 00:00:00  2023-04-15 00:00:00  2023-05-15 00:00:00   \n30    31  2023-03-15 00:00:00  2023-04-15 00:00:00  2023-05-15 00:00:00   \n31    32  2023-03-15 00:00:00  2023-04-15 00:00:00                 None   \n33    34  2023-03-15 00:00:00  2023-04-15 00:00:00  2023-05-15 00:00:00   \n41    42  2023-03-15 00:00:00  2023-04-15 00:00:00  2023-05-15 00:00:00   \n45    46  2023-03-15 00:00:00  2023-04-15 00:00:00  2023-05-15 00:00:00   \n50    51  2023-03-15 00:00:00                 None                 None   \n52    53  2023-03-15 00:00:00  2023-04-15 00:00:00  2023-05-15 00:00:00   \n53    54  2023-03-15 00:00:00  2023-04-15 00:00:00  2023-05-15 00:00:00   \n61    62  2023-03-15 00:00:00                 None                 None   \n63    64  2023-03-15 00:00:00  2023-04-15 00:00:00  2023-05-15 00:00:00   \n66    67  2023-03-15 00:00:00  2023-04-15 00:00:00  2023-05-15 00:00:00   \n74    75  2023-03-15 00:00:00  2023-04-15 00:00:00                 None   \n86    87  2023-03-15 00:00:00  2023-04-15 00:00:00  2023-05-15 00:00:00   \n102  103  2023-03-15 00:00:00  2023-04-15 00:00:00  2023-05-15 00:00:00   \n112  113  2023-03-15 00:00:00  2023-04-15 00:00:00  2023-05-15 00:00:00   \n115  116                 None  2023-04-15 00:00:00  2023-05-15 00:00:00   \n136  137                 None                 None  2023-05-15 00:00:00   \n158  159                 None                 None                 None   \n161  162                 None                 None                 None   \n\n                    Att4                 Att5 PreV  \\\n4    2023-06-15 00:00:00                 None   No   \n6    2023-06-15 00:00:00                 None   No   \n7    2023-06-15 00:00:00                 None   No   \n8    2023-06-15 00:00:00                 None   No   \n11   2023-06-15 00:00:00                 None   No   \n27   2023-06-15 00:00:00                 None   No   \n28   2023-06-15 00:00:00  2023-07-15 00:00:00   No   \n29   2023-06-15 00:00:00                 None   No   \n30   2023-06-15 00:00:00                 None   No   \n31                  None  2023-07-15 00:00:00   No   \n33   2023-06-15 00:00:00                 None   No   \n41   2023-06-15 00:00:00                 None   No   \n45   2023-06-15 00:00:00                 None   No   \n50   2023-06-15 00:00:00                 None   No   \n52   2023-06-15 00:00:00  2023-07-15 00:00:00   No   \n53   2023-06-15 00:00:00                 None   No   \n61                  None                 None   No   \n63   2023-06-15 00:00:00  2023-07-15 00:00:00   No   \n66   2023-06-15 00:00:00                 None   No   \n74                  None                 None   No   \n86   2023-06-15 00:00:00                 None   No   \n102  2023-06-15 00:00:00                 None   No   \n112  2023-06-15 00:00:00                 None   No   \n115  2023-06-15 00:00:00  2023-07-15 00:00:00   No   \n136  2023-06-15 00:00:00  2023-07-15 00:00:00   No   \n158  2023-06-15 00:00:00  2023-07-15 00:00:00   No   \n161  2023-06-15 00:00:00  2023-07-15 00:00:00   No   \n\n                             Name Sex        DoB  ... P5Po2 P5Po3 P5M1 P5M2  \\\n4                  မောင်ဂျက်စတင်း   M 2022-06-07  ...   Yes   Yes  Yes  Yes   \n6                 မောင်ထွန်းမောင်   M 2022-05-28  ...   Yes   Yes  Yes  Yes   \n7              မောင်ခရစ္စတီယားနို   M 2022-04-08  ...   Yes   Yes  Yes  Yes   \n8                  မောင်ရောင်နီဦး   M 2022-06-25  ...   Yes   Yes  Yes  Yes   \n11                  မောင်ဂျိုးဇက်   M 2022-07-20  ...   Yes   Yes  Yes  Yes   \n27                 မောင်ဂျူးနီယို   M 2022-05-18  ...   Yes   Yes  Yes  Yes   \n28            မောင်ခရစ္စတိုစတုန်း   M 2022-09-13  ...   Yes   Yes  Yes  Yes   \n29                 မောင်ဂျက်စတင်း   M 2022-04-15  ...   Yes   Yes  Yes  Yes   \n30            မောင်ရိုမားနိုပေါအီ   M 2022-07-05  ...   Yes   Yes  Yes  Yes   \n31               မောင်သြဂုတ်စတင်း   M 2022-08-01  ...   Yes    No  Yes  Yes   \n33   မောင်ခရစ်အောင်ဘုန်းမြတ်ကျော်   M 2022-06-29  ...   Yes   Yes  Yes  Yes   \n41                    မောင်ယောဟန်   M 2022-05-15  ...   Yes    No  Yes  Yes   \n45               မောင်ဒေးဗစ်ဂျွန်   M 2022-06-16  ...   Yes   Yes  Yes  Yes   \n50               မောင်အလက်ဇန္ဒြား   M 2022-03-28  ...   Yes    No  Yes  Yes   \n52      မောင်ဂျွန်နယူးမဲစိုးနိုင်   M 2022-05-15  ...   Yes   Yes  Yes  Yes   \n53                   မောင်လောရင်း   M 2022-07-20  ...   Yes   Yes  Yes  Yes   \n61                မောင်ကာစီမီးရို   M 2022-03-04  ...    No    No  Yes  Yes   \n63                  မောင်ဂျိုးဇက်   M 2022-08-27  ...   Yes   Yes  Yes  Yes   \n66                    မောင်ဒေးဖို   M 2022-04-27  ...   Yes    No  Yes  Yes   \n74                မောင်ခရစ္စတိုဖာ   M 2022-05-01  ...    No    No  Yes  Yes   \n86               မောင်အောင်ဆန်းဦး   M 2022-04-11  ...   Yes   Yes  Yes  Yes   \n102         မောင်ဂျွန်ထက်နေဇင်လတ်   M 2022-05-07  ...   Yes   Yes  Yes  Yes   \n112                  မောင်ဖိလိပို   M 2022-05-07  ...   Yes   Yes  Yes  Yes   \n115                     မောင်လုကု   M 2022-08-23  ...   Yes   Yes  Yes  Yes   \n136              မောင်အလွိုက်ရှက်   M 2021-11-11  ...   Yes   Yes  Yes  Yes   \n158                မောင်ဂျက်စတင်း   M 2022-08-03  ...   Yes    No  Yes  Yes   \n161              မောင်ယူဆေးဗီးယား   M 2022-03-16  ...   Yes    No  Yes  Yes   \n\n    ReDB        AGE  AGE_APR15  AGE_MAY15 AGE_JUNE15 AGE_JULY15  \n4    NaN   9.366667  10.366667  11.366667  12.366667  13.366667  \n6    NaN   9.700000  10.700000  11.700000  12.700000  13.700000  \n7    NaN  11.366667  12.366667  13.366667  14.366667  15.366667  \n8    NaN   8.766667   9.766667  10.766667  11.766667  12.766667  \n11   NaN   7.933333   8.933333   9.933333  10.933333  11.933333  \n27   NaN  10.033333  11.033333  12.033333  13.033333  14.033333  \n28   NaN   6.100000   7.100000   8.100000   9.100000  10.100000  \n29   NaN  11.133333  12.133333  13.133333  14.133333  15.133333  \n30   NaN   8.433333   9.433333  10.433333  11.433333  12.433333  \n31   NaN   7.533333   8.533333   9.533333  10.533333  11.533333  \n33   NaN   8.633333   9.633333  10.633333  11.633333  12.633333  \n41   NaN  10.133333  11.133333  12.133333  13.133333  14.133333  \n45   NaN   9.066667  10.066667  11.066667  12.066667  13.066667  \n50   NaN  11.733333  12.733333  13.733333  14.733333  15.733333  \n52   NaN  10.133333  11.133333  12.133333  13.133333  14.133333  \n53   NaN   7.933333   8.933333   9.933333  10.933333  11.933333  \n61   NaN  12.533333  13.533333  14.533333  15.533333  16.533333  \n63   NaN   6.666667   7.666667   8.666667   9.666667  10.666667  \n66   NaN  10.733333  11.733333  12.733333  13.733333  14.733333  \n74   NaN  10.600000  11.600000  12.600000  13.600000  14.600000  \n86   NaN  11.266667  12.266667  13.266667  14.266667  15.266667  \n102  NaN  10.400000  11.400000  12.400000  13.400000  14.400000  \n112  NaN  10.400000  11.400000  12.400000  13.400000  14.400000  \n115  NaN   7.833333   7.833333   8.833333   9.833333  10.833333  \n136  NaN  18.333333  17.333333  18.333333  19.333333  20.333333  \n158  NaN  10.533333   8.533333   9.533333  10.533333  11.533333  \n161  NaN  15.200000  13.200000  14.200000  15.200000  16.200000  \n\n[27 rows x 64 columns]",
      "text/html": "<div>\n<style scoped>\n    .dataframe tbody tr th:only-of-type {\n        vertical-align: middle;\n    }\n\n    .dataframe tbody tr th {\n        vertical-align: top;\n    }\n\n    .dataframe thead th {\n        text-align: right;\n    }\n</style>\n<table border=\"1\" class=\"dataframe\">\n  <thead>\n    <tr style=\"text-align: right;\">\n      <th></th>\n      <th>ReNu</th>\n      <th>Att1</th>\n      <th>Att2</th>\n      <th>Att3</th>\n      <th>Att4</th>\n      <th>Att5</th>\n      <th>PreV</th>\n      <th>Name</th>\n      <th>Sex</th>\n      <th>DoB</th>\n      <th>...</th>\n      <th>P5Po2</th>\n      <th>P5Po3</th>\n      <th>P5M1</th>\n      <th>P5M2</th>\n      <th>ReDB</th>\n      <th>AGE</th>\n      <th>AGE_APR15</th>\n      <th>AGE_MAY15</th>\n      <th>AGE_JUNE15</th>\n      <th>AGE_JULY15</th>\n    </tr>\n  </thead>\n  <tbody>\n    <tr>\n      <th>4</th>\n      <td>5</td>\n      <td>2023-03-15 00:00:00</td>\n      <td>2023-04-15 00:00:00</td>\n      <td>2023-05-15 00:00:00</td>\n      <td>2023-06-15 00:00:00</td>\n      <td>None</td>\n      <td>No</td>\n      <td>မောင်ဂျက်စတင်း</td>\n      <td>M</td>\n      <td>2022-06-07</td>\n      <td>...</td>\n      <td>Yes</td>\n      <td>Yes</td>\n      <td>Yes</td>\n      <td>Yes</td>\n      <td>NaN</td>\n      <td>9.366667</td>\n      <td>10.366667</td>\n      <td>11.366667</td>\n      <td>12.366667</td>\n      <td>13.366667</td>\n    </tr>\n    <tr>\n      <th>6</th>\n      <td>7</td>\n      <td>2023-03-15 00:00:00</td>\n      <td>2023-04-15 00:00:00</td>\n      <td>2023-05-15 00:00:00</td>\n      <td>2023-06-15 00:00:00</td>\n      <td>None</td>\n      <td>No</td>\n      <td>မောင်ထွန်းမောင်</td>\n      <td>M</td>\n      <td>2022-05-28</td>\n      <td>...</td>\n      <td>Yes</td>\n      <td>Yes</td>\n      <td>Yes</td>\n      <td>Yes</td>\n      <td>NaN</td>\n      <td>9.700000</td>\n      <td>10.700000</td>\n      <td>11.700000</td>\n      <td>12.700000</td>\n      <td>13.700000</td>\n    </tr>\n    <tr>\n      <th>7</th>\n      <td>8</td>\n      <td>2023-03-15 00:00:00</td>\n      <td>2023-04-15 00:00:00</td>\n      <td>2023-05-15 00:00:00</td>\n      <td>2023-06-15 00:00:00</td>\n      <td>None</td>\n      <td>No</td>\n      <td>မောင်ခရစ္စတီယားနို</td>\n      <td>M</td>\n      <td>2022-04-08</td>\n      <td>...</td>\n      <td>Yes</td>\n      <td>Yes</td>\n      <td>Yes</td>\n      <td>Yes</td>\n      <td>NaN</td>\n      <td>11.366667</td>\n      <td>12.366667</td>\n      <td>13.366667</td>\n      <td>14.366667</td>\n      <td>15.366667</td>\n    </tr>\n    <tr>\n      <th>8</th>\n      <td>9</td>\n      <td>2023-03-15 00:00:00</td>\n      <td>2023-04-15 00:00:00</td>\n      <td>2023-05-15 00:00:00</td>\n      <td>2023-06-15 00:00:00</td>\n      <td>None</td>\n      <td>No</td>\n      <td>မောင်ရောင်နီဦး</td>\n      <td>M</td>\n      <td>2022-06-25</td>\n      <td>...</td>\n      <td>Yes</td>\n      <td>Yes</td>\n      <td>Yes</td>\n      <td>Yes</td>\n      <td>NaN</td>\n      <td>8.766667</td>\n      <td>9.766667</td>\n      <td>10.766667</td>\n      <td>11.766667</td>\n      <td>12.766667</td>\n    </tr>\n    <tr>\n      <th>11</th>\n      <td>12</td>\n      <td>2023-03-15 00:00:00</td>\n      <td>2023-04-15 00:00:00</td>\n      <td>2023-05-15 00:00:00</td>\n      <td>2023-06-15 00:00:00</td>\n      <td>None</td>\n      <td>No</td>\n      <td>မောင်ဂျိုးဇက်</td>\n      <td>M</td>\n      <td>2022-07-20</td>\n      <td>...</td>\n      <td>Yes</td>\n      <td>Yes</td>\n      <td>Yes</td>\n      <td>Yes</td>\n      <td>NaN</td>\n      <td>7.933333</td>\n      <td>8.933333</td>\n      <td>9.933333</td>\n      <td>10.933333</td>\n      <td>11.933333</td>\n    </tr>\n    <tr>\n      <th>27</th>\n      <td>28</td>\n      <td>2023-03-15 00:00:00</td>\n      <td>2023-04-15 00:00:00</td>\n      <td>2023-05-15 00:00:00</td>\n      <td>2023-06-15 00:00:00</td>\n      <td>None</td>\n      <td>No</td>\n      <td>မောင်ဂျူးနီယို</td>\n      <td>M</td>\n      <td>2022-05-18</td>\n      <td>...</td>\n      <td>Yes</td>\n      <td>Yes</td>\n      <td>Yes</td>\n      <td>Yes</td>\n      <td>NaN</td>\n      <td>10.033333</td>\n      <td>11.033333</td>\n      <td>12.033333</td>\n      <td>13.033333</td>\n      <td>14.033333</td>\n    </tr>\n    <tr>\n      <th>28</th>\n      <td>29</td>\n      <td>2023-03-15 00:00:00</td>\n      <td>2023-04-15 00:00:00</td>\n      <td>2023-05-15 00:00:00</td>\n      <td>2023-06-15 00:00:00</td>\n      <td>2023-07-15 00:00:00</td>\n      <td>No</td>\n      <td>မောင်ခရစ္စတိုစတုန်း</td>\n      <td>M</td>\n      <td>2022-09-13</td>\n      <td>...</td>\n      <td>Yes</td>\n      <td>Yes</td>\n      <td>Yes</td>\n      <td>Yes</td>\n      <td>NaN</td>\n      <td>6.100000</td>\n      <td>7.100000</td>\n      <td>8.100000</td>\n      <td>9.100000</td>\n      <td>10.100000</td>\n    </tr>\n    <tr>\n      <th>29</th>\n      <td>30</td>\n      <td>2023-03-15 00:00:00</td>\n      <td>2023-04-15 00:00:00</td>\n      <td>2023-05-15 00:00:00</td>\n      <td>2023-06-15 00:00:00</td>\n      <td>None</td>\n      <td>No</td>\n      <td>မောင်ဂျက်စတင်း</td>\n      <td>M</td>\n      <td>2022-04-15</td>\n      <td>...</td>\n      <td>Yes</td>\n      <td>Yes</td>\n      <td>Yes</td>\n      <td>Yes</td>\n      <td>NaN</td>\n      <td>11.133333</td>\n      <td>12.133333</td>\n      <td>13.133333</td>\n      <td>14.133333</td>\n      <td>15.133333</td>\n    </tr>\n    <tr>\n      <th>30</th>\n      <td>31</td>\n      <td>2023-03-15 00:00:00</td>\n      <td>2023-04-15 00:00:00</td>\n      <td>2023-05-15 00:00:00</td>\n      <td>2023-06-15 00:00:00</td>\n      <td>None</td>\n      <td>No</td>\n      <td>မောင်ရိုမားနိုပေါအီ</td>\n      <td>M</td>\n      <td>2022-07-05</td>\n      <td>...</td>\n      <td>Yes</td>\n      <td>Yes</td>\n      <td>Yes</td>\n      <td>Yes</td>\n      <td>NaN</td>\n      <td>8.433333</td>\n      <td>9.433333</td>\n      <td>10.433333</td>\n      <td>11.433333</td>\n      <td>12.433333</td>\n    </tr>\n    <tr>\n      <th>31</th>\n      <td>32</td>\n      <td>2023-03-15 00:00:00</td>\n      <td>2023-04-15 00:00:00</td>\n      <td>None</td>\n      <td>None</td>\n      <td>2023-07-15 00:00:00</td>\n      <td>No</td>\n      <td>မောင်သြဂုတ်စတင်း</td>\n      <td>M</td>\n      <td>2022-08-01</td>\n      <td>...</td>\n      <td>Yes</td>\n      <td>No</td>\n      <td>Yes</td>\n      <td>Yes</td>\n      <td>NaN</td>\n      <td>7.533333</td>\n      <td>8.533333</td>\n      <td>9.533333</td>\n      <td>10.533333</td>\n      <td>11.533333</td>\n    </tr>\n    <tr>\n      <th>33</th>\n      <td>34</td>\n      <td>2023-03-15 00:00:00</td>\n      <td>2023-04-15 00:00:00</td>\n      <td>2023-05-15 00:00:00</td>\n      <td>2023-06-15 00:00:00</td>\n      <td>None</td>\n      <td>No</td>\n      <td>မောင်ခရစ်အောင်ဘုန်းမြတ်ကျော်</td>\n      <td>M</td>\n      <td>2022-06-29</td>\n      <td>...</td>\n      <td>Yes</td>\n      <td>Yes</td>\n      <td>Yes</td>\n      <td>Yes</td>\n      <td>NaN</td>\n      <td>8.633333</td>\n      <td>9.633333</td>\n      <td>10.633333</td>\n      <td>11.633333</td>\n      <td>12.633333</td>\n    </tr>\n    <tr>\n      <th>41</th>\n      <td>42</td>\n      <td>2023-03-15 00:00:00</td>\n      <td>2023-04-15 00:00:00</td>\n      <td>2023-05-15 00:00:00</td>\n      <td>2023-06-15 00:00:00</td>\n      <td>None</td>\n      <td>No</td>\n      <td>မောင်ယောဟန်</td>\n      <td>M</td>\n      <td>2022-05-15</td>\n      <td>...</td>\n      <td>Yes</td>\n      <td>No</td>\n      <td>Yes</td>\n      <td>Yes</td>\n      <td>NaN</td>\n      <td>10.133333</td>\n      <td>11.133333</td>\n      <td>12.133333</td>\n      <td>13.133333</td>\n      <td>14.133333</td>\n    </tr>\n    <tr>\n      <th>45</th>\n      <td>46</td>\n      <td>2023-03-15 00:00:00</td>\n      <td>2023-04-15 00:00:00</td>\n      <td>2023-05-15 00:00:00</td>\n      <td>2023-06-15 00:00:00</td>\n      <td>None</td>\n      <td>No</td>\n      <td>မောင်ဒေးဗစ်ဂျွန်</td>\n      <td>M</td>\n      <td>2022-06-16</td>\n      <td>...</td>\n      <td>Yes</td>\n      <td>Yes</td>\n      <td>Yes</td>\n      <td>Yes</td>\n      <td>NaN</td>\n      <td>9.066667</td>\n      <td>10.066667</td>\n      <td>11.066667</td>\n      <td>12.066667</td>\n      <td>13.066667</td>\n    </tr>\n    <tr>\n      <th>50</th>\n      <td>51</td>\n      <td>2023-03-15 00:00:00</td>\n      <td>None</td>\n      <td>None</td>\n      <td>2023-06-15 00:00:00</td>\n      <td>None</td>\n      <td>No</td>\n      <td>မောင်အလက်ဇန္ဒြား</td>\n      <td>M</td>\n      <td>2022-03-28</td>\n      <td>...</td>\n      <td>Yes</td>\n      <td>No</td>\n      <td>Yes</td>\n      <td>Yes</td>\n      <td>NaN</td>\n      <td>11.733333</td>\n      <td>12.733333</td>\n      <td>13.733333</td>\n      <td>14.733333</td>\n      <td>15.733333</td>\n    </tr>\n    <tr>\n      <th>52</th>\n      <td>53</td>\n      <td>2023-03-15 00:00:00</td>\n      <td>2023-04-15 00:00:00</td>\n      <td>2023-05-15 00:00:00</td>\n      <td>2023-06-15 00:00:00</td>\n      <td>2023-07-15 00:00:00</td>\n      <td>No</td>\n      <td>မောင်ဂျွန်နယူးမဲစိုးနိုင်</td>\n      <td>M</td>\n      <td>2022-05-15</td>\n      <td>...</td>\n      <td>Yes</td>\n      <td>Yes</td>\n      <td>Yes</td>\n      <td>Yes</td>\n      <td>NaN</td>\n      <td>10.133333</td>\n      <td>11.133333</td>\n      <td>12.133333</td>\n      <td>13.133333</td>\n      <td>14.133333</td>\n    </tr>\n    <tr>\n      <th>53</th>\n      <td>54</td>\n      <td>2023-03-15 00:00:00</td>\n      <td>2023-04-15 00:00:00</td>\n      <td>2023-05-15 00:00:00</td>\n      <td>2023-06-15 00:00:00</td>\n      <td>None</td>\n      <td>No</td>\n      <td>မောင်လောရင်း</td>\n      <td>M</td>\n      <td>2022-07-20</td>\n      <td>...</td>\n      <td>Yes</td>\n      <td>Yes</td>\n      <td>Yes</td>\n      <td>Yes</td>\n      <td>NaN</td>\n      <td>7.933333</td>\n      <td>8.933333</td>\n      <td>9.933333</td>\n      <td>10.933333</td>\n      <td>11.933333</td>\n    </tr>\n    <tr>\n      <th>61</th>\n      <td>62</td>\n      <td>2023-03-15 00:00:00</td>\n      <td>None</td>\n      <td>None</td>\n      <td>None</td>\n      <td>None</td>\n      <td>No</td>\n      <td>မောင်ကာစီမီးရို</td>\n      <td>M</td>\n      <td>2022-03-04</td>\n      <td>...</td>\n      <td>No</td>\n      <td>No</td>\n      <td>Yes</td>\n      <td>Yes</td>\n      <td>NaN</td>\n      <td>12.533333</td>\n      <td>13.533333</td>\n      <td>14.533333</td>\n      <td>15.533333</td>\n      <td>16.533333</td>\n    </tr>\n    <tr>\n      <th>63</th>\n      <td>64</td>\n      <td>2023-03-15 00:00:00</td>\n      <td>2023-04-15 00:00:00</td>\n      <td>2023-05-15 00:00:00</td>\n      <td>2023-06-15 00:00:00</td>\n      <td>2023-07-15 00:00:00</td>\n      <td>No</td>\n      <td>မောင်ဂျိုးဇက်</td>\n      <td>M</td>\n      <td>2022-08-27</td>\n      <td>...</td>\n      <td>Yes</td>\n      <td>Yes</td>\n      <td>Yes</td>\n      <td>Yes</td>\n      <td>NaN</td>\n      <td>6.666667</td>\n      <td>7.666667</td>\n      <td>8.666667</td>\n      <td>9.666667</td>\n      <td>10.666667</td>\n    </tr>\n    <tr>\n      <th>66</th>\n      <td>67</td>\n      <td>2023-03-15 00:00:00</td>\n      <td>2023-04-15 00:00:00</td>\n      <td>2023-05-15 00:00:00</td>\n      <td>2023-06-15 00:00:00</td>\n      <td>None</td>\n      <td>No</td>\n      <td>မောင်ဒေးဖို</td>\n      <td>M</td>\n      <td>2022-04-27</td>\n      <td>...</td>\n      <td>Yes</td>\n      <td>No</td>\n      <td>Yes</td>\n      <td>Yes</td>\n      <td>NaN</td>\n      <td>10.733333</td>\n      <td>11.733333</td>\n      <td>12.733333</td>\n      <td>13.733333</td>\n      <td>14.733333</td>\n    </tr>\n    <tr>\n      <th>74</th>\n      <td>75</td>\n      <td>2023-03-15 00:00:00</td>\n      <td>2023-04-15 00:00:00</td>\n      <td>None</td>\n      <td>None</td>\n      <td>None</td>\n      <td>No</td>\n      <td>မောင်ခရစ္စတိုဖာ</td>\n      <td>M</td>\n      <td>2022-05-01</td>\n      <td>...</td>\n      <td>No</td>\n      <td>No</td>\n      <td>Yes</td>\n      <td>Yes</td>\n      <td>NaN</td>\n      <td>10.600000</td>\n      <td>11.600000</td>\n      <td>12.600000</td>\n      <td>13.600000</td>\n      <td>14.600000</td>\n    </tr>\n    <tr>\n      <th>86</th>\n      <td>87</td>\n      <td>2023-03-15 00:00:00</td>\n      <td>2023-04-15 00:00:00</td>\n      <td>2023-05-15 00:00:00</td>\n      <td>2023-06-15 00:00:00</td>\n      <td>None</td>\n      <td>No</td>\n      <td>မောင်အောင်ဆန်းဦး</td>\n      <td>M</td>\n      <td>2022-04-11</td>\n      <td>...</td>\n      <td>Yes</td>\n      <td>Yes</td>\n      <td>Yes</td>\n      <td>Yes</td>\n      <td>NaN</td>\n      <td>11.266667</td>\n      <td>12.266667</td>\n      <td>13.266667</td>\n      <td>14.266667</td>\n      <td>15.266667</td>\n    </tr>\n    <tr>\n      <th>102</th>\n      <td>103</td>\n      <td>2023-03-15 00:00:00</td>\n      <td>2023-04-15 00:00:00</td>\n      <td>2023-05-15 00:00:00</td>\n      <td>2023-06-15 00:00:00</td>\n      <td>None</td>\n      <td>No</td>\n      <td>မောင်ဂျွန်ထက်နေဇင်လတ်</td>\n      <td>M</td>\n      <td>2022-05-07</td>\n      <td>...</td>\n      <td>Yes</td>\n      <td>Yes</td>\n      <td>Yes</td>\n      <td>Yes</td>\n      <td>NaN</td>\n      <td>10.400000</td>\n      <td>11.400000</td>\n      <td>12.400000</td>\n      <td>13.400000</td>\n      <td>14.400000</td>\n    </tr>\n    <tr>\n      <th>112</th>\n      <td>113</td>\n      <td>2023-03-15 00:00:00</td>\n      <td>2023-04-15 00:00:00</td>\n      <td>2023-05-15 00:00:00</td>\n      <td>2023-06-15 00:00:00</td>\n      <td>None</td>\n      <td>No</td>\n      <td>မောင်ဖိလိပို</td>\n      <td>M</td>\n      <td>2022-05-07</td>\n      <td>...</td>\n      <td>Yes</td>\n      <td>Yes</td>\n      <td>Yes</td>\n      <td>Yes</td>\n      <td>NaN</td>\n      <td>10.400000</td>\n      <td>11.400000</td>\n      <td>12.400000</td>\n      <td>13.400000</td>\n      <td>14.400000</td>\n    </tr>\n    <tr>\n      <th>115</th>\n      <td>116</td>\n      <td>None</td>\n      <td>2023-04-15 00:00:00</td>\n      <td>2023-05-15 00:00:00</td>\n      <td>2023-06-15 00:00:00</td>\n      <td>2023-07-15 00:00:00</td>\n      <td>No</td>\n      <td>မောင်လုကု</td>\n      <td>M</td>\n      <td>2022-08-23</td>\n      <td>...</td>\n      <td>Yes</td>\n      <td>Yes</td>\n      <td>Yes</td>\n      <td>Yes</td>\n      <td>NaN</td>\n      <td>7.833333</td>\n      <td>7.833333</td>\n      <td>8.833333</td>\n      <td>9.833333</td>\n      <td>10.833333</td>\n    </tr>\n    <tr>\n      <th>136</th>\n      <td>137</td>\n      <td>None</td>\n      <td>None</td>\n      <td>2023-05-15 00:00:00</td>\n      <td>2023-06-15 00:00:00</td>\n      <td>2023-07-15 00:00:00</td>\n      <td>No</td>\n      <td>မောင်အလွိုက်ရှက်</td>\n      <td>M</td>\n      <td>2021-11-11</td>\n      <td>...</td>\n      <td>Yes</td>\n      <td>Yes</td>\n      <td>Yes</td>\n      <td>Yes</td>\n      <td>NaN</td>\n      <td>18.333333</td>\n      <td>17.333333</td>\n      <td>18.333333</td>\n      <td>19.333333</td>\n      <td>20.333333</td>\n    </tr>\n    <tr>\n      <th>158</th>\n      <td>159</td>\n      <td>None</td>\n      <td>None</td>\n      <td>None</td>\n      <td>2023-06-15 00:00:00</td>\n      <td>2023-07-15 00:00:00</td>\n      <td>No</td>\n      <td>မောင်ဂျက်စတင်း</td>\n      <td>M</td>\n      <td>2022-08-03</td>\n      <td>...</td>\n      <td>Yes</td>\n      <td>No</td>\n      <td>Yes</td>\n      <td>Yes</td>\n      <td>NaN</td>\n      <td>10.533333</td>\n      <td>8.533333</td>\n      <td>9.533333</td>\n      <td>10.533333</td>\n      <td>11.533333</td>\n    </tr>\n    <tr>\n      <th>161</th>\n      <td>162</td>\n      <td>None</td>\n      <td>None</td>\n      <td>None</td>\n      <td>2023-06-15 00:00:00</td>\n      <td>2023-07-15 00:00:00</td>\n      <td>No</td>\n      <td>မောင်ယူဆေးဗီးယား</td>\n      <td>M</td>\n      <td>2022-03-16</td>\n      <td>...</td>\n      <td>Yes</td>\n      <td>No</td>\n      <td>Yes</td>\n      <td>Yes</td>\n      <td>NaN</td>\n      <td>15.200000</td>\n      <td>13.200000</td>\n      <td>14.200000</td>\n      <td>15.200000</td>\n      <td>16.200000</td>\n    </tr>\n  </tbody>\n</table>\n<p>27 rows × 64 columns</p>\n</div>"
     },
     "execution_count": 56,
     "metadata": {},
     "output_type": "execute_result"
    }
   ],
   "source": [
    "mmr = df.loc[(df['PreV']=='No')&(df['AGE_JUNE15']>=9),:]\n",
    "m = mmr.loc[mmr['Sex']=='M',:] # 31 eligible males\n",
    "print(len(m))\n",
    "m.loc[m['P5M2']=='Yes',:] # 27 of eligible females got M2"
   ],
   "metadata": {
    "collapsed": false,
    "ExecuteTime": {
     "end_time": "2023-08-25T16:22:30.352801Z",
     "start_time": "2023-08-25T16:22:30.322409Z"
    }
   }
  },
  {
   "cell_type": "code",
   "execution_count": 41,
   "outputs": [
    {
     "data": {
      "text/plain": "0.9534883720930233"
     },
     "execution_count": 41,
     "metadata": {},
     "output_type": "execute_result"
    }
   ],
   "source": [
    "123/129"
   ],
   "metadata": {
    "collapsed": false,
    "ExecuteTime": {
     "end_time": "2023-08-27T15:49:20.172375Z",
     "start_time": "2023-08-27T15:49:20.165191Z"
    }
   }
  },
  {
   "cell_type": "code",
   "execution_count": 43,
   "outputs": [
    {
     "name": "stdout",
     "output_type": "stream",
     "text": [
      "58\n",
      "55\n",
      "50\n"
     ]
    }
   ],
   "source": [
    "g = df.loc[(df['PreV']=='No')&(df['AGE_JUNE15']>=9),:] #  58 eligible for MMR\n",
    "one = g.loc[g['P5M1']=='Yes',: ] # 55 got MMR1\n",
    "two = g.loc[g['P5M2']=='Yes', :] # 50 got MMR2\n",
    "print(len(g))\n",
    "print(len(one))\n",
    "print(len(two))"
   ],
   "metadata": {
    "collapsed": false,
    "ExecuteTime": {
     "end_time": "2023-08-27T15:51:20.807216Z",
     "start_time": "2023-08-27T15:51:20.779507Z"
    }
   }
  },
  {
   "cell_type": "code",
   "execution_count": 27,
   "outputs": [
    {
     "data": {
      "text/plain": "    ReNu                 Att1                 Att2                 Att3  \\\n44    45  2023-03-15 00:00:00  2023-04-15 00:00:00  2023-05-15 00:00:00   \n46    47  2023-03-15 00:00:00                 None  2023-05-15 00:00:00   \n51    52  2023-03-15 00:00:00  2023-04-15 00:00:00  2023-05-15 00:00:00   \n65    66  2023-03-15 00:00:00  2023-04-15 00:00:00  2023-05-15 00:00:00   \n67    68  2023-03-15 00:00:00                 None                 None   \n68    69  2023-03-15 00:00:00                 None  2023-05-15 00:00:00   \n70    71  2023-03-15 00:00:00  2023-04-15 00:00:00  2023-05-15 00:00:00   \n72    73  2023-03-15 00:00:00                 None                 None   \n81    82  2023-03-15 00:00:00  2023-04-15 00:00:00                 None   \n82    83  2023-03-15 00:00:00  2023-04-15 00:00:00  2023-05-15 00:00:00   \n93    94  2023-03-15 00:00:00  2023-04-15 00:00:00  2023-05-15 00:00:00   \n105  106  2023-03-15 00:00:00  2023-04-15 00:00:00                 None   \n108  109  2023-03-15 00:00:00  2023-04-15 00:00:00  2023-05-15 00:00:00   \n113  114  2023-03-15 00:00:00  2023-04-15 00:00:00                 None   \n131  132                 None                 None  2023-05-15 00:00:00   \n134  135                 None                 None  2023-05-15 00:00:00   \n137  138                 None                 None  2023-05-15 00:00:00   \n139  140                 None                 None  2023-05-15 00:00:00   \n144  145                 None                 None                 None   \n145  146                 None                 None                 None   \n146  147                 None                 None                 None   \n154  155                 None                 None                 None   \n157  158                 None                 None                 None   \n160  161                 None                 None                 None   \n167  168                 None                 None                 None   \n173  174                 None                 None                 None   \n183  184                 None                 None                 None   \n\n                    Att4                 Att5 PreV                      Name  \\\n44                  None                 None  Yes  မောင်ဘုန်းမြင့်မြတ်မောင်   \n46                  None                 None  Yes             မောင်ဘင်ဂျမင်   \n51   2023-06-15 00:00:00                 None  Yes                 မအဲလိဇဘက်   \n65   2023-06-15 00:00:00                 None  Yes             မအယ်နီရှိုင်း   \n67                  None                 None  Yes            မောင်လဝန်းကဗျာ   \n68   2023-06-15 00:00:00                 None  Yes         မောင်အောင်ဆန်းလေး   \n70                  None                 None  Yes               နော်အဂ္ဂနက်   \n72                  None                 None  Yes            မောင်အန်ဒြေးယာ   \n81                  None  2023-07-15 00:00:00  Yes             မောင်ဂျေရုမ်း   \n82   2023-06-15 00:00:00  2023-07-15 00:00:00  Yes                 မရေဂျီးနာ   \n93   2023-06-15 00:00:00                 None  Yes                  မောင်သုတ   \n105                 None                 None  Yes         မောင်ချားစ်စရိလို   \n108  2023-06-15 00:00:00  2023-07-15 00:00:00  Yes                  မမာတီးနာ   \n113                 None                 None  Yes            မောင်အက်ဒ်မာန်   \n131                 None                 None  Yes              မောင်ပေါလေဦး   \n134  2023-06-15 00:00:00                 None  Yes              မရိုဇားရီးယာ   \n137                 None                 None  Yes               မောင်ယောဟန်   \n139  2023-06-15 00:00:00                 None  Yes                 မရီုစီးဝေ   \n144  2023-06-15 00:00:00                 None  Yes               မောင်ဘဲနဒစ်   \n145  2023-06-15 00:00:00  2023-07-15 00:00:00  Yes           မောင်အောင်အောင်   \n146  2023-06-15 00:00:00  2023-07-15 00:00:00  Yes       မောင်ဂျက်စတင်းဂူဂူး   \n154  2023-06-15 00:00:00  2023-07-15 00:00:00  Yes              မမော်စေးမိုး   \n157  2023-06-15 00:00:00  2023-07-15 00:00:00  Yes          မဟိုစဲအယ်မီယာထူး   \n160  2023-06-15 00:00:00                 None  Yes                 မအယ်ဗလင်း   \n167                 None  2023-07-15 00:00:00  Yes          မောင်ဟန်နွေထွန်း   \n173                 None  2023-07-15 00:00:00  Yes        မခရစ္စတင်းဂျူးဂျူး   \n183                 None  2023-07-15 00:00:00  Yes               မောင်ရောဘတ်   \n\n    Sex        DoB  ... P5Po2 P5Po3 P5M1 P5M2 ReDB        AGE  AGE_APR15  \\\n44    M 2022-05-05  ...   Yes    No  Yes  Yes  NaN  10.466667  11.466667   \n46    M 2022-03-08  ...     P   Yes  Yes  Yes  NaN  12.400000  13.400000   \n51    F 2021-10-03  ...   Yes   Yes  Yes  Yes  NaN  17.600000  18.600000   \n65    F 2022-03-01  ...   Yes   Yes  Yes  Yes  NaN  12.633333  13.633333   \n67    M 2022-08-05  ...     P   Yes  Yes   No  NaN   7.400000   8.400000   \n68    M 2022-08-24  ...   Yes    No  Yes   No  NaN   6.766667   7.766667   \n70    F 2022-02-25  ...   Yes   Yes  Yes  Yes  NaN  12.766667  13.766667   \n72    M 2022-05-02  ...    No    No  Yes   No  NaN  10.566667  11.566667   \n81    M 2022-09-30  ...     P   Yes  Yes   No  NaN   5.533333   6.533333   \n82    F 2022-09-07  ...   Yes   Yes  Yes  Yes  NaN   6.300000   7.300000   \n93    M 2022-08-12  ...   Yes   Yes  Yes  Yes  NaN   7.166667   8.166667   \n105   M 2021-01-24  ...     P     P  Yes  Yes  NaN  26.000000  27.000000   \n108   F 2022-08-21  ...   Yes   Yes  Yes  Yes  NaN   6.866667   7.866667   \n113   M 2020-09-30  ...     P     P  Yes  Yes  NaN  29.866667  30.866667   \n131   M 2022-08-04  ...     P     P  Yes  Yes  NaN   9.466667   8.466667   \n134   F 2021-10-07  ...   Yes   Yes  Yes  Yes  NaN  19.500000  18.500000   \n137   M 2022-08-06  ...     P     P  Yes  Yes  NaN   9.400000   8.400000   \n139   F 2022-05-16  ...   Yes    No  Yes   No  NaN  12.133333  11.133333   \n144   M 2022-09-24  ...     P   Yes  Yes   No  NaN   8.800000   6.800000   \n145   M 2021-09-28  ...   Yes   Yes  Yes  Yes  NaN  20.833333  18.833333   \n146   M 2021-12-13  ...   Yes   Yes  Yes  Yes  NaN  18.300000  16.300000   \n154   F 2022-09-12  ...     P     P  Yes  Yes  NaN   9.200000   7.200000   \n157   F 2022-08-10  ...     P     P  Yes  Yes  NaN  10.300000   8.300000   \n160   F 2022-02-13  ...     P     P  Yes   No  NaN  16.233333  14.233333   \n167   M 2021-11-29  ...     P   Yes  Yes   No  NaN  19.766667  17.766667   \n173   F 2021-12-13  ...   Yes    No  Yes   No  NaN  19.300000  17.300000   \n183   M 2020-09-17  ...     P     P  Yes   No  NaN  34.366667  32.366667   \n\n     AGE_MAY15 AGE_JUNE15 AGE_JULY15  \n44   12.466667  13.466667  14.466667  \n46   14.400000  15.400000  16.400000  \n51   19.600000  20.600000  21.600000  \n65   14.633333  15.633333  16.633333  \n67    9.400000  10.400000  11.400000  \n68    8.766667   9.766667  10.766667  \n70   14.766667  15.766667  16.766667  \n72   12.566667  13.566667  14.566667  \n81    7.533333   8.533333   9.533333  \n82    8.300000   9.300000  10.300000  \n93    9.166667  10.166667  11.166667  \n105  28.000000  29.000000  30.000000  \n108   8.866667   9.866667  10.866667  \n113  31.866667  32.866667  33.866667  \n131   9.466667  10.466667  11.466667  \n134  19.500000  20.500000  21.500000  \n137   9.400000  10.400000  11.400000  \n139  12.133333  13.133333  14.133333  \n144   7.800000   8.800000   9.800000  \n145  19.833333  20.833333  21.833333  \n146  17.300000  18.300000  19.300000  \n154   8.200000   9.200000  10.200000  \n157   9.300000  10.300000  11.300000  \n160  15.233333  16.233333  17.233333  \n167  18.766667  19.766667  19.766667  \n173  18.300000  19.300000  19.300000  \n183  33.366667  34.366667  34.366667  \n\n[27 rows x 64 columns]",
      "text/html": "<div>\n<style scoped>\n    .dataframe tbody tr th:only-of-type {\n        vertical-align: middle;\n    }\n\n    .dataframe tbody tr th {\n        vertical-align: top;\n    }\n\n    .dataframe thead th {\n        text-align: right;\n    }\n</style>\n<table border=\"1\" class=\"dataframe\">\n  <thead>\n    <tr style=\"text-align: right;\">\n      <th></th>\n      <th>ReNu</th>\n      <th>Att1</th>\n      <th>Att2</th>\n      <th>Att3</th>\n      <th>Att4</th>\n      <th>Att5</th>\n      <th>PreV</th>\n      <th>Name</th>\n      <th>Sex</th>\n      <th>DoB</th>\n      <th>...</th>\n      <th>P5Po2</th>\n      <th>P5Po3</th>\n      <th>P5M1</th>\n      <th>P5M2</th>\n      <th>ReDB</th>\n      <th>AGE</th>\n      <th>AGE_APR15</th>\n      <th>AGE_MAY15</th>\n      <th>AGE_JUNE15</th>\n      <th>AGE_JULY15</th>\n    </tr>\n  </thead>\n  <tbody>\n    <tr>\n      <th>44</th>\n      <td>45</td>\n      <td>2023-03-15 00:00:00</td>\n      <td>2023-04-15 00:00:00</td>\n      <td>2023-05-15 00:00:00</td>\n      <td>None</td>\n      <td>None</td>\n      <td>Yes</td>\n      <td>မောင်ဘုန်းမြင့်မြတ်မောင်</td>\n      <td>M</td>\n      <td>2022-05-05</td>\n      <td>...</td>\n      <td>Yes</td>\n      <td>No</td>\n      <td>Yes</td>\n      <td>Yes</td>\n      <td>NaN</td>\n      <td>10.466667</td>\n      <td>11.466667</td>\n      <td>12.466667</td>\n      <td>13.466667</td>\n      <td>14.466667</td>\n    </tr>\n    <tr>\n      <th>46</th>\n      <td>47</td>\n      <td>2023-03-15 00:00:00</td>\n      <td>None</td>\n      <td>2023-05-15 00:00:00</td>\n      <td>None</td>\n      <td>None</td>\n      <td>Yes</td>\n      <td>မောင်ဘင်ဂျမင်</td>\n      <td>M</td>\n      <td>2022-03-08</td>\n      <td>...</td>\n      <td>P</td>\n      <td>Yes</td>\n      <td>Yes</td>\n      <td>Yes</td>\n      <td>NaN</td>\n      <td>12.400000</td>\n      <td>13.400000</td>\n      <td>14.400000</td>\n      <td>15.400000</td>\n      <td>16.400000</td>\n    </tr>\n    <tr>\n      <th>51</th>\n      <td>52</td>\n      <td>2023-03-15 00:00:00</td>\n      <td>2023-04-15 00:00:00</td>\n      <td>2023-05-15 00:00:00</td>\n      <td>2023-06-15 00:00:00</td>\n      <td>None</td>\n      <td>Yes</td>\n      <td>မအဲလိဇဘက်</td>\n      <td>F</td>\n      <td>2021-10-03</td>\n      <td>...</td>\n      <td>Yes</td>\n      <td>Yes</td>\n      <td>Yes</td>\n      <td>Yes</td>\n      <td>NaN</td>\n      <td>17.600000</td>\n      <td>18.600000</td>\n      <td>19.600000</td>\n      <td>20.600000</td>\n      <td>21.600000</td>\n    </tr>\n    <tr>\n      <th>65</th>\n      <td>66</td>\n      <td>2023-03-15 00:00:00</td>\n      <td>2023-04-15 00:00:00</td>\n      <td>2023-05-15 00:00:00</td>\n      <td>2023-06-15 00:00:00</td>\n      <td>None</td>\n      <td>Yes</td>\n      <td>မအယ်နီရှိုင်း</td>\n      <td>F</td>\n      <td>2022-03-01</td>\n      <td>...</td>\n      <td>Yes</td>\n      <td>Yes</td>\n      <td>Yes</td>\n      <td>Yes</td>\n      <td>NaN</td>\n      <td>12.633333</td>\n      <td>13.633333</td>\n      <td>14.633333</td>\n      <td>15.633333</td>\n      <td>16.633333</td>\n    </tr>\n    <tr>\n      <th>67</th>\n      <td>68</td>\n      <td>2023-03-15 00:00:00</td>\n      <td>None</td>\n      <td>None</td>\n      <td>None</td>\n      <td>None</td>\n      <td>Yes</td>\n      <td>မောင်လဝန်းကဗျာ</td>\n      <td>M</td>\n      <td>2022-08-05</td>\n      <td>...</td>\n      <td>P</td>\n      <td>Yes</td>\n      <td>Yes</td>\n      <td>No</td>\n      <td>NaN</td>\n      <td>7.400000</td>\n      <td>8.400000</td>\n      <td>9.400000</td>\n      <td>10.400000</td>\n      <td>11.400000</td>\n    </tr>\n    <tr>\n      <th>68</th>\n      <td>69</td>\n      <td>2023-03-15 00:00:00</td>\n      <td>None</td>\n      <td>2023-05-15 00:00:00</td>\n      <td>2023-06-15 00:00:00</td>\n      <td>None</td>\n      <td>Yes</td>\n      <td>မောင်အောင်ဆန်းလေး</td>\n      <td>M</td>\n      <td>2022-08-24</td>\n      <td>...</td>\n      <td>Yes</td>\n      <td>No</td>\n      <td>Yes</td>\n      <td>No</td>\n      <td>NaN</td>\n      <td>6.766667</td>\n      <td>7.766667</td>\n      <td>8.766667</td>\n      <td>9.766667</td>\n      <td>10.766667</td>\n    </tr>\n    <tr>\n      <th>70</th>\n      <td>71</td>\n      <td>2023-03-15 00:00:00</td>\n      <td>2023-04-15 00:00:00</td>\n      <td>2023-05-15 00:00:00</td>\n      <td>None</td>\n      <td>None</td>\n      <td>Yes</td>\n      <td>နော်အဂ္ဂနက်</td>\n      <td>F</td>\n      <td>2022-02-25</td>\n      <td>...</td>\n      <td>Yes</td>\n      <td>Yes</td>\n      <td>Yes</td>\n      <td>Yes</td>\n      <td>NaN</td>\n      <td>12.766667</td>\n      <td>13.766667</td>\n      <td>14.766667</td>\n      <td>15.766667</td>\n      <td>16.766667</td>\n    </tr>\n    <tr>\n      <th>72</th>\n      <td>73</td>\n      <td>2023-03-15 00:00:00</td>\n      <td>None</td>\n      <td>None</td>\n      <td>None</td>\n      <td>None</td>\n      <td>Yes</td>\n      <td>မောင်အန်ဒြေးယာ</td>\n      <td>M</td>\n      <td>2022-05-02</td>\n      <td>...</td>\n      <td>No</td>\n      <td>No</td>\n      <td>Yes</td>\n      <td>No</td>\n      <td>NaN</td>\n      <td>10.566667</td>\n      <td>11.566667</td>\n      <td>12.566667</td>\n      <td>13.566667</td>\n      <td>14.566667</td>\n    </tr>\n    <tr>\n      <th>81</th>\n      <td>82</td>\n      <td>2023-03-15 00:00:00</td>\n      <td>2023-04-15 00:00:00</td>\n      <td>None</td>\n      <td>None</td>\n      <td>2023-07-15 00:00:00</td>\n      <td>Yes</td>\n      <td>မောင်ဂျေရုမ်း</td>\n      <td>M</td>\n      <td>2022-09-30</td>\n      <td>...</td>\n      <td>P</td>\n      <td>Yes</td>\n      <td>Yes</td>\n      <td>No</td>\n      <td>NaN</td>\n      <td>5.533333</td>\n      <td>6.533333</td>\n      <td>7.533333</td>\n      <td>8.533333</td>\n      <td>9.533333</td>\n    </tr>\n    <tr>\n      <th>82</th>\n      <td>83</td>\n      <td>2023-03-15 00:00:00</td>\n      <td>2023-04-15 00:00:00</td>\n      <td>2023-05-15 00:00:00</td>\n      <td>2023-06-15 00:00:00</td>\n      <td>2023-07-15 00:00:00</td>\n      <td>Yes</td>\n      <td>မရေဂျီးနာ</td>\n      <td>F</td>\n      <td>2022-09-07</td>\n      <td>...</td>\n      <td>Yes</td>\n      <td>Yes</td>\n      <td>Yes</td>\n      <td>Yes</td>\n      <td>NaN</td>\n      <td>6.300000</td>\n      <td>7.300000</td>\n      <td>8.300000</td>\n      <td>9.300000</td>\n      <td>10.300000</td>\n    </tr>\n    <tr>\n      <th>93</th>\n      <td>94</td>\n      <td>2023-03-15 00:00:00</td>\n      <td>2023-04-15 00:00:00</td>\n      <td>2023-05-15 00:00:00</td>\n      <td>2023-06-15 00:00:00</td>\n      <td>None</td>\n      <td>Yes</td>\n      <td>မောင်သုတ</td>\n      <td>M</td>\n      <td>2022-08-12</td>\n      <td>...</td>\n      <td>Yes</td>\n      <td>Yes</td>\n      <td>Yes</td>\n      <td>Yes</td>\n      <td>NaN</td>\n      <td>7.166667</td>\n      <td>8.166667</td>\n      <td>9.166667</td>\n      <td>10.166667</td>\n      <td>11.166667</td>\n    </tr>\n    <tr>\n      <th>105</th>\n      <td>106</td>\n      <td>2023-03-15 00:00:00</td>\n      <td>2023-04-15 00:00:00</td>\n      <td>None</td>\n      <td>None</td>\n      <td>None</td>\n      <td>Yes</td>\n      <td>မောင်ချားစ်စရိလို</td>\n      <td>M</td>\n      <td>2021-01-24</td>\n      <td>...</td>\n      <td>P</td>\n      <td>P</td>\n      <td>Yes</td>\n      <td>Yes</td>\n      <td>NaN</td>\n      <td>26.000000</td>\n      <td>27.000000</td>\n      <td>28.000000</td>\n      <td>29.000000</td>\n      <td>30.000000</td>\n    </tr>\n    <tr>\n      <th>108</th>\n      <td>109</td>\n      <td>2023-03-15 00:00:00</td>\n      <td>2023-04-15 00:00:00</td>\n      <td>2023-05-15 00:00:00</td>\n      <td>2023-06-15 00:00:00</td>\n      <td>2023-07-15 00:00:00</td>\n      <td>Yes</td>\n      <td>မမာတီးနာ</td>\n      <td>F</td>\n      <td>2022-08-21</td>\n      <td>...</td>\n      <td>Yes</td>\n      <td>Yes</td>\n      <td>Yes</td>\n      <td>Yes</td>\n      <td>NaN</td>\n      <td>6.866667</td>\n      <td>7.866667</td>\n      <td>8.866667</td>\n      <td>9.866667</td>\n      <td>10.866667</td>\n    </tr>\n    <tr>\n      <th>113</th>\n      <td>114</td>\n      <td>2023-03-15 00:00:00</td>\n      <td>2023-04-15 00:00:00</td>\n      <td>None</td>\n      <td>None</td>\n      <td>None</td>\n      <td>Yes</td>\n      <td>မောင်အက်ဒ်မာန်</td>\n      <td>M</td>\n      <td>2020-09-30</td>\n      <td>...</td>\n      <td>P</td>\n      <td>P</td>\n      <td>Yes</td>\n      <td>Yes</td>\n      <td>NaN</td>\n      <td>29.866667</td>\n      <td>30.866667</td>\n      <td>31.866667</td>\n      <td>32.866667</td>\n      <td>33.866667</td>\n    </tr>\n    <tr>\n      <th>131</th>\n      <td>132</td>\n      <td>None</td>\n      <td>None</td>\n      <td>2023-05-15 00:00:00</td>\n      <td>None</td>\n      <td>None</td>\n      <td>Yes</td>\n      <td>မောင်ပေါလေဦး</td>\n      <td>M</td>\n      <td>2022-08-04</td>\n      <td>...</td>\n      <td>P</td>\n      <td>P</td>\n      <td>Yes</td>\n      <td>Yes</td>\n      <td>NaN</td>\n      <td>9.466667</td>\n      <td>8.466667</td>\n      <td>9.466667</td>\n      <td>10.466667</td>\n      <td>11.466667</td>\n    </tr>\n    <tr>\n      <th>134</th>\n      <td>135</td>\n      <td>None</td>\n      <td>None</td>\n      <td>2023-05-15 00:00:00</td>\n      <td>2023-06-15 00:00:00</td>\n      <td>None</td>\n      <td>Yes</td>\n      <td>မရိုဇားရီးယာ</td>\n      <td>F</td>\n      <td>2021-10-07</td>\n      <td>...</td>\n      <td>Yes</td>\n      <td>Yes</td>\n      <td>Yes</td>\n      <td>Yes</td>\n      <td>NaN</td>\n      <td>19.500000</td>\n      <td>18.500000</td>\n      <td>19.500000</td>\n      <td>20.500000</td>\n      <td>21.500000</td>\n    </tr>\n    <tr>\n      <th>137</th>\n      <td>138</td>\n      <td>None</td>\n      <td>None</td>\n      <td>2023-05-15 00:00:00</td>\n      <td>None</td>\n      <td>None</td>\n      <td>Yes</td>\n      <td>မောင်ယောဟန်</td>\n      <td>M</td>\n      <td>2022-08-06</td>\n      <td>...</td>\n      <td>P</td>\n      <td>P</td>\n      <td>Yes</td>\n      <td>Yes</td>\n      <td>NaN</td>\n      <td>9.400000</td>\n      <td>8.400000</td>\n      <td>9.400000</td>\n      <td>10.400000</td>\n      <td>11.400000</td>\n    </tr>\n    <tr>\n      <th>139</th>\n      <td>140</td>\n      <td>None</td>\n      <td>None</td>\n      <td>2023-05-15 00:00:00</td>\n      <td>2023-06-15 00:00:00</td>\n      <td>None</td>\n      <td>Yes</td>\n      <td>မရီုစီးဝေ</td>\n      <td>F</td>\n      <td>2022-05-16</td>\n      <td>...</td>\n      <td>Yes</td>\n      <td>No</td>\n      <td>Yes</td>\n      <td>No</td>\n      <td>NaN</td>\n      <td>12.133333</td>\n      <td>11.133333</td>\n      <td>12.133333</td>\n      <td>13.133333</td>\n      <td>14.133333</td>\n    </tr>\n    <tr>\n      <th>144</th>\n      <td>145</td>\n      <td>None</td>\n      <td>None</td>\n      <td>None</td>\n      <td>2023-06-15 00:00:00</td>\n      <td>None</td>\n      <td>Yes</td>\n      <td>မောင်ဘဲနဒစ်</td>\n      <td>M</td>\n      <td>2022-09-24</td>\n      <td>...</td>\n      <td>P</td>\n      <td>Yes</td>\n      <td>Yes</td>\n      <td>No</td>\n      <td>NaN</td>\n      <td>8.800000</td>\n      <td>6.800000</td>\n      <td>7.800000</td>\n      <td>8.800000</td>\n      <td>9.800000</td>\n    </tr>\n    <tr>\n      <th>145</th>\n      <td>146</td>\n      <td>None</td>\n      <td>None</td>\n      <td>None</td>\n      <td>2023-06-15 00:00:00</td>\n      <td>2023-07-15 00:00:00</td>\n      <td>Yes</td>\n      <td>မောင်အောင်အောင်</td>\n      <td>M</td>\n      <td>2021-09-28</td>\n      <td>...</td>\n      <td>Yes</td>\n      <td>Yes</td>\n      <td>Yes</td>\n      <td>Yes</td>\n      <td>NaN</td>\n      <td>20.833333</td>\n      <td>18.833333</td>\n      <td>19.833333</td>\n      <td>20.833333</td>\n      <td>21.833333</td>\n    </tr>\n    <tr>\n      <th>146</th>\n      <td>147</td>\n      <td>None</td>\n      <td>None</td>\n      <td>None</td>\n      <td>2023-06-15 00:00:00</td>\n      <td>2023-07-15 00:00:00</td>\n      <td>Yes</td>\n      <td>မောင်ဂျက်စတင်းဂူဂူး</td>\n      <td>M</td>\n      <td>2021-12-13</td>\n      <td>...</td>\n      <td>Yes</td>\n      <td>Yes</td>\n      <td>Yes</td>\n      <td>Yes</td>\n      <td>NaN</td>\n      <td>18.300000</td>\n      <td>16.300000</td>\n      <td>17.300000</td>\n      <td>18.300000</td>\n      <td>19.300000</td>\n    </tr>\n    <tr>\n      <th>154</th>\n      <td>155</td>\n      <td>None</td>\n      <td>None</td>\n      <td>None</td>\n      <td>2023-06-15 00:00:00</td>\n      <td>2023-07-15 00:00:00</td>\n      <td>Yes</td>\n      <td>မမော်စေးမိုး</td>\n      <td>F</td>\n      <td>2022-09-12</td>\n      <td>...</td>\n      <td>P</td>\n      <td>P</td>\n      <td>Yes</td>\n      <td>Yes</td>\n      <td>NaN</td>\n      <td>9.200000</td>\n      <td>7.200000</td>\n      <td>8.200000</td>\n      <td>9.200000</td>\n      <td>10.200000</td>\n    </tr>\n    <tr>\n      <th>157</th>\n      <td>158</td>\n      <td>None</td>\n      <td>None</td>\n      <td>None</td>\n      <td>2023-06-15 00:00:00</td>\n      <td>2023-07-15 00:00:00</td>\n      <td>Yes</td>\n      <td>မဟိုစဲအယ်မီယာထူး</td>\n      <td>F</td>\n      <td>2022-08-10</td>\n      <td>...</td>\n      <td>P</td>\n      <td>P</td>\n      <td>Yes</td>\n      <td>Yes</td>\n      <td>NaN</td>\n      <td>10.300000</td>\n      <td>8.300000</td>\n      <td>9.300000</td>\n      <td>10.300000</td>\n      <td>11.300000</td>\n    </tr>\n    <tr>\n      <th>160</th>\n      <td>161</td>\n      <td>None</td>\n      <td>None</td>\n      <td>None</td>\n      <td>2023-06-15 00:00:00</td>\n      <td>None</td>\n      <td>Yes</td>\n      <td>မအယ်ဗလင်း</td>\n      <td>F</td>\n      <td>2022-02-13</td>\n      <td>...</td>\n      <td>P</td>\n      <td>P</td>\n      <td>Yes</td>\n      <td>No</td>\n      <td>NaN</td>\n      <td>16.233333</td>\n      <td>14.233333</td>\n      <td>15.233333</td>\n      <td>16.233333</td>\n      <td>17.233333</td>\n    </tr>\n    <tr>\n      <th>167</th>\n      <td>168</td>\n      <td>None</td>\n      <td>None</td>\n      <td>None</td>\n      <td>None</td>\n      <td>2023-07-15 00:00:00</td>\n      <td>Yes</td>\n      <td>မောင်ဟန်နွေထွန်း</td>\n      <td>M</td>\n      <td>2021-11-29</td>\n      <td>...</td>\n      <td>P</td>\n      <td>Yes</td>\n      <td>Yes</td>\n      <td>No</td>\n      <td>NaN</td>\n      <td>19.766667</td>\n      <td>17.766667</td>\n      <td>18.766667</td>\n      <td>19.766667</td>\n      <td>19.766667</td>\n    </tr>\n    <tr>\n      <th>173</th>\n      <td>174</td>\n      <td>None</td>\n      <td>None</td>\n      <td>None</td>\n      <td>None</td>\n      <td>2023-07-15 00:00:00</td>\n      <td>Yes</td>\n      <td>မခရစ္စတင်းဂျူးဂျူး</td>\n      <td>F</td>\n      <td>2021-12-13</td>\n      <td>...</td>\n      <td>Yes</td>\n      <td>No</td>\n      <td>Yes</td>\n      <td>No</td>\n      <td>NaN</td>\n      <td>19.300000</td>\n      <td>17.300000</td>\n      <td>18.300000</td>\n      <td>19.300000</td>\n      <td>19.300000</td>\n    </tr>\n    <tr>\n      <th>183</th>\n      <td>184</td>\n      <td>None</td>\n      <td>None</td>\n      <td>None</td>\n      <td>None</td>\n      <td>2023-07-15 00:00:00</td>\n      <td>Yes</td>\n      <td>မောင်ရောဘတ်</td>\n      <td>M</td>\n      <td>2020-09-17</td>\n      <td>...</td>\n      <td>P</td>\n      <td>P</td>\n      <td>Yes</td>\n      <td>No</td>\n      <td>NaN</td>\n      <td>34.366667</td>\n      <td>32.366667</td>\n      <td>33.366667</td>\n      <td>34.366667</td>\n      <td>34.366667</td>\n    </tr>\n  </tbody>\n</table>\n<p>27 rows × 64 columns</p>\n</div>"
     },
     "execution_count": 27,
     "metadata": {},
     "output_type": "execute_result"
    }
   ],
   "source": [
    "par = df.loc[df['PreV']=='Yes',:]\n",
    "par.loc[(par['P5M1']=='Yes')|(par['P5M2']=='P'),:]"
   ],
   "metadata": {
    "collapsed": false,
    "ExecuteTime": {
     "end_time": "2023-08-25T15:54:19.919967Z",
     "start_time": "2023-08-25T15:54:19.884429Z"
    }
   }
  },
  {
   "cell_type": "code",
   "execution_count": 30,
   "outputs": [
    {
     "data": {
      "text/plain": "0.6923076923076923"
     },
     "execution_count": 30,
     "metadata": {},
     "output_type": "execute_result"
    }
   ],
   "source": [
    "27/39"
   ],
   "metadata": {
    "collapsed": false,
    "ExecuteTime": {
     "end_time": "2023-08-25T15:55:07.018977Z",
     "start_time": "2023-08-25T15:55:07.012158Z"
    }
   }
  },
  {
   "cell_type": "code",
   "execution_count": 30,
   "outputs": [
    {
     "data": {
      "text/plain": "    ReNu                 Att1                 Att2                 Att3  \\\n44    45  2023-03-15 00:00:00  2023-04-15 00:00:00  2023-05-15 00:00:00   \n51    52  2023-03-15 00:00:00  2023-04-15 00:00:00  2023-05-15 00:00:00   \n65    66  2023-03-15 00:00:00  2023-04-15 00:00:00  2023-05-15 00:00:00   \n70    71  2023-03-15 00:00:00  2023-04-15 00:00:00  2023-05-15 00:00:00   \n81    82  2023-03-15 00:00:00  2023-04-15 00:00:00                 None   \n82    83  2023-03-15 00:00:00  2023-04-15 00:00:00  2023-05-15 00:00:00   \n93    94  2023-03-15 00:00:00  2023-04-15 00:00:00  2023-05-15 00:00:00   \n101  102  2023-03-15 00:00:00  2023-04-15 00:00:00  2023-05-15 00:00:00   \n105  106  2023-03-15 00:00:00  2023-04-15 00:00:00                 None   \n108  109  2023-03-15 00:00:00  2023-04-15 00:00:00  2023-05-15 00:00:00   \n113  114  2023-03-15 00:00:00  2023-04-15 00:00:00                 None   \n\n                    Att4                 Att5 PreV                      Name  \\\n44                  None                 None  Yes  မောင်ဘုန်းမြင့်မြတ်မောင်   \n51   2023-06-15 00:00:00                 None  Yes                 မအဲလိဇဘက်   \n65   2023-06-15 00:00:00                 None  Yes             မအယ်နီရှိုင်း   \n70                  None                 None  Yes               နော်အဂ္ဂနက်   \n81                  None  2023-07-15 00:00:00  Yes             မောင်ဂျေရုမ်း   \n82   2023-06-15 00:00:00  2023-07-15 00:00:00  Yes                 မရေဂျီးနာ   \n93   2023-06-15 00:00:00                 None  Yes                  မောင်သုတ   \n101  2023-06-15 00:00:00                 None  Yes                    မဆားမူ   \n105                 None                 None  Yes         မောင်ချားစ်စရိလို   \n108  2023-06-15 00:00:00  2023-07-15 00:00:00  Yes                  မမာတီးနာ   \n113                 None                 None  Yes            မောင်အက်ဒ်မာန်   \n\n    Sex        DoB  ... P5Po2 P5Po3 P5M1 P5M2 ReDB        AGE  AGE_APR15  \\\n44    M 2022-05-05  ...   Yes    No  Yes  Yes  NaN  10.466667  11.466667   \n51    F 2021-10-03  ...   Yes   Yes  Yes  Yes  NaN  17.600000  18.600000   \n65    F 2022-03-01  ...   Yes   Yes  Yes  Yes  NaN  12.633333  13.633333   \n70    F 2022-02-25  ...   Yes   Yes  Yes  Yes  NaN  12.766667  13.766667   \n81    M 2022-09-30  ...     P   Yes  Yes   No  NaN   5.533333   6.533333   \n82    F 2022-09-07  ...   Yes   Yes  Yes  Yes  NaN   6.300000   7.300000   \n93    M 2022-08-12  ...   Yes   Yes  Yes  Yes  NaN   7.166667   8.166667   \n101   F 2022-12-30  ...   Yes   Yes   No   No  NaN   2.500000   3.500000   \n105   M 2021-01-24  ...     P     P  Yes  Yes  NaN  26.000000  27.000000   \n108   F 2022-08-21  ...   Yes   Yes  Yes  Yes  NaN   6.866667   7.866667   \n113   M 2020-09-30  ...     P     P  Yes  Yes  NaN  29.866667  30.866667   \n\n     AGE_MAY15 AGE_JUNE15 AGE_JULY15  \n44   12.466667  13.466667  14.466667  \n51   19.600000  20.600000  21.600000  \n65   14.633333  15.633333  16.633333  \n70   14.766667  15.766667  16.766667  \n81    7.533333   8.533333   9.533333  \n82    8.300000   9.300000  10.300000  \n93    9.166667  10.166667  11.166667  \n101   4.500000   5.500000   6.500000  \n105  28.000000  29.000000  30.000000  \n108   8.866667   9.866667  10.866667  \n113  31.866667  32.866667  33.866667  \n\n[11 rows x 64 columns]",
      "text/html": "<div>\n<style scoped>\n    .dataframe tbody tr th:only-of-type {\n        vertical-align: middle;\n    }\n\n    .dataframe tbody tr th {\n        vertical-align: top;\n    }\n\n    .dataframe thead th {\n        text-align: right;\n    }\n</style>\n<table border=\"1\" class=\"dataframe\">\n  <thead>\n    <tr style=\"text-align: right;\">\n      <th></th>\n      <th>ReNu</th>\n      <th>Att1</th>\n      <th>Att2</th>\n      <th>Att3</th>\n      <th>Att4</th>\n      <th>Att5</th>\n      <th>PreV</th>\n      <th>Name</th>\n      <th>Sex</th>\n      <th>DoB</th>\n      <th>...</th>\n      <th>P5Po2</th>\n      <th>P5Po3</th>\n      <th>P5M1</th>\n      <th>P5M2</th>\n      <th>ReDB</th>\n      <th>AGE</th>\n      <th>AGE_APR15</th>\n      <th>AGE_MAY15</th>\n      <th>AGE_JUNE15</th>\n      <th>AGE_JULY15</th>\n    </tr>\n  </thead>\n  <tbody>\n    <tr>\n      <th>44</th>\n      <td>45</td>\n      <td>2023-03-15 00:00:00</td>\n      <td>2023-04-15 00:00:00</td>\n      <td>2023-05-15 00:00:00</td>\n      <td>None</td>\n      <td>None</td>\n      <td>Yes</td>\n      <td>မောင်ဘုန်းမြင့်မြတ်မောင်</td>\n      <td>M</td>\n      <td>2022-05-05</td>\n      <td>...</td>\n      <td>Yes</td>\n      <td>No</td>\n      <td>Yes</td>\n      <td>Yes</td>\n      <td>NaN</td>\n      <td>10.466667</td>\n      <td>11.466667</td>\n      <td>12.466667</td>\n      <td>13.466667</td>\n      <td>14.466667</td>\n    </tr>\n    <tr>\n      <th>51</th>\n      <td>52</td>\n      <td>2023-03-15 00:00:00</td>\n      <td>2023-04-15 00:00:00</td>\n      <td>2023-05-15 00:00:00</td>\n      <td>2023-06-15 00:00:00</td>\n      <td>None</td>\n      <td>Yes</td>\n      <td>မအဲလိဇဘက်</td>\n      <td>F</td>\n      <td>2021-10-03</td>\n      <td>...</td>\n      <td>Yes</td>\n      <td>Yes</td>\n      <td>Yes</td>\n      <td>Yes</td>\n      <td>NaN</td>\n      <td>17.600000</td>\n      <td>18.600000</td>\n      <td>19.600000</td>\n      <td>20.600000</td>\n      <td>21.600000</td>\n    </tr>\n    <tr>\n      <th>65</th>\n      <td>66</td>\n      <td>2023-03-15 00:00:00</td>\n      <td>2023-04-15 00:00:00</td>\n      <td>2023-05-15 00:00:00</td>\n      <td>2023-06-15 00:00:00</td>\n      <td>None</td>\n      <td>Yes</td>\n      <td>မအယ်နီရှိုင်း</td>\n      <td>F</td>\n      <td>2022-03-01</td>\n      <td>...</td>\n      <td>Yes</td>\n      <td>Yes</td>\n      <td>Yes</td>\n      <td>Yes</td>\n      <td>NaN</td>\n      <td>12.633333</td>\n      <td>13.633333</td>\n      <td>14.633333</td>\n      <td>15.633333</td>\n      <td>16.633333</td>\n    </tr>\n    <tr>\n      <th>70</th>\n      <td>71</td>\n      <td>2023-03-15 00:00:00</td>\n      <td>2023-04-15 00:00:00</td>\n      <td>2023-05-15 00:00:00</td>\n      <td>None</td>\n      <td>None</td>\n      <td>Yes</td>\n      <td>နော်အဂ္ဂနက်</td>\n      <td>F</td>\n      <td>2022-02-25</td>\n      <td>...</td>\n      <td>Yes</td>\n      <td>Yes</td>\n      <td>Yes</td>\n      <td>Yes</td>\n      <td>NaN</td>\n      <td>12.766667</td>\n      <td>13.766667</td>\n      <td>14.766667</td>\n      <td>15.766667</td>\n      <td>16.766667</td>\n    </tr>\n    <tr>\n      <th>81</th>\n      <td>82</td>\n      <td>2023-03-15 00:00:00</td>\n      <td>2023-04-15 00:00:00</td>\n      <td>None</td>\n      <td>None</td>\n      <td>2023-07-15 00:00:00</td>\n      <td>Yes</td>\n      <td>မောင်ဂျေရုမ်း</td>\n      <td>M</td>\n      <td>2022-09-30</td>\n      <td>...</td>\n      <td>P</td>\n      <td>Yes</td>\n      <td>Yes</td>\n      <td>No</td>\n      <td>NaN</td>\n      <td>5.533333</td>\n      <td>6.533333</td>\n      <td>7.533333</td>\n      <td>8.533333</td>\n      <td>9.533333</td>\n    </tr>\n    <tr>\n      <th>82</th>\n      <td>83</td>\n      <td>2023-03-15 00:00:00</td>\n      <td>2023-04-15 00:00:00</td>\n      <td>2023-05-15 00:00:00</td>\n      <td>2023-06-15 00:00:00</td>\n      <td>2023-07-15 00:00:00</td>\n      <td>Yes</td>\n      <td>မရေဂျီးနာ</td>\n      <td>F</td>\n      <td>2022-09-07</td>\n      <td>...</td>\n      <td>Yes</td>\n      <td>Yes</td>\n      <td>Yes</td>\n      <td>Yes</td>\n      <td>NaN</td>\n      <td>6.300000</td>\n      <td>7.300000</td>\n      <td>8.300000</td>\n      <td>9.300000</td>\n      <td>10.300000</td>\n    </tr>\n    <tr>\n      <th>93</th>\n      <td>94</td>\n      <td>2023-03-15 00:00:00</td>\n      <td>2023-04-15 00:00:00</td>\n      <td>2023-05-15 00:00:00</td>\n      <td>2023-06-15 00:00:00</td>\n      <td>None</td>\n      <td>Yes</td>\n      <td>မောင်သုတ</td>\n      <td>M</td>\n      <td>2022-08-12</td>\n      <td>...</td>\n      <td>Yes</td>\n      <td>Yes</td>\n      <td>Yes</td>\n      <td>Yes</td>\n      <td>NaN</td>\n      <td>7.166667</td>\n      <td>8.166667</td>\n      <td>9.166667</td>\n      <td>10.166667</td>\n      <td>11.166667</td>\n    </tr>\n    <tr>\n      <th>101</th>\n      <td>102</td>\n      <td>2023-03-15 00:00:00</td>\n      <td>2023-04-15 00:00:00</td>\n      <td>2023-05-15 00:00:00</td>\n      <td>2023-06-15 00:00:00</td>\n      <td>None</td>\n      <td>Yes</td>\n      <td>မဆားမူ</td>\n      <td>F</td>\n      <td>2022-12-30</td>\n      <td>...</td>\n      <td>Yes</td>\n      <td>Yes</td>\n      <td>No</td>\n      <td>No</td>\n      <td>NaN</td>\n      <td>2.500000</td>\n      <td>3.500000</td>\n      <td>4.500000</td>\n      <td>5.500000</td>\n      <td>6.500000</td>\n    </tr>\n    <tr>\n      <th>105</th>\n      <td>106</td>\n      <td>2023-03-15 00:00:00</td>\n      <td>2023-04-15 00:00:00</td>\n      <td>None</td>\n      <td>None</td>\n      <td>None</td>\n      <td>Yes</td>\n      <td>မောင်ချားစ်စရိလို</td>\n      <td>M</td>\n      <td>2021-01-24</td>\n      <td>...</td>\n      <td>P</td>\n      <td>P</td>\n      <td>Yes</td>\n      <td>Yes</td>\n      <td>NaN</td>\n      <td>26.000000</td>\n      <td>27.000000</td>\n      <td>28.000000</td>\n      <td>29.000000</td>\n      <td>30.000000</td>\n    </tr>\n    <tr>\n      <th>108</th>\n      <td>109</td>\n      <td>2023-03-15 00:00:00</td>\n      <td>2023-04-15 00:00:00</td>\n      <td>2023-05-15 00:00:00</td>\n      <td>2023-06-15 00:00:00</td>\n      <td>2023-07-15 00:00:00</td>\n      <td>Yes</td>\n      <td>မမာတီးနာ</td>\n      <td>F</td>\n      <td>2022-08-21</td>\n      <td>...</td>\n      <td>Yes</td>\n      <td>Yes</td>\n      <td>Yes</td>\n      <td>Yes</td>\n      <td>NaN</td>\n      <td>6.866667</td>\n      <td>7.866667</td>\n      <td>8.866667</td>\n      <td>9.866667</td>\n      <td>10.866667</td>\n    </tr>\n    <tr>\n      <th>113</th>\n      <td>114</td>\n      <td>2023-03-15 00:00:00</td>\n      <td>2023-04-15 00:00:00</td>\n      <td>None</td>\n      <td>None</td>\n      <td>None</td>\n      <td>Yes</td>\n      <td>မောင်အက်ဒ်မာန်</td>\n      <td>M</td>\n      <td>2020-09-30</td>\n      <td>...</td>\n      <td>P</td>\n      <td>P</td>\n      <td>Yes</td>\n      <td>Yes</td>\n      <td>NaN</td>\n      <td>29.866667</td>\n      <td>30.866667</td>\n      <td>31.866667</td>\n      <td>32.866667</td>\n      <td>33.866667</td>\n    </tr>\n  </tbody>\n</table>\n<p>11 rows × 64 columns</p>\n</div>"
     },
     "execution_count": 30,
     "metadata": {},
     "output_type": "execute_result"
    }
   ],
   "source": [
    "w = df.loc[(df['Att1']==pd.to_datetime('3/15/2023'))&(df['Att2']==pd.to_datetime('4/15/2023')),:]\n",
    "len(w) # 97 returning in April\n",
    "w.loc[w['PreV']=='Yes',:]"
   ],
   "metadata": {
    "collapsed": false,
    "ExecuteTime": {
     "end_time": "2023-08-23T20:03:16.452778Z",
     "start_time": "2023-08-23T20:03:16.439079Z"
    }
   }
  },
  {
   "cell_type": "code",
   "execution_count": 12,
   "outputs": [
    {
     "name": "stdout",
     "output_type": "stream",
     "text": [
      "88\n"
     ]
    },
    {
     "data": {
      "text/plain": "    ReNu                 Att1                 Att2                 Att3  \\\n44    45  2023-03-15 00:00:00  2023-04-15 00:00:00  2023-05-15 00:00:00   \n46    47  2023-03-15 00:00:00                 None  2023-05-15 00:00:00   \n51    52  2023-03-15 00:00:00  2023-04-15 00:00:00  2023-05-15 00:00:00   \n65    66  2023-03-15 00:00:00  2023-04-15 00:00:00  2023-05-15 00:00:00   \n68    69  2023-03-15 00:00:00                 None  2023-05-15 00:00:00   \n70    71  2023-03-15 00:00:00  2023-04-15 00:00:00  2023-05-15 00:00:00   \n82    83  2023-03-15 00:00:00  2023-04-15 00:00:00  2023-05-15 00:00:00   \n93    94  2023-03-15 00:00:00  2023-04-15 00:00:00  2023-05-15 00:00:00   \n101  102  2023-03-15 00:00:00  2023-04-15 00:00:00  2023-05-15 00:00:00   \n108  109  2023-03-15 00:00:00  2023-04-15 00:00:00  2023-05-15 00:00:00   \n125  126                 None  2023-04-15 00:00:00  2023-05-15 00:00:00   \n126  127                 None  2023-04-15 00:00:00  2023-05-15 00:00:00   \n127  128                 None  2023-04-15 00:00:00  2023-05-15 00:00:00   \n128  129                 None  2023-04-15 00:00:00  2023-05-15 00:00:00   \n\n                    Att4                 Att5 PreV                      Name  \\\n44                  None                 None  Yes  မောင်ဘုန်းမြင့်မြတ်မောင်   \n46                  None                 None  Yes             မောင်ဘင်ဂျမင်   \n51   2023-06-15 00:00:00                 None  Yes                 မအဲလိဇဘက်   \n65   2023-06-15 00:00:00                 None  Yes             မအယ်နီရှိုင်း   \n68   2023-06-15 00:00:00                 None  Yes         မောင်အောင်ဆန်းလေး   \n70                  None                 None  Yes               နော်အဂ္ဂနက်   \n82   2023-06-15 00:00:00  2023-07-15 00:00:00  Yes                 မရေဂျီးနာ   \n93   2023-06-15 00:00:00                 None  Yes                  မောင်သုတ   \n101  2023-06-15 00:00:00                 None  Yes                    မဆားမူ   \n108  2023-06-15 00:00:00  2023-07-15 00:00:00  Yes                  မမာတီးနာ   \n125  2023-06-15 00:00:00                 None  Yes            မောင်ချားစ်ဘို   \n126                 None                 None  Yes            မောင်ဟင်နရီထူး   \n127  2023-06-15 00:00:00                 None  Yes             မောင်ဘင်ဂျမင်   \n128  2023-06-15 00:00:00                 None  Yes           မောင်ဘိုရိုမင်း   \n\n    Sex        DoB  ... P5Po2 P5Po3 P5M1 P5M2 ReDB        AGE  AGE_APR15  \\\n44    M 2022-05-05  ...   Yes    No  Yes  Yes  NaN  10.466667  11.466667   \n46    M 2022-03-08  ...     P   Yes  Yes  Yes  NaN  12.400000  13.400000   \n51    F 2021-10-03  ...   Yes   Yes  Yes  Yes  NaN  17.600000  18.600000   \n65    F 2022-03-01  ...   Yes   Yes  Yes  Yes  NaN  12.633333  13.633333   \n68    M 2022-08-24  ...   Yes    No  Yes   No  NaN   6.766667   7.766667   \n70    F 2022-02-25  ...   Yes   Yes  Yes  Yes  NaN  12.766667  13.766667   \n82    F 2022-09-07  ...   Yes   Yes  Yes  Yes  NaN   6.300000   7.300000   \n93    M 2022-08-12  ...   Yes   Yes  Yes  Yes  NaN   7.166667   8.166667   \n101   F 2022-12-30  ...   Yes   Yes   No   No  NaN   2.500000   3.500000   \n108   F 2022-08-21  ...   Yes   Yes  Yes  Yes  NaN   6.866667   7.866667   \n125   M 2022-11-17  ...   Yes   Yes   No   No  NaN   4.966667   4.966667   \n126   M 2022-10-13  ...     P   Yes   No   No  NaN   6.133333   6.133333   \n127   M 2023-01-25  ...   Yes   Yes   No   No  NaN   2.666667   2.666667   \n128   M 2022-11-01  ...   Yes   Yes   No   No  NaN   5.500000   5.500000   \n\n     AGE_MAY15 AGE_JUNE15 AGE_JULY15  \n44   12.466667  13.466667  14.466667  \n46   14.400000  15.400000  16.400000  \n51   19.600000  20.600000  21.600000  \n65   14.633333  15.633333  16.633333  \n68    8.766667   9.766667  10.766667  \n70   14.766667  15.766667  16.766667  \n82    8.300000   9.300000  10.300000  \n93    9.166667  10.166667  11.166667  \n101   4.500000   5.500000   6.500000  \n108   8.866667   9.866667  10.866667  \n125   5.966667   6.966667   7.966667  \n126   7.133333   8.133333   9.133333  \n127   3.666667   4.666667   5.666667  \n128   6.500000   7.500000   8.500000  \n\n[14 rows x 64 columns]",
      "text/html": "<div>\n<style scoped>\n    .dataframe tbody tr th:only-of-type {\n        vertical-align: middle;\n    }\n\n    .dataframe tbody tr th {\n        vertical-align: top;\n    }\n\n    .dataframe thead th {\n        text-align: right;\n    }\n</style>\n<table border=\"1\" class=\"dataframe\">\n  <thead>\n    <tr style=\"text-align: right;\">\n      <th></th>\n      <th>ReNu</th>\n      <th>Att1</th>\n      <th>Att2</th>\n      <th>Att3</th>\n      <th>Att4</th>\n      <th>Att5</th>\n      <th>PreV</th>\n      <th>Name</th>\n      <th>Sex</th>\n      <th>DoB</th>\n      <th>...</th>\n      <th>P5Po2</th>\n      <th>P5Po3</th>\n      <th>P5M1</th>\n      <th>P5M2</th>\n      <th>ReDB</th>\n      <th>AGE</th>\n      <th>AGE_APR15</th>\n      <th>AGE_MAY15</th>\n      <th>AGE_JUNE15</th>\n      <th>AGE_JULY15</th>\n    </tr>\n  </thead>\n  <tbody>\n    <tr>\n      <th>44</th>\n      <td>45</td>\n      <td>2023-03-15 00:00:00</td>\n      <td>2023-04-15 00:00:00</td>\n      <td>2023-05-15 00:00:00</td>\n      <td>None</td>\n      <td>None</td>\n      <td>Yes</td>\n      <td>မောင်ဘုန်းမြင့်မြတ်မောင်</td>\n      <td>M</td>\n      <td>2022-05-05</td>\n      <td>...</td>\n      <td>Yes</td>\n      <td>No</td>\n      <td>Yes</td>\n      <td>Yes</td>\n      <td>NaN</td>\n      <td>10.466667</td>\n      <td>11.466667</td>\n      <td>12.466667</td>\n      <td>13.466667</td>\n      <td>14.466667</td>\n    </tr>\n    <tr>\n      <th>46</th>\n      <td>47</td>\n      <td>2023-03-15 00:00:00</td>\n      <td>None</td>\n      <td>2023-05-15 00:00:00</td>\n      <td>None</td>\n      <td>None</td>\n      <td>Yes</td>\n      <td>မောင်ဘင်ဂျမင်</td>\n      <td>M</td>\n      <td>2022-03-08</td>\n      <td>...</td>\n      <td>P</td>\n      <td>Yes</td>\n      <td>Yes</td>\n      <td>Yes</td>\n      <td>NaN</td>\n      <td>12.400000</td>\n      <td>13.400000</td>\n      <td>14.400000</td>\n      <td>15.400000</td>\n      <td>16.400000</td>\n    </tr>\n    <tr>\n      <th>51</th>\n      <td>52</td>\n      <td>2023-03-15 00:00:00</td>\n      <td>2023-04-15 00:00:00</td>\n      <td>2023-05-15 00:00:00</td>\n      <td>2023-06-15 00:00:00</td>\n      <td>None</td>\n      <td>Yes</td>\n      <td>မအဲလိဇဘက်</td>\n      <td>F</td>\n      <td>2021-10-03</td>\n      <td>...</td>\n      <td>Yes</td>\n      <td>Yes</td>\n      <td>Yes</td>\n      <td>Yes</td>\n      <td>NaN</td>\n      <td>17.600000</td>\n      <td>18.600000</td>\n      <td>19.600000</td>\n      <td>20.600000</td>\n      <td>21.600000</td>\n    </tr>\n    <tr>\n      <th>65</th>\n      <td>66</td>\n      <td>2023-03-15 00:00:00</td>\n      <td>2023-04-15 00:00:00</td>\n      <td>2023-05-15 00:00:00</td>\n      <td>2023-06-15 00:00:00</td>\n      <td>None</td>\n      <td>Yes</td>\n      <td>မအယ်နီရှိုင်း</td>\n      <td>F</td>\n      <td>2022-03-01</td>\n      <td>...</td>\n      <td>Yes</td>\n      <td>Yes</td>\n      <td>Yes</td>\n      <td>Yes</td>\n      <td>NaN</td>\n      <td>12.633333</td>\n      <td>13.633333</td>\n      <td>14.633333</td>\n      <td>15.633333</td>\n      <td>16.633333</td>\n    </tr>\n    <tr>\n      <th>68</th>\n      <td>69</td>\n      <td>2023-03-15 00:00:00</td>\n      <td>None</td>\n      <td>2023-05-15 00:00:00</td>\n      <td>2023-06-15 00:00:00</td>\n      <td>None</td>\n      <td>Yes</td>\n      <td>မောင်အောင်ဆန်းလေး</td>\n      <td>M</td>\n      <td>2022-08-24</td>\n      <td>...</td>\n      <td>Yes</td>\n      <td>No</td>\n      <td>Yes</td>\n      <td>No</td>\n      <td>NaN</td>\n      <td>6.766667</td>\n      <td>7.766667</td>\n      <td>8.766667</td>\n      <td>9.766667</td>\n      <td>10.766667</td>\n    </tr>\n    <tr>\n      <th>70</th>\n      <td>71</td>\n      <td>2023-03-15 00:00:00</td>\n      <td>2023-04-15 00:00:00</td>\n      <td>2023-05-15 00:00:00</td>\n      <td>None</td>\n      <td>None</td>\n      <td>Yes</td>\n      <td>နော်အဂ္ဂနက်</td>\n      <td>F</td>\n      <td>2022-02-25</td>\n      <td>...</td>\n      <td>Yes</td>\n      <td>Yes</td>\n      <td>Yes</td>\n      <td>Yes</td>\n      <td>NaN</td>\n      <td>12.766667</td>\n      <td>13.766667</td>\n      <td>14.766667</td>\n      <td>15.766667</td>\n      <td>16.766667</td>\n    </tr>\n    <tr>\n      <th>82</th>\n      <td>83</td>\n      <td>2023-03-15 00:00:00</td>\n      <td>2023-04-15 00:00:00</td>\n      <td>2023-05-15 00:00:00</td>\n      <td>2023-06-15 00:00:00</td>\n      <td>2023-07-15 00:00:00</td>\n      <td>Yes</td>\n      <td>မရေဂျီးနာ</td>\n      <td>F</td>\n      <td>2022-09-07</td>\n      <td>...</td>\n      <td>Yes</td>\n      <td>Yes</td>\n      <td>Yes</td>\n      <td>Yes</td>\n      <td>NaN</td>\n      <td>6.300000</td>\n      <td>7.300000</td>\n      <td>8.300000</td>\n      <td>9.300000</td>\n      <td>10.300000</td>\n    </tr>\n    <tr>\n      <th>93</th>\n      <td>94</td>\n      <td>2023-03-15 00:00:00</td>\n      <td>2023-04-15 00:00:00</td>\n      <td>2023-05-15 00:00:00</td>\n      <td>2023-06-15 00:00:00</td>\n      <td>None</td>\n      <td>Yes</td>\n      <td>မောင်သုတ</td>\n      <td>M</td>\n      <td>2022-08-12</td>\n      <td>...</td>\n      <td>Yes</td>\n      <td>Yes</td>\n      <td>Yes</td>\n      <td>Yes</td>\n      <td>NaN</td>\n      <td>7.166667</td>\n      <td>8.166667</td>\n      <td>9.166667</td>\n      <td>10.166667</td>\n      <td>11.166667</td>\n    </tr>\n    <tr>\n      <th>101</th>\n      <td>102</td>\n      <td>2023-03-15 00:00:00</td>\n      <td>2023-04-15 00:00:00</td>\n      <td>2023-05-15 00:00:00</td>\n      <td>2023-06-15 00:00:00</td>\n      <td>None</td>\n      <td>Yes</td>\n      <td>မဆားမူ</td>\n      <td>F</td>\n      <td>2022-12-30</td>\n      <td>...</td>\n      <td>Yes</td>\n      <td>Yes</td>\n      <td>No</td>\n      <td>No</td>\n      <td>NaN</td>\n      <td>2.500000</td>\n      <td>3.500000</td>\n      <td>4.500000</td>\n      <td>5.500000</td>\n      <td>6.500000</td>\n    </tr>\n    <tr>\n      <th>108</th>\n      <td>109</td>\n      <td>2023-03-15 00:00:00</td>\n      <td>2023-04-15 00:00:00</td>\n      <td>2023-05-15 00:00:00</td>\n      <td>2023-06-15 00:00:00</td>\n      <td>2023-07-15 00:00:00</td>\n      <td>Yes</td>\n      <td>မမာတီးနာ</td>\n      <td>F</td>\n      <td>2022-08-21</td>\n      <td>...</td>\n      <td>Yes</td>\n      <td>Yes</td>\n      <td>Yes</td>\n      <td>Yes</td>\n      <td>NaN</td>\n      <td>6.866667</td>\n      <td>7.866667</td>\n      <td>8.866667</td>\n      <td>9.866667</td>\n      <td>10.866667</td>\n    </tr>\n    <tr>\n      <th>125</th>\n      <td>126</td>\n      <td>None</td>\n      <td>2023-04-15 00:00:00</td>\n      <td>2023-05-15 00:00:00</td>\n      <td>2023-06-15 00:00:00</td>\n      <td>None</td>\n      <td>Yes</td>\n      <td>မောင်ချားစ်ဘို</td>\n      <td>M</td>\n      <td>2022-11-17</td>\n      <td>...</td>\n      <td>Yes</td>\n      <td>Yes</td>\n      <td>No</td>\n      <td>No</td>\n      <td>NaN</td>\n      <td>4.966667</td>\n      <td>4.966667</td>\n      <td>5.966667</td>\n      <td>6.966667</td>\n      <td>7.966667</td>\n    </tr>\n    <tr>\n      <th>126</th>\n      <td>127</td>\n      <td>None</td>\n      <td>2023-04-15 00:00:00</td>\n      <td>2023-05-15 00:00:00</td>\n      <td>None</td>\n      <td>None</td>\n      <td>Yes</td>\n      <td>မောင်ဟင်နရီထူး</td>\n      <td>M</td>\n      <td>2022-10-13</td>\n      <td>...</td>\n      <td>P</td>\n      <td>Yes</td>\n      <td>No</td>\n      <td>No</td>\n      <td>NaN</td>\n      <td>6.133333</td>\n      <td>6.133333</td>\n      <td>7.133333</td>\n      <td>8.133333</td>\n      <td>9.133333</td>\n    </tr>\n    <tr>\n      <th>127</th>\n      <td>128</td>\n      <td>None</td>\n      <td>2023-04-15 00:00:00</td>\n      <td>2023-05-15 00:00:00</td>\n      <td>2023-06-15 00:00:00</td>\n      <td>None</td>\n      <td>Yes</td>\n      <td>မောင်ဘင်ဂျမင်</td>\n      <td>M</td>\n      <td>2023-01-25</td>\n      <td>...</td>\n      <td>Yes</td>\n      <td>Yes</td>\n      <td>No</td>\n      <td>No</td>\n      <td>NaN</td>\n      <td>2.666667</td>\n      <td>2.666667</td>\n      <td>3.666667</td>\n      <td>4.666667</td>\n      <td>5.666667</td>\n    </tr>\n    <tr>\n      <th>128</th>\n      <td>129</td>\n      <td>None</td>\n      <td>2023-04-15 00:00:00</td>\n      <td>2023-05-15 00:00:00</td>\n      <td>2023-06-15 00:00:00</td>\n      <td>None</td>\n      <td>Yes</td>\n      <td>မောင်ဘိုရိုမင်း</td>\n      <td>M</td>\n      <td>2022-11-01</td>\n      <td>...</td>\n      <td>Yes</td>\n      <td>Yes</td>\n      <td>No</td>\n      <td>No</td>\n      <td>NaN</td>\n      <td>5.500000</td>\n      <td>5.500000</td>\n      <td>6.500000</td>\n      <td>7.500000</td>\n      <td>8.500000</td>\n    </tr>\n  </tbody>\n</table>\n<p>14 rows × 64 columns</p>\n</div>"
     },
     "execution_count": 12,
     "metadata": {},
     "output_type": "execute_result"
    }
   ],
   "source": [
    "x=df.loc[( (df['Att2']==pd.to_datetime('4/15/2023')) | (df['Att1']==pd.to_datetime('3/15/2023')) )\n",
    "       &(df['Att3']==pd.to_datetime('5/15/2023')),:] # 88 returning in May\n",
    "print(len(x))\n",
    "x.loc[x['PreV']=='Yes',:]"
   ],
   "metadata": {
    "collapsed": false,
    "ExecuteTime": {
     "end_time": "2023-08-30T18:28:32.694666Z",
     "start_time": "2023-08-30T18:28:32.657280Z"
    }
   }
  },
  {
   "cell_type": "code",
   "execution_count": 13,
   "outputs": [
    {
     "data": {
      "text/plain": "0.8409090909090909"
     },
     "execution_count": 13,
     "metadata": {},
     "output_type": "execute_result"
    }
   ],
   "source": [
    "74/88"
   ],
   "metadata": {
    "collapsed": false,
    "ExecuteTime": {
     "end_time": "2023-08-30T18:28:50.710365Z",
     "start_time": "2023-08-30T18:28:50.698819Z"
    }
   }
  },
  {
   "cell_type": "code",
   "execution_count": 34,
   "outputs": [
    {
     "data": {
      "text/plain": "    ReNu                 Att1                 Att2                 Att3  \\\n51    52  2023-03-15 00:00:00  2023-04-15 00:00:00  2023-05-15 00:00:00   \n65    66  2023-03-15 00:00:00  2023-04-15 00:00:00  2023-05-15 00:00:00   \n68    69  2023-03-15 00:00:00                 None  2023-05-15 00:00:00   \n82    83  2023-03-15 00:00:00  2023-04-15 00:00:00  2023-05-15 00:00:00   \n93    94  2023-03-15 00:00:00  2023-04-15 00:00:00  2023-05-15 00:00:00   \n101  102  2023-03-15 00:00:00  2023-04-15 00:00:00  2023-05-15 00:00:00   \n108  109  2023-03-15 00:00:00  2023-04-15 00:00:00  2023-05-15 00:00:00   \n125  126                 None  2023-04-15 00:00:00  2023-05-15 00:00:00   \n127  128                 None  2023-04-15 00:00:00  2023-05-15 00:00:00   \n128  129                 None  2023-04-15 00:00:00  2023-05-15 00:00:00   \n134  135                 None                 None  2023-05-15 00:00:00   \n139  140                 None                 None  2023-05-15 00:00:00   \n\n                    Att4                 Att5 PreV               Name Sex  \\\n51   2023-06-15 00:00:00                 None  Yes          မအဲလိဇဘက်   F   \n65   2023-06-15 00:00:00                 None  Yes      မအယ်နီရှိုင်း   F   \n68   2023-06-15 00:00:00                 None  Yes  မောင်အောင်ဆန်းလေး   M   \n82   2023-06-15 00:00:00  2023-07-15 00:00:00  Yes          မရေဂျီးနာ   F   \n93   2023-06-15 00:00:00                 None  Yes           မောင်သုတ   M   \n101  2023-06-15 00:00:00                 None  Yes             မဆားမူ   F   \n108  2023-06-15 00:00:00  2023-07-15 00:00:00  Yes           မမာတီးနာ   F   \n125  2023-06-15 00:00:00                 None  Yes     မောင်ချားစ်ဘို   M   \n127  2023-06-15 00:00:00                 None  Yes      မောင်ဘင်ဂျမင်   M   \n128  2023-06-15 00:00:00                 None  Yes    မောင်ဘိုရိုမင်း   M   \n134  2023-06-15 00:00:00                 None  Yes       မရိုဇားရီးယာ   F   \n139  2023-06-15 00:00:00                 None  Yes          မရီုစီးဝေ   F   \n\n           DoB  ... P5Po2 P5Po3 P5M1 P5M2 ReDB        AGE  AGE_APR15  \\\n51  2021-10-03  ...   Yes   Yes  Yes  Yes  NaN  17.600000  18.600000   \n65  2022-03-01  ...   Yes   Yes  Yes  Yes  NaN  12.633333  13.633333   \n68  2022-08-24  ...   Yes    No  Yes   No  NaN   6.766667   7.766667   \n82  2022-09-07  ...   Yes   Yes  Yes  Yes  NaN   6.300000   7.300000   \n93  2022-08-12  ...   Yes   Yes  Yes  Yes  NaN   7.166667   8.166667   \n101 2022-12-30  ...   Yes   Yes   No   No  NaN   2.500000   3.500000   \n108 2022-08-21  ...   Yes   Yes  Yes  Yes  NaN   6.866667   7.866667   \n125 2022-11-17  ...   Yes   Yes   No   No  NaN   4.966667   4.966667   \n127 2023-01-25  ...   Yes   Yes   No   No  NaN   2.666667   2.666667   \n128 2022-11-01  ...   Yes   Yes   No   No  NaN   5.500000   5.500000   \n134 2021-10-07  ...   Yes   Yes  Yes  Yes  NaN  19.500000  18.500000   \n139 2022-05-16  ...   Yes    No  Yes   No  NaN  12.133333  11.133333   \n\n     AGE_MAY15 AGE_JUNE15 AGE_JULY15  \n51   19.600000  20.600000  21.600000  \n65   14.633333  15.633333  16.633333  \n68    8.766667   9.766667  10.766667  \n82    8.300000   9.300000  10.300000  \n93    9.166667  10.166667  11.166667  \n101   4.500000   5.500000   6.500000  \n108   8.866667   9.866667  10.866667  \n125   5.966667   6.966667   7.966667  \n127   3.666667   4.666667   5.666667  \n128   6.500000   7.500000   8.500000  \n134  19.500000  20.500000  21.500000  \n139  12.133333  13.133333  14.133333  \n\n[12 rows x 64 columns]",
      "text/html": "<div>\n<style scoped>\n    .dataframe tbody tr th:only-of-type {\n        vertical-align: middle;\n    }\n\n    .dataframe tbody tr th {\n        vertical-align: top;\n    }\n\n    .dataframe thead th {\n        text-align: right;\n    }\n</style>\n<table border=\"1\" class=\"dataframe\">\n  <thead>\n    <tr style=\"text-align: right;\">\n      <th></th>\n      <th>ReNu</th>\n      <th>Att1</th>\n      <th>Att2</th>\n      <th>Att3</th>\n      <th>Att4</th>\n      <th>Att5</th>\n      <th>PreV</th>\n      <th>Name</th>\n      <th>Sex</th>\n      <th>DoB</th>\n      <th>...</th>\n      <th>P5Po2</th>\n      <th>P5Po3</th>\n      <th>P5M1</th>\n      <th>P5M2</th>\n      <th>ReDB</th>\n      <th>AGE</th>\n      <th>AGE_APR15</th>\n      <th>AGE_MAY15</th>\n      <th>AGE_JUNE15</th>\n      <th>AGE_JULY15</th>\n    </tr>\n  </thead>\n  <tbody>\n    <tr>\n      <th>51</th>\n      <td>52</td>\n      <td>2023-03-15 00:00:00</td>\n      <td>2023-04-15 00:00:00</td>\n      <td>2023-05-15 00:00:00</td>\n      <td>2023-06-15 00:00:00</td>\n      <td>None</td>\n      <td>Yes</td>\n      <td>မအဲလိဇဘက်</td>\n      <td>F</td>\n      <td>2021-10-03</td>\n      <td>...</td>\n      <td>Yes</td>\n      <td>Yes</td>\n      <td>Yes</td>\n      <td>Yes</td>\n      <td>NaN</td>\n      <td>17.600000</td>\n      <td>18.600000</td>\n      <td>19.600000</td>\n      <td>20.600000</td>\n      <td>21.600000</td>\n    </tr>\n    <tr>\n      <th>65</th>\n      <td>66</td>\n      <td>2023-03-15 00:00:00</td>\n      <td>2023-04-15 00:00:00</td>\n      <td>2023-05-15 00:00:00</td>\n      <td>2023-06-15 00:00:00</td>\n      <td>None</td>\n      <td>Yes</td>\n      <td>မအယ်နီရှိုင်း</td>\n      <td>F</td>\n      <td>2022-03-01</td>\n      <td>...</td>\n      <td>Yes</td>\n      <td>Yes</td>\n      <td>Yes</td>\n      <td>Yes</td>\n      <td>NaN</td>\n      <td>12.633333</td>\n      <td>13.633333</td>\n      <td>14.633333</td>\n      <td>15.633333</td>\n      <td>16.633333</td>\n    </tr>\n    <tr>\n      <th>68</th>\n      <td>69</td>\n      <td>2023-03-15 00:00:00</td>\n      <td>None</td>\n      <td>2023-05-15 00:00:00</td>\n      <td>2023-06-15 00:00:00</td>\n      <td>None</td>\n      <td>Yes</td>\n      <td>မောင်အောင်ဆန်းလေး</td>\n      <td>M</td>\n      <td>2022-08-24</td>\n      <td>...</td>\n      <td>Yes</td>\n      <td>No</td>\n      <td>Yes</td>\n      <td>No</td>\n      <td>NaN</td>\n      <td>6.766667</td>\n      <td>7.766667</td>\n      <td>8.766667</td>\n      <td>9.766667</td>\n      <td>10.766667</td>\n    </tr>\n    <tr>\n      <th>82</th>\n      <td>83</td>\n      <td>2023-03-15 00:00:00</td>\n      <td>2023-04-15 00:00:00</td>\n      <td>2023-05-15 00:00:00</td>\n      <td>2023-06-15 00:00:00</td>\n      <td>2023-07-15 00:00:00</td>\n      <td>Yes</td>\n      <td>မရေဂျီးနာ</td>\n      <td>F</td>\n      <td>2022-09-07</td>\n      <td>...</td>\n      <td>Yes</td>\n      <td>Yes</td>\n      <td>Yes</td>\n      <td>Yes</td>\n      <td>NaN</td>\n      <td>6.300000</td>\n      <td>7.300000</td>\n      <td>8.300000</td>\n      <td>9.300000</td>\n      <td>10.300000</td>\n    </tr>\n    <tr>\n      <th>93</th>\n      <td>94</td>\n      <td>2023-03-15 00:00:00</td>\n      <td>2023-04-15 00:00:00</td>\n      <td>2023-05-15 00:00:00</td>\n      <td>2023-06-15 00:00:00</td>\n      <td>None</td>\n      <td>Yes</td>\n      <td>မောင်သုတ</td>\n      <td>M</td>\n      <td>2022-08-12</td>\n      <td>...</td>\n      <td>Yes</td>\n      <td>Yes</td>\n      <td>Yes</td>\n      <td>Yes</td>\n      <td>NaN</td>\n      <td>7.166667</td>\n      <td>8.166667</td>\n      <td>9.166667</td>\n      <td>10.166667</td>\n      <td>11.166667</td>\n    </tr>\n    <tr>\n      <th>101</th>\n      <td>102</td>\n      <td>2023-03-15 00:00:00</td>\n      <td>2023-04-15 00:00:00</td>\n      <td>2023-05-15 00:00:00</td>\n      <td>2023-06-15 00:00:00</td>\n      <td>None</td>\n      <td>Yes</td>\n      <td>မဆားမူ</td>\n      <td>F</td>\n      <td>2022-12-30</td>\n      <td>...</td>\n      <td>Yes</td>\n      <td>Yes</td>\n      <td>No</td>\n      <td>No</td>\n      <td>NaN</td>\n      <td>2.500000</td>\n      <td>3.500000</td>\n      <td>4.500000</td>\n      <td>5.500000</td>\n      <td>6.500000</td>\n    </tr>\n    <tr>\n      <th>108</th>\n      <td>109</td>\n      <td>2023-03-15 00:00:00</td>\n      <td>2023-04-15 00:00:00</td>\n      <td>2023-05-15 00:00:00</td>\n      <td>2023-06-15 00:00:00</td>\n      <td>2023-07-15 00:00:00</td>\n      <td>Yes</td>\n      <td>မမာတီးနာ</td>\n      <td>F</td>\n      <td>2022-08-21</td>\n      <td>...</td>\n      <td>Yes</td>\n      <td>Yes</td>\n      <td>Yes</td>\n      <td>Yes</td>\n      <td>NaN</td>\n      <td>6.866667</td>\n      <td>7.866667</td>\n      <td>8.866667</td>\n      <td>9.866667</td>\n      <td>10.866667</td>\n    </tr>\n    <tr>\n      <th>125</th>\n      <td>126</td>\n      <td>None</td>\n      <td>2023-04-15 00:00:00</td>\n      <td>2023-05-15 00:00:00</td>\n      <td>2023-06-15 00:00:00</td>\n      <td>None</td>\n      <td>Yes</td>\n      <td>မောင်ချားစ်ဘို</td>\n      <td>M</td>\n      <td>2022-11-17</td>\n      <td>...</td>\n      <td>Yes</td>\n      <td>Yes</td>\n      <td>No</td>\n      <td>No</td>\n      <td>NaN</td>\n      <td>4.966667</td>\n      <td>4.966667</td>\n      <td>5.966667</td>\n      <td>6.966667</td>\n      <td>7.966667</td>\n    </tr>\n    <tr>\n      <th>127</th>\n      <td>128</td>\n      <td>None</td>\n      <td>2023-04-15 00:00:00</td>\n      <td>2023-05-15 00:00:00</td>\n      <td>2023-06-15 00:00:00</td>\n      <td>None</td>\n      <td>Yes</td>\n      <td>မောင်ဘင်ဂျမင်</td>\n      <td>M</td>\n      <td>2023-01-25</td>\n      <td>...</td>\n      <td>Yes</td>\n      <td>Yes</td>\n      <td>No</td>\n      <td>No</td>\n      <td>NaN</td>\n      <td>2.666667</td>\n      <td>2.666667</td>\n      <td>3.666667</td>\n      <td>4.666667</td>\n      <td>5.666667</td>\n    </tr>\n    <tr>\n      <th>128</th>\n      <td>129</td>\n      <td>None</td>\n      <td>2023-04-15 00:00:00</td>\n      <td>2023-05-15 00:00:00</td>\n      <td>2023-06-15 00:00:00</td>\n      <td>None</td>\n      <td>Yes</td>\n      <td>မောင်ဘိုရိုမင်း</td>\n      <td>M</td>\n      <td>2022-11-01</td>\n      <td>...</td>\n      <td>Yes</td>\n      <td>Yes</td>\n      <td>No</td>\n      <td>No</td>\n      <td>NaN</td>\n      <td>5.500000</td>\n      <td>5.500000</td>\n      <td>6.500000</td>\n      <td>7.500000</td>\n      <td>8.500000</td>\n    </tr>\n    <tr>\n      <th>134</th>\n      <td>135</td>\n      <td>None</td>\n      <td>None</td>\n      <td>2023-05-15 00:00:00</td>\n      <td>2023-06-15 00:00:00</td>\n      <td>None</td>\n      <td>Yes</td>\n      <td>မရိုဇားရီးယာ</td>\n      <td>F</td>\n      <td>2021-10-07</td>\n      <td>...</td>\n      <td>Yes</td>\n      <td>Yes</td>\n      <td>Yes</td>\n      <td>Yes</td>\n      <td>NaN</td>\n      <td>19.500000</td>\n      <td>18.500000</td>\n      <td>19.500000</td>\n      <td>20.500000</td>\n      <td>21.500000</td>\n    </tr>\n    <tr>\n      <th>139</th>\n      <td>140</td>\n      <td>None</td>\n      <td>None</td>\n      <td>2023-05-15 00:00:00</td>\n      <td>2023-06-15 00:00:00</td>\n      <td>None</td>\n      <td>Yes</td>\n      <td>မရီုစီးဝေ</td>\n      <td>F</td>\n      <td>2022-05-16</td>\n      <td>...</td>\n      <td>Yes</td>\n      <td>No</td>\n      <td>Yes</td>\n      <td>No</td>\n      <td>NaN</td>\n      <td>12.133333</td>\n      <td>11.133333</td>\n      <td>12.133333</td>\n      <td>13.133333</td>\n      <td>14.133333</td>\n    </tr>\n  </tbody>\n</table>\n<p>12 rows × 64 columns</p>\n</div>"
     },
     "execution_count": 34,
     "metadata": {},
     "output_type": "execute_result"
    }
   ],
   "source": [
    "y = df.loc[( (df['Att1']==pd.to_datetime('3/15/2023'))|(df['Att2']==pd.to_datetime('4/15/2023'))|(df['Att3']==pd.to_datetime('5/15/2023')) )&(df['Att4']==pd.to_datetime('6/15/2023')),:] # 108 returning in June\n",
    "len(y)\n",
    "y.loc[y['PreV']=='Yes',:]"
   ],
   "metadata": {
    "collapsed": false,
    "ExecuteTime": {
     "end_time": "2023-08-23T20:04:41.196807Z",
     "start_time": "2023-08-23T20:04:41.168885Z"
    }
   }
  },
  {
   "cell_type": "code",
   "execution_count": 36,
   "outputs": [
    {
     "data": {
      "text/plain": "    ReNu                 Att1                 Att2                 Att3  \\\n81    82  2023-03-15 00:00:00  2023-04-15 00:00:00                 None   \n82    83  2023-03-15 00:00:00  2023-04-15 00:00:00  2023-05-15 00:00:00   \n108  109  2023-03-15 00:00:00  2023-04-15 00:00:00  2023-05-15 00:00:00   \n145  146                 None                 None                 None   \n146  147                 None                 None                 None   \n154  155                 None                 None                 None   \n157  158                 None                 None                 None   \n\n                    Att4                 Att5 PreV                 Name Sex  \\\n81                  None  2023-07-15 00:00:00  Yes        မောင်ဂျေရုမ်း   M   \n82   2023-06-15 00:00:00  2023-07-15 00:00:00  Yes            မရေဂျီးနာ   F   \n108  2023-06-15 00:00:00  2023-07-15 00:00:00  Yes             မမာတီးနာ   F   \n145  2023-06-15 00:00:00  2023-07-15 00:00:00  Yes      မောင်အောင်အောင်   M   \n146  2023-06-15 00:00:00  2023-07-15 00:00:00  Yes  မောင်ဂျက်စတင်းဂူဂူး   M   \n154  2023-06-15 00:00:00  2023-07-15 00:00:00  Yes         မမော်စေးမိုး   F   \n157  2023-06-15 00:00:00  2023-07-15 00:00:00  Yes     မဟိုစဲအယ်မီယာထူး   F   \n\n           DoB  ... P5Po2 P5Po3 P5M1 P5M2 ReDB        AGE  AGE_APR15  \\\n81  2022-09-30  ...     P   Yes  Yes   No  NaN   5.533333   6.533333   \n82  2022-09-07  ...   Yes   Yes  Yes  Yes  NaN   6.300000   7.300000   \n108 2022-08-21  ...   Yes   Yes  Yes  Yes  NaN   6.866667   7.866667   \n145 2021-09-28  ...   Yes   Yes  Yes  Yes  NaN  20.833333  18.833333   \n146 2021-12-13  ...   Yes   Yes  Yes  Yes  NaN  18.300000  16.300000   \n154 2022-09-12  ...     P     P  Yes  Yes  NaN   9.200000   7.200000   \n157 2022-08-10  ...     P     P  Yes  Yes  NaN  10.300000   8.300000   \n\n     AGE_MAY15 AGE_JUNE15 AGE_JULY15  \n81    7.533333   8.533333   9.533333  \n82    8.300000   9.300000  10.300000  \n108   8.866667   9.866667  10.866667  \n145  19.833333  20.833333  21.833333  \n146  17.300000  18.300000  19.300000  \n154   8.200000   9.200000  10.200000  \n157   9.300000  10.300000  11.300000  \n\n[7 rows x 64 columns]",
      "text/html": "<div>\n<style scoped>\n    .dataframe tbody tr th:only-of-type {\n        vertical-align: middle;\n    }\n\n    .dataframe tbody tr th {\n        vertical-align: top;\n    }\n\n    .dataframe thead th {\n        text-align: right;\n    }\n</style>\n<table border=\"1\" class=\"dataframe\">\n  <thead>\n    <tr style=\"text-align: right;\">\n      <th></th>\n      <th>ReNu</th>\n      <th>Att1</th>\n      <th>Att2</th>\n      <th>Att3</th>\n      <th>Att4</th>\n      <th>Att5</th>\n      <th>PreV</th>\n      <th>Name</th>\n      <th>Sex</th>\n      <th>DoB</th>\n      <th>...</th>\n      <th>P5Po2</th>\n      <th>P5Po3</th>\n      <th>P5M1</th>\n      <th>P5M2</th>\n      <th>ReDB</th>\n      <th>AGE</th>\n      <th>AGE_APR15</th>\n      <th>AGE_MAY15</th>\n      <th>AGE_JUNE15</th>\n      <th>AGE_JULY15</th>\n    </tr>\n  </thead>\n  <tbody>\n    <tr>\n      <th>81</th>\n      <td>82</td>\n      <td>2023-03-15 00:00:00</td>\n      <td>2023-04-15 00:00:00</td>\n      <td>None</td>\n      <td>None</td>\n      <td>2023-07-15 00:00:00</td>\n      <td>Yes</td>\n      <td>မောင်ဂျေရုမ်း</td>\n      <td>M</td>\n      <td>2022-09-30</td>\n      <td>...</td>\n      <td>P</td>\n      <td>Yes</td>\n      <td>Yes</td>\n      <td>No</td>\n      <td>NaN</td>\n      <td>5.533333</td>\n      <td>6.533333</td>\n      <td>7.533333</td>\n      <td>8.533333</td>\n      <td>9.533333</td>\n    </tr>\n    <tr>\n      <th>82</th>\n      <td>83</td>\n      <td>2023-03-15 00:00:00</td>\n      <td>2023-04-15 00:00:00</td>\n      <td>2023-05-15 00:00:00</td>\n      <td>2023-06-15 00:00:00</td>\n      <td>2023-07-15 00:00:00</td>\n      <td>Yes</td>\n      <td>မရေဂျီးနာ</td>\n      <td>F</td>\n      <td>2022-09-07</td>\n      <td>...</td>\n      <td>Yes</td>\n      <td>Yes</td>\n      <td>Yes</td>\n      <td>Yes</td>\n      <td>NaN</td>\n      <td>6.300000</td>\n      <td>7.300000</td>\n      <td>8.300000</td>\n      <td>9.300000</td>\n      <td>10.300000</td>\n    </tr>\n    <tr>\n      <th>108</th>\n      <td>109</td>\n      <td>2023-03-15 00:00:00</td>\n      <td>2023-04-15 00:00:00</td>\n      <td>2023-05-15 00:00:00</td>\n      <td>2023-06-15 00:00:00</td>\n      <td>2023-07-15 00:00:00</td>\n      <td>Yes</td>\n      <td>မမာတီးနာ</td>\n      <td>F</td>\n      <td>2022-08-21</td>\n      <td>...</td>\n      <td>Yes</td>\n      <td>Yes</td>\n      <td>Yes</td>\n      <td>Yes</td>\n      <td>NaN</td>\n      <td>6.866667</td>\n      <td>7.866667</td>\n      <td>8.866667</td>\n      <td>9.866667</td>\n      <td>10.866667</td>\n    </tr>\n    <tr>\n      <th>145</th>\n      <td>146</td>\n      <td>None</td>\n      <td>None</td>\n      <td>None</td>\n      <td>2023-06-15 00:00:00</td>\n      <td>2023-07-15 00:00:00</td>\n      <td>Yes</td>\n      <td>မောင်အောင်အောင်</td>\n      <td>M</td>\n      <td>2021-09-28</td>\n      <td>...</td>\n      <td>Yes</td>\n      <td>Yes</td>\n      <td>Yes</td>\n      <td>Yes</td>\n      <td>NaN</td>\n      <td>20.833333</td>\n      <td>18.833333</td>\n      <td>19.833333</td>\n      <td>20.833333</td>\n      <td>21.833333</td>\n    </tr>\n    <tr>\n      <th>146</th>\n      <td>147</td>\n      <td>None</td>\n      <td>None</td>\n      <td>None</td>\n      <td>2023-06-15 00:00:00</td>\n      <td>2023-07-15 00:00:00</td>\n      <td>Yes</td>\n      <td>မောင်ဂျက်စတင်းဂူဂူး</td>\n      <td>M</td>\n      <td>2021-12-13</td>\n      <td>...</td>\n      <td>Yes</td>\n      <td>Yes</td>\n      <td>Yes</td>\n      <td>Yes</td>\n      <td>NaN</td>\n      <td>18.300000</td>\n      <td>16.300000</td>\n      <td>17.300000</td>\n      <td>18.300000</td>\n      <td>19.300000</td>\n    </tr>\n    <tr>\n      <th>154</th>\n      <td>155</td>\n      <td>None</td>\n      <td>None</td>\n      <td>None</td>\n      <td>2023-06-15 00:00:00</td>\n      <td>2023-07-15 00:00:00</td>\n      <td>Yes</td>\n      <td>မမော်စေးမိုး</td>\n      <td>F</td>\n      <td>2022-09-12</td>\n      <td>...</td>\n      <td>P</td>\n      <td>P</td>\n      <td>Yes</td>\n      <td>Yes</td>\n      <td>NaN</td>\n      <td>9.200000</td>\n      <td>7.200000</td>\n      <td>8.200000</td>\n      <td>9.200000</td>\n      <td>10.200000</td>\n    </tr>\n    <tr>\n      <th>157</th>\n      <td>158</td>\n      <td>None</td>\n      <td>None</td>\n      <td>None</td>\n      <td>2023-06-15 00:00:00</td>\n      <td>2023-07-15 00:00:00</td>\n      <td>Yes</td>\n      <td>မဟိုစဲအယ်မီယာထူး</td>\n      <td>F</td>\n      <td>2022-08-10</td>\n      <td>...</td>\n      <td>P</td>\n      <td>P</td>\n      <td>Yes</td>\n      <td>Yes</td>\n      <td>NaN</td>\n      <td>10.300000</td>\n      <td>8.300000</td>\n      <td>9.300000</td>\n      <td>10.300000</td>\n      <td>11.300000</td>\n    </tr>\n  </tbody>\n</table>\n<p>7 rows × 64 columns</p>\n</div>"
     },
     "execution_count": 36,
     "metadata": {},
     "output_type": "execute_result"
    }
   ],
   "source": [
    "z = df.loc[( (df['Att1']==pd.to_datetime('3/15/2023'))|(df['Att2']==pd.to_datetime('4/15/2023'))|(df['Att3']==pd.to_datetime('5/15/2023')) |(df['Att4']==pd.to_datetime('6/15/2023')) )&(df['Att5']==pd.to_datetime('7/15/2023')),:] # 44 returning in July\n",
    "len(z)\n",
    "z.loc[z['PreV']=='Yes',:]"
   ],
   "metadata": {
    "collapsed": false,
    "ExecuteTime": {
     "end_time": "2023-08-23T20:05:29.581350Z",
     "start_time": "2023-08-23T20:05:29.551265Z"
    }
   }
  },
  {
   "cell_type": "code",
   "execution_count": 21,
   "metadata": {
    "ExecuteTime": {
     "end_time": "2023-08-15T03:00:37.790035Z",
     "start_time": "2023-08-15T03:00:37.766833Z"
    }
   },
   "outputs": [],
   "source": [
    "x = df.loc[(df['ReNu'] != 'NO SHOW')&(df['AGE']<=12)&(df['AGE_MAY15']>=2)\n",
    "           &(df['PreV']=='No')&(df['AGE_JUNE15']>=9)&\n",
    "           ( (df['Att1']!='None')|(df['Att2']!='None')|(df['Att3']!='None') ),:] # 49"
   ]
  },
  {
   "cell_type": "code",
   "execution_count": 13,
   "metadata": {
    "ExecuteTime": {
     "end_time": "2023-08-15T19:26:42.275713Z",
     "start_time": "2023-08-15T19:26:42.267586Z"
    }
   },
   "outputs": [],
   "source": [
    "y = df.loc[df['CeNu']=='None',:]"
   ]
  },
  {
   "cell_type": "code",
   "execution_count": 16,
   "outputs": [
    {
     "data": {
      "text/plain": "    ReNu                 Att1                 Att2                 Att3  \\\n9     10  2023-03-15 00:00:00  2023-04-15 00:00:00  2023-05-15 00:00:00   \n13    14  2023-03-15 00:00:00  2023-04-15 00:00:00  2023-05-15 00:00:00   \n21    22  2023-03-15 00:00:00  2023-04-15 00:00:00  2023-05-15 00:00:00   \n57    58  2023-03-15 00:00:00  2023-04-15 00:00:00  2023-05-15 00:00:00   \n58    59  2023-03-15 00:00:00  2023-04-15 00:00:00  2023-05-15 00:00:00   \n60    61  2023-03-15 00:00:00  2023-04-15 00:00:00  2023-05-15 00:00:00   \n82    83  2023-03-15 00:00:00  2023-04-15 00:00:00  2023-05-15 00:00:00   \n87    88  2023-03-15 00:00:00  2023-04-15 00:00:00  2023-05-15 00:00:00   \n91    92  2023-03-15 00:00:00  2023-04-15 00:00:00  2023-05-15 00:00:00   \n92    93  2023-03-15 00:00:00  2023-04-15 00:00:00  2023-05-15 00:00:00   \n95    96  2023-03-15 00:00:00  2023-04-15 00:00:00  2023-05-15 00:00:00   \n96    97  2023-03-15 00:00:00  2023-04-15 00:00:00  2023-05-15 00:00:00   \n108  109  2023-03-15 00:00:00  2023-04-15 00:00:00  2023-05-15 00:00:00   \n109  110  2023-03-15 00:00:00  2023-04-15 00:00:00  2023-05-15 00:00:00   \n114  115  2023-03-15 00:00:00  2023-04-15 00:00:00  2023-05-15 00:00:00   \n117  118                 None  2023-04-15 00:00:00                 None   \n119  120                 None  2023-04-15 00:00:00                 None   \n124  125                 None  2023-04-15 00:00:00                 None   \n132  133                 None                 None  2023-05-15 00:00:00   \n134  135                 None                 None  2023-05-15 00:00:00   \n135  136                 None                 None  2023-05-15 00:00:00   \n139  140                 None                 None  2023-05-15 00:00:00   \n141  142                 None                 None  2023-05-15 00:00:00   \n142  143                 None                 None  2023-05-15 00:00:00   \n147  148                 None                 None                 None   \n148  149                 None                 None                 None   \n149  150                 None                 None                 None   \n151  152                 None                 None                 None   \n152  153                 None                 None                 None   \n154  155                 None                 None                 None   \n156  157                 None                 None                 None   \n157  158                 None                 None                 None   \n159  160                 None                 None                 None   \n160  161                 None                 None                 None   \n164  165                 None                 None                 None   \n165  166                 None                 None                 None   \n166  167                 None                 None                 None   \n167  168                 None                 None                 None   \n168  169                 None                 None                 None   \n169  170                 None                 None                 None   \n170  171                 None                 None                 None   \n171  172                 None                 None                 None   \n172  173                 None                 None                 None   \n173  174                 None                 None                 None   \n174  175                 None                 None                 None   \n175  176                 None                 None                 None   \n176  177                 None                 None                 None   \n177  178                 None                 None                 None   \n178  179                 None                 None                 None   \n179  180                 None                 None                 None   \n180  181                 None                 None                 None   \n181  182                 None                 None                 None   \n182  183                 None                 None                 None   \n183  184                 None                 None                 None   \n\n                    Att4                 Att5 PreV  UTD  P1BC P1Po1  ...  \\\n9    2023-06-15 00:00:00                 None   No  Yes   Yes     O  ...   \n13   2023-06-15 00:00:00                 None   No  Yes     S     S  ...   \n21   2023-06-15 00:00:00                 None   No  Yes   Yes     O  ...   \n57   2023-06-15 00:00:00                 None   No  Yes   Yes     O  ...   \n58   2023-06-15 00:00:00                 None   No  Yes   Yes     O  ...   \n60   2023-06-15 00:00:00  2023-07-15 00:00:00   No  Yes   Yes     O  ...   \n82   2023-06-15 00:00:00  2023-07-15 00:00:00  Yes  Yes     P     P  ...   \n87   2023-06-15 00:00:00                 None   No  Yes   Yes     O  ...   \n91   2023-06-15 00:00:00                 None   No  Yes   Yes     O  ...   \n92   2023-06-15 00:00:00                 None   No  Yes   Yes     O  ...   \n95   2023-06-15 00:00:00                 None   No  Yes   Yes     O  ...   \n96   2023-06-15 00:00:00  2023-07-15 00:00:00   No  Yes   Yes     O  ...   \n108  2023-06-15 00:00:00  2023-07-15 00:00:00  Yes  Yes   O ?     O  ...   \n109  2023-06-15 00:00:00  2023-07-15 00:00:00   No  Yes   Yes     O  ...   \n114  2023-06-15 00:00:00                 None   No  Yes  TO ?  TO ?  ...   \n117                 None                 None   No   No     -     -  ...   \n119  2023-06-15 00:00:00                 None   No   No     -     -  ...   \n124                 None                 None   No   No     -     -  ...   \n132                 None                 None  Yes  Yes     -     -  ...   \n134  2023-06-15 00:00:00                 None  Yes  Yes     -     -  ...   \n135                 None                 None  Yes  Yes     -     -  ...   \n139  2023-06-15 00:00:00                 None  Yes   No     -     -  ...   \n141  2023-06-15 00:00:00  2023-07-15 00:00:00   No  Yes     -     -  ...   \n142  2023-06-15 00:00:00  2023-07-15 00:00:00   No  Yes     -     -  ...   \n147  2023-06-15 00:00:00  2023-07-15 00:00:00   No   No     -     -  ...   \n148  2023-06-15 00:00:00  2023-07-15 00:00:00   No   No     -     -  ...   \n149  2023-06-15 00:00:00                 None   No   No     -     -  ...   \n151  2023-06-15 00:00:00  2023-07-15 00:00:00   No   No     -     -  ...   \n152  2023-06-15 00:00:00  2023-07-15 00:00:00   No   No     -     -  ...   \n154  2023-06-15 00:00:00  2023-07-15 00:00:00  Yes  Yes     -     -  ...   \n156  2023-06-15 00:00:00                 None   No   No     -     -  ...   \n157  2023-06-15 00:00:00  2023-07-15 00:00:00  Yes  Yes     -     -  ...   \n159  2023-06-15 00:00:00                 None  Yes  Yes     -     -  ...   \n160  2023-06-15 00:00:00                 None  Yes  Yes     -     -  ...   \n164                 None  2023-07-15 00:00:00   No   No     -     -  ...   \n165                 None  2023-07-15 00:00:00   No   No     -     -  ...   \n166                 None  2023-07-15 00:00:00   No   No     -     -  ...   \n167                 None  2023-07-15 00:00:00  Yes  Yes     -     -  ...   \n168                 None  2023-07-15 00:00:00   No   No     -     -  ...   \n169                 None  2023-07-15 00:00:00   No   No     -     -  ...   \n170                 None  2023-07-15 00:00:00   No   No     -     -  ...   \n171                 None  2023-07-15 00:00:00   No   No     -     -  ...   \n172                 None  2023-07-15 00:00:00  Yes  Yes     -     -  ...   \n173                 None  2023-07-15 00:00:00  Yes   No     -     -  ...   \n174                 None  2023-07-15 00:00:00   No   No     -     -  ...   \n175                 None  2023-07-15 00:00:00   No   No     -     -  ...   \n176                 None  2023-07-15 00:00:00   No   No     -     -  ...   \n177                 None  2023-07-15 00:00:00   No   No     -     -  ...   \n178                 None  2023-07-15 00:00:00   No   No     -     -  ...   \n179                 None  2023-07-15 00:00:00   No   No     -     -  ...   \n180                 None  2023-07-15 00:00:00   No   No     -     -  ...   \n181                 None  2023-07-15 00:00:00  Yes  Yes     -     -  ...   \n182                 None  2023-07-15 00:00:00   No   No     -     -  ...   \n183                 None  2023-07-15 00:00:00  Yes  Yes     -     -  ...   \n\n     CeNu                   CAMP                 CeCa Sex        DOB  \\\n9    None                  ထေခို          NONE LISTED   F 2023-01-28   \n13   None                  ထေခို          NONE LISTED   F 2022-11-09   \n21   None                  ဟိုယာ          NONE LISTED   F 2023-02-11   \n57   None        ရာဧပရား ( IDP )          NONE LISTED   F 2022-08-10   \n58   None        ရာဧပရား ( IDP )          NONE LISTED   F 2022-04-25   \n60   None        ရာဧပရား ( IDP )          NONE LISTED   F 2022-09-15   \n82   None       ဒေါလာစော ( IDP )          NONE LISTED   F 2022-09-07   \n87   None               ဟိုမိုထီ          NONE LISTED   F 2023-02-09   \n91   None       ဒေါလာစော ( IDP )          NONE LISTED   F 2022-06-03   \n92   None       ဒေါလာစော ( IDP )          NONE LISTED   F 2022-10-13   \n95   None        ရာဧပရား ( IDP )          NONE LISTED   F 2022-06-20   \n96   None        ရာဧပရား ( IDP )          NONE LISTED   F 2022-09-03   \n108  None      မော်သီဒို ( IDP )          NONE LISTED   F 2022-08-21   \n109  None      မော်သီဒို ( IDP )          NONE LISTED   F 2022-10-08   \n114  None                  ကူးခူ          NONE LISTED   F 2022-06-15   \n117  None  ထီးပါသောခို၊ ကေကောရွာ          NONE LISTED   F 2023-04-13   \n119  None               ယိုစပရား          NONE LISTED   F 2023-03-15   \n124  None           ကေကောကျေးရွာ          NONE LISTED   F 2023-01-03   \n132  None                  ဟိုယာ          NONE LISTED   F 2021-11-21   \n134  None          ဟိုယာ ( IDP )          NONE LISTED   F 2021-10-07   \n135  None  စိန်တောင်တန်း ( IDP )          NONE LISTED   F 2021-12-12   \n139  None       ဒေါလာစော ( IDP )          NONE LISTED   F 2022-05-16   \n141  None                  ကူးခူ          NONE LISTED   F 2023-01-19   \n142  None                  ကူးခူ          NONE LISTED   F 2022-10-28   \n147  None               ရီခီးဘူး             ရီခီးဘူး   F 2023-02-12   \n148  None    ပျားချောင်း ( IDP )  ပျားချောင်း ( IDP )   F 2023-03-02   \n149  None                 တလောဇာ               တလောဇာ   F 2022-10-11   \n151  None                 တလောဇာ               တလောဇာ   F 2022-08-15   \n152  None                 တလောဇာ               တလောဇာ   F 2023-03-27   \n154  None              ဒေါလျားခူ            ဒေါလျားခူ   F 2022-09-12   \n156  None    ပျားချောင်း ( IDP )  ပျားချောင်း ( IDP )   F 2023-02-04   \n157  None               ဒေါလာစော             ဒေါလာစော   F 2022-08-10   \n159  None    ပျားချောင်း ( IDP )  ပျားချောင်း ( IDP )   F 2021-12-08   \n160  None    ပျားချောင်း ( IDP )     ရာဧပရားစစ်ရှောင်   F 2022-02-13   \n164  None                  ခေါဘာ                  NaN   F 2023-05-09   \n165  None  စိန်တောင်တန်း ( IDP )                  NaN   F 2023-05-14   \n166  None               ရီခီးဘူး                  NaN   F 2023-01-04   \n167  None  စိန်တောင်တန်း ( IDP )                  NaN   F 2021-11-29   \n168  None         ဒိုရော ( ထက် )                  NaN   F 2023-04-29   \n169  None           ထေခိုကျေးရွာ                  NaN   F 2023-05-08   \n170  None        ဒေါညေးခူကျေးရွာ                  NaN   F 2023-05-07   \n171  None               ရီခီးဘူး                  NaN   F 2021-08-30   \n172  None    ပျားချောင်း ( IDP )                  NaN   F 2021-09-20   \n173  None  စိန်တောင်တန်း ( IDP )                  NaN   F 2021-12-13   \n174  None                 တလောဇာ                  NaN   F 2023-04-23   \n175  None            ဇေဇာကျေးရွာ                  NaN   F 2023-02-10   \n176  None    ပျားချောင်း ( IDP )                  NaN   F 2023-01-28   \n177  None    ပျားချောင်း ( IDP )                  NaN   F 2023-02-17   \n178  None              ထိုခွီဆို                  NaN   F 2023-04-18   \n179  None        ယိုစပရားကျေးရွာ                  NaN   F 2023-04-13   \n180  None             ကေလျား IDP                  NaN   F 2023-04-09   \n181  None                  ဟိုယာ                  NaN   F 2019-10-28   \n182  None      မော်သီဒို ( IDP )                  NaN   F 2022-11-11   \n183  None  စိန်တောင်တန်း ( IDP )                  NaN   F 2020-09-17   \n\n           AGE  AGE_APR15  AGE_MAY15 AGE_JUNE15 AGE_JULY15  \n9     1.533333   2.533333   3.533333   4.533333   5.533333  \n13    4.200000   5.200000   6.200000   7.200000   8.200000  \n21    1.066667   2.066667   3.066667   4.066667   5.066667  \n57    7.233333   8.233333   9.233333  10.233333  11.233333  \n58   10.800000  11.800000  12.800000  13.800000  14.800000  \n60    6.033333   7.033333   8.033333   9.033333  10.033333  \n82    6.300000   7.300000   8.300000   9.300000  10.300000  \n87    1.133333   2.133333   3.133333   4.133333   5.133333  \n91    9.500000  10.500000  11.500000  12.500000  13.500000  \n92    5.100000   6.100000   7.100000   8.100000   9.100000  \n95    8.933333   9.933333  10.933333  11.933333  12.933333  \n96    6.433333   7.433333   8.433333   9.433333  10.433333  \n108   6.866667   7.866667   8.866667   9.866667  10.866667  \n109   5.266667   6.266667   7.266667   8.266667   9.266667  \n114   9.100000  10.100000  11.100000  12.100000  13.100000  \n117   0.066667   0.066667   1.066667   2.066667   3.066667  \n119   1.033333   1.033333   2.033333   3.033333   4.033333  \n124   3.400000   3.400000   4.400000   5.400000   6.400000  \n132  18.000000  17.000000  18.000000  19.000000  20.000000  \n134  19.500000  18.500000  19.500000  20.500000  21.500000  \n135  17.300000  16.300000  17.300000  18.300000  19.300000  \n139  12.133333  11.133333  12.133333  13.133333  14.133333  \n141   3.866667   2.866667   3.866667   4.866667   5.866667  \n142   6.633333   5.633333   6.633333   7.633333   8.633333  \n147   4.100000   2.100000   3.100000   4.100000   5.100000  \n148   3.500000   1.500000   2.500000   3.500000   4.500000  \n149   8.233333   6.233333   7.233333   8.233333   9.233333  \n151  10.133333   8.133333   9.133333  10.133333  11.133333  \n152   2.666667   0.666667   1.666667   2.666667   3.666667  \n154   9.200000   7.200000   8.200000   9.200000  10.200000  \n156   4.366667   2.366667   3.366667   4.366667   5.366667  \n157  10.300000   8.300000   9.300000  10.300000  11.300000  \n159  18.466667  16.466667  17.466667  18.466667  19.466667  \n160  16.233333  14.233333  15.233333  16.233333  17.233333  \n164   2.233333   0.233333   1.233333   2.233333   2.233333  \n165   2.066667   0.066667   1.066667   2.066667   2.066667  \n166   6.400000   4.400000   5.400000   6.400000   6.400000  \n167  19.766667  17.766667  18.766667  19.766667  19.766667  \n168   2.566667   0.566667   1.566667   2.566667   2.566667  \n169   2.266667   0.266667   1.266667   2.266667   2.266667  \n170   2.300000   0.300000   1.300000   2.300000   2.300000  \n171  22.800000  20.800000  21.800000  22.800000  22.800000  \n172  22.100000  20.100000  21.100000  22.100000  22.100000  \n173  19.300000  17.300000  18.300000  19.300000  19.300000  \n174   2.766667   0.766667   1.766667   2.766667   2.766667  \n175   5.166667   3.166667   4.166667   5.166667   5.166667  \n176   5.600000   3.600000   4.600000   5.600000   5.600000  \n177   4.933333   2.933333   3.933333   4.933333   4.933333  \n178   2.933333   0.933333   1.933333   2.933333   2.933333  \n179   3.100000   1.100000   2.100000   3.100000   3.100000  \n180   3.233333   1.233333   2.233333   3.233333   3.233333  \n181  45.200000  43.200000  44.200000  45.200000  45.200000  \n182   8.200000   6.200000   7.200000   8.200000   8.200000  \n183  34.366667  32.366667  33.366667  34.366667  34.366667  \n\n[54 rows x 64 columns]",
      "text/html": "<div>\n<style scoped>\n    .dataframe tbody tr th:only-of-type {\n        vertical-align: middle;\n    }\n\n    .dataframe tbody tr th {\n        vertical-align: top;\n    }\n\n    .dataframe thead th {\n        text-align: right;\n    }\n</style>\n<table border=\"1\" class=\"dataframe\">\n  <thead>\n    <tr style=\"text-align: right;\">\n      <th></th>\n      <th>ReNu</th>\n      <th>Att1</th>\n      <th>Att2</th>\n      <th>Att3</th>\n      <th>Att4</th>\n      <th>Att5</th>\n      <th>PreV</th>\n      <th>UTD</th>\n      <th>P1BC</th>\n      <th>P1Po1</th>\n      <th>...</th>\n      <th>CeNu</th>\n      <th>CAMP</th>\n      <th>CeCa</th>\n      <th>Sex</th>\n      <th>DOB</th>\n      <th>AGE</th>\n      <th>AGE_APR15</th>\n      <th>AGE_MAY15</th>\n      <th>AGE_JUNE15</th>\n      <th>AGE_JULY15</th>\n    </tr>\n  </thead>\n  <tbody>\n    <tr>\n      <th>9</th>\n      <td>10</td>\n      <td>2023-03-15 00:00:00</td>\n      <td>2023-04-15 00:00:00</td>\n      <td>2023-05-15 00:00:00</td>\n      <td>2023-06-15 00:00:00</td>\n      <td>None</td>\n      <td>No</td>\n      <td>Yes</td>\n      <td>Yes</td>\n      <td>O</td>\n      <td>...</td>\n      <td>None</td>\n      <td>ထေခို</td>\n      <td>NONE LISTED</td>\n      <td>F</td>\n      <td>2023-01-28</td>\n      <td>1.533333</td>\n      <td>2.533333</td>\n      <td>3.533333</td>\n      <td>4.533333</td>\n      <td>5.533333</td>\n    </tr>\n    <tr>\n      <th>13</th>\n      <td>14</td>\n      <td>2023-03-15 00:00:00</td>\n      <td>2023-04-15 00:00:00</td>\n      <td>2023-05-15 00:00:00</td>\n      <td>2023-06-15 00:00:00</td>\n      <td>None</td>\n      <td>No</td>\n      <td>Yes</td>\n      <td>S</td>\n      <td>S</td>\n      <td>...</td>\n      <td>None</td>\n      <td>ထေခို</td>\n      <td>NONE LISTED</td>\n      <td>F</td>\n      <td>2022-11-09</td>\n      <td>4.200000</td>\n      <td>5.200000</td>\n      <td>6.200000</td>\n      <td>7.200000</td>\n      <td>8.200000</td>\n    </tr>\n    <tr>\n      <th>21</th>\n      <td>22</td>\n      <td>2023-03-15 00:00:00</td>\n      <td>2023-04-15 00:00:00</td>\n      <td>2023-05-15 00:00:00</td>\n      <td>2023-06-15 00:00:00</td>\n      <td>None</td>\n      <td>No</td>\n      <td>Yes</td>\n      <td>Yes</td>\n      <td>O</td>\n      <td>...</td>\n      <td>None</td>\n      <td>ဟိုယာ</td>\n      <td>NONE LISTED</td>\n      <td>F</td>\n      <td>2023-02-11</td>\n      <td>1.066667</td>\n      <td>2.066667</td>\n      <td>3.066667</td>\n      <td>4.066667</td>\n      <td>5.066667</td>\n    </tr>\n    <tr>\n      <th>57</th>\n      <td>58</td>\n      <td>2023-03-15 00:00:00</td>\n      <td>2023-04-15 00:00:00</td>\n      <td>2023-05-15 00:00:00</td>\n      <td>2023-06-15 00:00:00</td>\n      <td>None</td>\n      <td>No</td>\n      <td>Yes</td>\n      <td>Yes</td>\n      <td>O</td>\n      <td>...</td>\n      <td>None</td>\n      <td>ရာဧပရား ( IDP )</td>\n      <td>NONE LISTED</td>\n      <td>F</td>\n      <td>2022-08-10</td>\n      <td>7.233333</td>\n      <td>8.233333</td>\n      <td>9.233333</td>\n      <td>10.233333</td>\n      <td>11.233333</td>\n    </tr>\n    <tr>\n      <th>58</th>\n      <td>59</td>\n      <td>2023-03-15 00:00:00</td>\n      <td>2023-04-15 00:00:00</td>\n      <td>2023-05-15 00:00:00</td>\n      <td>2023-06-15 00:00:00</td>\n      <td>None</td>\n      <td>No</td>\n      <td>Yes</td>\n      <td>Yes</td>\n      <td>O</td>\n      <td>...</td>\n      <td>None</td>\n      <td>ရာဧပရား ( IDP )</td>\n      <td>NONE LISTED</td>\n      <td>F</td>\n      <td>2022-04-25</td>\n      <td>10.800000</td>\n      <td>11.800000</td>\n      <td>12.800000</td>\n      <td>13.800000</td>\n      <td>14.800000</td>\n    </tr>\n    <tr>\n      <th>60</th>\n      <td>61</td>\n      <td>2023-03-15 00:00:00</td>\n      <td>2023-04-15 00:00:00</td>\n      <td>2023-05-15 00:00:00</td>\n      <td>2023-06-15 00:00:00</td>\n      <td>2023-07-15 00:00:00</td>\n      <td>No</td>\n      <td>Yes</td>\n      <td>Yes</td>\n      <td>O</td>\n      <td>...</td>\n      <td>None</td>\n      <td>ရာဧပရား ( IDP )</td>\n      <td>NONE LISTED</td>\n      <td>F</td>\n      <td>2022-09-15</td>\n      <td>6.033333</td>\n      <td>7.033333</td>\n      <td>8.033333</td>\n      <td>9.033333</td>\n      <td>10.033333</td>\n    </tr>\n    <tr>\n      <th>82</th>\n      <td>83</td>\n      <td>2023-03-15 00:00:00</td>\n      <td>2023-04-15 00:00:00</td>\n      <td>2023-05-15 00:00:00</td>\n      <td>2023-06-15 00:00:00</td>\n      <td>2023-07-15 00:00:00</td>\n      <td>Yes</td>\n      <td>Yes</td>\n      <td>P</td>\n      <td>P</td>\n      <td>...</td>\n      <td>None</td>\n      <td>ဒေါလာစော ( IDP )</td>\n      <td>NONE LISTED</td>\n      <td>F</td>\n      <td>2022-09-07</td>\n      <td>6.300000</td>\n      <td>7.300000</td>\n      <td>8.300000</td>\n      <td>9.300000</td>\n      <td>10.300000</td>\n    </tr>\n    <tr>\n      <th>87</th>\n      <td>88</td>\n      <td>2023-03-15 00:00:00</td>\n      <td>2023-04-15 00:00:00</td>\n      <td>2023-05-15 00:00:00</td>\n      <td>2023-06-15 00:00:00</td>\n      <td>None</td>\n      <td>No</td>\n      <td>Yes</td>\n      <td>Yes</td>\n      <td>O</td>\n      <td>...</td>\n      <td>None</td>\n      <td>ဟိုမိုထီ</td>\n      <td>NONE LISTED</td>\n      <td>F</td>\n      <td>2023-02-09</td>\n      <td>1.133333</td>\n      <td>2.133333</td>\n      <td>3.133333</td>\n      <td>4.133333</td>\n      <td>5.133333</td>\n    </tr>\n    <tr>\n      <th>91</th>\n      <td>92</td>\n      <td>2023-03-15 00:00:00</td>\n      <td>2023-04-15 00:00:00</td>\n      <td>2023-05-15 00:00:00</td>\n      <td>2023-06-15 00:00:00</td>\n      <td>None</td>\n      <td>No</td>\n      <td>Yes</td>\n      <td>Yes</td>\n      <td>O</td>\n      <td>...</td>\n      <td>None</td>\n      <td>ဒေါလာစော ( IDP )</td>\n      <td>NONE LISTED</td>\n      <td>F</td>\n      <td>2022-06-03</td>\n      <td>9.500000</td>\n      <td>10.500000</td>\n      <td>11.500000</td>\n      <td>12.500000</td>\n      <td>13.500000</td>\n    </tr>\n    <tr>\n      <th>92</th>\n      <td>93</td>\n      <td>2023-03-15 00:00:00</td>\n      <td>2023-04-15 00:00:00</td>\n      <td>2023-05-15 00:00:00</td>\n      <td>2023-06-15 00:00:00</td>\n      <td>None</td>\n      <td>No</td>\n      <td>Yes</td>\n      <td>Yes</td>\n      <td>O</td>\n      <td>...</td>\n      <td>None</td>\n      <td>ဒေါလာစော ( IDP )</td>\n      <td>NONE LISTED</td>\n      <td>F</td>\n      <td>2022-10-13</td>\n      <td>5.100000</td>\n      <td>6.100000</td>\n      <td>7.100000</td>\n      <td>8.100000</td>\n      <td>9.100000</td>\n    </tr>\n    <tr>\n      <th>95</th>\n      <td>96</td>\n      <td>2023-03-15 00:00:00</td>\n      <td>2023-04-15 00:00:00</td>\n      <td>2023-05-15 00:00:00</td>\n      <td>2023-06-15 00:00:00</td>\n      <td>None</td>\n      <td>No</td>\n      <td>Yes</td>\n      <td>Yes</td>\n      <td>O</td>\n      <td>...</td>\n      <td>None</td>\n      <td>ရာဧပရား ( IDP )</td>\n      <td>NONE LISTED</td>\n      <td>F</td>\n      <td>2022-06-20</td>\n      <td>8.933333</td>\n      <td>9.933333</td>\n      <td>10.933333</td>\n      <td>11.933333</td>\n      <td>12.933333</td>\n    </tr>\n    <tr>\n      <th>96</th>\n      <td>97</td>\n      <td>2023-03-15 00:00:00</td>\n      <td>2023-04-15 00:00:00</td>\n      <td>2023-05-15 00:00:00</td>\n      <td>2023-06-15 00:00:00</td>\n      <td>2023-07-15 00:00:00</td>\n      <td>No</td>\n      <td>Yes</td>\n      <td>Yes</td>\n      <td>O</td>\n      <td>...</td>\n      <td>None</td>\n      <td>ရာဧပရား ( IDP )</td>\n      <td>NONE LISTED</td>\n      <td>F</td>\n      <td>2022-09-03</td>\n      <td>6.433333</td>\n      <td>7.433333</td>\n      <td>8.433333</td>\n      <td>9.433333</td>\n      <td>10.433333</td>\n    </tr>\n    <tr>\n      <th>108</th>\n      <td>109</td>\n      <td>2023-03-15 00:00:00</td>\n      <td>2023-04-15 00:00:00</td>\n      <td>2023-05-15 00:00:00</td>\n      <td>2023-06-15 00:00:00</td>\n      <td>2023-07-15 00:00:00</td>\n      <td>Yes</td>\n      <td>Yes</td>\n      <td>O ?</td>\n      <td>O</td>\n      <td>...</td>\n      <td>None</td>\n      <td>မော်သီဒို ( IDP )</td>\n      <td>NONE LISTED</td>\n      <td>F</td>\n      <td>2022-08-21</td>\n      <td>6.866667</td>\n      <td>7.866667</td>\n      <td>8.866667</td>\n      <td>9.866667</td>\n      <td>10.866667</td>\n    </tr>\n    <tr>\n      <th>109</th>\n      <td>110</td>\n      <td>2023-03-15 00:00:00</td>\n      <td>2023-04-15 00:00:00</td>\n      <td>2023-05-15 00:00:00</td>\n      <td>2023-06-15 00:00:00</td>\n      <td>2023-07-15 00:00:00</td>\n      <td>No</td>\n      <td>Yes</td>\n      <td>Yes</td>\n      <td>O</td>\n      <td>...</td>\n      <td>None</td>\n      <td>မော်သီဒို ( IDP )</td>\n      <td>NONE LISTED</td>\n      <td>F</td>\n      <td>2022-10-08</td>\n      <td>5.266667</td>\n      <td>6.266667</td>\n      <td>7.266667</td>\n      <td>8.266667</td>\n      <td>9.266667</td>\n    </tr>\n    <tr>\n      <th>114</th>\n      <td>115</td>\n      <td>2023-03-15 00:00:00</td>\n      <td>2023-04-15 00:00:00</td>\n      <td>2023-05-15 00:00:00</td>\n      <td>2023-06-15 00:00:00</td>\n      <td>None</td>\n      <td>No</td>\n      <td>Yes</td>\n      <td>TO ?</td>\n      <td>TO ?</td>\n      <td>...</td>\n      <td>None</td>\n      <td>ကူးခူ</td>\n      <td>NONE LISTED</td>\n      <td>F</td>\n      <td>2022-06-15</td>\n      <td>9.100000</td>\n      <td>10.100000</td>\n      <td>11.100000</td>\n      <td>12.100000</td>\n      <td>13.100000</td>\n    </tr>\n    <tr>\n      <th>117</th>\n      <td>118</td>\n      <td>None</td>\n      <td>2023-04-15 00:00:00</td>\n      <td>None</td>\n      <td>None</td>\n      <td>None</td>\n      <td>No</td>\n      <td>No</td>\n      <td>-</td>\n      <td>-</td>\n      <td>...</td>\n      <td>None</td>\n      <td>ထီးပါသောခို၊ ကေကောရွာ</td>\n      <td>NONE LISTED</td>\n      <td>F</td>\n      <td>2023-04-13</td>\n      <td>0.066667</td>\n      <td>0.066667</td>\n      <td>1.066667</td>\n      <td>2.066667</td>\n      <td>3.066667</td>\n    </tr>\n    <tr>\n      <th>119</th>\n      <td>120</td>\n      <td>None</td>\n      <td>2023-04-15 00:00:00</td>\n      <td>None</td>\n      <td>2023-06-15 00:00:00</td>\n      <td>None</td>\n      <td>No</td>\n      <td>No</td>\n      <td>-</td>\n      <td>-</td>\n      <td>...</td>\n      <td>None</td>\n      <td>ယိုစပရား</td>\n      <td>NONE LISTED</td>\n      <td>F</td>\n      <td>2023-03-15</td>\n      <td>1.033333</td>\n      <td>1.033333</td>\n      <td>2.033333</td>\n      <td>3.033333</td>\n      <td>4.033333</td>\n    </tr>\n    <tr>\n      <th>124</th>\n      <td>125</td>\n      <td>None</td>\n      <td>2023-04-15 00:00:00</td>\n      <td>None</td>\n      <td>None</td>\n      <td>None</td>\n      <td>No</td>\n      <td>No</td>\n      <td>-</td>\n      <td>-</td>\n      <td>...</td>\n      <td>None</td>\n      <td>ကေကောကျေးရွာ</td>\n      <td>NONE LISTED</td>\n      <td>F</td>\n      <td>2023-01-03</td>\n      <td>3.400000</td>\n      <td>3.400000</td>\n      <td>4.400000</td>\n      <td>5.400000</td>\n      <td>6.400000</td>\n    </tr>\n    <tr>\n      <th>132</th>\n      <td>133</td>\n      <td>None</td>\n      <td>None</td>\n      <td>2023-05-15 00:00:00</td>\n      <td>None</td>\n      <td>None</td>\n      <td>Yes</td>\n      <td>Yes</td>\n      <td>-</td>\n      <td>-</td>\n      <td>...</td>\n      <td>None</td>\n      <td>ဟိုယာ</td>\n      <td>NONE LISTED</td>\n      <td>F</td>\n      <td>2021-11-21</td>\n      <td>18.000000</td>\n      <td>17.000000</td>\n      <td>18.000000</td>\n      <td>19.000000</td>\n      <td>20.000000</td>\n    </tr>\n    <tr>\n      <th>134</th>\n      <td>135</td>\n      <td>None</td>\n      <td>None</td>\n      <td>2023-05-15 00:00:00</td>\n      <td>2023-06-15 00:00:00</td>\n      <td>None</td>\n      <td>Yes</td>\n      <td>Yes</td>\n      <td>-</td>\n      <td>-</td>\n      <td>...</td>\n      <td>None</td>\n      <td>ဟိုယာ ( IDP )</td>\n      <td>NONE LISTED</td>\n      <td>F</td>\n      <td>2021-10-07</td>\n      <td>19.500000</td>\n      <td>18.500000</td>\n      <td>19.500000</td>\n      <td>20.500000</td>\n      <td>21.500000</td>\n    </tr>\n    <tr>\n      <th>135</th>\n      <td>136</td>\n      <td>None</td>\n      <td>None</td>\n      <td>2023-05-15 00:00:00</td>\n      <td>None</td>\n      <td>None</td>\n      <td>Yes</td>\n      <td>Yes</td>\n      <td>-</td>\n      <td>-</td>\n      <td>...</td>\n      <td>None</td>\n      <td>စိန်တောင်တန်း ( IDP )</td>\n      <td>NONE LISTED</td>\n      <td>F</td>\n      <td>2021-12-12</td>\n      <td>17.300000</td>\n      <td>16.300000</td>\n      <td>17.300000</td>\n      <td>18.300000</td>\n      <td>19.300000</td>\n    </tr>\n    <tr>\n      <th>139</th>\n      <td>140</td>\n      <td>None</td>\n      <td>None</td>\n      <td>2023-05-15 00:00:00</td>\n      <td>2023-06-15 00:00:00</td>\n      <td>None</td>\n      <td>Yes</td>\n      <td>No</td>\n      <td>-</td>\n      <td>-</td>\n      <td>...</td>\n      <td>None</td>\n      <td>ဒေါလာစော ( IDP )</td>\n      <td>NONE LISTED</td>\n      <td>F</td>\n      <td>2022-05-16</td>\n      <td>12.133333</td>\n      <td>11.133333</td>\n      <td>12.133333</td>\n      <td>13.133333</td>\n      <td>14.133333</td>\n    </tr>\n    <tr>\n      <th>141</th>\n      <td>142</td>\n      <td>None</td>\n      <td>None</td>\n      <td>2023-05-15 00:00:00</td>\n      <td>2023-06-15 00:00:00</td>\n      <td>2023-07-15 00:00:00</td>\n      <td>No</td>\n      <td>Yes</td>\n      <td>-</td>\n      <td>-</td>\n      <td>...</td>\n      <td>None</td>\n      <td>ကူးခူ</td>\n      <td>NONE LISTED</td>\n      <td>F</td>\n      <td>2023-01-19</td>\n      <td>3.866667</td>\n      <td>2.866667</td>\n      <td>3.866667</td>\n      <td>4.866667</td>\n      <td>5.866667</td>\n    </tr>\n    <tr>\n      <th>142</th>\n      <td>143</td>\n      <td>None</td>\n      <td>None</td>\n      <td>2023-05-15 00:00:00</td>\n      <td>2023-06-15 00:00:00</td>\n      <td>2023-07-15 00:00:00</td>\n      <td>No</td>\n      <td>Yes</td>\n      <td>-</td>\n      <td>-</td>\n      <td>...</td>\n      <td>None</td>\n      <td>ကူးခူ</td>\n      <td>NONE LISTED</td>\n      <td>F</td>\n      <td>2022-10-28</td>\n      <td>6.633333</td>\n      <td>5.633333</td>\n      <td>6.633333</td>\n      <td>7.633333</td>\n      <td>8.633333</td>\n    </tr>\n    <tr>\n      <th>147</th>\n      <td>148</td>\n      <td>None</td>\n      <td>None</td>\n      <td>None</td>\n      <td>2023-06-15 00:00:00</td>\n      <td>2023-07-15 00:00:00</td>\n      <td>No</td>\n      <td>No</td>\n      <td>-</td>\n      <td>-</td>\n      <td>...</td>\n      <td>None</td>\n      <td>ရီခီးဘူး</td>\n      <td>ရီခီးဘူး</td>\n      <td>F</td>\n      <td>2023-02-12</td>\n      <td>4.100000</td>\n      <td>2.100000</td>\n      <td>3.100000</td>\n      <td>4.100000</td>\n      <td>5.100000</td>\n    </tr>\n    <tr>\n      <th>148</th>\n      <td>149</td>\n      <td>None</td>\n      <td>None</td>\n      <td>None</td>\n      <td>2023-06-15 00:00:00</td>\n      <td>2023-07-15 00:00:00</td>\n      <td>No</td>\n      <td>No</td>\n      <td>-</td>\n      <td>-</td>\n      <td>...</td>\n      <td>None</td>\n      <td>ပျားချောင်း ( IDP )</td>\n      <td>ပျားချောင်း ( IDP )</td>\n      <td>F</td>\n      <td>2023-03-02</td>\n      <td>3.500000</td>\n      <td>1.500000</td>\n      <td>2.500000</td>\n      <td>3.500000</td>\n      <td>4.500000</td>\n    </tr>\n    <tr>\n      <th>149</th>\n      <td>150</td>\n      <td>None</td>\n      <td>None</td>\n      <td>None</td>\n      <td>2023-06-15 00:00:00</td>\n      <td>None</td>\n      <td>No</td>\n      <td>No</td>\n      <td>-</td>\n      <td>-</td>\n      <td>...</td>\n      <td>None</td>\n      <td>တလောဇာ</td>\n      <td>တလောဇာ</td>\n      <td>F</td>\n      <td>2022-10-11</td>\n      <td>8.233333</td>\n      <td>6.233333</td>\n      <td>7.233333</td>\n      <td>8.233333</td>\n      <td>9.233333</td>\n    </tr>\n    <tr>\n      <th>151</th>\n      <td>152</td>\n      <td>None</td>\n      <td>None</td>\n      <td>None</td>\n      <td>2023-06-15 00:00:00</td>\n      <td>2023-07-15 00:00:00</td>\n      <td>No</td>\n      <td>No</td>\n      <td>-</td>\n      <td>-</td>\n      <td>...</td>\n      <td>None</td>\n      <td>တလောဇာ</td>\n      <td>တလောဇာ</td>\n      <td>F</td>\n      <td>2022-08-15</td>\n      <td>10.133333</td>\n      <td>8.133333</td>\n      <td>9.133333</td>\n      <td>10.133333</td>\n      <td>11.133333</td>\n    </tr>\n    <tr>\n      <th>152</th>\n      <td>153</td>\n      <td>None</td>\n      <td>None</td>\n      <td>None</td>\n      <td>2023-06-15 00:00:00</td>\n      <td>2023-07-15 00:00:00</td>\n      <td>No</td>\n      <td>No</td>\n      <td>-</td>\n      <td>-</td>\n      <td>...</td>\n      <td>None</td>\n      <td>တလောဇာ</td>\n      <td>တလောဇာ</td>\n      <td>F</td>\n      <td>2023-03-27</td>\n      <td>2.666667</td>\n      <td>0.666667</td>\n      <td>1.666667</td>\n      <td>2.666667</td>\n      <td>3.666667</td>\n    </tr>\n    <tr>\n      <th>154</th>\n      <td>155</td>\n      <td>None</td>\n      <td>None</td>\n      <td>None</td>\n      <td>2023-06-15 00:00:00</td>\n      <td>2023-07-15 00:00:00</td>\n      <td>Yes</td>\n      <td>Yes</td>\n      <td>-</td>\n      <td>-</td>\n      <td>...</td>\n      <td>None</td>\n      <td>ဒေါလျားခူ</td>\n      <td>ဒေါလျားခူ</td>\n      <td>F</td>\n      <td>2022-09-12</td>\n      <td>9.200000</td>\n      <td>7.200000</td>\n      <td>8.200000</td>\n      <td>9.200000</td>\n      <td>10.200000</td>\n    </tr>\n    <tr>\n      <th>156</th>\n      <td>157</td>\n      <td>None</td>\n      <td>None</td>\n      <td>None</td>\n      <td>2023-06-15 00:00:00</td>\n      <td>None</td>\n      <td>No</td>\n      <td>No</td>\n      <td>-</td>\n      <td>-</td>\n      <td>...</td>\n      <td>None</td>\n      <td>ပျားချောင်း ( IDP )</td>\n      <td>ပျားချောင်း ( IDP )</td>\n      <td>F</td>\n      <td>2023-02-04</td>\n      <td>4.366667</td>\n      <td>2.366667</td>\n      <td>3.366667</td>\n      <td>4.366667</td>\n      <td>5.366667</td>\n    </tr>\n    <tr>\n      <th>157</th>\n      <td>158</td>\n      <td>None</td>\n      <td>None</td>\n      <td>None</td>\n      <td>2023-06-15 00:00:00</td>\n      <td>2023-07-15 00:00:00</td>\n      <td>Yes</td>\n      <td>Yes</td>\n      <td>-</td>\n      <td>-</td>\n      <td>...</td>\n      <td>None</td>\n      <td>ဒေါလာစော</td>\n      <td>ဒေါလာစော</td>\n      <td>F</td>\n      <td>2022-08-10</td>\n      <td>10.300000</td>\n      <td>8.300000</td>\n      <td>9.300000</td>\n      <td>10.300000</td>\n      <td>11.300000</td>\n    </tr>\n    <tr>\n      <th>159</th>\n      <td>160</td>\n      <td>None</td>\n      <td>None</td>\n      <td>None</td>\n      <td>2023-06-15 00:00:00</td>\n      <td>None</td>\n      <td>Yes</td>\n      <td>Yes</td>\n      <td>-</td>\n      <td>-</td>\n      <td>...</td>\n      <td>None</td>\n      <td>ပျားချောင်း ( IDP )</td>\n      <td>ပျားချောင်း ( IDP )</td>\n      <td>F</td>\n      <td>2021-12-08</td>\n      <td>18.466667</td>\n      <td>16.466667</td>\n      <td>17.466667</td>\n      <td>18.466667</td>\n      <td>19.466667</td>\n    </tr>\n    <tr>\n      <th>160</th>\n      <td>161</td>\n      <td>None</td>\n      <td>None</td>\n      <td>None</td>\n      <td>2023-06-15 00:00:00</td>\n      <td>None</td>\n      <td>Yes</td>\n      <td>Yes</td>\n      <td>-</td>\n      <td>-</td>\n      <td>...</td>\n      <td>None</td>\n      <td>ပျားချောင်း ( IDP )</td>\n      <td>ရာဧပရားစစ်ရှောင်</td>\n      <td>F</td>\n      <td>2022-02-13</td>\n      <td>16.233333</td>\n      <td>14.233333</td>\n      <td>15.233333</td>\n      <td>16.233333</td>\n      <td>17.233333</td>\n    </tr>\n    <tr>\n      <th>164</th>\n      <td>165</td>\n      <td>None</td>\n      <td>None</td>\n      <td>None</td>\n      <td>None</td>\n      <td>2023-07-15 00:00:00</td>\n      <td>No</td>\n      <td>No</td>\n      <td>-</td>\n      <td>-</td>\n      <td>...</td>\n      <td>None</td>\n      <td>ခေါဘာ</td>\n      <td>NaN</td>\n      <td>F</td>\n      <td>2023-05-09</td>\n      <td>2.233333</td>\n      <td>0.233333</td>\n      <td>1.233333</td>\n      <td>2.233333</td>\n      <td>2.233333</td>\n    </tr>\n    <tr>\n      <th>165</th>\n      <td>166</td>\n      <td>None</td>\n      <td>None</td>\n      <td>None</td>\n      <td>None</td>\n      <td>2023-07-15 00:00:00</td>\n      <td>No</td>\n      <td>No</td>\n      <td>-</td>\n      <td>-</td>\n      <td>...</td>\n      <td>None</td>\n      <td>စိန်တောင်တန်း ( IDP )</td>\n      <td>NaN</td>\n      <td>F</td>\n      <td>2023-05-14</td>\n      <td>2.066667</td>\n      <td>0.066667</td>\n      <td>1.066667</td>\n      <td>2.066667</td>\n      <td>2.066667</td>\n    </tr>\n    <tr>\n      <th>166</th>\n      <td>167</td>\n      <td>None</td>\n      <td>None</td>\n      <td>None</td>\n      <td>None</td>\n      <td>2023-07-15 00:00:00</td>\n      <td>No</td>\n      <td>No</td>\n      <td>-</td>\n      <td>-</td>\n      <td>...</td>\n      <td>None</td>\n      <td>ရီခီးဘူး</td>\n      <td>NaN</td>\n      <td>F</td>\n      <td>2023-01-04</td>\n      <td>6.400000</td>\n      <td>4.400000</td>\n      <td>5.400000</td>\n      <td>6.400000</td>\n      <td>6.400000</td>\n    </tr>\n    <tr>\n      <th>167</th>\n      <td>168</td>\n      <td>None</td>\n      <td>None</td>\n      <td>None</td>\n      <td>None</td>\n      <td>2023-07-15 00:00:00</td>\n      <td>Yes</td>\n      <td>Yes</td>\n      <td>-</td>\n      <td>-</td>\n      <td>...</td>\n      <td>None</td>\n      <td>စိန်တောင်တန်း ( IDP )</td>\n      <td>NaN</td>\n      <td>F</td>\n      <td>2021-11-29</td>\n      <td>19.766667</td>\n      <td>17.766667</td>\n      <td>18.766667</td>\n      <td>19.766667</td>\n      <td>19.766667</td>\n    </tr>\n    <tr>\n      <th>168</th>\n      <td>169</td>\n      <td>None</td>\n      <td>None</td>\n      <td>None</td>\n      <td>None</td>\n      <td>2023-07-15 00:00:00</td>\n      <td>No</td>\n      <td>No</td>\n      <td>-</td>\n      <td>-</td>\n      <td>...</td>\n      <td>None</td>\n      <td>ဒိုရော ( ထက် )</td>\n      <td>NaN</td>\n      <td>F</td>\n      <td>2023-04-29</td>\n      <td>2.566667</td>\n      <td>0.566667</td>\n      <td>1.566667</td>\n      <td>2.566667</td>\n      <td>2.566667</td>\n    </tr>\n    <tr>\n      <th>169</th>\n      <td>170</td>\n      <td>None</td>\n      <td>None</td>\n      <td>None</td>\n      <td>None</td>\n      <td>2023-07-15 00:00:00</td>\n      <td>No</td>\n      <td>No</td>\n      <td>-</td>\n      <td>-</td>\n      <td>...</td>\n      <td>None</td>\n      <td>ထေခိုကျေးရွာ</td>\n      <td>NaN</td>\n      <td>F</td>\n      <td>2023-05-08</td>\n      <td>2.266667</td>\n      <td>0.266667</td>\n      <td>1.266667</td>\n      <td>2.266667</td>\n      <td>2.266667</td>\n    </tr>\n    <tr>\n      <th>170</th>\n      <td>171</td>\n      <td>None</td>\n      <td>None</td>\n      <td>None</td>\n      <td>None</td>\n      <td>2023-07-15 00:00:00</td>\n      <td>No</td>\n      <td>No</td>\n      <td>-</td>\n      <td>-</td>\n      <td>...</td>\n      <td>None</td>\n      <td>ဒေါညေးခူကျေးရွာ</td>\n      <td>NaN</td>\n      <td>F</td>\n      <td>2023-05-07</td>\n      <td>2.300000</td>\n      <td>0.300000</td>\n      <td>1.300000</td>\n      <td>2.300000</td>\n      <td>2.300000</td>\n    </tr>\n    <tr>\n      <th>171</th>\n      <td>172</td>\n      <td>None</td>\n      <td>None</td>\n      <td>None</td>\n      <td>None</td>\n      <td>2023-07-15 00:00:00</td>\n      <td>No</td>\n      <td>No</td>\n      <td>-</td>\n      <td>-</td>\n      <td>...</td>\n      <td>None</td>\n      <td>ရီခီးဘူး</td>\n      <td>NaN</td>\n      <td>F</td>\n      <td>2021-08-30</td>\n      <td>22.800000</td>\n      <td>20.800000</td>\n      <td>21.800000</td>\n      <td>22.800000</td>\n      <td>22.800000</td>\n    </tr>\n    <tr>\n      <th>172</th>\n      <td>173</td>\n      <td>None</td>\n      <td>None</td>\n      <td>None</td>\n      <td>None</td>\n      <td>2023-07-15 00:00:00</td>\n      <td>Yes</td>\n      <td>Yes</td>\n      <td>-</td>\n      <td>-</td>\n      <td>...</td>\n      <td>None</td>\n      <td>ပျားချောင်း ( IDP )</td>\n      <td>NaN</td>\n      <td>F</td>\n      <td>2021-09-20</td>\n      <td>22.100000</td>\n      <td>20.100000</td>\n      <td>21.100000</td>\n      <td>22.100000</td>\n      <td>22.100000</td>\n    </tr>\n    <tr>\n      <th>173</th>\n      <td>174</td>\n      <td>None</td>\n      <td>None</td>\n      <td>None</td>\n      <td>None</td>\n      <td>2023-07-15 00:00:00</td>\n      <td>Yes</td>\n      <td>No</td>\n      <td>-</td>\n      <td>-</td>\n      <td>...</td>\n      <td>None</td>\n      <td>စိန်တောင်တန်း ( IDP )</td>\n      <td>NaN</td>\n      <td>F</td>\n      <td>2021-12-13</td>\n      <td>19.300000</td>\n      <td>17.300000</td>\n      <td>18.300000</td>\n      <td>19.300000</td>\n      <td>19.300000</td>\n    </tr>\n    <tr>\n      <th>174</th>\n      <td>175</td>\n      <td>None</td>\n      <td>None</td>\n      <td>None</td>\n      <td>None</td>\n      <td>2023-07-15 00:00:00</td>\n      <td>No</td>\n      <td>No</td>\n      <td>-</td>\n      <td>-</td>\n      <td>...</td>\n      <td>None</td>\n      <td>တလောဇာ</td>\n      <td>NaN</td>\n      <td>F</td>\n      <td>2023-04-23</td>\n      <td>2.766667</td>\n      <td>0.766667</td>\n      <td>1.766667</td>\n      <td>2.766667</td>\n      <td>2.766667</td>\n    </tr>\n    <tr>\n      <th>175</th>\n      <td>176</td>\n      <td>None</td>\n      <td>None</td>\n      <td>None</td>\n      <td>None</td>\n      <td>2023-07-15 00:00:00</td>\n      <td>No</td>\n      <td>No</td>\n      <td>-</td>\n      <td>-</td>\n      <td>...</td>\n      <td>None</td>\n      <td>ဇေဇာကျေးရွာ</td>\n      <td>NaN</td>\n      <td>F</td>\n      <td>2023-02-10</td>\n      <td>5.166667</td>\n      <td>3.166667</td>\n      <td>4.166667</td>\n      <td>5.166667</td>\n      <td>5.166667</td>\n    </tr>\n    <tr>\n      <th>176</th>\n      <td>177</td>\n      <td>None</td>\n      <td>None</td>\n      <td>None</td>\n      <td>None</td>\n      <td>2023-07-15 00:00:00</td>\n      <td>No</td>\n      <td>No</td>\n      <td>-</td>\n      <td>-</td>\n      <td>...</td>\n      <td>None</td>\n      <td>ပျားချောင်း ( IDP )</td>\n      <td>NaN</td>\n      <td>F</td>\n      <td>2023-01-28</td>\n      <td>5.600000</td>\n      <td>3.600000</td>\n      <td>4.600000</td>\n      <td>5.600000</td>\n      <td>5.600000</td>\n    </tr>\n    <tr>\n      <th>177</th>\n      <td>178</td>\n      <td>None</td>\n      <td>None</td>\n      <td>None</td>\n      <td>None</td>\n      <td>2023-07-15 00:00:00</td>\n      <td>No</td>\n      <td>No</td>\n      <td>-</td>\n      <td>-</td>\n      <td>...</td>\n      <td>None</td>\n      <td>ပျားချောင်း ( IDP )</td>\n      <td>NaN</td>\n      <td>F</td>\n      <td>2023-02-17</td>\n      <td>4.933333</td>\n      <td>2.933333</td>\n      <td>3.933333</td>\n      <td>4.933333</td>\n      <td>4.933333</td>\n    </tr>\n    <tr>\n      <th>178</th>\n      <td>179</td>\n      <td>None</td>\n      <td>None</td>\n      <td>None</td>\n      <td>None</td>\n      <td>2023-07-15 00:00:00</td>\n      <td>No</td>\n      <td>No</td>\n      <td>-</td>\n      <td>-</td>\n      <td>...</td>\n      <td>None</td>\n      <td>ထိုခွီဆို</td>\n      <td>NaN</td>\n      <td>F</td>\n      <td>2023-04-18</td>\n      <td>2.933333</td>\n      <td>0.933333</td>\n      <td>1.933333</td>\n      <td>2.933333</td>\n      <td>2.933333</td>\n    </tr>\n    <tr>\n      <th>179</th>\n      <td>180</td>\n      <td>None</td>\n      <td>None</td>\n      <td>None</td>\n      <td>None</td>\n      <td>2023-07-15 00:00:00</td>\n      <td>No</td>\n      <td>No</td>\n      <td>-</td>\n      <td>-</td>\n      <td>...</td>\n      <td>None</td>\n      <td>ယိုစပရားကျေးရွာ</td>\n      <td>NaN</td>\n      <td>F</td>\n      <td>2023-04-13</td>\n      <td>3.100000</td>\n      <td>1.100000</td>\n      <td>2.100000</td>\n      <td>3.100000</td>\n      <td>3.100000</td>\n    </tr>\n    <tr>\n      <th>180</th>\n      <td>181</td>\n      <td>None</td>\n      <td>None</td>\n      <td>None</td>\n      <td>None</td>\n      <td>2023-07-15 00:00:00</td>\n      <td>No</td>\n      <td>No</td>\n      <td>-</td>\n      <td>-</td>\n      <td>...</td>\n      <td>None</td>\n      <td>ကေလျား IDP</td>\n      <td>NaN</td>\n      <td>F</td>\n      <td>2023-04-09</td>\n      <td>3.233333</td>\n      <td>1.233333</td>\n      <td>2.233333</td>\n      <td>3.233333</td>\n      <td>3.233333</td>\n    </tr>\n    <tr>\n      <th>181</th>\n      <td>182</td>\n      <td>None</td>\n      <td>None</td>\n      <td>None</td>\n      <td>None</td>\n      <td>2023-07-15 00:00:00</td>\n      <td>Yes</td>\n      <td>Yes</td>\n      <td>-</td>\n      <td>-</td>\n      <td>...</td>\n      <td>None</td>\n      <td>ဟိုယာ</td>\n      <td>NaN</td>\n      <td>F</td>\n      <td>2019-10-28</td>\n      <td>45.200000</td>\n      <td>43.200000</td>\n      <td>44.200000</td>\n      <td>45.200000</td>\n      <td>45.200000</td>\n    </tr>\n    <tr>\n      <th>182</th>\n      <td>183</td>\n      <td>None</td>\n      <td>None</td>\n      <td>None</td>\n      <td>None</td>\n      <td>2023-07-15 00:00:00</td>\n      <td>No</td>\n      <td>No</td>\n      <td>-</td>\n      <td>-</td>\n      <td>...</td>\n      <td>None</td>\n      <td>မော်သီဒို ( IDP )</td>\n      <td>NaN</td>\n      <td>F</td>\n      <td>2022-11-11</td>\n      <td>8.200000</td>\n      <td>6.200000</td>\n      <td>7.200000</td>\n      <td>8.200000</td>\n      <td>8.200000</td>\n    </tr>\n    <tr>\n      <th>183</th>\n      <td>184</td>\n      <td>None</td>\n      <td>None</td>\n      <td>None</td>\n      <td>None</td>\n      <td>2023-07-15 00:00:00</td>\n      <td>Yes</td>\n      <td>Yes</td>\n      <td>-</td>\n      <td>-</td>\n      <td>...</td>\n      <td>None</td>\n      <td>စိန်တောင်တန်း ( IDP )</td>\n      <td>NaN</td>\n      <td>F</td>\n      <td>2020-09-17</td>\n      <td>34.366667</td>\n      <td>32.366667</td>\n      <td>33.366667</td>\n      <td>34.366667</td>\n      <td>34.366667</td>\n    </tr>\n  </tbody>\n</table>\n<p>54 rows × 64 columns</p>\n</div>"
     },
     "execution_count": 16,
     "metadata": {},
     "output_type": "execute_result"
    }
   ],
   "source": [
    "y.loc[y['Sex']=='F', :]"
   ],
   "metadata": {
    "collapsed": false,
    "ExecuteTime": {
     "end_time": "2023-08-15T19:27:24.997446Z",
     "start_time": "2023-08-15T19:27:24.978347Z"
    }
   }
  },
  {
   "cell_type": "code",
   "execution_count": 21,
   "outputs": [],
   "source": [],
   "metadata": {
    "collapsed": false,
    "ExecuteTime": {
     "end_time": "2023-08-15T19:30:05.443339Z",
     "start_time": "2023-08-15T19:30:05.426957Z"
    }
   }
  },
  {
   "cell_type": "markdown",
   "metadata": {},
   "source": [
    "### FLOWCHART (Mar/Apr)"
   ]
  },
  {
   "cell_type": "code",
   "execution_count": 13,
   "metadata": {
    "ExecuteTime": {
     "end_time": "2023-07-21T17:12:54.486261Z",
     "start_time": "2023-07-21T17:12:54.456666Z"
    }
   },
   "outputs": [],
   "source": [
    "flow_df = df.loc[df['ReNu'] != 'NO SHOW', :]  # 183\n",
    "# census = flow_df.loc[flow_df['CeNu'] != 'None', :]  # 131\n",
    "# new_attendees = flow_df.loc[flow_df['CeNu'] == 'None', :]  # 52\n",
    "# at_least_once = flow_df.loc[(flow_df['ReNu'] != 'NO SHOW') & (df['CeNu'] != 'None'), :]  # 77\n",
    "# never_came = flow_df.loc[(flow_df['ReNu'] == 'NO SHOW') & (df['CeNu'] != 'None'), :]  # 54\n",
    "# no_prev = flow_df.loc[(flow_df['ReNu'] != 'NO SHOW') & (df['PreV'] == 'No'), :]\n",
    "# prev = flow_df.loc[(flow_df['ReNu'] != 'NO SHOW') & (flow_df['PreV'] == 'Yes'), :]  # 15\n",
    "# bcg_eligible = flow_df.loc[(flow_df['ReNu'] != 'NO SHOW') & (flow_df['PreV'] == 'No') & (flow_df['AGE'] <= 12), :]\n",
    "# bcg1 = flow_df.loc[\n",
    "#        (flow_df['ReNu'] != 'NO SHOW') & (flow_df['PreV'] == 'No') & (flow_df['AGE'] <= 12) & (flow_df['P4BC'] == 'Yes'),\n",
    "#        :]\n",
    "# pe_eligible = flow_df.loc[(flow_df['ReNu'] != 'NO SHOW') & (flow_df['PreV'] == 'No') & (flow_df['AGE'] <= 36), :]  # 114\n",
    "# pe1 = flow_df.loc[(flow_df['ReNu'] != 'NO SHOW') & (flow_df['PreV'] == 'No') & (flow_df['P4Pe1'] == 'Yes'), :]  # 111\n",
    "# pe2 = flow_df.loc[(flow_df['ReNu'] != 'NO SHOW') & (flow_df['PreV'] == 'No') & (flow_df['P4Pe2'] == 'Yes'), :]  # 102\n",
    "# pe3 = flow_df.loc[(flow_df['ReNu'] != 'NO SHOW') & (flow_df['PreV'] == 'No') & (flow_df['P4Pe3'] == 'Yes'), :]  # 86\n",
    "# po1 = flow_df.loc[(flow_df['ReNu'] != 'NO SHOW') & (flow_df['PreV'] == 'No') & (flow_df['P4Po1'] == 'Yes'), :]\n",
    "# po2 = flow_df.loc[(flow_df['ReNu'] != 'NO SHOW') & (flow_df['PreV'] == 'No') & (flow_df['P4Po2'] == 'Yes'), :]\n",
    "# po3 = flow_df.loc[(flow_df['ReNu'] != 'NO SHOW') & (flow_df['PreV'] == 'No') & (flow_df['P4Po3'] == 'Yes'), :]\n",
    "# mmr1 = flow_df.loc[(flow_df['ReNu'] != 'NO SHOW') & (flow_df['PreV'] == 'No') & (flow_df['P4M1'] == 'Yes'), :]\n",
    "# mmr2 = flow_df.loc[(flow_df['ReNu'] != 'NO SHOW') & (flow_df['PreV'] == 'No') & (flow_df['P4M2'] == 'Yes'), :]\n",
    "# prev_utd = flow_df.loc[(flow_df['ReNu'] != 'NO SHOW') & (flow_df['PreV'] == 'Yes') & (flow_df['UTD'] == True), :]  # 12\n",
    "# may = flow_df.loc[((flow_df['Att3'] != 'None') & (flow_df['Att3'] != 'NO SHOW')), :]  # 86\n",
    "# june = flow_df.loc[((flow_df['Att4'] != 'None') & (flow_df['Att4'] != 'NO SHOW')), :]  # 102\n",
    "# census = df.loc[df['CeNu'] != 'None', :]\n",
    "# census.loc[((census['Att1'] == 'NO SHOW') & (census['Att2'] == 'NO SHOW') & (census['Att3'] == 'NO SHOW')),:]\n",
    "# v = no_prev.loc[((no_prev['Att1'] == pd.to_datetime('3/15/2023') )|(no_prev['Att2']==pd.to_datetime('4/15/2023') )|(no_prev['Att3']==pd.to_datetime('5/15/2023'))),:]\n",
    "# v.loc[(v['AGE_JUNE15']>=9)&(v['P5M2']=='Yes'),:]\n",
    "# no_prev.loc[(no_prev['UTD'] == 'Yes')&(no_prev['P5M2']=='Yes'), :]\n",
    "# flow_df.loc[(flow_df['PreV']=='Yes')&(flow_df['UTD']=='Yes')&((flow_df['P5BC']=='P')|(flow_df['P5BC']=='Yes')), :] # 33\n",
    "# flow_df.loc[(flow_df['PreV']=='No')&(flow_df['UTD']=='Yes')&(flow_df['P5BC']=='Yes'), :]"
   ]
  },
  {
   "cell_type": "code",
   "execution_count": 53,
   "metadata": {
    "ExecuteTime": {
     "end_time": "2023-07-28T21:01:31.884340Z",
     "start_time": "2023-07-28T21:01:31.858992Z"
    }
   },
   "outputs": [
    {
     "data": {
      "text/plain": [
       "6.783333333333333"
      ]
     },
     "execution_count": 53,
     "metadata": {},
     "output_type": "execute_result"
    }
   ],
   "source": [
    "df.loc[(df['CeNu']!='None')&(df['ReNu']!='None'),'AGE'].median()"
   ]
  },
  {
   "cell_type": "markdown",
   "metadata": {},
   "source": [
    "### Camp analysis\n",
    "Create dataframes of counts by camp: stratify by census and new attendees."
   ]
  },
  {
   "cell_type": "code",
   "execution_count": 38,
   "metadata": {
    "ExecuteTime": {
     "end_time": "2023-07-28T20:29:17.978873Z",
     "start_time": "2023-07-28T20:29:17.949012Z"
    }
   },
   "outputs": [],
   "source": [
    "num_attendees = []\n",
    "num_nonattendees = []\n",
    "camp_names = []\n",
    "camp_df = df.loc[df['CeNu'] != 'None', :] # not in the census\n",
    "for camp_name in camp_df['CAMP'].unique():\n",
    "    amount1 = len(camp_df.loc[ (camp_df['CAMP'] == camp_name) & (camp_df['PreV'] == '?'), :]) # did not attend\n",
    "    amount2 = len(camp_df.loc[ (camp_df['CAMP'] == camp_name) & (camp_df['PreV'] != '?'), :]) # attended\n",
    "    num_nonattendees.append(amount1)\n",
    "    num_attendees.append(amount2)\n",
    "    camp_names.append(camp_name)\n",
    "\n",
    "camp_dict = {'Camp Name': camp_names, 'Attended': num_attendees, 'Did not attend': num_nonattendees }\n",
    "\n",
    "camp = pd.DataFrame(camp_dict)\n",
    "camp['Total'] = camp['Attended'] + camp['Did not attend']\n",
    "#totals = {'Camp Name':'Total', 'Attended': sum(camp_df['Attended']), 'Did not attend': sum(camp_df['Did not attend']), 'Total': sum(camp_df['Attended']) + sum(camp_df['Did not attend'])}\n",
    "#camp_df = camp_df.append(totals, ignore_index=True)\n",
    "camp['Percentage'] = (camp['Total'] / sum(camp['Total'])) * 100"
   ]
  },
  {
   "cell_type": "code",
   "execution_count": 39,
   "metadata": {
    "ExecuteTime": {
     "end_time": "2023-07-28T20:29:22.768836Z",
     "start_time": "2023-07-28T20:29:22.705109Z"
    }
   },
   "outputs": [],
   "source": [
    "camp_dict = {}\n",
    "for camp in df['CAMP'].unique():\n",
    "    camp_dict[camp] = {}\n",
    "    camp_dict[camp]['New Attendees'] = 0\n",
    "    camp_dict[camp]['Attendees (census)'] = 0\n",
    "    camp_dict[camp]['Nonattendees (census)'] = 0\n",
    "for idx, row in df.iterrows():\n",
    "    if row['CeNu'] == 'None': # not in census\n",
    "        for camp in df['CAMP'].unique():\n",
    "            if row['CAMP'] == camp:\n",
    "               camp_dict[camp]['New Attendees'] = camp_dict[camp]['New Attendees'] + 1\n",
    "    if row['CeNu'] != 'None': # in census\n",
    "        if row['PreV'] != '?': # attended\n",
    "            for camp in df['CAMP'].unique():\n",
    "                if row['CAMP'] == camp:\n",
    "                    camp_dict[camp]['Attendees (census)'] = camp_dict[camp]['Attendees (census)'] + 1\n",
    "        if row['PreV'] == '?': # did not attend\n",
    "            for camp in df['CAMP'].unique():\n",
    "                if row['CAMP'] == camp:\n",
    "                    camp_dict[camp]['Nonattendees (census)'] = camp_dict[camp]['Nonattendees (census)'] + 1\n",
    "\n",
    "camp_df = pd.DataFrame(camp_dict).T"
   ]
  },
  {
   "cell_type": "markdown",
   "source": [
    "### Age & Sex Distribution"
   ],
   "metadata": {
    "collapsed": false
   }
  },
  {
   "cell_type": "code",
   "execution_count": 17,
   "outputs": [
    {
     "data": {
      "text/plain": "<Figure size 640x480 with 1 Axes>",
      "image/png": "[encoded data removed]"
     },
     "metadata": {},
     "output_type": "display_data"
    }
   ],
   "source": [
    "import matplotlib.pyplot as plt\n",
    "import numpy as np\n",
    "plt.hist(df.loc[(df['ReNu']!='NO SHOW'),'AGE'])\n",
    "plt.show()"
   ],
   "metadata": {
    "collapsed": false,
    "ExecuteTime": {
     "end_time": "2023-08-18T23:23:40.817705Z",
     "start_time": "2023-08-18T23:23:39.972057Z"
    }
   }
  },
  {
   "cell_type": "code",
   "execution_count": 27,
   "outputs": [],
   "source": [
    "median_age = df.loc[(df['ReNu']!='NO SHOW'),'AGE'].median() # 6.2 months\n",
    "q25, q75 = np.percentile(a=df.loc[(df['ReNu']!='NO SHOW'),'AGE'], q=[25,75])\n",
    "IQR = q75 - q25 # 7.3"
   ],
   "metadata": {
    "collapsed": false,
    "ExecuteTime": {
     "end_time": "2023-08-08T16:10:34.710781Z",
     "start_time": "2023-08-08T16:10:34.690981Z"
    }
   }
  },
  {
   "cell_type": "code",
   "execution_count": 38,
   "outputs": [],
   "source": [
    "males = df.loc[(df['ReNu']!='NO SHOW')&(df['Sex']=='M'),:]\n",
    "females =  df.loc[(df['ReNu']!='NO SHOW')&(df['Sex']=='F'),:]\n",
    "pm = len(males) / 184 # 49.5\n",
    "pf = len(females) / 184 # 50.5"
   ],
   "metadata": {
    "collapsed": false,
    "ExecuteTime": {
     "end_time": "2023-08-08T16:22:58.117607Z",
     "start_time": "2023-08-08T16:22:58.081529Z"
    }
   }
  },
  {
   "cell_type": "markdown",
   "metadata": {
    "ExecuteTime": {
     "end_time": "2023-07-25T17:50:07.769688Z",
     "start_time": "2023-07-25T17:50:07.170895Z"
    }
   },
   "source": [
    "## Survival Analysis, previously unvaccinated children"
   ]
  },
  {
   "cell_type": "code",
   "execution_count": 21,
   "metadata": {
    "ExecuteTime": {
     "end_time": "2023-09-13T22:46:40.657682Z",
     "start_time": "2023-09-13T22:46:39.431242Z"
    }
   },
   "outputs": [],
   "source": [
    "from sksurv.nonparametric import kaplan_meier_estimator\n",
    "import matplotlib.pyplot as plt\n",
    "import numpy as np"
   ]
  },
  {
   "cell_type": "markdown",
   "metadata": {},
   "source": [
    "Create array of Pe3 status and number of months to get Pe3, or time until last contact for dropouts.\n",
    "Only include children >= 2 months old at date of first attendance and attended in at least one of March/April/May."
   ]
  },
  {
   "cell_type": "code",
   "execution_count": 22,
   "metadata": {
    "ExecuteTime": {
     "end_time": "2023-09-13T22:46:44.873675Z",
     "start_time": "2023-09-13T22:46:44.817094Z"
    }
   },
   "outputs": [],
   "source": [
    "no_prev = df.loc[(df['PreV']=='No')&(df['AGE_MAY15']>=2), :]\n",
    "df2 = no_prev.loc[(no_prev['Att1'] != 'None')|(no_prev['Att2'] != 'None')|(no_prev['Att3']!='None'),:]\n",
    "pe3_status = []\n",
    "pe3_time = []\n",
    "for idx, row in df2.iterrows():\n",
    "    if row['Att1'] != 'None': # first attended in March\n",
    "        if row['P3Pe3'] == 'Yes': # received Pe3 after 2 months since first visit\n",
    "            pe3_status.append(True) \n",
    "            pe3_time.append(2)\n",
    "            continue\n",
    "        if row['P4Pe3'] == 'Yes':  # received Pe3 after 3 months since first visit\n",
    "            pe3_status.append(True)\n",
    "            pe3_time.append(3)\n",
    "            continue\n",
    "        if row['P5Pe3'] == 'Yes': # received Pe3 after 4 months since first visit\n",
    "            pe3_status.append(True)\n",
    "            pe3_time.append(4)\n",
    "            continue\n",
    "        else: # calculate time until last contact\n",
    "            pe3_status.append(False)\n",
    "            if (row['Att2'] == 'None') & (row['Att3'] == 'None') & (row['Att4']=='None')&(row['Att5']=='None'): # left after March\n",
    "                pe3_time.append(0)\n",
    "            elif (row['Att2']!='None')&(row['Att3'] == 'None')&(row['Att4']=='None')&(row['Att5']=='None'): # left after April\n",
    "                pe3_time.append(1)\n",
    "            elif (row['Att3'] != 'None')&(row['Att4']=='None')&(row['Att5']=='None'): # left after May\n",
    "                pe3_time.append(2)\n",
    "            elif (row['Att4']!='None')&(row['Att5']=='None'): # left after June\n",
    "                pe3_time.append(3)\n",
    "            elif row['Att5']!='None': # no Pe3 by the end of the program\n",
    "                pe3_time.append(4)\n",
    "\n",
    "    elif (row['Att2'] != 'None')&(row['Att1']=='None'): # first attended in April\n",
    "        if row['P4Pe3'] == 'Yes':\n",
    "            pe3_status.append(True)\n",
    "            pe3_time.append(2)\n",
    "            continue\n",
    "        if row['P5Pe3'] == 'Yes':\n",
    "            pe3_status.append(True)\n",
    "            pe3_time.append(3)\n",
    "            continue\n",
    "        else: # calculate time until last contact\n",
    "            pe3_status.append(False)\n",
    "            if (row['Att3'] == 'None')&(row['Att4']=='None')&(row['Att5']=='None'): # left after April\n",
    "                pe3_time.append(0)\n",
    "            elif (row['Att3'] != 'None')&(row['Att4']=='None')&(row['Att5']=='None'): # left after May\n",
    "                pe3_time.append(1)\n",
    "            elif (row['Att4']!='None')&(row['Att5']=='None'): # left after June\n",
    "                pe3_time.append(2)\n",
    "            elif row['Att5']!='None': # no Pe3 by the end of the program\n",
    "                pe3_time.append(3)\n",
    "    elif (row['Att2'] == 'None')&(row['Att1']=='None')&(row['Att3']!='None'): # first attended in May\n",
    "        if row['P5Pe3'] == 'Yes':\n",
    "            pe3_status.append(True)\n",
    "            pe3_time.append(2)\n",
    "            continue\n",
    "        else: # calculate time until last contact\n",
    "            pe3_status.append(False)\n",
    "            if (row['Att4']=='None')&(row['Att5']=='None'): # left after May\n",
    "                pe3_time.append(0)\n",
    "            elif (row['Att4']!='None')&(row['Att5']=='None'): # left after June\n",
    "                pe3_time.append(1)\n",
    "            elif row['Att5']!='None': # no Pe3 by the end of the program\n",
    "                pe3_time.append(2)\n"
   ]
  },
  {
   "cell_type": "markdown",
   "metadata": {},
   "source": [
    "Create array of Po3 status and number of months to get Po3, or time until last contact for dropouts.\n",
    "Only include children >= 2 months old at date of first attendance and attended in at least one of March/April/May."
   ]
  },
  {
   "cell_type": "code",
   "execution_count": 23,
   "metadata": {
    "ExecuteTime": {
     "end_time": "2023-09-13T22:46:46.166734Z",
     "start_time": "2023-09-13T22:46:46.078420Z"
    }
   },
   "outputs": [],
   "source": [
    "po3_status = []\n",
    "po3_time = []\n",
    "for idx, row in df2.iterrows():\n",
    "    if row['Att1'] != 'None': # first attended in March\n",
    "        if row['P3Po3'] == 'Yes': # received Po3 after 2 months since first visit\n",
    "            po3_status.append(True) \n",
    "            po3_time.append(2)\n",
    "            continue\n",
    "        if row['P4Po3'] == 'Yes':  # received Po3 after 3 months since first visit\n",
    "            po3_status.append(True)\n",
    "            po3_time.append(3)\n",
    "            continue\n",
    "        if row['P5Po3'] == 'Yes': # received Po3 after 4 months since first visit\n",
    "            po3_status.append(True)\n",
    "            po3_time.append(4)\n",
    "            continue\n",
    "        else: # calculate time until last contact\n",
    "            po3_status.append(False)\n",
    "            if (row['Att2'] == 'None') & (row['Att3'] == 'None') & (row['Att4']=='None')&(row['Att5']=='None'): # left after March\n",
    "                po3_time.append(0)\n",
    "            elif (row['Att2']!='None')&(row['Att3'] == 'None')&(row['Att4']=='None')&(row['Att5']=='None'): # left after April\n",
    "                po3_time.append(1)\n",
    "            elif (row['Att3'] != 'None')&(row['Att4']=='None')&(row['Att5']=='None'): # left after May\n",
    "                po3_time.append(2)\n",
    "            elif (row['Att4']!='None')&(row['Att5']=='None'): # left after June\n",
    "                po3_time.append(3)\n",
    "            elif row['Att5']!='None': # no Pe3 by the end of the program\n",
    "                po3_time.append(4)\n",
    "\n",
    "    elif (row['Att2'] != 'None')&(row['Att1']=='None'): # first attended in April\n",
    "        if row['P4Po3'] == 'Yes':\n",
    "            po3_status.append(True)\n",
    "            po3_time.append(2)\n",
    "            continue\n",
    "        if row['P5Po3'] == 'Yes':\n",
    "            po3_status.append(True)\n",
    "            po3_time.append(3)\n",
    "            continue\n",
    "        else: # calculate time until last contact\n",
    "            po3_status.append(False)\n",
    "            if (row['Att3'] == 'None')&(row['Att4']=='None')&(row['Att5']=='None'): # left after April\n",
    "                po3_time.append(0)\n",
    "            elif (row['Att3'] != 'None')&(row['Att4']=='None')&(row['Att5']=='None'): # left after May\n",
    "                po3_time.append(1)\n",
    "            elif (row['Att4']!='None')&(row['Att5']=='None'): # left after June\n",
    "                po3_time.append(2)\n",
    "            elif row['Att5']!='None': # no Pe3 by the end of the program\n",
    "                po3_time.append(3)\n",
    "    elif (row['Att2'] == 'None')&(row['Att1']=='None')&(row['Att3']!='None'): # first attended in May\n",
    "        if row['P5Po3'] == 'Yes':\n",
    "            po3_status.append(True)\n",
    "            po3_time.append(2)\n",
    "            continue\n",
    "        else: # calculate time until last contact\n",
    "            po3_status.append(False)\n",
    "            if (row['Att4']=='None')&(row['Att5']=='None'): # left after May\n",
    "                po3_time.append(0)\n",
    "            elif (row['Att4']!='None')&(row['Att5']=='None'): # left after June\n",
    "                po3_time.append(1)\n",
    "            elif row['Att5']!='None': # no Pe3 by the end of the program\n",
    "                po3_time.append(2)"
   ]
  },
  {
   "cell_type": "markdown",
   "metadata": {},
   "source": [
    "Create array of M2 status and number of months to get M2, or time until last contact for dropouts.\n",
    "Only include children >= 9 months old at date of first attendance and attended in at least one of March/April/May/June."
   ]
  },
  {
   "cell_type": "code",
   "execution_count": 24,
   "metadata": {
    "ExecuteTime": {
     "end_time": "2023-09-13T22:46:47.662698Z",
     "start_time": "2023-09-13T22:46:47.605250Z"
    }
   },
   "outputs": [],
   "source": [
    "of_age = df.loc[(df['PreV']=='No')&(df['AGE_JUNE15']>=9), :]\n",
    "df3 = of_age.loc[(of_age['Att1'] != 'None')|(of_age['Att2'] != 'None')|(of_age['Att3']!='None')|(of_age['Att4']!='None'),:]\n",
    "mmr_status = []\n",
    "mmr_time = []\n",
    "for idx, row in df3.iterrows():\n",
    "    if row['Att1'] != 'None': # first attended in March\n",
    "        if row['P2M2'] == 'Yes': # received M2 after 1 month since first visit\n",
    "            mmr_status.append(True) \n",
    "            mmr_time.append(1)\n",
    "            continue\n",
    "        if row['P3M2'] == 'Yes':  # received M2 after 2 months since first visit\n",
    "            mmr_status.append(True)\n",
    "            mmr_time.append(2)\n",
    "            continue\n",
    "        if row['P4M2'] == 'Yes': # received M2 after 3 months since first visit\n",
    "            mmr_status.append(True)\n",
    "            mmr_time.append(3)\n",
    "            continue\n",
    "        if row['P5M2'] == 'Yes': # received M2 after 4 months since first visit\n",
    "            mmr_status.append(True)\n",
    "            mmr_time.append(4)\n",
    "            continue\n",
    "        else: # calculate time until last contact\n",
    "            mmr_status.append(False)\n",
    "            if (row['Att2'] == 'None') & (row['Att3'] == 'None') & (row['Att4']=='None')&(row['Att5']=='None'): # left after March\n",
    "                mmr_time.append(0)\n",
    "            elif (row['Att2']!='None')&(row['Att3'] == 'None')&(row['Att4']=='None')&(row['Att5']=='None'): # left after April\n",
    "                mmr_time.append(1)\n",
    "            elif (row['Att3'] != 'None')&(row['Att4']=='None')&(row['Att5']=='None'): # left after May\n",
    "                mmr_time.append(2)\n",
    "            elif (row['Att4']!='None')&(row['Att5']=='None'): # left after June\n",
    "                mmr_time.append(3)\n",
    "            elif row['Att5']!='None': # no M2 by the end of the program\n",
    "                mmr_time.append(4)\n",
    "    elif row['Att2'] != 'None': # first attended in April\n",
    "        if row['P3M2'] == 'Yes': # received M2 after 1 month since first visit\n",
    "            mmr_status.append(True) \n",
    "            mmr_time.append(1)\n",
    "            continue\n",
    "        if row['P4M2'] == 'Yes':  # received M2 after 2 months since first visit\n",
    "            mmr_status.append(True)\n",
    "            mmr_time.append(2)\n",
    "            continue\n",
    "        if row['P5M2'] == 'Yes': # received M2 after 3 months since first visit\n",
    "            mmr_status.append(True)\n",
    "            mmr_time.append(3)\n",
    "            continue\n",
    "        else: # calculate time until last contact\n",
    "            mmr_status.append(False)\n",
    "            if (row['Att2']!='None')&(row['Att3'] == 'None')&(row['Att4']=='None')&(row['Att5']=='None'): # left after April\n",
    "                mmr_time.append(0)\n",
    "            elif (row['Att3'] != 'None')&(row['Att4']=='None')&(row['Att5']=='None'): # left after May\n",
    "                mmr_time.append(1)\n",
    "            elif (row['Att4']!='None')&(row['Att5']=='None'): # left after June\n",
    "                mmr_time.append(2)\n",
    "            elif row['Att5']!='None': # no M2 by the end of the program\n",
    "                mmr_time.append(3)\n",
    "    elif row['Att3'] != 'None': # first attended in May\n",
    "        if row['P4M2'] == 'Yes': # received M2 after 1 month since first visit\n",
    "            mmr_status.append(True) \n",
    "            mmr_time.append(1)\n",
    "            continue\n",
    "        if row['P5M2'] == 'Yes':  # received M2 after 2 months since first visit\n",
    "            mmr_status.append(True)\n",
    "            mmr_time.append(2)\n",
    "            continue\n",
    "        else: # calculate time until last contact\n",
    "            mmr_status.append(False)\n",
    "            if (row['Att3'] != 'None')&(row['Att4']=='None')&(row['Att5']=='None'): # left after May\n",
    "                mmr_time.append(0)\n",
    "            elif (row['Att4']!='None')&(row['Att5']=='None'): # left after June\n",
    "                mmr_time.append(1)\n",
    "            elif row['Att5']!='None': # no M2 by the end of the program\n",
    "                mmr_time.append(2)\n",
    "    elif row['Att4'] != 'None': # first attended in June\n",
    "        if row['P5M2'] == 'Yes': # received M2 after 1 month since first visit\n",
    "            mmr_status.append(True) \n",
    "            mmr_time.append(1)\n",
    "            continue\n",
    "        else: # calculate time until last contact\n",
    "            mmr_status.append(False)\n",
    "            if (row['Att4']!='None')&(row['Att5']=='None'): # left after June\n",
    "                mmr_time.append(0)\n",
    "            elif row['Att5']!='None': # no M2 by the end of the program\n",
    "                mmr_time.append(1)"
   ]
  },
  {
   "cell_type": "markdown",
   "metadata": {},
   "source": [
    "Create array of BCG status and number of months to get Pe3, or time until last contact for dropouts.\n",
    "Only include children <= 12 months old at date of first attendance and attended at least once"
   ]
  },
  {
   "cell_type": "code",
   "execution_count": 25,
   "metadata": {
    "ExecuteTime": {
     "end_time": "2023-09-13T22:46:48.897022Z",
     "start_time": "2023-09-13T22:46:48.890537Z"
    }
   },
   "outputs": [],
   "source": [
    "bcg = df.loc[(df['PreV']=='No')&(df['AGE']<=12), :]\n",
    "bcg_status = []\n",
    "bcg_time = []\n",
    "for idx, row in bcg.iterrows():\n",
    "    if row['Att1'] != 'None': # first attended in March\n",
    "        if row['P1BC'] == 'Yes': # received BCG after 0 months since first visit\n",
    "            bcg_status.append(True) \n",
    "            bcg_time.append(0)\n",
    "            continue\n",
    "        if row['P2BC'] == 'Yes':  # received BCG after 1 months since first visit\n",
    "            bcg_status.append(True)\n",
    "            bcg_time.append(1)\n",
    "            continue\n",
    "        if row['P3BC'] == 'Yes': # received BCG after 2 months since first visit\n",
    "            bcg_status.append(True)\n",
    "            bcg_time.append(2)\n",
    "            continue\n",
    "        if row['P4BC'] == 'Yes': # received BCG after 3 months since first visit\n",
    "            bcg_status.append(True)\n",
    "            bcg_time.append(3)\n",
    "            continue\n",
    "        if row['P5BC'] == 'Yes': # received BCG after 4 months since first visit\n",
    "            bcg_status.append(True)\n",
    "            bcg_time.append(4)\n",
    "            continue\n",
    "        else: # calculate time until last contact\n",
    "            bcg_status.append(False)\n",
    "            if (row['Att2'] == 'None') & (row['Att3'] == 'None') & (row['Att4']=='None')&(row['Att5']=='None'): # left after March\n",
    "                bcg_time.append(0)\n",
    "            elif (row['Att2']!='None')&(row['Att3'] == 'None')&(row['Att4']=='None')&(row['Att5']=='None'): # left after April\n",
    "                bcg_time.append(1)\n",
    "            elif (row['Att3'] != 'None')&(row['Att4']=='None')&(row['Att5']=='None'): # left after May\n",
    "                bcg_time.append(2)\n",
    "            elif (row['Att4']!='None')&(row['Att5']=='None'): # left after June\n",
    "                bcg_time.append(3)\n",
    "            elif row['Att5']!='None': # no BCG by the end of the program\n",
    "                bcg_time.append(4)\n",
    "    elif row['Att2'] != 'None': # first attended in April\n",
    "        if row['P2BC'] == 'Yes': # received BC after 0 months since first visit\n",
    "            bcg_status.append(True) \n",
    "            bcg_time.append(0)\n",
    "            continue\n",
    "        if row['P3BC'] == 'Yes':  # received BC after 1 month since first visit\n",
    "            bcg_status.append(True)\n",
    "            bcg_time.append(1)\n",
    "            continue\n",
    "        if row['P4BC'] == 'Yes': # received BC after 2 months since first visit\n",
    "            bcg_status.append(True)\n",
    "            bcg_time.append(2)\n",
    "            continue\n",
    "        if row['P5BC'] == 'Yes': # received BC after 3 months since first visit\n",
    "            bcg_status.append(True)\n",
    "            bcg_time.append(3)\n",
    "            continue\n",
    "        else: # calculate time until last contact\n",
    "            bcg_status.append(False)\n",
    "            if (row['Att2']!='None')&(row['Att3'] == 'None')&(row['Att4']=='None')&(row['Att5']=='None'): # left after April\n",
    "                bcg_time.append(0)\n",
    "            elif (row['Att3'] != 'None')&(row['Att4']=='None')&(row['Att5']=='None'): # left after May\n",
    "                bcg_time.append(1)\n",
    "            elif (row['Att4']!='None')&(row['Att5']=='None'): # left after June\n",
    "                bcg_time.append(2)\n",
    "            elif row['Att5']!='None': # no BC by the end of the program\n",
    "                bcg_time.append(3)\n",
    "    elif row['Att3'] != 'None': # first attended in May\n",
    "        if row['P3BC'] == 'Yes': # received BC after 0 months since first visit\n",
    "            bcg_status.append(True) \n",
    "            bcg_time.append(0)\n",
    "            continue\n",
    "        if row['P4BC'] == 'Yes':  # received BC after 1 month since first visit\n",
    "            bcg_status.append(True)\n",
    "            bcg_time.append(1)\n",
    "            continue\n",
    "        if row['P5BC'] == 'Yes':  # received BC after 2 months since first visit\n",
    "            bcg_status.append(True)\n",
    "            bcg_time.append(2)\n",
    "            continue\n",
    "        else: # calculate time until last contact\n",
    "            bcg_status.append(False)\n",
    "            if (row['Att3'] != 'None')&(row['Att4']=='None')&(row['Att5']=='None'): # left after May\n",
    "                bcg_time.append(0)\n",
    "            elif (row['Att4']!='None')&(row['Att5']=='None'): # left after June\n",
    "                bcg_time.append(1)\n",
    "            elif row['Att5']!='None': # no M2 by the end of the program\n",
    "                bcg_time.append(2)\n",
    "    elif row['Att4'] != 'None': # first attended in June\n",
    "        if row['P4BC'] == 'Yes': # received BC after 0 months since first visit\n",
    "            bcg_status.append(True) \n",
    "            bcg_time.append(0)\n",
    "            continue\n",
    "        if row['P5BC'] == 'Yes': # received BC after 1 month since first visit\n",
    "            bcg_status.append(True) \n",
    "            bcg_time.append(1)\n",
    "            continue\n",
    "        else: # calculate time until last contact\n",
    "            bcg_status.append(False)\n",
    "            if (row['Att4']!='None')&(row['Att5']=='None'): # left after June\n",
    "                bcg_time.append(0)\n",
    "            elif row['Att5']!='None': # no M2 by the end of the program\n",
    "                bcg_time.append(1)\n",
    "    elif row['Att5'] != 'None': # first attended in July\n",
    "        if row['P5BC'] == 'Yes': # received BC after 0 months since first visit\n",
    "            bcg_status.append(True) \n",
    "            bcg_time.append(0)\n",
    "        else:\n",
    "            bcg_status.append(False) \n",
    "            bcg_time.append(0)\n",
    "            "
   ]
  },
  {
   "attachments": {
    "Screen%20Shot%202023-07-26%20at%204.18.18%20PM.png": {
     "image/png": "[encoded data removed]"
    }
   },
   "cell_type": "markdown",
   "metadata": {},
   "source": [
    "![Screen%20Shot%202023-07-26%20at%204.18.18%20PM.png](attachment:Screen%20Shot%202023-07-26%20at%204.18.18%20PM.png)"
   ]
  },
  {
   "cell_type": "markdown",
   "metadata": {},
   "source": [
    "Kaplan-Meier curve with censoring"
   ]
  },
  {
   "cell_type": "code",
   "execution_count": 26,
   "metadata": {
    "ExecuteTime": {
     "end_time": "2023-09-13T22:46:51.172047Z",
     "start_time": "2023-09-13T22:46:51.045170Z"
    }
   },
   "outputs": [
    {
     "data": {
      "text/plain": "<Figure size 640x480 with 1 Axes>",
      "image/png": "[encoded data removed]"
     },
     "metadata": {},
     "output_type": "display_data"
    }
   ],
   "source": [
    "time, prob, ci = kaplan_meier_estimator(event=pe3_status, time_exit=pe3_time, conf_type=\"log-log\")\n",
    "time2, prob2, ci2 = kaplan_meier_estimator(event=po3_status, time_exit=po3_time, conf_type=\"log-log\")\n",
    "time3, prob3, ci3 = kaplan_meier_estimator(event=mmr_status, time_exit=mmr_time, conf_type=\"log-log\")\n",
    "time4, prob4, ci4 = kaplan_meier_estimator(event=bcg_status, time_exit=bcg_time, conf_type=\"log-log\")\n",
    "\n",
    "plt.step(time, (1-prob), where='post', label='Pe3')\n",
    "plt.step(time2, (1-prob2), where='post', label='Po3')\n",
    "plt.step(time3, (1-prob3), where='post', label='M2')\n",
    "plt.step(time4, (1-prob4), where='post', label='BCG')\n",
    "\n",
    "plt.fill_between(time, (1-ci[1]), (1-ci[0]), alpha=0.25, step=\"post\")\n",
    "plt.fill_between(time2, (1-ci2[1]), (1-ci2[0]), alpha=0.25, step=\"post\")\n",
    "plt.fill_between(time3, (1-ci3[1]), (1-ci3[0]), alpha=0.25, step=\"post\")\n",
    "plt.fill_between(time4, (1-ci4[1]), (1-ci4[0]), alpha=0.25, step=\"post\")\n",
    "\n",
    "plt.xlabel('Months since first visit')\n",
    "plt.ylabel('Probability of receiving vaccine')\n",
    "plt.xticks(range(1, 6))\n",
    "plt.yticks(np.arange(0, 1.1, 0.1))\n",
    "plt.title('Kaplan-Meier Probability Curve (Censored, 1- S(t) )')\n",
    "plt.legend()\n",
    "plt.grid()\n",
    "plt.show()"
   ]
  },
  {
   "cell_type": "code",
   "execution_count": 27,
   "outputs": [
    {
     "data": {
      "text/plain": "array([0.74637681, 0.76129582, 0.80107985, 0.80107985])"
     },
     "execution_count": 27,
     "metadata": {},
     "output_type": "execute_result"
    }
   ],
   "source": [
    "1-prob4"
   ],
   "metadata": {
    "collapsed": false,
    "ExecuteTime": {
     "end_time": "2023-09-13T22:46:57.070131Z",
     "start_time": "2023-09-13T22:46:57.049075Z"
    }
   }
  },
  {
   "cell_type": "markdown",
   "metadata": {},
   "source": [
    "Function to calculate survival probabilities"
   ]
  },
  {
   "cell_type": "code",
   "execution_count": 28,
   "metadata": {
    "ExecuteTime": {
     "end_time": "2023-09-13T22:46:59.444549Z",
     "start_time": "2023-09-13T22:46:59.410816Z"
    }
   },
   "outputs": [],
   "source": [
    "def calculate_probabilities(event, time_exit, reverse=False):\n",
    "    \"\"\"Calculate survival probabilities for a status array and a time array.\n",
    "    Set reverse to true to calculate 1- S(t).\"\"\"\n",
    "    z = list(zip(event, time_exit))\n",
    "    p0 = 0\n",
    "    p1 = 0\n",
    "    p2 = 0\n",
    "    p3 = 0\n",
    "    p4 = 0\n",
    "    for item in z:\n",
    "        if item == (True, 0):\n",
    "            p0 = p0 + 1\n",
    "        if item == (True, 1):\n",
    "            p1 = p1 + 1\n",
    "        if item == (True, 2):\n",
    "            p2 = p2 + 1\n",
    "        if item == (True, 3):\n",
    "            p3 = p3 + 1\n",
    "        if item == (True, 4):\n",
    "            p4 = p4 + 1\n",
    "    n0 = len(event)\n",
    "    n1 = n0 - p0\n",
    "    n2 = n1 - p1\n",
    "    n3 = n2 - p2 \n",
    "    n4 = n3 - p3\n",
    "    s0 = 1*(1-(p0/n0))\n",
    "    s1 = s0*(1-(p1/n1))\n",
    "    s2 = s1*(1-(p2/n2))\n",
    "    s3 = s2*(1-(p3/n3))\n",
    "    s4 = s3*(1-(p4/n4))\n",
    "    if reverse:\n",
    "        return [0,1,2,3,4], [(1-s0), (1-s1), (1-s2), (1-s3), (1-s4)]\n",
    "    if not reverse:\n",
    "        return [0,1,2,3,4], [s0, s1, s2, s3, s4]\n",
    "    \n"
   ]
  },
  {
   "cell_type": "markdown",
   "metadata": {},
   "source": [
    "Function to calculate confidence intervals"
   ]
  },
  {
   "cell_type": "code",
   "execution_count": 29,
   "metadata": {
    "ExecuteTime": {
     "end_time": "2023-09-13T22:47:00.726536Z",
     "start_time": "2023-09-13T22:47:00.691386Z"
    }
   },
   "outputs": [],
   "source": [
    "import math\n",
    "import numpy as np\n",
    "def calculate_CI(status, time, reverse=False):\n",
    "    n = len(status)\n",
    "    times, probs = calculate_probabilities(event=status, time_exit=time, reverse=reverse)\n",
    "    CIs = []\n",
    "    for t in range(5):\n",
    "        stddev_st = np.sqrt((probs[t]/n)*(1-probs[t]))\n",
    "        lower = probs[t] - 1.96*stddev_st\n",
    "        upper = probs[t] + 1.96*stddev_st\n",
    "        CIs.append((lower, upper))\n",
    "    return np.array(CIs) \n",
    "    "
   ]
  },
  {
   "cell_type": "markdown",
   "metadata": {},
   "source": [
    "plot probabilities with confidence intervals"
   ]
  },
  {
   "cell_type": "code",
   "execution_count": 30,
   "metadata": {
    "ExecuteTime": {
     "end_time": "2023-09-13T22:47:01.993406Z",
     "start_time": "2023-09-13T22:47:01.897074Z"
    }
   },
   "outputs": [
    {
     "data": {
      "text/plain": "<Figure size 640x480 with 1 Axes>",
      "image/png": "[encoded data removed]"
     },
     "metadata": {},
     "output_type": "display_data"
    }
   ],
   "source": [
    "times, probs = calculate_probabilities(event=pe3_status, time_exit=pe3_time, reverse=True) \n",
    "times2, probs2 = calculate_probabilities(event=po3_status, time_exit=po3_time, reverse=True) \n",
    "times3, probs3 = calculate_probabilities(event=mmr_status, time_exit=mmr_time, reverse=True) \n",
    "times4, probs4 = calculate_probabilities(event=bcg_status, time_exit=bcg_time, reverse=True) \n",
    "\n",
    "ci = calculate_CI(status=pe3_status, time=pe3_time, reverse=True)\n",
    "ci2 = calculate_CI(status=po3_status, time=po3_time, reverse=True)\n",
    "ci3 = calculate_CI(status=mmr_status, time=mmr_time, reverse=True)\n",
    "ci4 = calculate_CI(status=bcg_status, time=bcg_time, reverse=True)\n",
    "\n",
    "plt.step(times, probs, where='post', label='Pe3')\n",
    "plt.step(times2, probs2, where='post', label='Po3')\n",
    "plt.step(times3, probs3, where='post', label='M2')\n",
    "plt.step(times4, probs4, where='post', label='BCG')\n",
    "\n",
    "plt.xlabel('Months since first visit')\n",
    "plt.ylabel('Probability of Receiving Vaccine')\n",
    "plt.xticks(range(1, 6))\n",
    "plt.yticks(np.arange(0, 1.1, 0.1))\n",
    "plt.suptitle('Survival Probability Curve (Uncensored)')\n",
    "plt.grid()\n",
    "plt.legend()\n",
    "plt.show()"
   ]
  },
  {
   "cell_type": "markdown",
   "source": [
    "Confidence Intervals"
   ],
   "metadata": {
    "collapsed": false
   }
  },
  {
   "cell_type": "code",
   "execution_count": 31,
   "outputs": [],
   "source": [
    "pe3_prob =probs[-1]\n",
    "po3_prob = probs2[-1]\n",
    "mmr_prob = probs3[-1]\n",
    "bcg_prob = probs4[-1]"
   ],
   "metadata": {
    "collapsed": false,
    "ExecuteTime": {
     "end_time": "2023-09-13T22:47:06.525617Z",
     "start_time": "2023-09-13T22:47:06.488754Z"
    }
   }
  },
  {
   "cell_type": "code",
   "execution_count": 33,
   "outputs": [],
   "source": [
    "def calculate_stddev(prob_and_status):\n",
    "    STDs= []\n",
    "    for each in prob_and_status:\n",
    "        stddev = np.sqrt( (each[0]/each[1])*(1-each[0]) )\n",
    "        STDs.append(stddev)\n",
    "    return STDs\n",
    "list_tuple = [( pe3_prob, len(pe3_status) ), (po3_prob, len(po3_status) ), (mmr_prob, len(mmr_status) ),\n",
    "              (bcg_prob,len(bcg_status) )]\n",
    "STD_list = calculate_stddev(prob_and_status=list_tuple)"
   ],
   "metadata": {
    "collapsed": false,
    "ExecuteTime": {
     "end_time": "2023-08-13T04:10:31.777846Z",
     "start_time": "2023-08-13T04:10:31.769597Z"
    }
   }
  },
  {
   "cell_type": "code",
   "execution_count": 42,
   "outputs": [
    {
     "data": {
      "text/plain": "<Figure size 640x480 with 1 Axes>",
      "image/png": "[encoded data removed]"
     },
     "metadata": {},
     "output_type": "display_data"
    }
   ],
   "source": [
    "pe3_ci = [pe3_prob-1.96*STD_list[0], pe3_prob+1.96*STD_list[0] ]\n",
    "po3_ci = [po3_prob-1.96*STD_list[1], po3_prob+1.96*STD_list[1] ]\n",
    "mmr_ci = [mmr_prob-1.96*STD_list[2], mmr_prob+1.96*STD_list[2] ]\n",
    "bcg_ci = [bcg_prob-1.96*STD_list[3], bcg_prob+1.96*STD_list[3] ]\n",
    "plt.errorbar(x=['pe3','po3','mmr2','bcg'], y=[pe3_prob,po3_prob,mmr_prob,bcg_prob],\n",
    "             yerr=[STD_list])\n",
    "plt.show()"
   ],
   "metadata": {
    "collapsed": false,
    "ExecuteTime": {
     "end_time": "2023-08-13T04:26:30.523407Z",
     "start_time": "2023-08-13T04:26:30.434990Z"
    }
   }
  },
  {
   "cell_type": "markdown",
   "metadata": {},
   "source": [
    "### Percent unvaccinated stratified by age, shown as barplot"
   ]
  },
  {
   "cell_type": "code",
   "execution_count": 12,
   "outputs": [
    {
     "data": {
      "text/plain": "    ReNu                 Att1                 Att2                 Att3  \\\n0      1  2023-03-15 00:00:00  2023-04-15 00:00:00  2023-05-15 00:00:00   \n1      2  2023-03-15 00:00:00  2023-04-15 00:00:00  2023-05-15 00:00:00   \n2      3  2023-03-15 00:00:00                 None                 None   \n3      4  2023-03-15 00:00:00  2023-04-15 00:00:00  2023-05-15 00:00:00   \n4      5  2023-03-15 00:00:00  2023-04-15 00:00:00  2023-05-15 00:00:00   \n..   ...                  ...                  ...                  ...   \n176  177                 None                 None                 None   \n177  178                 None                 None                 None   \n179  180                 None                 None                 None   \n180  181                 None                 None                 None   \n182  183                 None                 None                 None   \n\n                    Att4                 Att5 PreV            Name Sex  \\\n0    2023-06-15 00:00:00                 None   No   မောင်အာဗေးလယ်   M   \n1    2023-06-15 00:00:00                 None   No       မသူဇာဝင်း   F   \n2    2023-06-15 00:00:00  2023-07-15 00:00:00   No           မစုစု   F   \n3    2023-06-15 00:00:00                 None   No     မောင်စတီဗင်   M   \n4    2023-06-15 00:00:00                 None   No  မောင်ဂျက်စတင်း   M   \n..                   ...                  ...  ...             ...  ..   \n176                 None  2023-07-15 00:00:00   No   မောင်သောမတ်စ်   M   \n177                 None  2023-07-15 00:00:00   No  မောင်ဂျက်စတင်း   M   \n179                 None  2023-07-15 00:00:00   No      မဂျူးလိယက်   F   \n180                 None  2023-07-15 00:00:00   No      မောင်ထားရု   M   \n182                 None  2023-07-15 00:00:00   No        မဗျားမြာ   F   \n\n           DoB  ... P5Po2 P5Po3 P5M1 P5M2 ReDB       AGE  AGE_APR15  \\\n0   2023-02-02  ...   Yes   Yes   No   No  NaN  1.366667   2.366667   \n1   2023-01-19  ...   Yes   Yes   No   No  NaN  1.833333   2.833333   \n2   2022-05-26  ...   Yes   Yes  Yes  Yes  NaN  9.766667  10.766667   \n3   2022-12-09  ...   Yes   Yes   No   No  NaN  3.200000   4.200000   \n4   2022-06-07  ...   Yes   Yes  Yes  Yes  NaN  9.366667  10.366667   \n..         ...  ...   ...   ...  ...  ...  ...       ...        ...   \n176 2023-01-28  ...    No    No   No   No  NaN  5.600000   3.600000   \n177 2023-02-17  ...    No    No   No   No  NaN  4.933333   2.933333   \n179 2023-04-13  ...    No    No   No   No  NaN  3.100000   1.100000   \n180 2023-04-09  ...    No    No   No   No  NaN  3.233333   1.233333   \n182 2022-11-11  ...    No    No   No   No  NaN  8.200000   6.200000   \n\n     AGE_MAY15 AGE_JUNE15 AGE_JULY15  \n0     3.366667   4.366667   5.366667  \n1     3.833333   4.833333   5.833333  \n2    11.766667  12.766667  13.766667  \n3     5.200000   6.200000   7.200000  \n4    11.366667  12.366667  13.366667  \n..         ...        ...        ...  \n176   4.600000   5.600000   5.600000  \n177   3.933333   4.933333   4.933333  \n179   2.100000   3.100000   3.100000  \n180   2.233333   3.233333   3.233333  \n182   7.200000   8.200000   8.200000  \n\n[131 rows x 64 columns]",
      "text/html": "<div>\n<style scoped>\n    .dataframe tbody tr th:only-of-type {\n        vertical-align: middle;\n    }\n\n    .dataframe tbody tr th {\n        vertical-align: top;\n    }\n\n    .dataframe thead th {\n        text-align: right;\n    }\n</style>\n<table border=\"1\" class=\"dataframe\">\n  <thead>\n    <tr style=\"text-align: right;\">\n      <th></th>\n      <th>ReNu</th>\n      <th>Att1</th>\n      <th>Att2</th>\n      <th>Att3</th>\n      <th>Att4</th>\n      <th>Att5</th>\n      <th>PreV</th>\n      <th>Name</th>\n      <th>Sex</th>\n      <th>DoB</th>\n      <th>...</th>\n      <th>P5Po2</th>\n      <th>P5Po3</th>\n      <th>P5M1</th>\n      <th>P5M2</th>\n      <th>ReDB</th>\n      <th>AGE</th>\n      <th>AGE_APR15</th>\n      <th>AGE_MAY15</th>\n      <th>AGE_JUNE15</th>\n      <th>AGE_JULY15</th>\n    </tr>\n  </thead>\n  <tbody>\n    <tr>\n      <th>0</th>\n      <td>1</td>\n      <td>2023-03-15 00:00:00</td>\n      <td>2023-04-15 00:00:00</td>\n      <td>2023-05-15 00:00:00</td>\n      <td>2023-06-15 00:00:00</td>\n      <td>None</td>\n      <td>No</td>\n      <td>မောင်အာဗေးလယ်</td>\n      <td>M</td>\n      <td>2023-02-02</td>\n      <td>...</td>\n      <td>Yes</td>\n      <td>Yes</td>\n      <td>No</td>\n      <td>No</td>\n      <td>NaN</td>\n      <td>1.366667</td>\n      <td>2.366667</td>\n      <td>3.366667</td>\n      <td>4.366667</td>\n      <td>5.366667</td>\n    </tr>\n    <tr>\n      <th>1</th>\n      <td>2</td>\n      <td>2023-03-15 00:00:00</td>\n      <td>2023-04-15 00:00:00</td>\n      <td>2023-05-15 00:00:00</td>\n      <td>2023-06-15 00:00:00</td>\n      <td>None</td>\n      <td>No</td>\n      <td>မသူဇာဝင်း</td>\n      <td>F</td>\n      <td>2023-01-19</td>\n      <td>...</td>\n      <td>Yes</td>\n      <td>Yes</td>\n      <td>No</td>\n      <td>No</td>\n      <td>NaN</td>\n      <td>1.833333</td>\n      <td>2.833333</td>\n      <td>3.833333</td>\n      <td>4.833333</td>\n      <td>5.833333</td>\n    </tr>\n    <tr>\n      <th>2</th>\n      <td>3</td>\n      <td>2023-03-15 00:00:00</td>\n      <td>None</td>\n      <td>None</td>\n      <td>2023-06-15 00:00:00</td>\n      <td>2023-07-15 00:00:00</td>\n      <td>No</td>\n      <td>မစုစု</td>\n      <td>F</td>\n      <td>2022-05-26</td>\n      <td>...</td>\n      <td>Yes</td>\n      <td>Yes</td>\n      <td>Yes</td>\n      <td>Yes</td>\n      <td>NaN</td>\n      <td>9.766667</td>\n      <td>10.766667</td>\n      <td>11.766667</td>\n      <td>12.766667</td>\n      <td>13.766667</td>\n    </tr>\n    <tr>\n      <th>3</th>\n      <td>4</td>\n      <td>2023-03-15 00:00:00</td>\n      <td>2023-04-15 00:00:00</td>\n      <td>2023-05-15 00:00:00</td>\n      <td>2023-06-15 00:00:00</td>\n      <td>None</td>\n      <td>No</td>\n      <td>မောင်စတီဗင်</td>\n      <td>M</td>\n      <td>2022-12-09</td>\n      <td>...</td>\n      <td>Yes</td>\n      <td>Yes</td>\n      <td>No</td>\n      <td>No</td>\n      <td>NaN</td>\n      <td>3.200000</td>\n      <td>4.200000</td>\n      <td>5.200000</td>\n      <td>6.200000</td>\n      <td>7.200000</td>\n    </tr>\n    <tr>\n      <th>4</th>\n      <td>5</td>\n      <td>2023-03-15 00:00:00</td>\n      <td>2023-04-15 00:00:00</td>\n      <td>2023-05-15 00:00:00</td>\n      <td>2023-06-15 00:00:00</td>\n      <td>None</td>\n      <td>No</td>\n      <td>မောင်ဂျက်စတင်း</td>\n      <td>M</td>\n      <td>2022-06-07</td>\n      <td>...</td>\n      <td>Yes</td>\n      <td>Yes</td>\n      <td>Yes</td>\n      <td>Yes</td>\n      <td>NaN</td>\n      <td>9.366667</td>\n      <td>10.366667</td>\n      <td>11.366667</td>\n      <td>12.366667</td>\n      <td>13.366667</td>\n    </tr>\n    <tr>\n      <th>...</th>\n      <td>...</td>\n      <td>...</td>\n      <td>...</td>\n      <td>...</td>\n      <td>...</td>\n      <td>...</td>\n      <td>...</td>\n      <td>...</td>\n      <td>...</td>\n      <td>...</td>\n      <td>...</td>\n      <td>...</td>\n      <td>...</td>\n      <td>...</td>\n      <td>...</td>\n      <td>...</td>\n      <td>...</td>\n      <td>...</td>\n      <td>...</td>\n      <td>...</td>\n      <td>...</td>\n    </tr>\n    <tr>\n      <th>176</th>\n      <td>177</td>\n      <td>None</td>\n      <td>None</td>\n      <td>None</td>\n      <td>None</td>\n      <td>2023-07-15 00:00:00</td>\n      <td>No</td>\n      <td>မောင်သောမတ်စ်</td>\n      <td>M</td>\n      <td>2023-01-28</td>\n      <td>...</td>\n      <td>No</td>\n      <td>No</td>\n      <td>No</td>\n      <td>No</td>\n      <td>NaN</td>\n      <td>5.600000</td>\n      <td>3.600000</td>\n      <td>4.600000</td>\n      <td>5.600000</td>\n      <td>5.600000</td>\n    </tr>\n    <tr>\n      <th>177</th>\n      <td>178</td>\n      <td>None</td>\n      <td>None</td>\n      <td>None</td>\n      <td>None</td>\n      <td>2023-07-15 00:00:00</td>\n      <td>No</td>\n      <td>မောင်ဂျက်စတင်း</td>\n      <td>M</td>\n      <td>2023-02-17</td>\n      <td>...</td>\n      <td>No</td>\n      <td>No</td>\n      <td>No</td>\n      <td>No</td>\n      <td>NaN</td>\n      <td>4.933333</td>\n      <td>2.933333</td>\n      <td>3.933333</td>\n      <td>4.933333</td>\n      <td>4.933333</td>\n    </tr>\n    <tr>\n      <th>179</th>\n      <td>180</td>\n      <td>None</td>\n      <td>None</td>\n      <td>None</td>\n      <td>None</td>\n      <td>2023-07-15 00:00:00</td>\n      <td>No</td>\n      <td>မဂျူးလိယက်</td>\n      <td>F</td>\n      <td>2023-04-13</td>\n      <td>...</td>\n      <td>No</td>\n      <td>No</td>\n      <td>No</td>\n      <td>No</td>\n      <td>NaN</td>\n      <td>3.100000</td>\n      <td>1.100000</td>\n      <td>2.100000</td>\n      <td>3.100000</td>\n      <td>3.100000</td>\n    </tr>\n    <tr>\n      <th>180</th>\n      <td>181</td>\n      <td>None</td>\n      <td>None</td>\n      <td>None</td>\n      <td>None</td>\n      <td>2023-07-15 00:00:00</td>\n      <td>No</td>\n      <td>မောင်ထားရု</td>\n      <td>M</td>\n      <td>2023-04-09</td>\n      <td>...</td>\n      <td>No</td>\n      <td>No</td>\n      <td>No</td>\n      <td>No</td>\n      <td>NaN</td>\n      <td>3.233333</td>\n      <td>1.233333</td>\n      <td>2.233333</td>\n      <td>3.233333</td>\n      <td>3.233333</td>\n    </tr>\n    <tr>\n      <th>182</th>\n      <td>183</td>\n      <td>None</td>\n      <td>None</td>\n      <td>None</td>\n      <td>None</td>\n      <td>2023-07-15 00:00:00</td>\n      <td>No</td>\n      <td>မဗျားမြာ</td>\n      <td>F</td>\n      <td>2022-11-11</td>\n      <td>...</td>\n      <td>No</td>\n      <td>No</td>\n      <td>No</td>\n      <td>No</td>\n      <td>NaN</td>\n      <td>8.200000</td>\n      <td>6.200000</td>\n      <td>7.200000</td>\n      <td>8.200000</td>\n      <td>8.200000</td>\n    </tr>\n  </tbody>\n</table>\n<p>131 rows × 64 columns</p>\n</div>"
     },
     "execution_count": 12,
     "metadata": {},
     "output_type": "execute_result"
    }
   ],
   "source": [
    "df.loc[(df['ReNu'] != 'NO SHOW')&(df['AGE_MAY15']>=2)&(df['PreV']=='No'),:]"
   ],
   "metadata": {
    "collapsed": false,
    "ExecuteTime": {
     "end_time": "2023-08-22T17:21:52.421241Z",
     "start_time": "2023-08-22T17:21:52.408378Z"
    }
   }
  },
  {
   "cell_type": "code",
   "execution_count": 32,
   "metadata": {
    "ExecuteTime": {
     "end_time": "2023-09-13T22:47:14.108219Z",
     "start_time": "2023-09-13T22:47:14.092340Z"
    }
   },
   "outputs": [],
   "source": [
    "shows = df.loc[df['ReNu']!='NO SHOW', :]"
   ]
  },
  {
   "cell_type": "code",
   "execution_count": 33,
   "metadata": {
    "ExecuteTime": {
     "end_time": "2023-09-13T22:47:14.889211Z",
     "start_time": "2023-09-13T22:47:14.858493Z"
    }
   },
   "outputs": [],
   "source": [
    "zerotoone = len(shows.loc[(shows['AGE']<2)&(shows['PreV']=='No'),:]) / len(shows.loc[shows['AGE']<2,:]) # 100%\n",
    "twotothree = len(shows.loc[(shows['AGE']>=2)&(shows['AGE']<4)&(shows['PreV']=='No'),:]) / len(shows.loc[(shows['AGE']>=2)&(shows['AGE']<4),:]) # 94%\n",
    "fourtofive = len(shows.loc[(shows['AGE']>=4)&(shows['AGE']<6)&(shows['PreV']=='No'),:]) / len(shows.loc[(shows['AGE']>=4)&(shows['AGE']<6),:]) # 90%\n",
    "sixtoseven = len(shows.loc[(shows['AGE']>=6)&(shows['AGE']<8)&(shows['PreV']=='No'),:]) / len(shows.loc[(shows['AGE']>=6)&(shows['AGE']<8),:]) # 70%\n",
    "eighttonine = len(shows.loc[(shows['AGE']>=8)&(shows['AGE']<10)&(shows['PreV']=='No'),:])/len(shows.loc[(shows['AGE']>=8)&(shows['AGE']<10),:]) # 81%\n",
    "tentoeleven = len(shows.loc[(shows['AGE']>=10)&(shows['AGE']<12)&(shows['PreV']=='No'),:])/len(shows.loc[(df['AGE']>=10)&(shows['AGE']<12),:]) # 88%\n",
    "twelveandover = len(shows.loc[(df['AGE']>=12)&(shows['PreV']=='No'),:]) / len(shows.loc[(shows['AGE']>=12),:]) # 26%"
   ]
  },
  {
   "cell_type": "markdown",
   "metadata": {},
   "source": [
    "Add trendline"
   ]
  },
  {
   "cell_type": "code",
   "execution_count": 34,
   "metadata": {
    "ExecuteTime": {
     "end_time": "2023-09-13T22:47:17.110237Z",
     "start_time": "2023-09-13T22:47:16.797730Z"
    }
   },
   "outputs": [],
   "source": [
    "from sklearn.linear_model import LinearRegression\n",
    "import numpy as np\n",
    "import matplotlib.pyplot as plt\n",
    "\n",
    "X = np.array([0, 1, 2, 3, 4, 5, 6]).reshape(-1,1)\n",
    "y = [zerotoone*100, twotothree*100, fourtofive*100, sixtoseven*100, eighttonine*100, tentoeleven*100, twelveandover*100]\n",
    "\n",
    "model = LinearRegression().fit(X, y)\n",
    "y_pred = [model.coef_ * x + model.intercept_ for x in X]"
   ]
  },
  {
   "cell_type": "markdown",
   "metadata": {},
   "source": [
    "calculate standard deviations"
   ]
  },
  {
   "attachments": {
    "SD.png": {
     "image/png": "[encoded data removed]"
    }
   },
   "cell_type": "markdown",
   "metadata": {},
   "source": [
    "![SD.png](attachment:SD.png)"
   ]
  },
  {
   "cell_type": "code",
   "execution_count": 35,
   "metadata": {
    "ExecuteTime": {
     "end_time": "2023-09-13T22:47:19.765248Z",
     "start_time": "2023-09-13T22:47:19.749576Z"
    }
   },
   "outputs": [],
   "source": [
    "yerr1 = np.sqrt((zerotoone*(1-zerotoone))/24) # 0to1\n",
    "yerr2 = np.sqrt((twotothree*(1-twotothree))/34) # 2to3\n",
    "yerr3 =  np.sqrt((fourtofive*(1-fourtofive))/30) # 4to5\n",
    "yerr4 = np.sqrt((sixtoseven*(1-sixtoseven))/23) # 6to7\n",
    "yerr5 = np.sqrt((eighttonine*(1-eighttonine))/21) # 8to9\n",
    "yerr6 = np.sqrt((tentoeleven*(1-tentoeleven))/25) # 10to11\n",
    "yerr7 = np.sqrt((twelveandover*(1-twelveandover))/27) # 12+\n",
    "yerr = [yerr1*100, yerr2*100, yerr3*100, yerr4*100, yerr5*100, yerr6*100, yerr7*100]"
   ]
  },
  {
   "cell_type": "markdown",
   "metadata": {},
   "source": [
    "Plot bar plot"
   ]
  },
  {
   "cell_type": "code",
   "execution_count": 36,
   "metadata": {
    "ExecuteTime": {
     "end_time": "2023-09-13T22:47:21.569945Z",
     "start_time": "2023-09-13T22:47:21.447090Z"
    }
   },
   "outputs": [
    {
     "data": {
      "text/plain": "<Figure size 640x480 with 1 Axes>",
      "image/png": "[encoded data removed]"
     },
     "metadata": {},
     "output_type": "display_data"
    }
   ],
   "source": [
    "x = ['0-1', '2-3','4-5','6-7','8-9','10-11','>= 12']\n",
    "y = [zerotoone*100, twotothree*100, fourtofive*100, sixtoseven*100, eighttonine*100, tentoeleven*100, twelveandover*100]\n",
    "plt.bar(x, y, yerr=yerr, color='skyblue')\n",
    "plt.xlabel('Age in months')\n",
    "plt.ylabel('Percentage previously unvaccinated')\n",
    "plt.yticks(range(0,110,10))\n",
    "plt.plot(X, y_pred, color='red')\n",
    "plt.show()"
   ]
  },
  {
   "cell_type": "markdown",
   "source": [
    "### Amount of clinics each previously unvaccinated child has attended"
   ],
   "metadata": {
    "collapsed": false
   }
  },
  {
   "cell_type": "code",
   "execution_count": 12,
   "outputs": [],
   "source": [
    "attendees = df.loc[(df['ReNu']!='NO SHOW')&(df['PreV']=='No'), :]\n",
    "num_clinics = []\n",
    "for idx, row in attendees.iterrows():\n",
    "    count = 0\n",
    "    for i in range(1, 6):\n",
    "        if row[f'Att{i}'] != 'None':\n",
    "            count = count + 1\n",
    "    num_clinics.append(count)"
   ],
   "metadata": {
    "collapsed": false,
    "ExecuteTime": {
     "end_time": "2023-09-27T16:45:35.709450Z",
     "start_time": "2023-09-27T16:45:35.689177Z"
    }
   }
  },
  {
   "cell_type": "code",
   "execution_count": 17,
   "outputs": [
    {
     "data": {
      "text/plain": "0.3586206896551724"
     },
     "execution_count": 17,
     "metadata": {},
     "output_type": "execute_result"
    }
   ],
   "source": [
    "52/145"
   ],
   "metadata": {
    "collapsed": false,
    "ExecuteTime": {
     "end_time": "2023-09-27T16:48:22.774512Z",
     "start_time": "2023-09-27T16:48:22.752178Z"
    }
   }
  },
  {
   "cell_type": "code",
   "execution_count": 15,
   "outputs": [
    {
     "name": "stdout",
     "output_type": "stream",
     "text": [
      "52\n"
     ]
    }
   ],
   "source": [
    "count = 0\n",
    "for num in num_clinics:\n",
    "    if num < 3:\n",
    "        count = count + 1\n",
    "print(count)"
   ],
   "metadata": {
    "collapsed": false,
    "ExecuteTime": {
     "end_time": "2023-09-27T16:47:18.582876Z",
     "start_time": "2023-09-27T16:47:18.560012Z"
    }
   }
  },
  {
   "cell_type": "code",
   "execution_count": 13,
   "outputs": [
    {
     "data": {
      "text/plain": "<Figure size 640x480 with 1 Axes>",
      "image/png": "[encoded data removed]"
     },
     "metadata": {},
     "output_type": "display_data"
    }
   ],
   "source": [
    "n = plt.hist(num_clinics, histtype='stepfilled' , bins=[1, 2, 3, 4, 5, 6, 7])\n",
    "plt.xticks(range(1, 6))\n",
    "plt.show()\n",
    "# plt.yticks(range(0, 70, 2))"
   ],
   "metadata": {
    "collapsed": false,
    "ExecuteTime": {
     "end_time": "2023-09-27T16:45:38.503528Z",
     "start_time": "2023-09-27T16:45:38.399124Z"
    }
   }
  },
  {
   "cell_type": "markdown",
   "source": [
    "#### Amount of clinics a specified population has attended"
   ],
   "metadata": {
    "collapsed": false
   }
  },
  {
   "cell_type": "code",
   "execution_count": 75,
   "outputs": [
    {
     "data": {
      "text/plain": "<Figure size 640x480 with 1 Axes>",
      "image/png": "[encoded data removed]"
     },
     "metadata": {},
     "output_type": "display_data"
    }
   ],
   "source": [
    "import matplotlib.pyplot\n",
    "num_clinics = []\n",
    "pop = df.loc[(df['PreV']=='No')&(df['Sex']=='F'), :] # replace with anything else\n",
    "for idx, row in pop.iterrows():\n",
    "    count = 0\n",
    "    for i in range(1, 6):\n",
    "        if row[f'Att{i}'] != 'None':\n",
    "            count = count + 1\n",
    "    num_clinics.append(count)\n",
    "n = matplotlib.pyplot.hist(num_clinics, histtype='stepfilled' , bins=[1, 2, 3, 4, 5, 6, 7])\n",
    "matplotlib.pyplot.xticks(range(1, 6))\n",
    "matplotlib.pyplot.show()"
   ],
   "metadata": {
    "collapsed": false,
    "ExecuteTime": {
     "end_time": "2023-09-14T16:01:13.735855Z",
     "start_time": "2023-09-14T16:01:13.631583Z"
    }
   }
  },
  {
   "cell_type": "code",
   "execution_count": 78,
   "outputs": [
    {
     "name": "stdout",
     "output_type": "stream",
     "text": [
      "3.0\n"
     ]
    },
    {
     "data": {
      "text/plain": "2.0"
     },
     "execution_count": 78,
     "metadata": {},
     "output_type": "execute_result"
    }
   ],
   "source": [
    "import numpy as np\n",
    "print(np.median(num_clinics))\n",
    "np.quantile(num_clinics, 0.75, axis=0) - np.quantile(num_clinics, 0.25, axis=0)"
   ],
   "metadata": {
    "collapsed": false,
    "ExecuteTime": {
     "end_time": "2023-09-14T16:03:59.613525Z",
     "start_time": "2023-09-14T16:03:59.601086Z"
    }
   }
  },
  {
   "cell_type": "code",
   "execution_count": 67,
   "outputs": [
    {
     "data": {
      "text/plain": "1.0"
     },
     "execution_count": 67,
     "metadata": {},
     "output_type": "execute_result"
    }
   ],
   "source": [
    "np.percentile(num_clinics, 0, axis=0)"
   ],
   "metadata": {
    "collapsed": false,
    "ExecuteTime": {
     "end_time": "2023-09-14T15:58:03.714396Z",
     "start_time": "2023-09-14T15:58:03.689771Z"
    }
   }
  },
  {
   "cell_type": "code",
   "execution_count": 54,
   "outputs": [
    {
     "data": {
      "text/plain": "        ReNu     Att1     Att2     Att3     Att4     Att5 PreV  \\\n185  NO SHOW  NO SHOW  NO SHOW  NO SHOW  NO SHOW  NO SHOW    ?   \n186  NO SHOW  NO SHOW  NO SHOW  NO SHOW  NO SHOW  NO SHOW    ?   \n187  NO SHOW  NO SHOW  NO SHOW  NO SHOW  NO SHOW  NO SHOW    ?   \n188  NO SHOW  NO SHOW  NO SHOW  NO SHOW  NO SHOW  NO SHOW    ?   \n189  NO SHOW  NO SHOW  NO SHOW  NO SHOW  NO SHOW  NO SHOW    ?   \n190  NO SHOW  NO SHOW  NO SHOW  NO SHOW  NO SHOW  NO SHOW    ?   \n193  NO SHOW  NO SHOW  NO SHOW  NO SHOW  NO SHOW  NO SHOW    ?   \n195  NO SHOW  NO SHOW  NO SHOW  NO SHOW  NO SHOW  NO SHOW    ?   \n198  NO SHOW  NO SHOW  NO SHOW  NO SHOW  NO SHOW  NO SHOW    ?   \n212  NO SHOW  NO SHOW  NO SHOW  NO SHOW  NO SHOW  NO SHOW    ?   \n213  NO SHOW  NO SHOW  NO SHOW  NO SHOW  NO SHOW  NO SHOW    ?   \n214  NO SHOW  NO SHOW  NO SHOW  NO SHOW  NO SHOW  NO SHOW    ?   \n215  NO SHOW  NO SHOW  NO SHOW  NO SHOW  NO SHOW  NO SHOW    ?   \n216  NO SHOW  NO SHOW  NO SHOW  NO SHOW  NO SHOW  NO SHOW    ?   \n218  NO SHOW  NO SHOW  NO SHOW  NO SHOW  NO SHOW  NO SHOW    ?   \n219  NO SHOW  NO SHOW  NO SHOW  NO SHOW  NO SHOW  NO SHOW    ?   \n225  NO SHOW  NO SHOW  NO SHOW  NO SHOW  NO SHOW  NO SHOW    ?   \n228  NO SHOW  NO SHOW  NO SHOW  NO SHOW  NO SHOW  NO SHOW    ?   \n229  NO SHOW  NO SHOW  NO SHOW  NO SHOW  NO SHOW  NO SHOW    ?   \n230  NO SHOW  NO SHOW  NO SHOW  NO SHOW  NO SHOW  NO SHOW    ?   \n236  NO SHOW  NO SHOW  NO SHOW  NO SHOW  NO SHOW  NO SHOW    ?   \n240  NO SHOW  NO SHOW  NO SHOW  NO SHOW  NO SHOW  NO SHOW    ?   \n247  NO SHOW  NO SHOW  NO SHOW  NO SHOW  NO SHOW  NO SHOW    ?   \n249  NO SHOW  NO SHOW  NO SHOW  NO SHOW  NO SHOW  NO SHOW    ?   \n\n                        Name Sex        DoB  ...    P5Po2    P5Po3     P5M1  \\\n185  မောင်ဂျွန်ခရစ်ဆိုစတုန်း   M 2022-09-13  ...  NO SHOW  NO SHOW  NO SHOW   \n186           မောင်ရိုမားနို   M 2022-02-28  ...  NO SHOW  NO SHOW  NO SHOW   \n187             မောင်ပက်ထရစ်   M 2022-03-17  ...  NO SHOW  NO SHOW  NO SHOW   \n188           မောင်စိုးမောင်   M 2022-06-12  ...  NO SHOW  NO SHOW  NO SHOW   \n189         မောင်ခရစ္စတီးနို   M 2022-12-22  ...  NO SHOW  NO SHOW  NO SHOW   \n190         မောင်ဘရူနိုပေါလ်   M 2023-02-03  ...  NO SHOW  NO SHOW  NO SHOW   \n193      မောင်စောနေလင်းထွန်း   M 2022-04-07  ...  NO SHOW  NO SHOW  NO SHOW   \n195          မောင်စောထူးကလို   M 2022-11-10  ...  NO SHOW  NO SHOW  NO SHOW   \n198             အောင်နိုင်ဦး   M 2022-12-19  ...  NO SHOW  NO SHOW  NO SHOW   \n212               မောင်ပေါလူ   M 2022-07-09  ...  NO SHOW  NO SHOW  NO SHOW   \n213          မောင်နီကောလပ်စ်   M 2022-12-06  ...  NO SHOW  NO SHOW  NO SHOW   \n214        မောင် အောင်ကိုလတ်   M 2022-08-29  ...  NO SHOW  NO SHOW  NO SHOW   \n215              မောင်စနေသား   M        NaT  ...  NO SHOW  NO SHOW  NO SHOW   \n216             မောင်လောရင်း   M 2022-12-10  ...  NO SHOW  NO SHOW  NO SHOW   \n218     မောင်နူးယားစိုးနိုင်   M 2022-05-15  ...  NO SHOW  NO SHOW  NO SHOW   \n219             မောင်ရီးချက်   M 2023-02-13  ...  NO SHOW  NO SHOW  NO SHOW   \n225           မောင်ကာစီမီရို   M 2022-04-03  ...  NO SHOW  NO SHOW  NO SHOW   \n228         မောင်နိုဝင်အောင်   M 2022-11-27  ...  NO SHOW  NO SHOW  NO SHOW   \n229                မောင်လုကာ   M 2022-07-02  ...  NO SHOW  NO SHOW  NO SHOW   \n230              မောင်စတီဗင်   M 2022-12-11  ...  NO SHOW  NO SHOW  NO SHOW   \n236       မောင်အောင်ဆန်းလင်း   M 2022-08-24  ...  NO SHOW  NO SHOW  NO SHOW   \n240             မောင်ရှားရယ်   M 2022-09-06  ...  NO SHOW  NO SHOW  NO SHOW   \n247              မောင်စတီဗင်   M 2022-09-12  ...  NO SHOW  NO SHOW  NO SHOW   \n249              မောင်ဒေးမို   M 2022-04-27  ...  NO SHOW  NO SHOW  NO SHOW   \n\n        P5M2     ReDB        AGE  AGE_APR15  AGE_MAY15 AGE_JUNE15 AGE_JULY15  \n185  NO SHOW  NO SHOW   6.100000   4.100000   5.100000   6.100000   6.100000  \n186  NO SHOW  NO SHOW  12.666667  10.666667  11.666667  12.666667  12.666667  \n187  NO SHOW  NO SHOW  12.100000  10.100000  11.100000  12.100000  12.100000  \n188  NO SHOW  NO SHOW   9.200000   7.200000   8.200000   9.200000   9.200000  \n189  NO SHOW  NO SHOW   2.766667   0.766667   1.766667   2.766667   2.766667  \n190  NO SHOW  NO SHOW   1.333333  -0.666667   0.333333   1.333333   1.333333  \n193  NO SHOW  NO SHOW  11.400000   9.400000  10.400000  11.400000  11.400000  \n195  NO SHOW  NO SHOW   4.166667   2.166667   3.166667   4.166667   4.166667  \n198  NO SHOW  NO SHOW   2.866667   0.866667   1.866667   2.866667   2.866667  \n212  NO SHOW  NO SHOW   8.300000   6.300000   7.300000   8.300000   8.300000  \n213  NO SHOW  NO SHOW   3.300000   1.300000   2.300000   3.300000   3.300000  \n214  NO SHOW  NO SHOW   6.600000   4.600000   5.600000   6.600000   6.600000  \n215  NO SHOW  NO SHOW        NaN        NaN        NaN        NaN        NaN  \n216  NO SHOW  NO SHOW   3.166667   1.166667   2.166667   3.166667   3.166667  \n218  NO SHOW  NO SHOW  10.133333   8.133333   9.133333  10.133333  10.133333  \n219  NO SHOW  NO SHOW   1.000000  -1.000000   0.000000   1.000000   1.000000  \n225  NO SHOW  NO SHOW  11.533333   9.533333  10.533333  11.533333  11.533333  \n228  NO SHOW  NO SHOW   3.600000   1.600000   2.600000   3.600000   3.600000  \n229  NO SHOW  NO SHOW   8.533333   6.533333   7.533333   8.533333   8.533333  \n230  NO SHOW  NO SHOW   3.133333   1.133333   2.133333   3.133333   3.133333  \n236  NO SHOW  NO SHOW   6.766667   4.766667   5.766667   6.766667   6.766667  \n240  NO SHOW  NO SHOW   6.333333   4.333333   5.333333   6.333333   6.333333  \n247  NO SHOW  NO SHOW   6.133333   4.133333   5.133333   6.133333   6.133333  \n249  NO SHOW  NO SHOW  10.733333   8.733333   9.733333  10.733333  10.733333  \n\n[24 rows x 64 columns]",
      "text/html": "<div>\n<style scoped>\n    .dataframe tbody tr th:only-of-type {\n        vertical-align: middle;\n    }\n\n    .dataframe tbody tr th {\n        vertical-align: top;\n    }\n\n    .dataframe thead th {\n        text-align: right;\n    }\n</style>\n<table border=\"1\" class=\"dataframe\">\n  <thead>\n    <tr style=\"text-align: right;\">\n      <th></th>\n      <th>ReNu</th>\n      <th>Att1</th>\n      <th>Att2</th>\n      <th>Att3</th>\n      <th>Att4</th>\n      <th>Att5</th>\n      <th>PreV</th>\n      <th>Name</th>\n      <th>Sex</th>\n      <th>DoB</th>\n      <th>...</th>\n      <th>P5Po2</th>\n      <th>P5Po3</th>\n      <th>P5M1</th>\n      <th>P5M2</th>\n      <th>ReDB</th>\n      <th>AGE</th>\n      <th>AGE_APR15</th>\n      <th>AGE_MAY15</th>\n      <th>AGE_JUNE15</th>\n      <th>AGE_JULY15</th>\n    </tr>\n  </thead>\n  <tbody>\n    <tr>\n      <th>185</th>\n      <td>NO SHOW</td>\n      <td>NO SHOW</td>\n      <td>NO SHOW</td>\n      <td>NO SHOW</td>\n      <td>NO SHOW</td>\n      <td>NO SHOW</td>\n      <td>?</td>\n      <td>မောင်ဂျွန်ခရစ်ဆိုစတုန်း</td>\n      <td>M</td>\n      <td>2022-09-13</td>\n      <td>...</td>\n      <td>NO SHOW</td>\n      <td>NO SHOW</td>\n      <td>NO SHOW</td>\n      <td>NO SHOW</td>\n      <td>NO SHOW</td>\n      <td>6.100000</td>\n      <td>4.100000</td>\n      <td>5.100000</td>\n      <td>6.100000</td>\n      <td>6.100000</td>\n    </tr>\n    <tr>\n      <th>186</th>\n      <td>NO SHOW</td>\n      <td>NO SHOW</td>\n      <td>NO SHOW</td>\n      <td>NO SHOW</td>\n      <td>NO SHOW</td>\n      <td>NO SHOW</td>\n      <td>?</td>\n      <td>မောင်ရိုမားနို</td>\n      <td>M</td>\n      <td>2022-02-28</td>\n      <td>...</td>\n      <td>NO SHOW</td>\n      <td>NO SHOW</td>\n      <td>NO SHOW</td>\n      <td>NO SHOW</td>\n      <td>NO SHOW</td>\n      <td>12.666667</td>\n      <td>10.666667</td>\n      <td>11.666667</td>\n      <td>12.666667</td>\n      <td>12.666667</td>\n    </tr>\n    <tr>\n      <th>187</th>\n      <td>NO SHOW</td>\n      <td>NO SHOW</td>\n      <td>NO SHOW</td>\n      <td>NO SHOW</td>\n      <td>NO SHOW</td>\n      <td>NO SHOW</td>\n      <td>?</td>\n      <td>မောင်ပက်ထရစ်</td>\n      <td>M</td>\n      <td>2022-03-17</td>\n      <td>...</td>\n      <td>NO SHOW</td>\n      <td>NO SHOW</td>\n      <td>NO SHOW</td>\n      <td>NO SHOW</td>\n      <td>NO SHOW</td>\n      <td>12.100000</td>\n      <td>10.100000</td>\n      <td>11.100000</td>\n      <td>12.100000</td>\n      <td>12.100000</td>\n    </tr>\n    <tr>\n      <th>188</th>\n      <td>NO SHOW</td>\n      <td>NO SHOW</td>\n      <td>NO SHOW</td>\n      <td>NO SHOW</td>\n      <td>NO SHOW</td>\n      <td>NO SHOW</td>\n      <td>?</td>\n      <td>မောင်စိုးမောင်</td>\n      <td>M</td>\n      <td>2022-06-12</td>\n      <td>...</td>\n      <td>NO SHOW</td>\n      <td>NO SHOW</td>\n      <td>NO SHOW</td>\n      <td>NO SHOW</td>\n      <td>NO SHOW</td>\n      <td>9.200000</td>\n      <td>7.200000</td>\n      <td>8.200000</td>\n      <td>9.200000</td>\n      <td>9.200000</td>\n    </tr>\n    <tr>\n      <th>189</th>\n      <td>NO SHOW</td>\n      <td>NO SHOW</td>\n      <td>NO SHOW</td>\n      <td>NO SHOW</td>\n      <td>NO SHOW</td>\n      <td>NO SHOW</td>\n      <td>?</td>\n      <td>မောင်ခရစ္စတီးနို</td>\n      <td>M</td>\n      <td>2022-12-22</td>\n      <td>...</td>\n      <td>NO SHOW</td>\n      <td>NO SHOW</td>\n      <td>NO SHOW</td>\n      <td>NO SHOW</td>\n      <td>NO SHOW</td>\n      <td>2.766667</td>\n      <td>0.766667</td>\n      <td>1.766667</td>\n      <td>2.766667</td>\n      <td>2.766667</td>\n    </tr>\n    <tr>\n      <th>190</th>\n      <td>NO SHOW</td>\n      <td>NO SHOW</td>\n      <td>NO SHOW</td>\n      <td>NO SHOW</td>\n      <td>NO SHOW</td>\n      <td>NO SHOW</td>\n      <td>?</td>\n      <td>မောင်ဘရူနိုပေါလ်</td>\n      <td>M</td>\n      <td>2023-02-03</td>\n      <td>...</td>\n      <td>NO SHOW</td>\n      <td>NO SHOW</td>\n      <td>NO SHOW</td>\n      <td>NO SHOW</td>\n      <td>NO SHOW</td>\n      <td>1.333333</td>\n      <td>-0.666667</td>\n      <td>0.333333</td>\n      <td>1.333333</td>\n      <td>1.333333</td>\n    </tr>\n    <tr>\n      <th>193</th>\n      <td>NO SHOW</td>\n      <td>NO SHOW</td>\n      <td>NO SHOW</td>\n      <td>NO SHOW</td>\n      <td>NO SHOW</td>\n      <td>NO SHOW</td>\n      <td>?</td>\n      <td>မောင်စောနေလင်းထွန်း</td>\n      <td>M</td>\n      <td>2022-04-07</td>\n      <td>...</td>\n      <td>NO SHOW</td>\n      <td>NO SHOW</td>\n      <td>NO SHOW</td>\n      <td>NO SHOW</td>\n      <td>NO SHOW</td>\n      <td>11.400000</td>\n      <td>9.400000</td>\n      <td>10.400000</td>\n      <td>11.400000</td>\n      <td>11.400000</td>\n    </tr>\n    <tr>\n      <th>195</th>\n      <td>NO SHOW</td>\n      <td>NO SHOW</td>\n      <td>NO SHOW</td>\n      <td>NO SHOW</td>\n      <td>NO SHOW</td>\n      <td>NO SHOW</td>\n      <td>?</td>\n      <td>မောင်စောထူးကလို</td>\n      <td>M</td>\n      <td>2022-11-10</td>\n      <td>...</td>\n      <td>NO SHOW</td>\n      <td>NO SHOW</td>\n      <td>NO SHOW</td>\n      <td>NO SHOW</td>\n      <td>NO SHOW</td>\n      <td>4.166667</td>\n      <td>2.166667</td>\n      <td>3.166667</td>\n      <td>4.166667</td>\n      <td>4.166667</td>\n    </tr>\n    <tr>\n      <th>198</th>\n      <td>NO SHOW</td>\n      <td>NO SHOW</td>\n      <td>NO SHOW</td>\n      <td>NO SHOW</td>\n      <td>NO SHOW</td>\n      <td>NO SHOW</td>\n      <td>?</td>\n      <td>အောင်နိုင်ဦး</td>\n      <td>M</td>\n      <td>2022-12-19</td>\n      <td>...</td>\n      <td>NO SHOW</td>\n      <td>NO SHOW</td>\n      <td>NO SHOW</td>\n      <td>NO SHOW</td>\n      <td>NO SHOW</td>\n      <td>2.866667</td>\n      <td>0.866667</td>\n      <td>1.866667</td>\n      <td>2.866667</td>\n      <td>2.866667</td>\n    </tr>\n    <tr>\n      <th>212</th>\n      <td>NO SHOW</td>\n      <td>NO SHOW</td>\n      <td>NO SHOW</td>\n      <td>NO SHOW</td>\n      <td>NO SHOW</td>\n      <td>NO SHOW</td>\n      <td>?</td>\n      <td>မောင်ပေါလူ</td>\n      <td>M</td>\n      <td>2022-07-09</td>\n      <td>...</td>\n      <td>NO SHOW</td>\n      <td>NO SHOW</td>\n      <td>NO SHOW</td>\n      <td>NO SHOW</td>\n      <td>NO SHOW</td>\n      <td>8.300000</td>\n      <td>6.300000</td>\n      <td>7.300000</td>\n      <td>8.300000</td>\n      <td>8.300000</td>\n    </tr>\n    <tr>\n      <th>213</th>\n      <td>NO SHOW</td>\n      <td>NO SHOW</td>\n      <td>NO SHOW</td>\n      <td>NO SHOW</td>\n      <td>NO SHOW</td>\n      <td>NO SHOW</td>\n      <td>?</td>\n      <td>မောင်နီကောလပ်စ်</td>\n      <td>M</td>\n      <td>2022-12-06</td>\n      <td>...</td>\n      <td>NO SHOW</td>\n      <td>NO SHOW</td>\n      <td>NO SHOW</td>\n      <td>NO SHOW</td>\n      <td>NO SHOW</td>\n      <td>3.300000</td>\n      <td>1.300000</td>\n      <td>2.300000</td>\n      <td>3.300000</td>\n      <td>3.300000</td>\n    </tr>\n    <tr>\n      <th>214</th>\n      <td>NO SHOW</td>\n      <td>NO SHOW</td>\n      <td>NO SHOW</td>\n      <td>NO SHOW</td>\n      <td>NO SHOW</td>\n      <td>NO SHOW</td>\n      <td>?</td>\n      <td>မောင် အောင်ကိုလတ်</td>\n      <td>M</td>\n      <td>2022-08-29</td>\n      <td>...</td>\n      <td>NO SHOW</td>\n      <td>NO SHOW</td>\n      <td>NO SHOW</td>\n      <td>NO SHOW</td>\n      <td>NO SHOW</td>\n      <td>6.600000</td>\n      <td>4.600000</td>\n      <td>5.600000</td>\n      <td>6.600000</td>\n      <td>6.600000</td>\n    </tr>\n    <tr>\n      <th>215</th>\n      <td>NO SHOW</td>\n      <td>NO SHOW</td>\n      <td>NO SHOW</td>\n      <td>NO SHOW</td>\n      <td>NO SHOW</td>\n      <td>NO SHOW</td>\n      <td>?</td>\n      <td>မောင်စနေသား</td>\n      <td>M</td>\n      <td>NaT</td>\n      <td>...</td>\n      <td>NO SHOW</td>\n      <td>NO SHOW</td>\n      <td>NO SHOW</td>\n      <td>NO SHOW</td>\n      <td>NO SHOW</td>\n      <td>NaN</td>\n      <td>NaN</td>\n      <td>NaN</td>\n      <td>NaN</td>\n      <td>NaN</td>\n    </tr>\n    <tr>\n      <th>216</th>\n      <td>NO SHOW</td>\n      <td>NO SHOW</td>\n      <td>NO SHOW</td>\n      <td>NO SHOW</td>\n      <td>NO SHOW</td>\n      <td>NO SHOW</td>\n      <td>?</td>\n      <td>မောင်လောရင်း</td>\n      <td>M</td>\n      <td>2022-12-10</td>\n      <td>...</td>\n      <td>NO SHOW</td>\n      <td>NO SHOW</td>\n      <td>NO SHOW</td>\n      <td>NO SHOW</td>\n      <td>NO SHOW</td>\n      <td>3.166667</td>\n      <td>1.166667</td>\n      <td>2.166667</td>\n      <td>3.166667</td>\n      <td>3.166667</td>\n    </tr>\n    <tr>\n      <th>218</th>\n      <td>NO SHOW</td>\n      <td>NO SHOW</td>\n      <td>NO SHOW</td>\n      <td>NO SHOW</td>\n      <td>NO SHOW</td>\n      <td>NO SHOW</td>\n      <td>?</td>\n      <td>မောင်နူးယားစိုးနိုင်</td>\n      <td>M</td>\n      <td>2022-05-15</td>\n      <td>...</td>\n      <td>NO SHOW</td>\n      <td>NO SHOW</td>\n      <td>NO SHOW</td>\n      <td>NO SHOW</td>\n      <td>NO SHOW</td>\n      <td>10.133333</td>\n      <td>8.133333</td>\n      <td>9.133333</td>\n      <td>10.133333</td>\n      <td>10.133333</td>\n    </tr>\n    <tr>\n      <th>219</th>\n      <td>NO SHOW</td>\n      <td>NO SHOW</td>\n      <td>NO SHOW</td>\n      <td>NO SHOW</td>\n      <td>NO SHOW</td>\n      <td>NO SHOW</td>\n      <td>?</td>\n      <td>မောင်ရီးချက်</td>\n      <td>M</td>\n      <td>2023-02-13</td>\n      <td>...</td>\n      <td>NO SHOW</td>\n      <td>NO SHOW</td>\n      <td>NO SHOW</td>\n      <td>NO SHOW</td>\n      <td>NO SHOW</td>\n      <td>1.000000</td>\n      <td>-1.000000</td>\n      <td>0.000000</td>\n      <td>1.000000</td>\n      <td>1.000000</td>\n    </tr>\n    <tr>\n      <th>225</th>\n      <td>NO SHOW</td>\n      <td>NO SHOW</td>\n      <td>NO SHOW</td>\n      <td>NO SHOW</td>\n      <td>NO SHOW</td>\n      <td>NO SHOW</td>\n      <td>?</td>\n      <td>မောင်ကာစီမီရို</td>\n      <td>M</td>\n      <td>2022-04-03</td>\n      <td>...</td>\n      <td>NO SHOW</td>\n      <td>NO SHOW</td>\n      <td>NO SHOW</td>\n      <td>NO SHOW</td>\n      <td>NO SHOW</td>\n      <td>11.533333</td>\n      <td>9.533333</td>\n      <td>10.533333</td>\n      <td>11.533333</td>\n      <td>11.533333</td>\n    </tr>\n    <tr>\n      <th>228</th>\n      <td>NO SHOW</td>\n      <td>NO SHOW</td>\n      <td>NO SHOW</td>\n      <td>NO SHOW</td>\n      <td>NO SHOW</td>\n      <td>NO SHOW</td>\n      <td>?</td>\n      <td>မောင်နိုဝင်အောင်</td>\n      <td>M</td>\n      <td>2022-11-27</td>\n      <td>...</td>\n      <td>NO SHOW</td>\n      <td>NO SHOW</td>\n      <td>NO SHOW</td>\n      <td>NO SHOW</td>\n      <td>NO SHOW</td>\n      <td>3.600000</td>\n      <td>1.600000</td>\n      <td>2.600000</td>\n      <td>3.600000</td>\n      <td>3.600000</td>\n    </tr>\n    <tr>\n      <th>229</th>\n      <td>NO SHOW</td>\n      <td>NO SHOW</td>\n      <td>NO SHOW</td>\n      <td>NO SHOW</td>\n      <td>NO SHOW</td>\n      <td>NO SHOW</td>\n      <td>?</td>\n      <td>မောင်လုကာ</td>\n      <td>M</td>\n      <td>2022-07-02</td>\n      <td>...</td>\n      <td>NO SHOW</td>\n      <td>NO SHOW</td>\n      <td>NO SHOW</td>\n      <td>NO SHOW</td>\n      <td>NO SHOW</td>\n      <td>8.533333</td>\n      <td>6.533333</td>\n      <td>7.533333</td>\n      <td>8.533333</td>\n      <td>8.533333</td>\n    </tr>\n    <tr>\n      <th>230</th>\n      <td>NO SHOW</td>\n      <td>NO SHOW</td>\n      <td>NO SHOW</td>\n      <td>NO SHOW</td>\n      <td>NO SHOW</td>\n      <td>NO SHOW</td>\n      <td>?</td>\n      <td>မောင်စတီဗင်</td>\n      <td>M</td>\n      <td>2022-12-11</td>\n      <td>...</td>\n      <td>NO SHOW</td>\n      <td>NO SHOW</td>\n      <td>NO SHOW</td>\n      <td>NO SHOW</td>\n      <td>NO SHOW</td>\n      <td>3.133333</td>\n      <td>1.133333</td>\n      <td>2.133333</td>\n      <td>3.133333</td>\n      <td>3.133333</td>\n    </tr>\n    <tr>\n      <th>236</th>\n      <td>NO SHOW</td>\n      <td>NO SHOW</td>\n      <td>NO SHOW</td>\n      <td>NO SHOW</td>\n      <td>NO SHOW</td>\n      <td>NO SHOW</td>\n      <td>?</td>\n      <td>မောင်အောင်ဆန်းလင်း</td>\n      <td>M</td>\n      <td>2022-08-24</td>\n      <td>...</td>\n      <td>NO SHOW</td>\n      <td>NO SHOW</td>\n      <td>NO SHOW</td>\n      <td>NO SHOW</td>\n      <td>NO SHOW</td>\n      <td>6.766667</td>\n      <td>4.766667</td>\n      <td>5.766667</td>\n      <td>6.766667</td>\n      <td>6.766667</td>\n    </tr>\n    <tr>\n      <th>240</th>\n      <td>NO SHOW</td>\n      <td>NO SHOW</td>\n      <td>NO SHOW</td>\n      <td>NO SHOW</td>\n      <td>NO SHOW</td>\n      <td>NO SHOW</td>\n      <td>?</td>\n      <td>မောင်ရှားရယ်</td>\n      <td>M</td>\n      <td>2022-09-06</td>\n      <td>...</td>\n      <td>NO SHOW</td>\n      <td>NO SHOW</td>\n      <td>NO SHOW</td>\n      <td>NO SHOW</td>\n      <td>NO SHOW</td>\n      <td>6.333333</td>\n      <td>4.333333</td>\n      <td>5.333333</td>\n      <td>6.333333</td>\n      <td>6.333333</td>\n    </tr>\n    <tr>\n      <th>247</th>\n      <td>NO SHOW</td>\n      <td>NO SHOW</td>\n      <td>NO SHOW</td>\n      <td>NO SHOW</td>\n      <td>NO SHOW</td>\n      <td>NO SHOW</td>\n      <td>?</td>\n      <td>မောင်စတီဗင်</td>\n      <td>M</td>\n      <td>2022-09-12</td>\n      <td>...</td>\n      <td>NO SHOW</td>\n      <td>NO SHOW</td>\n      <td>NO SHOW</td>\n      <td>NO SHOW</td>\n      <td>NO SHOW</td>\n      <td>6.133333</td>\n      <td>4.133333</td>\n      <td>5.133333</td>\n      <td>6.133333</td>\n      <td>6.133333</td>\n    </tr>\n    <tr>\n      <th>249</th>\n      <td>NO SHOW</td>\n      <td>NO SHOW</td>\n      <td>NO SHOW</td>\n      <td>NO SHOW</td>\n      <td>NO SHOW</td>\n      <td>NO SHOW</td>\n      <td>?</td>\n      <td>မောင်ဒေးမို</td>\n      <td>M</td>\n      <td>2022-04-27</td>\n      <td>...</td>\n      <td>NO SHOW</td>\n      <td>NO SHOW</td>\n      <td>NO SHOW</td>\n      <td>NO SHOW</td>\n      <td>NO SHOW</td>\n      <td>10.733333</td>\n      <td>8.733333</td>\n      <td>9.733333</td>\n      <td>10.733333</td>\n      <td>10.733333</td>\n    </tr>\n  </tbody>\n</table>\n<p>24 rows × 64 columns</p>\n</div>"
     },
     "execution_count": 54,
     "metadata": {},
     "output_type": "execute_result"
    }
   ],
   "source": [
    "no_show = df.loc[df['ReNu'] == 'NO SHOW', :]\n",
    "no_show.loc[no_show['Sex']=='M', :]"
   ],
   "metadata": {
    "collapsed": false,
    "ExecuteTime": {
     "end_time": "2023-08-18T23:40:24.949864Z",
     "start_time": "2023-08-18T23:40:24.920515Z"
    }
   }
  },
  {
   "cell_type": "markdown",
   "source": [
    "### Analysis on previously vaccinated children"
   ],
   "metadata": {
    "collapsed": false
   }
  },
  {
   "cell_type": "code",
   "execution_count": 27,
   "outputs": [
    {
     "data": {
      "text/plain": "    ReNu  Att1  Att2                 Att3                 Att4  \\\n132  133  None  None  2023-05-15 00:00:00                 None   \n133  134  None  None  2023-05-15 00:00:00                 None   \n135  136  None  None  2023-05-15 00:00:00                 None   \n159  160  None  None                 None  2023-06-15 00:00:00   \n172  173  None  None                 None                 None   \n181  182  None  None                 None                 None   \n\n                    Att5 PreV              Name Sex        DoB  ... P5Po2  \\\n132                 None  Yes    မဆောင်းခက်‌နွေ   F 2021-11-21  ...     P   \n133                 None  Yes  မောင်အင်ဂနီးရှက်   M 2021-08-04  ...     P   \n135                 None  Yes       မအန်ဂျလီးနာ   F 2021-12-12  ...     P   \n159                 None  Yes  မလင်းလက်‌ရွှေရည်   F 2021-12-08  ...     P   \n172  2023-07-15 00:00:00  Yes      မောင်ဖရန်စစ်   M 2021-09-20  ...     P   \n181  2023-07-15 00:00:00  Yes     မောင်ပီတာစိုး   M 2019-10-28  ...     P   \n\n    P5Po3 P5M1 P5M2 ReDB        AGE  AGE_APR15  AGE_MAY15 AGE_JUNE15  \\\n132     P    P  Yes  NaN  18.000000  17.000000  18.000000  19.000000   \n133     P    P  Yes  NaN  21.633333  20.633333  21.633333  22.633333   \n135     P    P  Yes  NaN  17.300000  16.300000  17.300000  18.300000   \n159     P    P  Yes  NaN  18.466667  16.466667  17.466667  18.466667   \n172   Yes    P  Yes  NaN  22.100000  20.100000  21.100000  22.100000   \n181     P    P  Yes  NaN  45.200000  43.200000  44.200000  45.200000   \n\n    AGE_JULY15  \n132  20.000000  \n133  23.633333  \n135  19.300000  \n159  19.466667  \n172  22.100000  \n181  45.200000  \n\n[6 rows x 64 columns]",
      "text/html": "<div>\n<style scoped>\n    .dataframe tbody tr th:only-of-type {\n        vertical-align: middle;\n    }\n\n    .dataframe tbody tr th {\n        vertical-align: top;\n    }\n\n    .dataframe thead th {\n        text-align: right;\n    }\n</style>\n<table border=\"1\" class=\"dataframe\">\n  <thead>\n    <tr style=\"text-align: right;\">\n      <th></th>\n      <th>ReNu</th>\n      <th>Att1</th>\n      <th>Att2</th>\n      <th>Att3</th>\n      <th>Att4</th>\n      <th>Att5</th>\n      <th>PreV</th>\n      <th>Name</th>\n      <th>Sex</th>\n      <th>DoB</th>\n      <th>...</th>\n      <th>P5Po2</th>\n      <th>P5Po3</th>\n      <th>P5M1</th>\n      <th>P5M2</th>\n      <th>ReDB</th>\n      <th>AGE</th>\n      <th>AGE_APR15</th>\n      <th>AGE_MAY15</th>\n      <th>AGE_JUNE15</th>\n      <th>AGE_JULY15</th>\n    </tr>\n  </thead>\n  <tbody>\n    <tr>\n      <th>132</th>\n      <td>133</td>\n      <td>None</td>\n      <td>None</td>\n      <td>2023-05-15 00:00:00</td>\n      <td>None</td>\n      <td>None</td>\n      <td>Yes</td>\n      <td>မဆောင်းခက်‌နွေ</td>\n      <td>F</td>\n      <td>2021-11-21</td>\n      <td>...</td>\n      <td>P</td>\n      <td>P</td>\n      <td>P</td>\n      <td>Yes</td>\n      <td>NaN</td>\n      <td>18.000000</td>\n      <td>17.000000</td>\n      <td>18.000000</td>\n      <td>19.000000</td>\n      <td>20.000000</td>\n    </tr>\n    <tr>\n      <th>133</th>\n      <td>134</td>\n      <td>None</td>\n      <td>None</td>\n      <td>2023-05-15 00:00:00</td>\n      <td>None</td>\n      <td>None</td>\n      <td>Yes</td>\n      <td>မောင်အင်ဂနီးရှက်</td>\n      <td>M</td>\n      <td>2021-08-04</td>\n      <td>...</td>\n      <td>P</td>\n      <td>P</td>\n      <td>P</td>\n      <td>Yes</td>\n      <td>NaN</td>\n      <td>21.633333</td>\n      <td>20.633333</td>\n      <td>21.633333</td>\n      <td>22.633333</td>\n      <td>23.633333</td>\n    </tr>\n    <tr>\n      <th>135</th>\n      <td>136</td>\n      <td>None</td>\n      <td>None</td>\n      <td>2023-05-15 00:00:00</td>\n      <td>None</td>\n      <td>None</td>\n      <td>Yes</td>\n      <td>မအန်ဂျလီးနာ</td>\n      <td>F</td>\n      <td>2021-12-12</td>\n      <td>...</td>\n      <td>P</td>\n      <td>P</td>\n      <td>P</td>\n      <td>Yes</td>\n      <td>NaN</td>\n      <td>17.300000</td>\n      <td>16.300000</td>\n      <td>17.300000</td>\n      <td>18.300000</td>\n      <td>19.300000</td>\n    </tr>\n    <tr>\n      <th>159</th>\n      <td>160</td>\n      <td>None</td>\n      <td>None</td>\n      <td>None</td>\n      <td>2023-06-15 00:00:00</td>\n      <td>None</td>\n      <td>Yes</td>\n      <td>မလင်းလက်‌ရွှေရည်</td>\n      <td>F</td>\n      <td>2021-12-08</td>\n      <td>...</td>\n      <td>P</td>\n      <td>P</td>\n      <td>P</td>\n      <td>Yes</td>\n      <td>NaN</td>\n      <td>18.466667</td>\n      <td>16.466667</td>\n      <td>17.466667</td>\n      <td>18.466667</td>\n      <td>19.466667</td>\n    </tr>\n    <tr>\n      <th>172</th>\n      <td>173</td>\n      <td>None</td>\n      <td>None</td>\n      <td>None</td>\n      <td>None</td>\n      <td>2023-07-15 00:00:00</td>\n      <td>Yes</td>\n      <td>မောင်ဖရန်စစ်</td>\n      <td>M</td>\n      <td>2021-09-20</td>\n      <td>...</td>\n      <td>P</td>\n      <td>Yes</td>\n      <td>P</td>\n      <td>Yes</td>\n      <td>NaN</td>\n      <td>22.100000</td>\n      <td>20.100000</td>\n      <td>21.100000</td>\n      <td>22.100000</td>\n      <td>22.100000</td>\n    </tr>\n    <tr>\n      <th>181</th>\n      <td>182</td>\n      <td>None</td>\n      <td>None</td>\n      <td>None</td>\n      <td>None</td>\n      <td>2023-07-15 00:00:00</td>\n      <td>Yes</td>\n      <td>မောင်ပီတာစိုး</td>\n      <td>M</td>\n      <td>2019-10-28</td>\n      <td>...</td>\n      <td>P</td>\n      <td>P</td>\n      <td>P</td>\n      <td>Yes</td>\n      <td>NaN</td>\n      <td>45.200000</td>\n      <td>43.200000</td>\n      <td>44.200000</td>\n      <td>45.200000</td>\n      <td>45.200000</td>\n    </tr>\n  </tbody>\n</table>\n<p>6 rows × 64 columns</p>\n</div>"
     },
     "execution_count": 27,
     "metadata": {},
     "output_type": "execute_result"
    }
   ],
   "source": [
    "prev = df.loc[df['PreV']=='Yes',:]\n",
    "prev.loc[(prev['P5M1']=='P'),:]"
   ],
   "metadata": {
    "collapsed": false,
    "ExecuteTime": {
     "end_time": "2023-08-21T21:09:07.460063Z",
     "start_time": "2023-08-21T21:09:07.432925Z"
    }
   }
  },
  {
   "cell_type": "code",
   "execution_count": 30,
   "outputs": [
    {
     "data": {
      "text/plain": "6.316666666666666"
     },
     "execution_count": 30,
     "metadata": {},
     "output_type": "execute_result"
    }
   ],
   "source": [
    "df['AGE'].median()"
   ],
   "metadata": {
    "collapsed": false,
    "ExecuteTime": {
     "end_time": "2023-08-21T21:20:27.226085Z",
     "start_time": "2023-08-21T21:20:27.183714Z"
    }
   }
  },
  {
   "cell_type": "markdown",
   "metadata": {},
   "source": [
    "### Analyzing relationship between UTD and gender, internally displaced, in census, etc"
   ]
  },
  {
   "cell_type": "markdown",
   "metadata": {},
   "source": [
    "Group 1: >= 2 months by May and < 9 months in June (Children who could only get Penta, OPV, BCG)"
   ]
  },
  {
   "cell_type": "code",
   "execution_count": 74,
   "metadata": {
    "ExecuteTime": {
     "end_time": "2023-07-31T21:35:02.189884Z",
     "start_time": "2023-07-31T21:35:02.184336Z"
    }
   },
   "outputs": [],
   "source": [
    "g1 = df.loc[(df['AGE_MAY15']>=2)&(df['AGE_JUNE15']<9)&(df['ReNu']!='NO SHOW'),:] # could not have gotten M2"
   ]
  },
  {
   "cell_type": "code",
   "execution_count": 76,
   "metadata": {
    "ExecuteTime": {
     "end_time": "2023-07-31T21:37:20.693490Z",
     "start_time": "2023-07-31T21:37:20.679978Z"
    }
   },
   "outputs": [],
   "source": [
    "# UTD = Pe3, Po3, BCG\n",
    "utd = g1.loc[(g1['UTD']=='Yes')&((g1['P5BC']=='Yes')|(g1['P5BC']=='P')),:] # 40/81 UTD (49%)"
   ]
  },
  {
   "cell_type": "code",
   "execution_count": 91,
   "metadata": {
    "ExecuteTime": {
     "end_time": "2023-07-31T21:57:11.788863Z",
     "start_time": "2023-07-31T21:57:11.779966Z"
    }
   },
   "outputs": [],
   "source": [
    "utd_and_female = g1.loc[(g1['UTD']=='Yes')&((g1['P5BC']=='Yes')|(g1['P5BC']=='P'))&(g1['Sex']=='F'),:]\n",
    "# 18/39 of females are UTD (46% of all females)\n",
    "utd_and_male = g1.loc[(g1['UTD']=='Yes')&((g1['P5BC']=='Yes')|(g1['P5BC']=='P'))&(g1['Sex']=='M'),:]\n",
    "# 22/42 of males are UTD (52% of all males)"
   ]
  },
  {
   "cell_type": "code",
   "execution_count": 104,
   "metadata": {
    "ExecuteTime": {
     "end_time": "2023-07-31T22:01:17.559658Z",
     "start_time": "2023-07-31T22:01:17.550126Z"
    }
   },
   "outputs": [],
   "source": [
    "utd_in_census = g1.loc[(g1['UTD']=='Yes')&((g1['P5BC']=='Yes')|(g1['P5BC']=='P'))&(g1['CeNu']!='None'),:]\n",
    "# 23/37 in census are UTD (62% of all census children)\n",
    "utd_not_in_census = g1.loc[(g1['UTD']=='Yes')&((g1['P5BC']=='Yes')|(g1['P5BC']=='P'))&(g1['CeNu']=='None'),:]\n",
    "# 17/44 not in census are UTD (39% of all non-census children)"
   ]
  },
  {
   "cell_type": "markdown",
   "metadata": {},
   "source": [
    "Group 2: >= 9 months in June and if no PreV, <=12 months at first visit (Children who could get Pe3, Po3, M2, BCG)"
   ]
  },
  {
   "cell_type": "code",
   "execution_count": 133,
   "metadata": {
    "ExecuteTime": {
     "end_time": "2023-07-31T22:38:46.208527Z",
     "start_time": "2023-07-31T22:38:46.198188Z"
    }
   },
   "outputs": [
    {
     "name": "stderr",
     "output_type": "stream",
     "text": [
      "/var/folders/7y/1xn42rwd5hxgh74ds6lh1rmm0000gn/T/ipykernel_53731/3378074415.py:13: SettingWithCopyWarning: \n",
      "A value is trying to be set on a copy of a slice from a DataFrame.\n",
      "Try using .loc[row_indexer,col_indexer] = value instead\n",
      "\n",
      "See the caveats in the documentation: https://pandas.pydata.org/pandas-docs/stable/user_guide/indexing.html#returning-a-view-versus-a-copy\n",
      "  g2['good'] = good\n"
     ]
    }
   ],
   "source": [
    "good = []\n",
    "g2 = df.loc[(df['AGE_JUNE15']>=9)&(df['ReNu']!='NO SHOW'),:]\n",
    "for idx, row in g2.iterrows():\n",
    "    if row['PreV'] == 'No':\n",
    "        if row['AGE'] <= 12:\n",
    "            good.append('Yes')\n",
    "        elif (row['AGE'] > 12)&((row['P5BC']=='Yes')|(row['P5BC']=='P')):\n",
    "            good.append('Yes')\n",
    "        elif (row['AGE'] > 12)&((row['P5BC']=='No')|(row['P5BC']=='O')|(row['P5BC']=='TO')):\n",
    "            good.append('No')\n",
    "    else:\n",
    "        good.append('Yes')\n",
    "g2['good'] = good\n",
    "g2_new = g2.loc[g2['good']=='Yes',:]"
   ]
  },
  {
   "cell_type": "code",
   "execution_count": 160,
   "metadata": {
    "ExecuteTime": {
     "end_time": "2023-07-31T22:51:41.001970Z",
     "start_time": "2023-07-31T22:51:40.995696Z"
    }
   },
   "outputs": [],
   "source": []
  },
  {
   "cell_type": "code",
   "execution_count": 139,
   "metadata": {
    "ExecuteTime": {
     "end_time": "2023-07-31T22:40:38.389410Z",
     "start_time": "2023-07-31T22:40:38.385293Z"
    }
   },
   "outputs": [],
   "source": [
    "utd = g2_new.loc[(g2_new['UTD']=='Yes')&((g2_new['P5BC']=='Yes')|(g2_new['P5BC']=='P'))&((g2_new['P5M2']=='Yes')|(g2_new['P5M2']=='P')),:] # 58/85 UTD (68%)"
   ]
  },
  {
   "cell_type": "code",
   "execution_count": 152,
   "metadata": {
    "ExecuteTime": {
     "end_time": "2023-07-31T22:46:56.394147Z",
     "start_time": "2023-07-31T22:46:56.375340Z"
    }
   },
   "outputs": [],
   "source": [
    "utd_and_female2 = g2_new.loc[(g2_new['UTD']=='Yes')&((g2_new['P5BC']=='Yes')|(g2_new['P5BC']=='P'))&((g2_new['P5M2']=='Yes')|(g2_new['P5M2']=='P'))&(g2_new['Sex']=='F'),:]\n",
    "# 32/44 of females are UTD (73% of all females)\n",
    "\n",
    "utd_and_male2 = g2_new.loc[(g2_new['UTD']=='Yes')&((g2_new['P5BC']=='Yes')|(g2_new['P5BC']=='P'))&((g2_new['P5M2']=='Yes')|(g2_new['P5M2']=='P'))&(g2_new['Sex']=='M'),:]\n",
    "# 26/41 of males are UTD (63% of all males)"
   ]
  },
  {
   "cell_type": "code",
   "execution_count": 159,
   "metadata": {
    "ExecuteTime": {
     "end_time": "2023-07-31T22:50:06.959207Z",
     "start_time": "2023-07-31T22:50:06.948347Z"
    }
   },
   "outputs": [],
   "source": [
    "utd_in_census2 = g2_new.loc[(g2_new['UTD']=='Yes')&((g2_new['P5BC']=='Yes')|(g2_new['P5BC']=='P'))&((g2_new['P5M2']=='Yes')|(g2_new['P5M2']=='P'))&(g2_new['CeNu']!='None'),:]\n",
    "# 32/46 of census children are UTD (70% of all census children)\n",
    "utd_not_in_census2 = g2_new.loc[(g2_new['UTD']=='Yes')&((g2_new['P5BC']=='Yes')|(g2_new['P5BC']=='P'))&((g2_new['P5M2']=='Yes')|(g2_new['P5M2']=='P'))&(g2_new['CeNu']=='None'),:]\n",
    "# 26/39 of non-census children are UTD (67% of all non-census children)"
   ]
  },
  {
   "cell_type": "markdown",
   "metadata": {},
   "source": [
    "### Penta and OPV analysis (children >= 2 months in May)"
   ]
  },
  {
   "cell_type": "code",
   "execution_count": 223,
   "metadata": {
    "ExecuteTime": {
     "end_time": "2023-08-01T00:19:18.987319Z",
     "start_time": "2023-08-01T00:19:18.983279Z"
    }
   },
   "outputs": [],
   "source": [
    "pe_opv = df.loc[(df['AGE_MAY15']>=2)&(df['ReNu']!='NO SHOW'),:]\n",
    "# 170/184 (92%) (are >= 2 months in May)\n",
    "\n",
    "prev = pe_opv.loc[pe_opv['PreV']=='Yes',:] # 39/170 (23% of pe_opv) have PreV\n",
    "no_prev = pe_opv.loc[pe_opv['PreV']=='No',:] # 131/170 (77% of pe_opv) have no PreV\n",
    "\n",
    "prev_and_utd = pe_opv.loc[(pe_opv['PreV']=='Yes')&(pe_opv['UTD']=='Yes'),:] # 34/39 (87% of PreV) have PreV and are UTD\n",
    "no_prev_and_utd = pe_opv.loc[(pe_opv['PreV']=='No')&(pe_opv['UTD']=='Yes'),:] # 76/113 (58% of no PreV) have no PreV and are UTD"
   ]
  },
  {
   "cell_type": "markdown",
   "metadata": {},
   "source": [
    "### MMR analysis (children >= 9 months in June)"
   ]
  },
  {
   "cell_type": "code",
   "execution_count": 255,
   "metadata": {
    "ExecuteTime": {
     "end_time": "2023-08-01T00:30:39.092802Z",
     "start_time": "2023-08-01T00:30:39.080289Z"
    }
   },
   "outputs": [],
   "source": [
    "mmr = df.loc[(df['AGE_JUNE15']>=9)&(df['ReNu']!='NO SHOW'), :]\n",
    "# 89/184 (48% of all attendees) are at least 9 months old in June\n",
    "\n",
    "mmr_prev =  mmr.loc[mmr['PreV']=='Yes', :] # 31/89 (35%) of the children have PreV\n",
    "mmr_no_prev = mmr.loc[mmr['PreV']=='No', :] # 58/89 (65%) of the children have no PreV\n",
    "\n",
    "mmr_prev_and_utd =  mmr.loc[(mmr['PreV']=='Yes')&((mmr['P5M2']=='Yes')|(mmr['P5M2']=='P')), :]\n",
    "# 23/31 (74%) have PreV and have M2\n",
    "\n",
    "mmr_no_prev_and_utd = mmr.loc[(mmr['PreV']=='No')&(mmr['P5M2']=='Yes'), :]\n",
    "# 50/58 (86%) have no PreV and have M2\n"
   ]
  },
  {
   "cell_type": "code",
   "execution_count": 276,
   "metadata": {
    "ExecuteTime": {
     "end_time": "2023-08-01T00:44:23.637194Z",
     "start_time": "2023-08-01T00:44:23.592704Z"
    }
   },
   "outputs": [
    {
     "data": {
      "text/html": [
       "<div>\n",
       "<style scoped>\n",
       "    .dataframe tbody tr th:only-of-type {\n",
       "        vertical-align: middle;\n",
       "    }\n",
       "\n",
       "    .dataframe tbody tr th {\n",
       "        vertical-align: top;\n",
       "    }\n",
       "\n",
       "    .dataframe thead th {\n",
       "        text-align: right;\n",
       "    }\n",
       "</style>\n",
       "<table border=\"1\" class=\"dataframe\">\n",
       "  <thead>\n",
       "    <tr style=\"text-align: right;\">\n",
       "      <th></th>\n",
       "      <th>ReNu</th>\n",
       "      <th>Att1</th>\n",
       "      <th>Att2</th>\n",
       "      <th>Att3</th>\n",
       "      <th>Att4</th>\n",
       "      <th>Att5</th>\n",
       "      <th>PreV</th>\n",
       "      <th>UTD</th>\n",
       "      <th>P1BC</th>\n",
       "      <th>P1Po1</th>\n",
       "      <th>...</th>\n",
       "      <th>CeNu</th>\n",
       "      <th>CAMP</th>\n",
       "      <th>CeCa</th>\n",
       "      <th>Sex</th>\n",
       "      <th>DOB</th>\n",
       "      <th>AGE</th>\n",
       "      <th>AGE_APR15</th>\n",
       "      <th>AGE_MAY15</th>\n",
       "      <th>AGE_JUNE15</th>\n",
       "      <th>AGE_JULY15</th>\n",
       "    </tr>\n",
       "  </thead>\n",
       "  <tbody>\n",
       "    <tr>\n",
       "      <th>44</th>\n",
       "      <td>45</td>\n",
       "      <td>2023-03-15 00:00:00</td>\n",
       "      <td>2023-04-15 00:00:00</td>\n",
       "      <td>2023-05-15 00:00:00</td>\n",
       "      <td>None</td>\n",
       "      <td>None</td>\n",
       "      <td>Yes</td>\n",
       "      <td>No</td>\n",
       "      <td>P</td>\n",
       "      <td>P</td>\n",
       "      <td>...</td>\n",
       "      <td>34</td>\n",
       "      <td>ဟိုယာ</td>\n",
       "      <td>ဟိုယာရှေးလူFှု</td>\n",
       "      <td>M</td>\n",
       "      <td>2022-05-05</td>\n",
       "      <td>10.466667</td>\n",
       "      <td>11.466667</td>\n",
       "      <td>12.466667</td>\n",
       "      <td>13.466667</td>\n",
       "      <td>14.466667</td>\n",
       "    </tr>\n",
       "    <tr>\n",
       "      <th>46</th>\n",
       "      <td>47</td>\n",
       "      <td>2023-03-15 00:00:00</td>\n",
       "      <td>None</td>\n",
       "      <td>2023-05-15 00:00:00</td>\n",
       "      <td>None</td>\n",
       "      <td>None</td>\n",
       "      <td>Yes</td>\n",
       "      <td>Yes</td>\n",
       "      <td>P</td>\n",
       "      <td>P</td>\n",
       "      <td>...</td>\n",
       "      <td>50</td>\n",
       "      <td>စိန်တောင်တန်း ( IDP )</td>\n",
       "      <td>စိန်တောင်တန်း</td>\n",
       "      <td>M</td>\n",
       "      <td>2022-03-08</td>\n",
       "      <td>12.400000</td>\n",
       "      <td>13.400000</td>\n",
       "      <td>14.400000</td>\n",
       "      <td>15.400000</td>\n",
       "      <td>16.400000</td>\n",
       "    </tr>\n",
       "    <tr>\n",
       "      <th>51</th>\n",
       "      <td>52</td>\n",
       "      <td>2023-03-15 00:00:00</td>\n",
       "      <td>2023-04-15 00:00:00</td>\n",
       "      <td>2023-05-15 00:00:00</td>\n",
       "      <td>2023-06-15 00:00:00</td>\n",
       "      <td>None</td>\n",
       "      <td>Yes</td>\n",
       "      <td>Yes</td>\n",
       "      <td>TO</td>\n",
       "      <td>O</td>\n",
       "      <td>...</td>\n",
       "      <td>146</td>\n",
       "      <td>စိန်တောင်တန်း ( IDP )</td>\n",
       "      <td>စိန်တောင်တန်း</td>\n",
       "      <td>F</td>\n",
       "      <td>2021-10-03</td>\n",
       "      <td>17.600000</td>\n",
       "      <td>18.600000</td>\n",
       "      <td>19.600000</td>\n",
       "      <td>20.600000</td>\n",
       "      <td>21.600000</td>\n",
       "    </tr>\n",
       "    <tr>\n",
       "      <th>65</th>\n",
       "      <td>66</td>\n",
       "      <td>2023-03-15 00:00:00</td>\n",
       "      <td>2023-04-15 00:00:00</td>\n",
       "      <td>2023-05-15 00:00:00</td>\n",
       "      <td>2023-06-15 00:00:00</td>\n",
       "      <td>None</td>\n",
       "      <td>Yes</td>\n",
       "      <td>Yes</td>\n",
       "      <td>TO</td>\n",
       "      <td>O</td>\n",
       "      <td>...</td>\n",
       "      <td>139</td>\n",
       "      <td>ရာဧပရား ( IDP )</td>\n",
       "      <td>ဟိုယာ</td>\n",
       "      <td>F</td>\n",
       "      <td>2022-03-01</td>\n",
       "      <td>12.633333</td>\n",
       "      <td>13.633333</td>\n",
       "      <td>14.633333</td>\n",
       "      <td>15.633333</td>\n",
       "      <td>16.633333</td>\n",
       "    </tr>\n",
       "    <tr>\n",
       "      <th>67</th>\n",
       "      <td>68</td>\n",
       "      <td>2023-03-15 00:00:00</td>\n",
       "      <td>None</td>\n",
       "      <td>None</td>\n",
       "      <td>None</td>\n",
       "      <td>None</td>\n",
       "      <td>Yes</td>\n",
       "      <td>Yes</td>\n",
       "      <td>P</td>\n",
       "      <td>P</td>\n",
       "      <td>...</td>\n",
       "      <td>None</td>\n",
       "      <td>ဒေါလာစော ( IDP )</td>\n",
       "      <td>NONE LISTED</td>\n",
       "      <td>M</td>\n",
       "      <td>2022-08-05</td>\n",
       "      <td>7.400000</td>\n",
       "      <td>8.400000</td>\n",
       "      <td>9.400000</td>\n",
       "      <td>10.400000</td>\n",
       "      <td>11.400000</td>\n",
       "    </tr>\n",
       "    <tr>\n",
       "      <th>68</th>\n",
       "      <td>69</td>\n",
       "      <td>2023-03-15 00:00:00</td>\n",
       "      <td>None</td>\n",
       "      <td>2023-05-15 00:00:00</td>\n",
       "      <td>2023-06-15 00:00:00</td>\n",
       "      <td>None</td>\n",
       "      <td>Yes</td>\n",
       "      <td>No</td>\n",
       "      <td>P</td>\n",
       "      <td>P</td>\n",
       "      <td>...</td>\n",
       "      <td>None</td>\n",
       "      <td>ဒေါလာစော ( IDP )</td>\n",
       "      <td>NONE LISTED</td>\n",
       "      <td>M</td>\n",
       "      <td>2022-08-24</td>\n",
       "      <td>6.766667</td>\n",
       "      <td>7.766667</td>\n",
       "      <td>8.766667</td>\n",
       "      <td>9.766667</td>\n",
       "      <td>10.766667</td>\n",
       "    </tr>\n",
       "    <tr>\n",
       "      <th>70</th>\n",
       "      <td>71</td>\n",
       "      <td>2023-03-15 00:00:00</td>\n",
       "      <td>2023-04-15 00:00:00</td>\n",
       "      <td>2023-05-15 00:00:00</td>\n",
       "      <td>None</td>\n",
       "      <td>None</td>\n",
       "      <td>Yes</td>\n",
       "      <td>Yes</td>\n",
       "      <td>TO</td>\n",
       "      <td>P</td>\n",
       "      <td>...</td>\n",
       "      <td>43</td>\n",
       "      <td>သိုသီးဖို ( IDP )</td>\n",
       "      <td>သိုသီးဖို</td>\n",
       "      <td>F</td>\n",
       "      <td>2022-02-25</td>\n",
       "      <td>12.766667</td>\n",
       "      <td>13.766667</td>\n",
       "      <td>14.766667</td>\n",
       "      <td>15.766667</td>\n",
       "      <td>16.766667</td>\n",
       "    </tr>\n",
       "    <tr>\n",
       "      <th>72</th>\n",
       "      <td>73</td>\n",
       "      <td>2023-03-15 00:00:00</td>\n",
       "      <td>None</td>\n",
       "      <td>None</td>\n",
       "      <td>None</td>\n",
       "      <td>None</td>\n",
       "      <td>Yes</td>\n",
       "      <td>No</td>\n",
       "      <td>P</td>\n",
       "      <td>P</td>\n",
       "      <td>...</td>\n",
       "      <td>115</td>\n",
       "      <td>ဒေါလာစော ( IDP )</td>\n",
       "      <td>‌ဒေါလာစောစစ်ရှောင်</td>\n",
       "      <td>M</td>\n",
       "      <td>2022-05-02</td>\n",
       "      <td>10.566667</td>\n",
       "      <td>11.566667</td>\n",
       "      <td>12.566667</td>\n",
       "      <td>13.566667</td>\n",
       "      <td>14.566667</td>\n",
       "    </tr>\n",
       "    <tr>\n",
       "      <th>82</th>\n",
       "      <td>83</td>\n",
       "      <td>2023-03-15 00:00:00</td>\n",
       "      <td>2023-04-15 00:00:00</td>\n",
       "      <td>2023-05-15 00:00:00</td>\n",
       "      <td>2023-06-15 00:00:00</td>\n",
       "      <td>2023-07-15 00:00:00</td>\n",
       "      <td>Yes</td>\n",
       "      <td>Yes</td>\n",
       "      <td>P</td>\n",
       "      <td>P</td>\n",
       "      <td>...</td>\n",
       "      <td>None</td>\n",
       "      <td>ဒေါလာစော ( IDP )</td>\n",
       "      <td>NONE LISTED</td>\n",
       "      <td>F</td>\n",
       "      <td>2022-09-07</td>\n",
       "      <td>6.300000</td>\n",
       "      <td>7.300000</td>\n",
       "      <td>8.300000</td>\n",
       "      <td>9.300000</td>\n",
       "      <td>10.300000</td>\n",
       "    </tr>\n",
       "    <tr>\n",
       "      <th>93</th>\n",
       "      <td>94</td>\n",
       "      <td>2023-03-15 00:00:00</td>\n",
       "      <td>2023-04-15 00:00:00</td>\n",
       "      <td>2023-05-15 00:00:00</td>\n",
       "      <td>2023-06-15 00:00:00</td>\n",
       "      <td>None</td>\n",
       "      <td>Yes</td>\n",
       "      <td>Yes</td>\n",
       "      <td>O ?</td>\n",
       "      <td>O</td>\n",
       "      <td>...</td>\n",
       "      <td>None</td>\n",
       "      <td>ဒေါလာစော ( IDP )</td>\n",
       "      <td>NONE LISTED</td>\n",
       "      <td>M</td>\n",
       "      <td>2022-08-12</td>\n",
       "      <td>7.166667</td>\n",
       "      <td>8.166667</td>\n",
       "      <td>9.166667</td>\n",
       "      <td>10.166667</td>\n",
       "      <td>11.166667</td>\n",
       "    </tr>\n",
       "    <tr>\n",
       "      <th>105</th>\n",
       "      <td>106</td>\n",
       "      <td>2023-03-15 00:00:00</td>\n",
       "      <td>2023-04-15 00:00:00</td>\n",
       "      <td>None</td>\n",
       "      <td>None</td>\n",
       "      <td>None</td>\n",
       "      <td>Yes</td>\n",
       "      <td>Yes</td>\n",
       "      <td>TO ?</td>\n",
       "      <td>P</td>\n",
       "      <td>...</td>\n",
       "      <td>None</td>\n",
       "      <td>ဒေါလာစော ( IDP )</td>\n",
       "      <td>NONE LISTED</td>\n",
       "      <td>M</td>\n",
       "      <td>2021-01-24</td>\n",
       "      <td>26.000000</td>\n",
       "      <td>27.000000</td>\n",
       "      <td>28.000000</td>\n",
       "      <td>29.000000</td>\n",
       "      <td>30.000000</td>\n",
       "    </tr>\n",
       "    <tr>\n",
       "      <th>108</th>\n",
       "      <td>109</td>\n",
       "      <td>2023-03-15 00:00:00</td>\n",
       "      <td>2023-04-15 00:00:00</td>\n",
       "      <td>2023-05-15 00:00:00</td>\n",
       "      <td>2023-06-15 00:00:00</td>\n",
       "      <td>2023-07-15 00:00:00</td>\n",
       "      <td>Yes</td>\n",
       "      <td>Yes</td>\n",
       "      <td>O ?</td>\n",
       "      <td>O</td>\n",
       "      <td>...</td>\n",
       "      <td>None</td>\n",
       "      <td>မော်သီဒို ( IDP )</td>\n",
       "      <td>NONE LISTED</td>\n",
       "      <td>F</td>\n",
       "      <td>2022-08-21</td>\n",
       "      <td>6.866667</td>\n",
       "      <td>7.866667</td>\n",
       "      <td>8.866667</td>\n",
       "      <td>9.866667</td>\n",
       "      <td>10.866667</td>\n",
       "    </tr>\n",
       "    <tr>\n",
       "      <th>113</th>\n",
       "      <td>114</td>\n",
       "      <td>2023-03-15 00:00:00</td>\n",
       "      <td>2023-04-15 00:00:00</td>\n",
       "      <td>None</td>\n",
       "      <td>None</td>\n",
       "      <td>None</td>\n",
       "      <td>Yes</td>\n",
       "      <td>Yes</td>\n",
       "      <td>Yes</td>\n",
       "      <td>O</td>\n",
       "      <td>...</td>\n",
       "      <td>141</td>\n",
       "      <td>ဒေါလာစော</td>\n",
       "      <td>ဒေါလာစော</td>\n",
       "      <td>M</td>\n",
       "      <td>2020-09-30</td>\n",
       "      <td>29.866667</td>\n",
       "      <td>30.866667</td>\n",
       "      <td>31.866667</td>\n",
       "      <td>32.866667</td>\n",
       "      <td>33.866667</td>\n",
       "    </tr>\n",
       "    <tr>\n",
       "      <th>131</th>\n",
       "      <td>132</td>\n",
       "      <td>None</td>\n",
       "      <td>None</td>\n",
       "      <td>2023-05-15 00:00:00</td>\n",
       "      <td>None</td>\n",
       "      <td>None</td>\n",
       "      <td>Yes</td>\n",
       "      <td>Yes</td>\n",
       "      <td>-</td>\n",
       "      <td>-</td>\n",
       "      <td>...</td>\n",
       "      <td>53</td>\n",
       "      <td>စိန်တောင်တန်း ( IDP )</td>\n",
       "      <td>NONE LISTED</td>\n",
       "      <td>M</td>\n",
       "      <td>2022-08-04</td>\n",
       "      <td>9.466667</td>\n",
       "      <td>8.466667</td>\n",
       "      <td>9.466667</td>\n",
       "      <td>10.466667</td>\n",
       "      <td>11.466667</td>\n",
       "    </tr>\n",
       "    <tr>\n",
       "      <th>132</th>\n",
       "      <td>133</td>\n",
       "      <td>None</td>\n",
       "      <td>None</td>\n",
       "      <td>2023-05-15 00:00:00</td>\n",
       "      <td>None</td>\n",
       "      <td>None</td>\n",
       "      <td>Yes</td>\n",
       "      <td>Yes</td>\n",
       "      <td>-</td>\n",
       "      <td>-</td>\n",
       "      <td>...</td>\n",
       "      <td>None</td>\n",
       "      <td>ဟိုယာ</td>\n",
       "      <td>NONE LISTED</td>\n",
       "      <td>F</td>\n",
       "      <td>2021-11-21</td>\n",
       "      <td>18.000000</td>\n",
       "      <td>17.000000</td>\n",
       "      <td>18.000000</td>\n",
       "      <td>19.000000</td>\n",
       "      <td>20.000000</td>\n",
       "    </tr>\n",
       "    <tr>\n",
       "      <th>133</th>\n",
       "      <td>134</td>\n",
       "      <td>None</td>\n",
       "      <td>None</td>\n",
       "      <td>2023-05-15 00:00:00</td>\n",
       "      <td>None</td>\n",
       "      <td>None</td>\n",
       "      <td>Yes</td>\n",
       "      <td>Yes</td>\n",
       "      <td>-</td>\n",
       "      <td>-</td>\n",
       "      <td>...</td>\n",
       "      <td>None</td>\n",
       "      <td>စိန်တောင်တန်း ( IDP )</td>\n",
       "      <td>NONE LISTED</td>\n",
       "      <td>M</td>\n",
       "      <td>2021-08-04</td>\n",
       "      <td>21.633333</td>\n",
       "      <td>20.633333</td>\n",
       "      <td>21.633333</td>\n",
       "      <td>22.633333</td>\n",
       "      <td>23.633333</td>\n",
       "    </tr>\n",
       "    <tr>\n",
       "      <th>134</th>\n",
       "      <td>135</td>\n",
       "      <td>None</td>\n",
       "      <td>None</td>\n",
       "      <td>2023-05-15 00:00:00</td>\n",
       "      <td>2023-06-15 00:00:00</td>\n",
       "      <td>None</td>\n",
       "      <td>Yes</td>\n",
       "      <td>Yes</td>\n",
       "      <td>-</td>\n",
       "      <td>-</td>\n",
       "      <td>...</td>\n",
       "      <td>None</td>\n",
       "      <td>ဟိုယာ ( IDP )</td>\n",
       "      <td>NONE LISTED</td>\n",
       "      <td>F</td>\n",
       "      <td>2021-10-07</td>\n",
       "      <td>19.500000</td>\n",
       "      <td>18.500000</td>\n",
       "      <td>19.500000</td>\n",
       "      <td>20.500000</td>\n",
       "      <td>21.500000</td>\n",
       "    </tr>\n",
       "    <tr>\n",
       "      <th>135</th>\n",
       "      <td>136</td>\n",
       "      <td>None</td>\n",
       "      <td>None</td>\n",
       "      <td>2023-05-15 00:00:00</td>\n",
       "      <td>None</td>\n",
       "      <td>None</td>\n",
       "      <td>Yes</td>\n",
       "      <td>Yes</td>\n",
       "      <td>-</td>\n",
       "      <td>-</td>\n",
       "      <td>...</td>\n",
       "      <td>None</td>\n",
       "      <td>စိန်တောင်တန်း ( IDP )</td>\n",
       "      <td>NONE LISTED</td>\n",
       "      <td>F</td>\n",
       "      <td>2021-12-12</td>\n",
       "      <td>17.300000</td>\n",
       "      <td>16.300000</td>\n",
       "      <td>17.300000</td>\n",
       "      <td>18.300000</td>\n",
       "      <td>19.300000</td>\n",
       "    </tr>\n",
       "    <tr>\n",
       "      <th>137</th>\n",
       "      <td>138</td>\n",
       "      <td>None</td>\n",
       "      <td>None</td>\n",
       "      <td>2023-05-15 00:00:00</td>\n",
       "      <td>None</td>\n",
       "      <td>None</td>\n",
       "      <td>Yes</td>\n",
       "      <td>Yes</td>\n",
       "      <td>-</td>\n",
       "      <td>-</td>\n",
       "      <td>...</td>\n",
       "      <td>None</td>\n",
       "      <td>မော်သီဒို ( IDP )</td>\n",
       "      <td>NONE LISTED</td>\n",
       "      <td>M</td>\n",
       "      <td>2022-08-06</td>\n",
       "      <td>9.400000</td>\n",
       "      <td>8.400000</td>\n",
       "      <td>9.400000</td>\n",
       "      <td>10.400000</td>\n",
       "      <td>11.400000</td>\n",
       "    </tr>\n",
       "    <tr>\n",
       "      <th>139</th>\n",
       "      <td>140</td>\n",
       "      <td>None</td>\n",
       "      <td>None</td>\n",
       "      <td>2023-05-15 00:00:00</td>\n",
       "      <td>2023-06-15 00:00:00</td>\n",
       "      <td>None</td>\n",
       "      <td>Yes</td>\n",
       "      <td>No</td>\n",
       "      <td>-</td>\n",
       "      <td>-</td>\n",
       "      <td>...</td>\n",
       "      <td>None</td>\n",
       "      <td>ဒေါလာစော ( IDP )</td>\n",
       "      <td>NONE LISTED</td>\n",
       "      <td>F</td>\n",
       "      <td>2022-05-16</td>\n",
       "      <td>12.133333</td>\n",
       "      <td>11.133333</td>\n",
       "      <td>12.133333</td>\n",
       "      <td>13.133333</td>\n",
       "      <td>14.133333</td>\n",
       "    </tr>\n",
       "    <tr>\n",
       "      <th>145</th>\n",
       "      <td>146</td>\n",
       "      <td>None</td>\n",
       "      <td>None</td>\n",
       "      <td>None</td>\n",
       "      <td>2023-06-15 00:00:00</td>\n",
       "      <td>2023-07-15 00:00:00</td>\n",
       "      <td>Yes</td>\n",
       "      <td>Yes</td>\n",
       "      <td>-</td>\n",
       "      <td>-</td>\n",
       "      <td>...</td>\n",
       "      <td>None</td>\n",
       "      <td>စိန်တောင်တန်း ( IDP )</td>\n",
       "      <td>စိန်တောင်တန်း ( IDP )</td>\n",
       "      <td>M</td>\n",
       "      <td>2021-09-28</td>\n",
       "      <td>20.833333</td>\n",
       "      <td>18.833333</td>\n",
       "      <td>19.833333</td>\n",
       "      <td>20.833333</td>\n",
       "      <td>21.833333</td>\n",
       "    </tr>\n",
       "    <tr>\n",
       "      <th>146</th>\n",
       "      <td>147</td>\n",
       "      <td>None</td>\n",
       "      <td>None</td>\n",
       "      <td>None</td>\n",
       "      <td>2023-06-15 00:00:00</td>\n",
       "      <td>2023-07-15 00:00:00</td>\n",
       "      <td>Yes</td>\n",
       "      <td>Yes</td>\n",
       "      <td>-</td>\n",
       "      <td>-</td>\n",
       "      <td>...</td>\n",
       "      <td>None</td>\n",
       "      <td>စိန်တောင်တန်း ( IDP )</td>\n",
       "      <td>စိန်တောင်တန်း ( IDP )</td>\n",
       "      <td>M</td>\n",
       "      <td>2021-12-13</td>\n",
       "      <td>18.300000</td>\n",
       "      <td>16.300000</td>\n",
       "      <td>17.300000</td>\n",
       "      <td>18.300000</td>\n",
       "      <td>19.300000</td>\n",
       "    </tr>\n",
       "    <tr>\n",
       "      <th>154</th>\n",
       "      <td>155</td>\n",
       "      <td>None</td>\n",
       "      <td>None</td>\n",
       "      <td>None</td>\n",
       "      <td>2023-06-15 00:00:00</td>\n",
       "      <td>2023-07-15 00:00:00</td>\n",
       "      <td>Yes</td>\n",
       "      <td>Yes</td>\n",
       "      <td>-</td>\n",
       "      <td>-</td>\n",
       "      <td>...</td>\n",
       "      <td>None</td>\n",
       "      <td>ဒေါလျားခူ</td>\n",
       "      <td>ဒေါလျားခူ</td>\n",
       "      <td>F</td>\n",
       "      <td>2022-09-12</td>\n",
       "      <td>9.200000</td>\n",
       "      <td>7.200000</td>\n",
       "      <td>8.200000</td>\n",
       "      <td>9.200000</td>\n",
       "      <td>10.200000</td>\n",
       "    </tr>\n",
       "    <tr>\n",
       "      <th>157</th>\n",
       "      <td>158</td>\n",
       "      <td>None</td>\n",
       "      <td>None</td>\n",
       "      <td>None</td>\n",
       "      <td>2023-06-15 00:00:00</td>\n",
       "      <td>2023-07-15 00:00:00</td>\n",
       "      <td>Yes</td>\n",
       "      <td>Yes</td>\n",
       "      <td>-</td>\n",
       "      <td>-</td>\n",
       "      <td>...</td>\n",
       "      <td>None</td>\n",
       "      <td>ဒေါလာစော</td>\n",
       "      <td>ဒေါလာစော</td>\n",
       "      <td>F</td>\n",
       "      <td>2022-08-10</td>\n",
       "      <td>10.300000</td>\n",
       "      <td>8.300000</td>\n",
       "      <td>9.300000</td>\n",
       "      <td>10.300000</td>\n",
       "      <td>11.300000</td>\n",
       "    </tr>\n",
       "    <tr>\n",
       "      <th>159</th>\n",
       "      <td>160</td>\n",
       "      <td>None</td>\n",
       "      <td>None</td>\n",
       "      <td>None</td>\n",
       "      <td>2023-06-15 00:00:00</td>\n",
       "      <td>None</td>\n",
       "      <td>Yes</td>\n",
       "      <td>Yes</td>\n",
       "      <td>-</td>\n",
       "      <td>-</td>\n",
       "      <td>...</td>\n",
       "      <td>None</td>\n",
       "      <td>ပျားချောင်း ( IDP )</td>\n",
       "      <td>ပျားချောင်း ( IDP )</td>\n",
       "      <td>F</td>\n",
       "      <td>2021-12-08</td>\n",
       "      <td>18.466667</td>\n",
       "      <td>16.466667</td>\n",
       "      <td>17.466667</td>\n",
       "      <td>18.466667</td>\n",
       "      <td>19.466667</td>\n",
       "    </tr>\n",
       "    <tr>\n",
       "      <th>160</th>\n",
       "      <td>161</td>\n",
       "      <td>None</td>\n",
       "      <td>None</td>\n",
       "      <td>None</td>\n",
       "      <td>2023-06-15 00:00:00</td>\n",
       "      <td>None</td>\n",
       "      <td>Yes</td>\n",
       "      <td>Yes</td>\n",
       "      <td>-</td>\n",
       "      <td>-</td>\n",
       "      <td>...</td>\n",
       "      <td>None</td>\n",
       "      <td>ပျားချောင်း ( IDP )</td>\n",
       "      <td>ရာဧပရားစစ်ရှောင်</td>\n",
       "      <td>F</td>\n",
       "      <td>2022-02-13</td>\n",
       "      <td>16.233333</td>\n",
       "      <td>14.233333</td>\n",
       "      <td>15.233333</td>\n",
       "      <td>16.233333</td>\n",
       "      <td>17.233333</td>\n",
       "    </tr>\n",
       "    <tr>\n",
       "      <th>167</th>\n",
       "      <td>168</td>\n",
       "      <td>None</td>\n",
       "      <td>None</td>\n",
       "      <td>None</td>\n",
       "      <td>None</td>\n",
       "      <td>2023-07-15 00:00:00</td>\n",
       "      <td>Yes</td>\n",
       "      <td>Yes</td>\n",
       "      <td>-</td>\n",
       "      <td>-</td>\n",
       "      <td>...</td>\n",
       "      <td>None</td>\n",
       "      <td>စိန်တောင်တန်း ( IDP )</td>\n",
       "      <td>NaN</td>\n",
       "      <td>F</td>\n",
       "      <td>2021-11-29</td>\n",
       "      <td>19.766667</td>\n",
       "      <td>17.766667</td>\n",
       "      <td>18.766667</td>\n",
       "      <td>19.766667</td>\n",
       "      <td>19.766667</td>\n",
       "    </tr>\n",
       "    <tr>\n",
       "      <th>172</th>\n",
       "      <td>173</td>\n",
       "      <td>None</td>\n",
       "      <td>None</td>\n",
       "      <td>None</td>\n",
       "      <td>None</td>\n",
       "      <td>2023-07-15 00:00:00</td>\n",
       "      <td>Yes</td>\n",
       "      <td>Yes</td>\n",
       "      <td>-</td>\n",
       "      <td>-</td>\n",
       "      <td>...</td>\n",
       "      <td>None</td>\n",
       "      <td>ပျားချောင်း ( IDP )</td>\n",
       "      <td>NaN</td>\n",
       "      <td>F</td>\n",
       "      <td>2021-09-20</td>\n",
       "      <td>22.100000</td>\n",
       "      <td>20.100000</td>\n",
       "      <td>21.100000</td>\n",
       "      <td>22.100000</td>\n",
       "      <td>22.100000</td>\n",
       "    </tr>\n",
       "    <tr>\n",
       "      <th>173</th>\n",
       "      <td>174</td>\n",
       "      <td>None</td>\n",
       "      <td>None</td>\n",
       "      <td>None</td>\n",
       "      <td>None</td>\n",
       "      <td>2023-07-15 00:00:00</td>\n",
       "      <td>Yes</td>\n",
       "      <td>No</td>\n",
       "      <td>-</td>\n",
       "      <td>-</td>\n",
       "      <td>...</td>\n",
       "      <td>None</td>\n",
       "      <td>စိန်တောင်တန်း ( IDP )</td>\n",
       "      <td>NaN</td>\n",
       "      <td>F</td>\n",
       "      <td>2021-12-13</td>\n",
       "      <td>19.300000</td>\n",
       "      <td>17.300000</td>\n",
       "      <td>18.300000</td>\n",
       "      <td>19.300000</td>\n",
       "      <td>19.300000</td>\n",
       "    </tr>\n",
       "    <tr>\n",
       "      <th>181</th>\n",
       "      <td>182</td>\n",
       "      <td>None</td>\n",
       "      <td>None</td>\n",
       "      <td>None</td>\n",
       "      <td>None</td>\n",
       "      <td>2023-07-15 00:00:00</td>\n",
       "      <td>Yes</td>\n",
       "      <td>Yes</td>\n",
       "      <td>-</td>\n",
       "      <td>-</td>\n",
       "      <td>...</td>\n",
       "      <td>None</td>\n",
       "      <td>ဟိုယာ</td>\n",
       "      <td>NaN</td>\n",
       "      <td>F</td>\n",
       "      <td>2019-10-28</td>\n",
       "      <td>45.200000</td>\n",
       "      <td>43.200000</td>\n",
       "      <td>44.200000</td>\n",
       "      <td>45.200000</td>\n",
       "      <td>45.200000</td>\n",
       "    </tr>\n",
       "    <tr>\n",
       "      <th>183</th>\n",
       "      <td>184</td>\n",
       "      <td>None</td>\n",
       "      <td>None</td>\n",
       "      <td>None</td>\n",
       "      <td>None</td>\n",
       "      <td>2023-07-15 00:00:00</td>\n",
       "      <td>Yes</td>\n",
       "      <td>Yes</td>\n",
       "      <td>-</td>\n",
       "      <td>-</td>\n",
       "      <td>...</td>\n",
       "      <td>None</td>\n",
       "      <td>စိန်တောင်တန်း ( IDP )</td>\n",
       "      <td>NaN</td>\n",
       "      <td>F</td>\n",
       "      <td>2020-09-17</td>\n",
       "      <td>34.366667</td>\n",
       "      <td>32.366667</td>\n",
       "      <td>33.366667</td>\n",
       "      <td>34.366667</td>\n",
       "      <td>34.366667</td>\n",
       "    </tr>\n",
       "  </tbody>\n",
       "</table>\n",
       "<p>31 rows × 63 columns</p>\n",
       "</div>"
      ],
      "text/plain": [
       "    ReNu                 Att1                 Att2                 Att3  \\\n",
       "44    45  2023-03-15 00:00:00  2023-04-15 00:00:00  2023-05-15 00:00:00   \n",
       "46    47  2023-03-15 00:00:00                 None  2023-05-15 00:00:00   \n",
       "51    52  2023-03-15 00:00:00  2023-04-15 00:00:00  2023-05-15 00:00:00   \n",
       "65    66  2023-03-15 00:00:00  2023-04-15 00:00:00  2023-05-15 00:00:00   \n",
       "67    68  2023-03-15 00:00:00                 None                 None   \n",
       "68    69  2023-03-15 00:00:00                 None  2023-05-15 00:00:00   \n",
       "70    71  2023-03-15 00:00:00  2023-04-15 00:00:00  2023-05-15 00:00:00   \n",
       "72    73  2023-03-15 00:00:00                 None                 None   \n",
       "82    83  2023-03-15 00:00:00  2023-04-15 00:00:00  2023-05-15 00:00:00   \n",
       "93    94  2023-03-15 00:00:00  2023-04-15 00:00:00  2023-05-15 00:00:00   \n",
       "105  106  2023-03-15 00:00:00  2023-04-15 00:00:00                 None   \n",
       "108  109  2023-03-15 00:00:00  2023-04-15 00:00:00  2023-05-15 00:00:00   \n",
       "113  114  2023-03-15 00:00:00  2023-04-15 00:00:00                 None   \n",
       "131  132                 None                 None  2023-05-15 00:00:00   \n",
       "132  133                 None                 None  2023-05-15 00:00:00   \n",
       "133  134                 None                 None  2023-05-15 00:00:00   \n",
       "134  135                 None                 None  2023-05-15 00:00:00   \n",
       "135  136                 None                 None  2023-05-15 00:00:00   \n",
       "137  138                 None                 None  2023-05-15 00:00:00   \n",
       "139  140                 None                 None  2023-05-15 00:00:00   \n",
       "145  146                 None                 None                 None   \n",
       "146  147                 None                 None                 None   \n",
       "154  155                 None                 None                 None   \n",
       "157  158                 None                 None                 None   \n",
       "159  160                 None                 None                 None   \n",
       "160  161                 None                 None                 None   \n",
       "167  168                 None                 None                 None   \n",
       "172  173                 None                 None                 None   \n",
       "173  174                 None                 None                 None   \n",
       "181  182                 None                 None                 None   \n",
       "183  184                 None                 None                 None   \n",
       "\n",
       "                    Att4                 Att5 PreV  UTD  P1BC P1Po1  ...  \\\n",
       "44                  None                 None  Yes   No     P     P  ...   \n",
       "46                  None                 None  Yes  Yes     P     P  ...   \n",
       "51   2023-06-15 00:00:00                 None  Yes  Yes    TO     O  ...   \n",
       "65   2023-06-15 00:00:00                 None  Yes  Yes    TO     O  ...   \n",
       "67                  None                 None  Yes  Yes     P     P  ...   \n",
       "68   2023-06-15 00:00:00                 None  Yes   No     P     P  ...   \n",
       "70                  None                 None  Yes  Yes    TO     P  ...   \n",
       "72                  None                 None  Yes   No     P     P  ...   \n",
       "82   2023-06-15 00:00:00  2023-07-15 00:00:00  Yes  Yes     P     P  ...   \n",
       "93   2023-06-15 00:00:00                 None  Yes  Yes   O ?     O  ...   \n",
       "105                 None                 None  Yes  Yes  TO ?     P  ...   \n",
       "108  2023-06-15 00:00:00  2023-07-15 00:00:00  Yes  Yes   O ?     O  ...   \n",
       "113                 None                 None  Yes  Yes   Yes     O  ...   \n",
       "131                 None                 None  Yes  Yes     -     -  ...   \n",
       "132                 None                 None  Yes  Yes     -     -  ...   \n",
       "133                 None                 None  Yes  Yes     -     -  ...   \n",
       "134  2023-06-15 00:00:00                 None  Yes  Yes     -     -  ...   \n",
       "135                 None                 None  Yes  Yes     -     -  ...   \n",
       "137                 None                 None  Yes  Yes     -     -  ...   \n",
       "139  2023-06-15 00:00:00                 None  Yes   No     -     -  ...   \n",
       "145  2023-06-15 00:00:00  2023-07-15 00:00:00  Yes  Yes     -     -  ...   \n",
       "146  2023-06-15 00:00:00  2023-07-15 00:00:00  Yes  Yes     -     -  ...   \n",
       "154  2023-06-15 00:00:00  2023-07-15 00:00:00  Yes  Yes     -     -  ...   \n",
       "157  2023-06-15 00:00:00  2023-07-15 00:00:00  Yes  Yes     -     -  ...   \n",
       "159  2023-06-15 00:00:00                 None  Yes  Yes     -     -  ...   \n",
       "160  2023-06-15 00:00:00                 None  Yes  Yes     -     -  ...   \n",
       "167                 None  2023-07-15 00:00:00  Yes  Yes     -     -  ...   \n",
       "172                 None  2023-07-15 00:00:00  Yes  Yes     -     -  ...   \n",
       "173                 None  2023-07-15 00:00:00  Yes   No     -     -  ...   \n",
       "181                 None  2023-07-15 00:00:00  Yes  Yes     -     -  ...   \n",
       "183                 None  2023-07-15 00:00:00  Yes  Yes     -     -  ...   \n",
       "\n",
       "     CeNu                   CAMP                   CeCa Sex        DOB  \\\n",
       "44     34                  ဟိုယာ         ဟိုယာရှေးလူFှု   M 2022-05-05   \n",
       "46     50  စိန်တောင်တန်း ( IDP )          စိန်တောင်တန်း   M 2022-03-08   \n",
       "51    146  စိန်တောင်တန်း ( IDP )          စိန်တောင်တန်း   F 2021-10-03   \n",
       "65    139        ရာဧပရား ( IDP )                  ဟိုယာ   F 2022-03-01   \n",
       "67   None       ဒေါလာစော ( IDP )            NONE LISTED   M 2022-08-05   \n",
       "68   None       ဒေါလာစော ( IDP )            NONE LISTED   M 2022-08-24   \n",
       "70     43      သိုသီးဖို ( IDP )              သိုသီးဖို   F 2022-02-25   \n",
       "72    115       ဒေါလာစော ( IDP )     ‌ဒေါလာစောစစ်ရှောင်   M 2022-05-02   \n",
       "82   None       ဒေါလာစော ( IDP )            NONE LISTED   F 2022-09-07   \n",
       "93   None       ဒေါလာစော ( IDP )            NONE LISTED   M 2022-08-12   \n",
       "105  None       ဒေါလာစော ( IDP )            NONE LISTED   M 2021-01-24   \n",
       "108  None      မော်သီဒို ( IDP )            NONE LISTED   F 2022-08-21   \n",
       "113   141               ဒေါလာစော               ဒေါလာစော   M 2020-09-30   \n",
       "131    53  စိန်တောင်တန်း ( IDP )            NONE LISTED   M 2022-08-04   \n",
       "132  None                  ဟိုယာ            NONE LISTED   F 2021-11-21   \n",
       "133  None  စိန်တောင်တန်း ( IDP )            NONE LISTED   M 2021-08-04   \n",
       "134  None          ဟိုယာ ( IDP )            NONE LISTED   F 2021-10-07   \n",
       "135  None  စိန်တောင်တန်း ( IDP )            NONE LISTED   F 2021-12-12   \n",
       "137  None      မော်သီဒို ( IDP )            NONE LISTED   M 2022-08-06   \n",
       "139  None       ဒေါလာစော ( IDP )            NONE LISTED   F 2022-05-16   \n",
       "145  None  စိန်တောင်တန်း ( IDP )  စိန်တောင်တန်း ( IDP )   M 2021-09-28   \n",
       "146  None  စိန်တောင်တန်း ( IDP )  စိန်တောင်တန်း ( IDP )   M 2021-12-13   \n",
       "154  None              ဒေါလျားခူ              ဒေါလျားခူ   F 2022-09-12   \n",
       "157  None               ဒေါလာစော               ဒေါလာစော   F 2022-08-10   \n",
       "159  None    ပျားချောင်း ( IDP )    ပျားချောင်း ( IDP )   F 2021-12-08   \n",
       "160  None    ပျားချောင်း ( IDP )       ရာဧပရားစစ်ရှောင်   F 2022-02-13   \n",
       "167  None  စိန်တောင်တန်း ( IDP )                    NaN   F 2021-11-29   \n",
       "172  None    ပျားချောင်း ( IDP )                    NaN   F 2021-09-20   \n",
       "173  None  စိန်တောင်တန်း ( IDP )                    NaN   F 2021-12-13   \n",
       "181  None                  ဟိုယာ                    NaN   F 2019-10-28   \n",
       "183  None  စိန်တောင်တန်း ( IDP )                    NaN   F 2020-09-17   \n",
       "\n",
       "           AGE  AGE_APR15  AGE_MAY15 AGE_JUNE15 AGE_JULY15  \n",
       "44   10.466667  11.466667  12.466667  13.466667  14.466667  \n",
       "46   12.400000  13.400000  14.400000  15.400000  16.400000  \n",
       "51   17.600000  18.600000  19.600000  20.600000  21.600000  \n",
       "65   12.633333  13.633333  14.633333  15.633333  16.633333  \n",
       "67    7.400000   8.400000   9.400000  10.400000  11.400000  \n",
       "68    6.766667   7.766667   8.766667   9.766667  10.766667  \n",
       "70   12.766667  13.766667  14.766667  15.766667  16.766667  \n",
       "72   10.566667  11.566667  12.566667  13.566667  14.566667  \n",
       "82    6.300000   7.300000   8.300000   9.300000  10.300000  \n",
       "93    7.166667   8.166667   9.166667  10.166667  11.166667  \n",
       "105  26.000000  27.000000  28.000000  29.000000  30.000000  \n",
       "108   6.866667   7.866667   8.866667   9.866667  10.866667  \n",
       "113  29.866667  30.866667  31.866667  32.866667  33.866667  \n",
       "131   9.466667   8.466667   9.466667  10.466667  11.466667  \n",
       "132  18.000000  17.000000  18.000000  19.000000  20.000000  \n",
       "133  21.633333  20.633333  21.633333  22.633333  23.633333  \n",
       "134  19.500000  18.500000  19.500000  20.500000  21.500000  \n",
       "135  17.300000  16.300000  17.300000  18.300000  19.300000  \n",
       "137   9.400000   8.400000   9.400000  10.400000  11.400000  \n",
       "139  12.133333  11.133333  12.133333  13.133333  14.133333  \n",
       "145  20.833333  18.833333  19.833333  20.833333  21.833333  \n",
       "146  18.300000  16.300000  17.300000  18.300000  19.300000  \n",
       "154   9.200000   7.200000   8.200000   9.200000  10.200000  \n",
       "157  10.300000   8.300000   9.300000  10.300000  11.300000  \n",
       "159  18.466667  16.466667  17.466667  18.466667  19.466667  \n",
       "160  16.233333  14.233333  15.233333  16.233333  17.233333  \n",
       "167  19.766667  17.766667  18.766667  19.766667  19.766667  \n",
       "172  22.100000  20.100000  21.100000  22.100000  22.100000  \n",
       "173  19.300000  17.300000  18.300000  19.300000  19.300000  \n",
       "181  45.200000  43.200000  44.200000  45.200000  45.200000  \n",
       "183  34.366667  32.366667  33.366667  34.366667  34.366667  \n",
       "\n",
       "[31 rows x 63 columns]"
      ]
     },
     "execution_count": 276,
     "metadata": {},
     "output_type": "execute_result"
    }
   ],
   "source": [
    "mmr_prev"
   ]
  },
  {
   "cell_type": "markdown",
   "metadata": {},
   "source": [
    "### other analyses"
   ]
  },
  {
   "cell_type": "code",
   "execution_count": 113,
   "metadata": {
    "ExecuteTime": {
     "end_time": "2023-07-31T22:08:58.061113Z",
     "start_time": "2023-07-31T22:08:58.041055Z"
    }
   },
   "outputs": [
    {
     "data": {
      "text/html": [
       "<div>\n",
       "<style scoped>\n",
       "    .dataframe tbody tr th:only-of-type {\n",
       "        vertical-align: middle;\n",
       "    }\n",
       "\n",
       "    .dataframe tbody tr th {\n",
       "        vertical-align: top;\n",
       "    }\n",
       "\n",
       "    .dataframe thead th {\n",
       "        text-align: right;\n",
       "    }\n",
       "</style>\n",
       "<table border=\"1\" class=\"dataframe\">\n",
       "  <thead>\n",
       "    <tr style=\"text-align: right;\">\n",
       "      <th></th>\n",
       "      <th>ReNu</th>\n",
       "      <th>Att1</th>\n",
       "      <th>Att2</th>\n",
       "      <th>Att3</th>\n",
       "      <th>Att4</th>\n",
       "      <th>Att5</th>\n",
       "      <th>PreV</th>\n",
       "      <th>UTD</th>\n",
       "      <th>P1BC</th>\n",
       "      <th>P1Po1</th>\n",
       "      <th>...</th>\n",
       "      <th>CeNu</th>\n",
       "      <th>CAMP</th>\n",
       "      <th>CeCa</th>\n",
       "      <th>Sex</th>\n",
       "      <th>DOB</th>\n",
       "      <th>AGE</th>\n",
       "      <th>AGE_APR15</th>\n",
       "      <th>AGE_MAY15</th>\n",
       "      <th>AGE_JUNE15</th>\n",
       "      <th>AGE_JULY15</th>\n",
       "    </tr>\n",
       "  </thead>\n",
       "  <tbody>\n",
       "    <tr>\n",
       "      <th>3</th>\n",
       "      <td>4</td>\n",
       "      <td>2023-03-15 00:00:00</td>\n",
       "      <td>2023-04-15 00:00:00</td>\n",
       "      <td>2023-05-15 00:00:00</td>\n",
       "      <td>2023-06-15 00:00:00</td>\n",
       "      <td>None</td>\n",
       "      <td>No</td>\n",
       "      <td>Yes</td>\n",
       "      <td>Yes</td>\n",
       "      <td>O</td>\n",
       "      <td>...</td>\n",
       "      <td>None</td>\n",
       "      <td>ခါးဘယ်</td>\n",
       "      <td>NONE LISTED</td>\n",
       "      <td>M</td>\n",
       "      <td>2022-12-09</td>\n",
       "      <td>3.200000</td>\n",
       "      <td>4.200000</td>\n",
       "      <td>5.200000</td>\n",
       "      <td>6.200000</td>\n",
       "      <td>7.200000</td>\n",
       "    </tr>\n",
       "    <tr>\n",
       "      <th>7</th>\n",
       "      <td>8</td>\n",
       "      <td>2023-03-15 00:00:00</td>\n",
       "      <td>2023-04-15 00:00:00</td>\n",
       "      <td>2023-05-15 00:00:00</td>\n",
       "      <td>2023-06-15 00:00:00</td>\n",
       "      <td>None</td>\n",
       "      <td>No</td>\n",
       "      <td>Yes</td>\n",
       "      <td>Yes</td>\n",
       "      <td>O</td>\n",
       "      <td>...</td>\n",
       "      <td>None</td>\n",
       "      <td>ရွှေ‌ညောင်ကုန်း(ခါးဘယ်)</td>\n",
       "      <td>NONE LISTED</td>\n",
       "      <td>M</td>\n",
       "      <td>2022-04-08</td>\n",
       "      <td>11.366667</td>\n",
       "      <td>12.366667</td>\n",
       "      <td>13.366667</td>\n",
       "      <td>14.366667</td>\n",
       "      <td>15.366667</td>\n",
       "    </tr>\n",
       "    <tr>\n",
       "      <th>9</th>\n",
       "      <td>10</td>\n",
       "      <td>2023-03-15 00:00:00</td>\n",
       "      <td>2023-04-15 00:00:00</td>\n",
       "      <td>2023-05-15 00:00:00</td>\n",
       "      <td>2023-06-15 00:00:00</td>\n",
       "      <td>None</td>\n",
       "      <td>No</td>\n",
       "      <td>Yes</td>\n",
       "      <td>Yes</td>\n",
       "      <td>O</td>\n",
       "      <td>...</td>\n",
       "      <td>None</td>\n",
       "      <td>ထေခို</td>\n",
       "      <td>NONE LISTED</td>\n",
       "      <td>F</td>\n",
       "      <td>2023-01-28</td>\n",
       "      <td>1.533333</td>\n",
       "      <td>2.533333</td>\n",
       "      <td>3.533333</td>\n",
       "      <td>4.533333</td>\n",
       "      <td>5.533333</td>\n",
       "    </tr>\n",
       "    <tr>\n",
       "      <th>13</th>\n",
       "      <td>14</td>\n",
       "      <td>2023-03-15 00:00:00</td>\n",
       "      <td>2023-04-15 00:00:00</td>\n",
       "      <td>2023-05-15 00:00:00</td>\n",
       "      <td>2023-06-15 00:00:00</td>\n",
       "      <td>None</td>\n",
       "      <td>No</td>\n",
       "      <td>Yes</td>\n",
       "      <td>S</td>\n",
       "      <td>S</td>\n",
       "      <td>...</td>\n",
       "      <td>None</td>\n",
       "      <td>ထေခို</td>\n",
       "      <td>NONE LISTED</td>\n",
       "      <td>F</td>\n",
       "      <td>2022-11-09</td>\n",
       "      <td>4.200000</td>\n",
       "      <td>5.200000</td>\n",
       "      <td>6.200000</td>\n",
       "      <td>7.200000</td>\n",
       "      <td>8.200000</td>\n",
       "    </tr>\n",
       "    <tr>\n",
       "      <th>21</th>\n",
       "      <td>22</td>\n",
       "      <td>2023-03-15 00:00:00</td>\n",
       "      <td>2023-04-15 00:00:00</td>\n",
       "      <td>2023-05-15 00:00:00</td>\n",
       "      <td>2023-06-15 00:00:00</td>\n",
       "      <td>None</td>\n",
       "      <td>No</td>\n",
       "      <td>Yes</td>\n",
       "      <td>Yes</td>\n",
       "      <td>O</td>\n",
       "      <td>...</td>\n",
       "      <td>None</td>\n",
       "      <td>ဟိုယာ</td>\n",
       "      <td>NONE LISTED</td>\n",
       "      <td>F</td>\n",
       "      <td>2023-02-11</td>\n",
       "      <td>1.066667</td>\n",
       "      <td>2.066667</td>\n",
       "      <td>3.066667</td>\n",
       "      <td>4.066667</td>\n",
       "      <td>5.066667</td>\n",
       "    </tr>\n",
       "    <tr>\n",
       "      <th>...</th>\n",
       "      <td>...</td>\n",
       "      <td>...</td>\n",
       "      <td>...</td>\n",
       "      <td>...</td>\n",
       "      <td>...</td>\n",
       "      <td>...</td>\n",
       "      <td>...</td>\n",
       "      <td>...</td>\n",
       "      <td>...</td>\n",
       "      <td>...</td>\n",
       "      <td>...</td>\n",
       "      <td>...</td>\n",
       "      <td>...</td>\n",
       "      <td>...</td>\n",
       "      <td>...</td>\n",
       "      <td>...</td>\n",
       "      <td>...</td>\n",
       "      <td>...</td>\n",
       "      <td>...</td>\n",
       "      <td>...</td>\n",
       "      <td>...</td>\n",
       "    </tr>\n",
       "    <tr>\n",
       "      <th>177</th>\n",
       "      <td>178</td>\n",
       "      <td>None</td>\n",
       "      <td>None</td>\n",
       "      <td>None</td>\n",
       "      <td>None</td>\n",
       "      <td>2023-07-15 00:00:00</td>\n",
       "      <td>No</td>\n",
       "      <td>No</td>\n",
       "      <td>-</td>\n",
       "      <td>-</td>\n",
       "      <td>...</td>\n",
       "      <td>None</td>\n",
       "      <td>ပျားချောင်း ( IDP )</td>\n",
       "      <td>NaN</td>\n",
       "      <td>F</td>\n",
       "      <td>2023-02-17</td>\n",
       "      <td>4.933333</td>\n",
       "      <td>2.933333</td>\n",
       "      <td>3.933333</td>\n",
       "      <td>4.933333</td>\n",
       "      <td>4.933333</td>\n",
       "    </tr>\n",
       "    <tr>\n",
       "      <th>178</th>\n",
       "      <td>179</td>\n",
       "      <td>None</td>\n",
       "      <td>None</td>\n",
       "      <td>None</td>\n",
       "      <td>None</td>\n",
       "      <td>2023-07-15 00:00:00</td>\n",
       "      <td>No</td>\n",
       "      <td>No</td>\n",
       "      <td>-</td>\n",
       "      <td>-</td>\n",
       "      <td>...</td>\n",
       "      <td>None</td>\n",
       "      <td>ထိုခွီဆို</td>\n",
       "      <td>NaN</td>\n",
       "      <td>F</td>\n",
       "      <td>2023-04-18</td>\n",
       "      <td>2.933333</td>\n",
       "      <td>0.933333</td>\n",
       "      <td>1.933333</td>\n",
       "      <td>2.933333</td>\n",
       "      <td>2.933333</td>\n",
       "    </tr>\n",
       "    <tr>\n",
       "      <th>179</th>\n",
       "      <td>180</td>\n",
       "      <td>None</td>\n",
       "      <td>None</td>\n",
       "      <td>None</td>\n",
       "      <td>None</td>\n",
       "      <td>2023-07-15 00:00:00</td>\n",
       "      <td>No</td>\n",
       "      <td>No</td>\n",
       "      <td>-</td>\n",
       "      <td>-</td>\n",
       "      <td>...</td>\n",
       "      <td>None</td>\n",
       "      <td>ယိုစပရားကျေးရွာ</td>\n",
       "      <td>NaN</td>\n",
       "      <td>F</td>\n",
       "      <td>2023-04-13</td>\n",
       "      <td>3.100000</td>\n",
       "      <td>1.100000</td>\n",
       "      <td>2.100000</td>\n",
       "      <td>3.100000</td>\n",
       "      <td>3.100000</td>\n",
       "    </tr>\n",
       "    <tr>\n",
       "      <th>180</th>\n",
       "      <td>181</td>\n",
       "      <td>None</td>\n",
       "      <td>None</td>\n",
       "      <td>None</td>\n",
       "      <td>None</td>\n",
       "      <td>2023-07-15 00:00:00</td>\n",
       "      <td>No</td>\n",
       "      <td>No</td>\n",
       "      <td>-</td>\n",
       "      <td>-</td>\n",
       "      <td>...</td>\n",
       "      <td>None</td>\n",
       "      <td>ကေလျား IDP</td>\n",
       "      <td>NaN</td>\n",
       "      <td>F</td>\n",
       "      <td>2023-04-09</td>\n",
       "      <td>3.233333</td>\n",
       "      <td>1.233333</td>\n",
       "      <td>2.233333</td>\n",
       "      <td>3.233333</td>\n",
       "      <td>3.233333</td>\n",
       "    </tr>\n",
       "    <tr>\n",
       "      <th>182</th>\n",
       "      <td>183</td>\n",
       "      <td>None</td>\n",
       "      <td>None</td>\n",
       "      <td>None</td>\n",
       "      <td>None</td>\n",
       "      <td>2023-07-15 00:00:00</td>\n",
       "      <td>No</td>\n",
       "      <td>No</td>\n",
       "      <td>-</td>\n",
       "      <td>-</td>\n",
       "      <td>...</td>\n",
       "      <td>None</td>\n",
       "      <td>မော်သီဒို ( IDP )</td>\n",
       "      <td>NaN</td>\n",
       "      <td>F</td>\n",
       "      <td>2022-11-11</td>\n",
       "      <td>8.200000</td>\n",
       "      <td>6.200000</td>\n",
       "      <td>7.200000</td>\n",
       "      <td>8.200000</td>\n",
       "      <td>8.200000</td>\n",
       "    </tr>\n",
       "  </tbody>\n",
       "</table>\n",
       "<p>71 rows × 63 columns</p>\n",
       "</div>"
      ],
      "text/plain": [
       "    ReNu                 Att1                 Att2                 Att3  \\\n",
       "3      4  2023-03-15 00:00:00  2023-04-15 00:00:00  2023-05-15 00:00:00   \n",
       "7      8  2023-03-15 00:00:00  2023-04-15 00:00:00  2023-05-15 00:00:00   \n",
       "9     10  2023-03-15 00:00:00  2023-04-15 00:00:00  2023-05-15 00:00:00   \n",
       "13    14  2023-03-15 00:00:00  2023-04-15 00:00:00  2023-05-15 00:00:00   \n",
       "21    22  2023-03-15 00:00:00  2023-04-15 00:00:00  2023-05-15 00:00:00   \n",
       "..   ...                  ...                  ...                  ...   \n",
       "177  178                 None                 None                 None   \n",
       "178  179                 None                 None                 None   \n",
       "179  180                 None                 None                 None   \n",
       "180  181                 None                 None                 None   \n",
       "182  183                 None                 None                 None   \n",
       "\n",
       "                    Att4                 Att5 PreV  UTD P1BC P1Po1  ...  CeNu  \\\n",
       "3    2023-06-15 00:00:00                 None   No  Yes  Yes     O  ...  None   \n",
       "7    2023-06-15 00:00:00                 None   No  Yes  Yes     O  ...  None   \n",
       "9    2023-06-15 00:00:00                 None   No  Yes  Yes     O  ...  None   \n",
       "13   2023-06-15 00:00:00                 None   No  Yes    S     S  ...  None   \n",
       "21   2023-06-15 00:00:00                 None   No  Yes  Yes     O  ...  None   \n",
       "..                   ...                  ...  ...  ...  ...   ...  ...   ...   \n",
       "177                 None  2023-07-15 00:00:00   No   No    -     -  ...  None   \n",
       "178                 None  2023-07-15 00:00:00   No   No    -     -  ...  None   \n",
       "179                 None  2023-07-15 00:00:00   No   No    -     -  ...  None   \n",
       "180                 None  2023-07-15 00:00:00   No   No    -     -  ...  None   \n",
       "182                 None  2023-07-15 00:00:00   No   No    -     -  ...  None   \n",
       "\n",
       "                        CAMP         CeCa Sex        DOB        AGE  \\\n",
       "3                     ခါးဘယ်  NONE LISTED   M 2022-12-09   3.200000   \n",
       "7    ရွှေ‌ညောင်ကုန်း(ခါးဘယ်)  NONE LISTED   M 2022-04-08  11.366667   \n",
       "9                      ထေခို  NONE LISTED   F 2023-01-28   1.533333   \n",
       "13                     ထေခို  NONE LISTED   F 2022-11-09   4.200000   \n",
       "21                     ဟိုယာ  NONE LISTED   F 2023-02-11   1.066667   \n",
       "..                       ...          ...  ..        ...        ...   \n",
       "177      ပျားချောင်း ( IDP )          NaN   F 2023-02-17   4.933333   \n",
       "178                ထိုခွီဆို          NaN   F 2023-04-18   2.933333   \n",
       "179          ယိုစပရားကျေးရွာ          NaN   F 2023-04-13   3.100000   \n",
       "180               ကေလျား IDP          NaN   F 2023-04-09   3.233333   \n",
       "182        မော်သီဒို ( IDP )          NaN   F 2022-11-11   8.200000   \n",
       "\n",
       "     AGE_APR15  AGE_MAY15 AGE_JUNE15 AGE_JULY15  \n",
       "3     4.200000   5.200000   6.200000   7.200000  \n",
       "7    12.366667  13.366667  14.366667  15.366667  \n",
       "9     2.533333   3.533333   4.533333   5.533333  \n",
       "13    5.200000   6.200000   7.200000   8.200000  \n",
       "21    2.066667   3.066667   4.066667   5.066667  \n",
       "..         ...        ...        ...        ...  \n",
       "177   2.933333   3.933333   4.933333   4.933333  \n",
       "178   0.933333   1.933333   2.933333   2.933333  \n",
       "179   1.100000   2.100000   3.100000   3.100000  \n",
       "180   1.233333   2.233333   3.233333   3.233333  \n",
       "182   6.200000   7.200000   8.200000   8.200000  \n",
       "\n",
       "[71 rows x 63 columns]"
      ]
     },
     "execution_count": 113,
     "metadata": {},
     "output_type": "execute_result"
    }
   ],
   "source": [
    "df.loc[(df['PreV']=='No')&(df['CeNu']!='None'),:] # 74/84 (88%) of census children have no PreV\n",
    "df.loc[(df['PreV']=='No')&(df['CeNu']=='None'),:] # 71/100 (71%) of non-census children have no PreV"
   ]
  },
  {
   "cell_type": "markdown",
   "metadata": {
    "ExecuteTime": {
     "end_time": "2023-07-31T22:07:30.783560Z",
     "start_time": "2023-07-31T22:07:30.775284Z"
    }
   },
   "source": [
    "### Table C\n",
    "completed = finished all vaccines for age group or attended in July (even if they missed some clinics before)"
   ]
  },
  {
   "cell_type": "code",
   "execution_count": 22,
   "metadata": {
    "ExecuteTime": {
     "end_time": "2023-07-31T22:01:48.085065Z",
     "start_time": "2023-07-31T22:01:48.077589Z"
    }
   },
   "outputs": [],
   "source": [
    "dropouts = df.loc[(df['Att4']=='None')&(df['Att5']=='None'),:]"
   ]
  },
  {
   "cell_type": "code",
   "execution_count": 20,
   "metadata": {
    "ExecuteTime": {
     "end_time": "2023-07-31T21:56:08.807699Z",
     "start_time": "2023-07-31T21:56:08.802181Z"
    }
   },
   "outputs": [],
   "source": [
    "pd.set_option('display.max_columns', 40)"
   ]
  },
  {
   "cell_type": "code",
   "execution_count": 17,
   "metadata": {
    "ExecuteTime": {
     "end_time": "2023-07-31T21:52:18.810864Z",
     "start_time": "2023-07-31T21:52:18.772933Z"
    }
   },
   "outputs": [],
   "source": [
    "x = df.loc[(df['UTD']=='Yes')&(df['P5BC']=='Yes')&(df['P5M2']=='Yes'),:]\n",
    "# 37 no PreV got all vaccines"
   ]
  },
  {
   "cell_type": "markdown",
   "source": [
    "### Percentage that got BCG by age group"
   ],
   "metadata": {
    "collapsed": false
   }
  },
  {
   "cell_type": "code",
   "execution_count": 21,
   "metadata": {
    "ExecuteTime": {
     "end_time": "2023-08-26T20:03:39.805373Z",
     "start_time": "2023-08-26T20:03:39.725731Z"
    }
   },
   "outputs": [
    {
     "data": {
      "text/plain": "<Figure size 640x480 with 1 Axes>",
      "image/png": "[encoded data removed]"
     },
     "metadata": {},
     "output_type": "display_data"
    }
   ],
   "source": [
    "import matplotlib.pyplot as plt\n",
    "shows = df.loc[df['ReNu']!='NO SHOW', :]\n",
    "zerotoone = len(shows.loc[(shows['AGE']<2)&(shows['PreV']=='No')&(shows['P5BC']=='Yes'),:]) / len(shows.loc[(shows['AGE']<2)&(shows['PreV']=='No'),:]) # 100%\n",
    "twotothree = len(shows.loc[(shows['AGE']>=2)&(shows['AGE']<4)&(shows['PreV']=='No')&(shows['P5BC']=='Yes'),:]) / len(shows.loc[(shows['AGE']>=2)&(shows['AGE']<4)&(shows['PreV']=='No'),:]) # 94%\n",
    "fourtofive = len(shows.loc[(shows['AGE']>=4)&(shows['AGE']<6)&(shows['PreV']=='No')&(shows['P5BC']=='Yes'),:]) / len(shows.loc[(shows['AGE']>=4)&(shows['AGE']<6)&(shows['PreV']=='No'),:]) # 90%\n",
    "sixtoseven = len(shows.loc[(shows['AGE']>=6)&(shows['AGE']<8)&(shows['PreV']=='No')&(shows['P5BC']=='Yes'),:]) / len(shows.loc[(shows['AGE']>=6)&(shows['AGE']<8)&(shows['PreV']=='No'),:]) # 70%\n",
    "eighttonine = len(shows.loc[(shows['AGE']>=8)&(shows['AGE']<10)&(shows['PreV']=='No')&(shows['P5BC']=='Yes'),:])/len(shows.loc[(shows['AGE']>=8)&(shows['AGE']<10)&(shows['PreV']=='No'),:]) # 81%\n",
    "tentoeleven = len(shows.loc[(shows['AGE']>=10)&(shows['AGE']<12)&(shows['PreV']=='No')&(shows['P5BC']=='Yes'),:])/len(shows.loc[(df['AGE']>=10)&(shows['AGE']<12)&(shows['PreV']=='No'),:]) # 88%\n",
    "twelveandover = len(shows.loc[(df['AGE']>=12)&(shows['PreV']=='No')&(shows['P5BC']=='Yes'),:]) / len(shows.loc[(shows['AGE']>=12)&(shows['PreV']=='No'),:]) # 26%\n",
    "x = ['0-1', '2-3','4-5','6-7','8-9','10-11','>= 12']\n",
    "y = [zerotoone*100, twotothree*100, fourtofive*100, sixtoseven*100, eighttonine*100, tentoeleven*100, twelveandover*100]\n",
    "plt.bar(x, y)\n",
    "plt.grid()\n",
    "plt.show()"
   ]
  },
  {
   "cell_type": "markdown",
   "source": [
    "### Percentage that got all doses of Penta by age group"
   ],
   "metadata": {
    "collapsed": false
   }
  },
  {
   "cell_type": "code",
   "execution_count": 44,
   "outputs": [
    {
     "data": {
      "text/plain": "<Figure size 640x480 with 1 Axes>",
      "image/png": "[encoded data removed]"
     },
     "metadata": {},
     "output_type": "display_data"
    }
   ],
   "source": [
    "import matplotlib.pyplot as plt\n",
    "shows = df.loc[df['ReNu']!='NO SHOW', :]\n",
    "zerotoone = len(shows.loc[(shows['AGE']<2)&(shows['PreV']=='No')&(shows['P5Pe3']=='Yes'),:]) / len(shows.loc[(shows['AGE']<2)&(shows['PreV']=='No'),:]) # 100%\n",
    "twotothree = len(shows.loc[(shows['AGE']>=2)&(shows['AGE']<4)&(shows['PreV']=='No')&(shows['P5Pe3']=='Yes'),:]) / len(shows.loc[(shows['AGE']>=2)&(shows['AGE']<4)&(shows['PreV']=='No'),:]) # 94%\n",
    "fourtofive = len(shows.loc[(shows['AGE']>=4)&(shows['AGE']<6)&(shows['PreV']=='No')&(shows['P5Pe3']=='Yes'),:]) / len(shows.loc[(shows['AGE']>=4)&(shows['AGE']<6)&(shows['PreV']=='No'),:]) # 90%\n",
    "sixtoseven = len(shows.loc[(shows['AGE']>=6)&(shows['AGE']<8)&(shows['PreV']=='No')&(shows['P5Pe3']=='Yes'),:]) / len(shows.loc[(shows['AGE']>=6)&(shows['AGE']<8)&(shows['PreV']=='No'),:]) # 70%\n",
    "eighttonine = len(shows.loc[(shows['AGE']>=8)&(shows['AGE']<10)&(shows['PreV']=='No')&(shows['P5Pe3']=='Yes'),:])/len(shows.loc[(shows['AGE']>=8)&(shows['AGE']<10)&(shows['PreV']=='No'),:]) # 81%\n",
    "tentoeleven = len(shows.loc[(shows['AGE']>=10)&(shows['AGE']<12)&(shows['PreV']=='No')&(shows['P5Pe3']=='Yes'),:])/len(shows.loc[(df['AGE']>=10)&(shows['AGE']<12)&(shows['PreV']=='No'),:]) # 88%\n",
    "twelveandover = len(shows.loc[(df['AGE']>=12)&(shows['PreV']=='No')&(shows['P5Pe3']=='Yes'),:]) / len(shows.loc[(shows['AGE']>=12)&(shows['PreV']=='No'),:]) # 26%\n",
    "x = ['0-1', '2-3','4-5','6-7','8-9','10-11','>= 12']\n",
    "y = [zerotoone*100, twotothree*100, fourtofive*100, sixtoseven*100, eighttonine*100, tentoeleven*100, twelveandover*100]\n",
    "plt.bar(x, y)\n",
    "plt.grid()\n",
    "plt.show()"
   ],
   "metadata": {
    "collapsed": false,
    "ExecuteTime": {
     "end_time": "2023-08-27T15:55:05.565407Z",
     "start_time": "2023-08-27T15:55:05.158990Z"
    }
   }
  },
  {
   "cell_type": "markdown",
   "source": [
    "### Percentage that got all doses of OPV by age group"
   ],
   "metadata": {
    "collapsed": false
   }
  },
  {
   "cell_type": "code",
   "execution_count": 45,
   "outputs": [
    {
     "data": {
      "text/plain": "<Figure size 640x480 with 1 Axes>",
      "image/png": "[encoded data removed]"
     },
     "metadata": {},
     "output_type": "display_data"
    }
   ],
   "source": [
    "import matplotlib.pyplot as plt\n",
    "shows = df.loc[df['ReNu']!='NO SHOW', :]\n",
    "zerotoone = len(shows.loc[(shows['AGE']<2)&(shows['PreV']=='No')&(shows['P5Po3']=='Yes'),:]) / len(shows.loc[(shows['AGE']<2)&(shows['PreV']=='No'),:]) # 100%\n",
    "twotothree = len(shows.loc[(shows['AGE']>=2)&(shows['AGE']<4)&(shows['PreV']=='No')&(shows['P5Po3']=='Yes'),:]) / len(shows.loc[(shows['AGE']>=2)&(shows['AGE']<4)&(shows['PreV']=='No'),:]) # 94%\n",
    "fourtofive = len(shows.loc[(shows['AGE']>=4)&(shows['AGE']<6)&(shows['PreV']=='No')&(shows['P5Po3']=='Yes'),:]) / len(shows.loc[(shows['AGE']>=4)&(shows['AGE']<6)&(shows['PreV']=='No'),:]) # 90%\n",
    "sixtoseven = len(shows.loc[(shows['AGE']>=6)&(shows['AGE']<8)&(shows['PreV']=='No')&(shows['P5Po3']=='Yes'),:]) / len(shows.loc[(shows['AGE']>=6)&(shows['AGE']<8)&(shows['PreV']=='No'),:]) # 70%\n",
    "eighttonine = len(shows.loc[(shows['AGE']>=8)&(shows['AGE']<10)&(shows['PreV']=='No')&(shows['P5Po3']=='Yes'),:])/len(shows.loc[(shows['AGE']>=8)&(shows['AGE']<10)&(shows['PreV']=='No'),:]) # 81%\n",
    "tentoeleven = len(shows.loc[(shows['AGE']>=10)&(shows['AGE']<12)&(shows['PreV']=='No')&(shows['P5Po3']=='Yes'),:])/len(shows.loc[(df['AGE']>=10)&(shows['AGE']<12)&(shows['PreV']=='No'),:]) # 88%\n",
    "twelveandover = len(shows.loc[(df['AGE']>=12)&(shows['PreV']=='No')&(shows['P5Po3']=='Yes'),:]) / len(shows.loc[(shows['AGE']>=12)&(shows['PreV']=='No'),:]) # 26%\n",
    "x = ['0-1', '2-3','4-5','6-7','8-9','10-11','>= 12']\n",
    "y = [zerotoone*100, twotothree*100, fourtofive*100, sixtoseven*100, eighttonine*100, tentoeleven*100, twelveandover*100]\n",
    "plt.bar(x, y)\n",
    "plt.grid()\n",
    "plt.show()"
   ],
   "metadata": {
    "collapsed": false,
    "ExecuteTime": {
     "end_time": "2023-08-27T15:56:39.260241Z",
     "start_time": "2023-08-27T15:56:39.082126Z"
    }
   }
  },
  {
   "cell_type": "code",
   "execution_count": 59,
   "outputs": [
    {
     "data": {
      "text/plain": "    ReNu                 Att1                 Att2                 Att3  \\\n44    45  2023-03-15 00:00:00  2023-04-15 00:00:00  2023-05-15 00:00:00   \n46    47  2023-03-15 00:00:00                 None  2023-05-15 00:00:00   \n51    52  2023-03-15 00:00:00  2023-04-15 00:00:00  2023-05-15 00:00:00   \n65    66  2023-03-15 00:00:00  2023-04-15 00:00:00  2023-05-15 00:00:00   \n67    68  2023-03-15 00:00:00                 None                 None   \n68    69  2023-03-15 00:00:00                 None  2023-05-15 00:00:00   \n70    71  2023-03-15 00:00:00  2023-04-15 00:00:00  2023-05-15 00:00:00   \n72    73  2023-03-15 00:00:00                 None                 None   \n81    82  2023-03-15 00:00:00  2023-04-15 00:00:00                 None   \n82    83  2023-03-15 00:00:00  2023-04-15 00:00:00  2023-05-15 00:00:00   \n93    94  2023-03-15 00:00:00  2023-04-15 00:00:00  2023-05-15 00:00:00   \n101  102  2023-03-15 00:00:00  2023-04-15 00:00:00  2023-05-15 00:00:00   \n105  106  2023-03-15 00:00:00  2023-04-15 00:00:00                 None   \n108  109  2023-03-15 00:00:00  2023-04-15 00:00:00  2023-05-15 00:00:00   \n113  114  2023-03-15 00:00:00  2023-04-15 00:00:00                 None   \n125  126                 None  2023-04-15 00:00:00  2023-05-15 00:00:00   \n126  127                 None  2023-04-15 00:00:00  2023-05-15 00:00:00   \n127  128                 None  2023-04-15 00:00:00  2023-05-15 00:00:00   \n128  129                 None  2023-04-15 00:00:00  2023-05-15 00:00:00   \n129  130                 None                 None  2023-05-15 00:00:00   \n131  132                 None                 None  2023-05-15 00:00:00   \n132  133                 None                 None  2023-05-15 00:00:00   \n133  134                 None                 None  2023-05-15 00:00:00   \n134  135                 None                 None  2023-05-15 00:00:00   \n135  136                 None                 None  2023-05-15 00:00:00   \n137  138                 None                 None  2023-05-15 00:00:00   \n139  140                 None                 None  2023-05-15 00:00:00   \n144  145                 None                 None                 None   \n145  146                 None                 None                 None   \n146  147                 None                 None                 None   \n154  155                 None                 None                 None   \n157  158                 None                 None                 None   \n159  160                 None                 None                 None   \n160  161                 None                 None                 None   \n167  168                 None                 None                 None   \n172  173                 None                 None                 None   \n173  174                 None                 None                 None   \n181  182                 None                 None                 None   \n183  184                 None                 None                 None   \n\n                    Att4                 Att5 PreV                      Name  \\\n44                  None                 None  Yes  မောင်ဘုန်းမြင့်မြတ်မောင်   \n46                  None                 None  Yes             မောင်ဘင်ဂျမင်   \n51   2023-06-15 00:00:00                 None  Yes                 မအဲလိဇဘက်   \n65   2023-06-15 00:00:00                 None  Yes             မအယ်နီရှိုင်း   \n67                  None                 None  Yes            မောင်လဝန်းကဗျာ   \n68   2023-06-15 00:00:00                 None  Yes         မောင်အောင်ဆန်းလေး   \n70                  None                 None  Yes               နော်အဂ္ဂနက်   \n72                  None                 None  Yes            မောင်အန်ဒြေးယာ   \n81                  None  2023-07-15 00:00:00  Yes             မောင်ဂျေရုမ်း   \n82   2023-06-15 00:00:00  2023-07-15 00:00:00  Yes                 မရေဂျီးနာ   \n93   2023-06-15 00:00:00                 None  Yes                  မောင်သုတ   \n101  2023-06-15 00:00:00                 None  Yes                    မဆားမူ   \n105                 None                 None  Yes         မောင်ချားစ်စရိလို   \n108  2023-06-15 00:00:00  2023-07-15 00:00:00  Yes                  မမာတီးနာ   \n113                 None                 None  Yes            မောင်အက်ဒ်မာန်   \n125  2023-06-15 00:00:00                 None  Yes            မောင်ချားစ်ဘို   \n126                 None                 None  Yes            မောင်ဟင်နရီထူး   \n127  2023-06-15 00:00:00                 None  Yes             မောင်ဘင်ဂျမင်   \n128  2023-06-15 00:00:00                 None  Yes           မောင်ဘိုရိုမင်း   \n129                 None                 None  Yes           မောင်အလွုက်ရှက်   \n131                 None                 None  Yes              မောင်ပေါလေဦး   \n132                 None                 None  Yes            မဆောင်းခက်‌နွေ   \n133                 None                 None  Yes          မောင်အင်ဂနီးရှက်   \n134  2023-06-15 00:00:00                 None  Yes              မရိုဇားရီးယာ   \n135                 None                 None  Yes               မအန်ဂျလီးနာ   \n137                 None                 None  Yes               မောင်ယောဟန်   \n139  2023-06-15 00:00:00                 None  Yes                 မရီုစီးဝေ   \n144  2023-06-15 00:00:00                 None  Yes               မောင်ဘဲနဒစ်   \n145  2023-06-15 00:00:00  2023-07-15 00:00:00  Yes           မောင်အောင်အောင်   \n146  2023-06-15 00:00:00  2023-07-15 00:00:00  Yes       မောင်ဂျက်စတင်းဂူဂူး   \n154  2023-06-15 00:00:00  2023-07-15 00:00:00  Yes              မမော်စေးမိုး   \n157  2023-06-15 00:00:00  2023-07-15 00:00:00  Yes          မဟိုစဲအယ်မီယာထူး   \n159  2023-06-15 00:00:00                 None  Yes          မလင်းလက်‌ရွှေရည်   \n160  2023-06-15 00:00:00                 None  Yes                 မအယ်ဗလင်း   \n167                 None  2023-07-15 00:00:00  Yes          မောင်ဟန်နွေထွန်း   \n172                 None  2023-07-15 00:00:00  Yes              မောင်ဖရန်စစ်   \n173                 None  2023-07-15 00:00:00  Yes        မခရစ္စတင်းဂျူးဂျူး   \n181                 None  2023-07-15 00:00:00  Yes             မောင်ပီတာစိုး   \n183                 None  2023-07-15 00:00:00  Yes               မောင်ရောဘတ်   \n\n    Sex        DoB  ... P5Po2 P5Po3 P5M1 P5M2 ReDB        AGE  AGE_APR15  \\\n44    M 2022-05-05  ...   Yes    No  Yes  Yes  NaN  10.466667  11.466667   \n46    M 2022-03-08  ...     P   Yes  Yes  Yes  NaN  12.400000  13.400000   \n51    F 2021-10-03  ...   Yes   Yes  Yes  Yes  NaN  17.600000  18.600000   \n65    F 2022-03-01  ...   Yes   Yes  Yes  Yes  NaN  12.633333  13.633333   \n67    M 2022-08-05  ...     P   Yes  Yes   No  NaN   7.400000   8.400000   \n68    M 2022-08-24  ...   Yes    No  Yes   No  NaN   6.766667   7.766667   \n70    F 2022-02-25  ...   Yes   Yes  Yes  Yes  NaN  12.766667  13.766667   \n72    M 2022-05-02  ...    No    No  Yes   No  NaN  10.566667  11.566667   \n81    M 2022-09-30  ...     P   Yes  Yes   No  NaN   5.533333   6.533333   \n82    F 2022-09-07  ...   Yes   Yes  Yes  Yes  NaN   6.300000   7.300000   \n93    M 2022-08-12  ...   Yes   Yes  Yes  Yes  NaN   7.166667   8.166667   \n101   F 2022-12-30  ...   Yes   Yes   No   No  NaN   2.500000   3.500000   \n105   M 2021-01-24  ...     P     P  Yes  Yes  NaN  26.000000  27.000000   \n108   F 2022-08-21  ...   Yes   Yes  Yes  Yes  NaN   6.866667   7.866667   \n113   M 2020-09-30  ...     P     P  Yes  Yes  NaN  29.866667  30.866667   \n125   M 2022-11-17  ...   Yes   Yes   No   No  NaN   4.966667   4.966667   \n126   M 2022-10-13  ...     P   Yes   No   No  NaN   6.133333   6.133333   \n127   M 2023-01-25  ...   Yes   Yes   No   No  NaN   2.666667   2.666667   \n128   M 2022-11-01  ...   Yes   Yes   No   No  NaN   5.500000   5.500000   \n129   M 2022-10-20  ...     P   Yes   No   No  NaN   6.900000   5.900000   \n131   M 2022-08-04  ...     P     P  Yes  Yes  NaN   9.466667   8.466667   \n132   F 2021-11-21  ...     P     P    P  Yes  NaN  18.000000  17.000000   \n133   M 2021-08-04  ...     P     P    P  Yes  NaN  21.633333  20.633333   \n134   F 2021-10-07  ...   Yes   Yes  Yes  Yes  NaN  19.500000  18.500000   \n135   F 2021-12-12  ...     P     P    P  Yes  NaN  17.300000  16.300000   \n137   M 2022-08-06  ...     P     P  Yes  Yes  NaN   9.400000   8.400000   \n139   F 2022-05-16  ...   Yes    No  Yes   No  NaN  12.133333  11.133333   \n144   M 2022-09-24  ...     P   Yes  Yes   No  NaN   8.800000   6.800000   \n145   M 2021-09-28  ...   Yes   Yes  Yes  Yes  NaN  20.833333  18.833333   \n146   M 2021-12-13  ...   Yes   Yes  Yes  Yes  NaN  18.300000  16.300000   \n154   F 2022-09-12  ...     P     P  Yes  Yes  NaN   9.200000   7.200000   \n157   F 2022-08-10  ...     P     P  Yes  Yes  NaN  10.300000   8.300000   \n159   F 2021-12-08  ...     P     P    P  Yes  NaN  18.466667  16.466667   \n160   F 2022-02-13  ...     P     P  Yes   No  NaN  16.233333  14.233333   \n167   M 2021-11-29  ...     P   Yes  Yes   No  NaN  19.766667  17.766667   \n172   M 2021-09-20  ...     P   Yes    P  Yes  NaN  22.100000  20.100000   \n173   F 2021-12-13  ...   Yes    No  Yes   No  NaN  19.300000  17.300000   \n181   M 2019-10-28  ...     P     P    P  Yes  NaN  45.200000  43.200000   \n183   M 2020-09-17  ...     P     P  Yes   No  NaN  34.366667  32.366667   \n\n     AGE_MAY15 AGE_JUNE15 AGE_JULY15  \n44   12.466667  13.466667  14.466667  \n46   14.400000  15.400000  16.400000  \n51   19.600000  20.600000  21.600000  \n65   14.633333  15.633333  16.633333  \n67    9.400000  10.400000  11.400000  \n68    8.766667   9.766667  10.766667  \n70   14.766667  15.766667  16.766667  \n72   12.566667  13.566667  14.566667  \n81    7.533333   8.533333   9.533333  \n82    8.300000   9.300000  10.300000  \n93    9.166667  10.166667  11.166667  \n101   4.500000   5.500000   6.500000  \n105  28.000000  29.000000  30.000000  \n108   8.866667   9.866667  10.866667  \n113  31.866667  32.866667  33.866667  \n125   5.966667   6.966667   7.966667  \n126   7.133333   8.133333   9.133333  \n127   3.666667   4.666667   5.666667  \n128   6.500000   7.500000   8.500000  \n129   6.900000   7.900000   8.900000  \n131   9.466667  10.466667  11.466667  \n132  18.000000  19.000000  20.000000  \n133  21.633333  22.633333  23.633333  \n134  19.500000  20.500000  21.500000  \n135  17.300000  18.300000  19.300000  \n137   9.400000  10.400000  11.400000  \n139  12.133333  13.133333  14.133333  \n144   7.800000   8.800000   9.800000  \n145  19.833333  20.833333  21.833333  \n146  17.300000  18.300000  19.300000  \n154   8.200000   9.200000  10.200000  \n157   9.300000  10.300000  11.300000  \n159  17.466667  18.466667  19.466667  \n160  15.233333  16.233333  17.233333  \n167  18.766667  19.766667  19.766667  \n172  21.100000  22.100000  22.100000  \n173  18.300000  19.300000  19.300000  \n181  44.200000  45.200000  45.200000  \n183  33.366667  34.366667  34.366667  \n\n[39 rows x 64 columns]",
      "text/html": "<div>\n<style scoped>\n    .dataframe tbody tr th:only-of-type {\n        vertical-align: middle;\n    }\n\n    .dataframe tbody tr th {\n        vertical-align: top;\n    }\n\n    .dataframe thead th {\n        text-align: right;\n    }\n</style>\n<table border=\"1\" class=\"dataframe\">\n  <thead>\n    <tr style=\"text-align: right;\">\n      <th></th>\n      <th>ReNu</th>\n      <th>Att1</th>\n      <th>Att2</th>\n      <th>Att3</th>\n      <th>Att4</th>\n      <th>Att5</th>\n      <th>PreV</th>\n      <th>Name</th>\n      <th>Sex</th>\n      <th>DoB</th>\n      <th>...</th>\n      <th>P5Po2</th>\n      <th>P5Po3</th>\n      <th>P5M1</th>\n      <th>P5M2</th>\n      <th>ReDB</th>\n      <th>AGE</th>\n      <th>AGE_APR15</th>\n      <th>AGE_MAY15</th>\n      <th>AGE_JUNE15</th>\n      <th>AGE_JULY15</th>\n    </tr>\n  </thead>\n  <tbody>\n    <tr>\n      <th>44</th>\n      <td>45</td>\n      <td>2023-03-15 00:00:00</td>\n      <td>2023-04-15 00:00:00</td>\n      <td>2023-05-15 00:00:00</td>\n      <td>None</td>\n      <td>None</td>\n      <td>Yes</td>\n      <td>မောင်ဘုန်းမြင့်မြတ်မောင်</td>\n      <td>M</td>\n      <td>2022-05-05</td>\n      <td>...</td>\n      <td>Yes</td>\n      <td>No</td>\n      <td>Yes</td>\n      <td>Yes</td>\n      <td>NaN</td>\n      <td>10.466667</td>\n      <td>11.466667</td>\n      <td>12.466667</td>\n      <td>13.466667</td>\n      <td>14.466667</td>\n    </tr>\n    <tr>\n      <th>46</th>\n      <td>47</td>\n      <td>2023-03-15 00:00:00</td>\n      <td>None</td>\n      <td>2023-05-15 00:00:00</td>\n      <td>None</td>\n      <td>None</td>\n      <td>Yes</td>\n      <td>မောင်ဘင်ဂျမင်</td>\n      <td>M</td>\n      <td>2022-03-08</td>\n      <td>...</td>\n      <td>P</td>\n      <td>Yes</td>\n      <td>Yes</td>\n      <td>Yes</td>\n      <td>NaN</td>\n      <td>12.400000</td>\n      <td>13.400000</td>\n      <td>14.400000</td>\n      <td>15.400000</td>\n      <td>16.400000</td>\n    </tr>\n    <tr>\n      <th>51</th>\n      <td>52</td>\n      <td>2023-03-15 00:00:00</td>\n      <td>2023-04-15 00:00:00</td>\n      <td>2023-05-15 00:00:00</td>\n      <td>2023-06-15 00:00:00</td>\n      <td>None</td>\n      <td>Yes</td>\n      <td>မအဲလိဇဘက်</td>\n      <td>F</td>\n      <td>2021-10-03</td>\n      <td>...</td>\n      <td>Yes</td>\n      <td>Yes</td>\n      <td>Yes</td>\n      <td>Yes</td>\n      <td>NaN</td>\n      <td>17.600000</td>\n      <td>18.600000</td>\n      <td>19.600000</td>\n      <td>20.600000</td>\n      <td>21.600000</td>\n    </tr>\n    <tr>\n      <th>65</th>\n      <td>66</td>\n      <td>2023-03-15 00:00:00</td>\n      <td>2023-04-15 00:00:00</td>\n      <td>2023-05-15 00:00:00</td>\n      <td>2023-06-15 00:00:00</td>\n      <td>None</td>\n      <td>Yes</td>\n      <td>မအယ်နီရှိုင်း</td>\n      <td>F</td>\n      <td>2022-03-01</td>\n      <td>...</td>\n      <td>Yes</td>\n      <td>Yes</td>\n      <td>Yes</td>\n      <td>Yes</td>\n      <td>NaN</td>\n      <td>12.633333</td>\n      <td>13.633333</td>\n      <td>14.633333</td>\n      <td>15.633333</td>\n      <td>16.633333</td>\n    </tr>\n    <tr>\n      <th>67</th>\n      <td>68</td>\n      <td>2023-03-15 00:00:00</td>\n      <td>None</td>\n      <td>None</td>\n      <td>None</td>\n      <td>None</td>\n      <td>Yes</td>\n      <td>မောင်လဝန်းကဗျာ</td>\n      <td>M</td>\n      <td>2022-08-05</td>\n      <td>...</td>\n      <td>P</td>\n      <td>Yes</td>\n      <td>Yes</td>\n      <td>No</td>\n      <td>NaN</td>\n      <td>7.400000</td>\n      <td>8.400000</td>\n      <td>9.400000</td>\n      <td>10.400000</td>\n      <td>11.400000</td>\n    </tr>\n    <tr>\n      <th>68</th>\n      <td>69</td>\n      <td>2023-03-15 00:00:00</td>\n      <td>None</td>\n      <td>2023-05-15 00:00:00</td>\n      <td>2023-06-15 00:00:00</td>\n      <td>None</td>\n      <td>Yes</td>\n      <td>မောင်အောင်ဆန်းလေး</td>\n      <td>M</td>\n      <td>2022-08-24</td>\n      <td>...</td>\n      <td>Yes</td>\n      <td>No</td>\n      <td>Yes</td>\n      <td>No</td>\n      <td>NaN</td>\n      <td>6.766667</td>\n      <td>7.766667</td>\n      <td>8.766667</td>\n      <td>9.766667</td>\n      <td>10.766667</td>\n    </tr>\n    <tr>\n      <th>70</th>\n      <td>71</td>\n      <td>2023-03-15 00:00:00</td>\n      <td>2023-04-15 00:00:00</td>\n      <td>2023-05-15 00:00:00</td>\n      <td>None</td>\n      <td>None</td>\n      <td>Yes</td>\n      <td>နော်အဂ္ဂနက်</td>\n      <td>F</td>\n      <td>2022-02-25</td>\n      <td>...</td>\n      <td>Yes</td>\n      <td>Yes</td>\n      <td>Yes</td>\n      <td>Yes</td>\n      <td>NaN</td>\n      <td>12.766667</td>\n      <td>13.766667</td>\n      <td>14.766667</td>\n      <td>15.766667</td>\n      <td>16.766667</td>\n    </tr>\n    <tr>\n      <th>72</th>\n      <td>73</td>\n      <td>2023-03-15 00:00:00</td>\n      <td>None</td>\n      <td>None</td>\n      <td>None</td>\n      <td>None</td>\n      <td>Yes</td>\n      <td>မောင်အန်ဒြေးယာ</td>\n      <td>M</td>\n      <td>2022-05-02</td>\n      <td>...</td>\n      <td>No</td>\n      <td>No</td>\n      <td>Yes</td>\n      <td>No</td>\n      <td>NaN</td>\n      <td>10.566667</td>\n      <td>11.566667</td>\n      <td>12.566667</td>\n      <td>13.566667</td>\n      <td>14.566667</td>\n    </tr>\n    <tr>\n      <th>81</th>\n      <td>82</td>\n      <td>2023-03-15 00:00:00</td>\n      <td>2023-04-15 00:00:00</td>\n      <td>None</td>\n      <td>None</td>\n      <td>2023-07-15 00:00:00</td>\n      <td>Yes</td>\n      <td>မောင်ဂျေရုမ်း</td>\n      <td>M</td>\n      <td>2022-09-30</td>\n      <td>...</td>\n      <td>P</td>\n      <td>Yes</td>\n      <td>Yes</td>\n      <td>No</td>\n      <td>NaN</td>\n      <td>5.533333</td>\n      <td>6.533333</td>\n      <td>7.533333</td>\n      <td>8.533333</td>\n      <td>9.533333</td>\n    </tr>\n    <tr>\n      <th>82</th>\n      <td>83</td>\n      <td>2023-03-15 00:00:00</td>\n      <td>2023-04-15 00:00:00</td>\n      <td>2023-05-15 00:00:00</td>\n      <td>2023-06-15 00:00:00</td>\n      <td>2023-07-15 00:00:00</td>\n      <td>Yes</td>\n      <td>မရေဂျီးနာ</td>\n      <td>F</td>\n      <td>2022-09-07</td>\n      <td>...</td>\n      <td>Yes</td>\n      <td>Yes</td>\n      <td>Yes</td>\n      <td>Yes</td>\n      <td>NaN</td>\n      <td>6.300000</td>\n      <td>7.300000</td>\n      <td>8.300000</td>\n      <td>9.300000</td>\n      <td>10.300000</td>\n    </tr>\n    <tr>\n      <th>93</th>\n      <td>94</td>\n      <td>2023-03-15 00:00:00</td>\n      <td>2023-04-15 00:00:00</td>\n      <td>2023-05-15 00:00:00</td>\n      <td>2023-06-15 00:00:00</td>\n      <td>None</td>\n      <td>Yes</td>\n      <td>မောင်သုတ</td>\n      <td>M</td>\n      <td>2022-08-12</td>\n      <td>...</td>\n      <td>Yes</td>\n      <td>Yes</td>\n      <td>Yes</td>\n      <td>Yes</td>\n      <td>NaN</td>\n      <td>7.166667</td>\n      <td>8.166667</td>\n      <td>9.166667</td>\n      <td>10.166667</td>\n      <td>11.166667</td>\n    </tr>\n    <tr>\n      <th>101</th>\n      <td>102</td>\n      <td>2023-03-15 00:00:00</td>\n      <td>2023-04-15 00:00:00</td>\n      <td>2023-05-15 00:00:00</td>\n      <td>2023-06-15 00:00:00</td>\n      <td>None</td>\n      <td>Yes</td>\n      <td>မဆားမူ</td>\n      <td>F</td>\n      <td>2022-12-30</td>\n      <td>...</td>\n      <td>Yes</td>\n      <td>Yes</td>\n      <td>No</td>\n      <td>No</td>\n      <td>NaN</td>\n      <td>2.500000</td>\n      <td>3.500000</td>\n      <td>4.500000</td>\n      <td>5.500000</td>\n      <td>6.500000</td>\n    </tr>\n    <tr>\n      <th>105</th>\n      <td>106</td>\n      <td>2023-03-15 00:00:00</td>\n      <td>2023-04-15 00:00:00</td>\n      <td>None</td>\n      <td>None</td>\n      <td>None</td>\n      <td>Yes</td>\n      <td>မောင်ချားစ်စရိလို</td>\n      <td>M</td>\n      <td>2021-01-24</td>\n      <td>...</td>\n      <td>P</td>\n      <td>P</td>\n      <td>Yes</td>\n      <td>Yes</td>\n      <td>NaN</td>\n      <td>26.000000</td>\n      <td>27.000000</td>\n      <td>28.000000</td>\n      <td>29.000000</td>\n      <td>30.000000</td>\n    </tr>\n    <tr>\n      <th>108</th>\n      <td>109</td>\n      <td>2023-03-15 00:00:00</td>\n      <td>2023-04-15 00:00:00</td>\n      <td>2023-05-15 00:00:00</td>\n      <td>2023-06-15 00:00:00</td>\n      <td>2023-07-15 00:00:00</td>\n      <td>Yes</td>\n      <td>မမာတီးနာ</td>\n      <td>F</td>\n      <td>2022-08-21</td>\n      <td>...</td>\n      <td>Yes</td>\n      <td>Yes</td>\n      <td>Yes</td>\n      <td>Yes</td>\n      <td>NaN</td>\n      <td>6.866667</td>\n      <td>7.866667</td>\n      <td>8.866667</td>\n      <td>9.866667</td>\n      <td>10.866667</td>\n    </tr>\n    <tr>\n      <th>113</th>\n      <td>114</td>\n      <td>2023-03-15 00:00:00</td>\n      <td>2023-04-15 00:00:00</td>\n      <td>None</td>\n      <td>None</td>\n      <td>None</td>\n      <td>Yes</td>\n      <td>မောင်အက်ဒ်မာန်</td>\n      <td>M</td>\n      <td>2020-09-30</td>\n      <td>...</td>\n      <td>P</td>\n      <td>P</td>\n      <td>Yes</td>\n      <td>Yes</td>\n      <td>NaN</td>\n      <td>29.866667</td>\n      <td>30.866667</td>\n      <td>31.866667</td>\n      <td>32.866667</td>\n      <td>33.866667</td>\n    </tr>\n    <tr>\n      <th>125</th>\n      <td>126</td>\n      <td>None</td>\n      <td>2023-04-15 00:00:00</td>\n      <td>2023-05-15 00:00:00</td>\n      <td>2023-06-15 00:00:00</td>\n      <td>None</td>\n      <td>Yes</td>\n      <td>မောင်ချားစ်ဘို</td>\n      <td>M</td>\n      <td>2022-11-17</td>\n      <td>...</td>\n      <td>Yes</td>\n      <td>Yes</td>\n      <td>No</td>\n      <td>No</td>\n      <td>NaN</td>\n      <td>4.966667</td>\n      <td>4.966667</td>\n      <td>5.966667</td>\n      <td>6.966667</td>\n      <td>7.966667</td>\n    </tr>\n    <tr>\n      <th>126</th>\n      <td>127</td>\n      <td>None</td>\n      <td>2023-04-15 00:00:00</td>\n      <td>2023-05-15 00:00:00</td>\n      <td>None</td>\n      <td>None</td>\n      <td>Yes</td>\n      <td>မောင်ဟင်နရီထူး</td>\n      <td>M</td>\n      <td>2022-10-13</td>\n      <td>...</td>\n      <td>P</td>\n      <td>Yes</td>\n      <td>No</td>\n      <td>No</td>\n      <td>NaN</td>\n      <td>6.133333</td>\n      <td>6.133333</td>\n      <td>7.133333</td>\n      <td>8.133333</td>\n      <td>9.133333</td>\n    </tr>\n    <tr>\n      <th>127</th>\n      <td>128</td>\n      <td>None</td>\n      <td>2023-04-15 00:00:00</td>\n      <td>2023-05-15 00:00:00</td>\n      <td>2023-06-15 00:00:00</td>\n      <td>None</td>\n      <td>Yes</td>\n      <td>မောင်ဘင်ဂျမင်</td>\n      <td>M</td>\n      <td>2023-01-25</td>\n      <td>...</td>\n      <td>Yes</td>\n      <td>Yes</td>\n      <td>No</td>\n      <td>No</td>\n      <td>NaN</td>\n      <td>2.666667</td>\n      <td>2.666667</td>\n      <td>3.666667</td>\n      <td>4.666667</td>\n      <td>5.666667</td>\n    </tr>\n    <tr>\n      <th>128</th>\n      <td>129</td>\n      <td>None</td>\n      <td>2023-04-15 00:00:00</td>\n      <td>2023-05-15 00:00:00</td>\n      <td>2023-06-15 00:00:00</td>\n      <td>None</td>\n      <td>Yes</td>\n      <td>မောင်ဘိုရိုမင်း</td>\n      <td>M</td>\n      <td>2022-11-01</td>\n      <td>...</td>\n      <td>Yes</td>\n      <td>Yes</td>\n      <td>No</td>\n      <td>No</td>\n      <td>NaN</td>\n      <td>5.500000</td>\n      <td>5.500000</td>\n      <td>6.500000</td>\n      <td>7.500000</td>\n      <td>8.500000</td>\n    </tr>\n    <tr>\n      <th>129</th>\n      <td>130</td>\n      <td>None</td>\n      <td>None</td>\n      <td>2023-05-15 00:00:00</td>\n      <td>None</td>\n      <td>None</td>\n      <td>Yes</td>\n      <td>မောင်အလွုက်ရှက်</td>\n      <td>M</td>\n      <td>2022-10-20</td>\n      <td>...</td>\n      <td>P</td>\n      <td>Yes</td>\n      <td>No</td>\n      <td>No</td>\n      <td>NaN</td>\n      <td>6.900000</td>\n      <td>5.900000</td>\n      <td>6.900000</td>\n      <td>7.900000</td>\n      <td>8.900000</td>\n    </tr>\n    <tr>\n      <th>131</th>\n      <td>132</td>\n      <td>None</td>\n      <td>None</td>\n      <td>2023-05-15 00:00:00</td>\n      <td>None</td>\n      <td>None</td>\n      <td>Yes</td>\n      <td>မောင်ပေါလေဦး</td>\n      <td>M</td>\n      <td>2022-08-04</td>\n      <td>...</td>\n      <td>P</td>\n      <td>P</td>\n      <td>Yes</td>\n      <td>Yes</td>\n      <td>NaN</td>\n      <td>9.466667</td>\n      <td>8.466667</td>\n      <td>9.466667</td>\n      <td>10.466667</td>\n      <td>11.466667</td>\n    </tr>\n    <tr>\n      <th>132</th>\n      <td>133</td>\n      <td>None</td>\n      <td>None</td>\n      <td>2023-05-15 00:00:00</td>\n      <td>None</td>\n      <td>None</td>\n      <td>Yes</td>\n      <td>မဆောင်းခက်‌နွေ</td>\n      <td>F</td>\n      <td>2021-11-21</td>\n      <td>...</td>\n      <td>P</td>\n      <td>P</td>\n      <td>P</td>\n      <td>Yes</td>\n      <td>NaN</td>\n      <td>18.000000</td>\n      <td>17.000000</td>\n      <td>18.000000</td>\n      <td>19.000000</td>\n      <td>20.000000</td>\n    </tr>\n    <tr>\n      <th>133</th>\n      <td>134</td>\n      <td>None</td>\n      <td>None</td>\n      <td>2023-05-15 00:00:00</td>\n      <td>None</td>\n      <td>None</td>\n      <td>Yes</td>\n      <td>မောင်အင်ဂနီးရှက်</td>\n      <td>M</td>\n      <td>2021-08-04</td>\n      <td>...</td>\n      <td>P</td>\n      <td>P</td>\n      <td>P</td>\n      <td>Yes</td>\n      <td>NaN</td>\n      <td>21.633333</td>\n      <td>20.633333</td>\n      <td>21.633333</td>\n      <td>22.633333</td>\n      <td>23.633333</td>\n    </tr>\n    <tr>\n      <th>134</th>\n      <td>135</td>\n      <td>None</td>\n      <td>None</td>\n      <td>2023-05-15 00:00:00</td>\n      <td>2023-06-15 00:00:00</td>\n      <td>None</td>\n      <td>Yes</td>\n      <td>မရိုဇားရီးယာ</td>\n      <td>F</td>\n      <td>2021-10-07</td>\n      <td>...</td>\n      <td>Yes</td>\n      <td>Yes</td>\n      <td>Yes</td>\n      <td>Yes</td>\n      <td>NaN</td>\n      <td>19.500000</td>\n      <td>18.500000</td>\n      <td>19.500000</td>\n      <td>20.500000</td>\n      <td>21.500000</td>\n    </tr>\n    <tr>\n      <th>135</th>\n      <td>136</td>\n      <td>None</td>\n      <td>None</td>\n      <td>2023-05-15 00:00:00</td>\n      <td>None</td>\n      <td>None</td>\n      <td>Yes</td>\n      <td>မအန်ဂျလီးနာ</td>\n      <td>F</td>\n      <td>2021-12-12</td>\n      <td>...</td>\n      <td>P</td>\n      <td>P</td>\n      <td>P</td>\n      <td>Yes</td>\n      <td>NaN</td>\n      <td>17.300000</td>\n      <td>16.300000</td>\n      <td>17.300000</td>\n      <td>18.300000</td>\n      <td>19.300000</td>\n    </tr>\n    <tr>\n      <th>137</th>\n      <td>138</td>\n      <td>None</td>\n      <td>None</td>\n      <td>2023-05-15 00:00:00</td>\n      <td>None</td>\n      <td>None</td>\n      <td>Yes</td>\n      <td>မောင်ယောဟန်</td>\n      <td>M</td>\n      <td>2022-08-06</td>\n      <td>...</td>\n      <td>P</td>\n      <td>P</td>\n      <td>Yes</td>\n      <td>Yes</td>\n      <td>NaN</td>\n      <td>9.400000</td>\n      <td>8.400000</td>\n      <td>9.400000</td>\n      <td>10.400000</td>\n      <td>11.400000</td>\n    </tr>\n    <tr>\n      <th>139</th>\n      <td>140</td>\n      <td>None</td>\n      <td>None</td>\n      <td>2023-05-15 00:00:00</td>\n      <td>2023-06-15 00:00:00</td>\n      <td>None</td>\n      <td>Yes</td>\n      <td>မရီုစီးဝေ</td>\n      <td>F</td>\n      <td>2022-05-16</td>\n      <td>...</td>\n      <td>Yes</td>\n      <td>No</td>\n      <td>Yes</td>\n      <td>No</td>\n      <td>NaN</td>\n      <td>12.133333</td>\n      <td>11.133333</td>\n      <td>12.133333</td>\n      <td>13.133333</td>\n      <td>14.133333</td>\n    </tr>\n    <tr>\n      <th>144</th>\n      <td>145</td>\n      <td>None</td>\n      <td>None</td>\n      <td>None</td>\n      <td>2023-06-15 00:00:00</td>\n      <td>None</td>\n      <td>Yes</td>\n      <td>မောင်ဘဲနဒစ်</td>\n      <td>M</td>\n      <td>2022-09-24</td>\n      <td>...</td>\n      <td>P</td>\n      <td>Yes</td>\n      <td>Yes</td>\n      <td>No</td>\n      <td>NaN</td>\n      <td>8.800000</td>\n      <td>6.800000</td>\n      <td>7.800000</td>\n      <td>8.800000</td>\n      <td>9.800000</td>\n    </tr>\n    <tr>\n      <th>145</th>\n      <td>146</td>\n      <td>None</td>\n      <td>None</td>\n      <td>None</td>\n      <td>2023-06-15 00:00:00</td>\n      <td>2023-07-15 00:00:00</td>\n      <td>Yes</td>\n      <td>မောင်အောင်အောင်</td>\n      <td>M</td>\n      <td>2021-09-28</td>\n      <td>...</td>\n      <td>Yes</td>\n      <td>Yes</td>\n      <td>Yes</td>\n      <td>Yes</td>\n      <td>NaN</td>\n      <td>20.833333</td>\n      <td>18.833333</td>\n      <td>19.833333</td>\n      <td>20.833333</td>\n      <td>21.833333</td>\n    </tr>\n    <tr>\n      <th>146</th>\n      <td>147</td>\n      <td>None</td>\n      <td>None</td>\n      <td>None</td>\n      <td>2023-06-15 00:00:00</td>\n      <td>2023-07-15 00:00:00</td>\n      <td>Yes</td>\n      <td>မောင်ဂျက်စတင်းဂူဂူး</td>\n      <td>M</td>\n      <td>2021-12-13</td>\n      <td>...</td>\n      <td>Yes</td>\n      <td>Yes</td>\n      <td>Yes</td>\n      <td>Yes</td>\n      <td>NaN</td>\n      <td>18.300000</td>\n      <td>16.300000</td>\n      <td>17.300000</td>\n      <td>18.300000</td>\n      <td>19.300000</td>\n    </tr>\n    <tr>\n      <th>154</th>\n      <td>155</td>\n      <td>None</td>\n      <td>None</td>\n      <td>None</td>\n      <td>2023-06-15 00:00:00</td>\n      <td>2023-07-15 00:00:00</td>\n      <td>Yes</td>\n      <td>မမော်စေးမိုး</td>\n      <td>F</td>\n      <td>2022-09-12</td>\n      <td>...</td>\n      <td>P</td>\n      <td>P</td>\n      <td>Yes</td>\n      <td>Yes</td>\n      <td>NaN</td>\n      <td>9.200000</td>\n      <td>7.200000</td>\n      <td>8.200000</td>\n      <td>9.200000</td>\n      <td>10.200000</td>\n    </tr>\n    <tr>\n      <th>157</th>\n      <td>158</td>\n      <td>None</td>\n      <td>None</td>\n      <td>None</td>\n      <td>2023-06-15 00:00:00</td>\n      <td>2023-07-15 00:00:00</td>\n      <td>Yes</td>\n      <td>မဟိုစဲအယ်မီယာထူး</td>\n      <td>F</td>\n      <td>2022-08-10</td>\n      <td>...</td>\n      <td>P</td>\n      <td>P</td>\n      <td>Yes</td>\n      <td>Yes</td>\n      <td>NaN</td>\n      <td>10.300000</td>\n      <td>8.300000</td>\n      <td>9.300000</td>\n      <td>10.300000</td>\n      <td>11.300000</td>\n    </tr>\n    <tr>\n      <th>159</th>\n      <td>160</td>\n      <td>None</td>\n      <td>None</td>\n      <td>None</td>\n      <td>2023-06-15 00:00:00</td>\n      <td>None</td>\n      <td>Yes</td>\n      <td>မလင်းလက်‌ရွှေရည်</td>\n      <td>F</td>\n      <td>2021-12-08</td>\n      <td>...</td>\n      <td>P</td>\n      <td>P</td>\n      <td>P</td>\n      <td>Yes</td>\n      <td>NaN</td>\n      <td>18.466667</td>\n      <td>16.466667</td>\n      <td>17.466667</td>\n      <td>18.466667</td>\n      <td>19.466667</td>\n    </tr>\n    <tr>\n      <th>160</th>\n      <td>161</td>\n      <td>None</td>\n      <td>None</td>\n      <td>None</td>\n      <td>2023-06-15 00:00:00</td>\n      <td>None</td>\n      <td>Yes</td>\n      <td>မအယ်ဗလင်း</td>\n      <td>F</td>\n      <td>2022-02-13</td>\n      <td>...</td>\n      <td>P</td>\n      <td>P</td>\n      <td>Yes</td>\n      <td>No</td>\n      <td>NaN</td>\n      <td>16.233333</td>\n      <td>14.233333</td>\n      <td>15.233333</td>\n      <td>16.233333</td>\n      <td>17.233333</td>\n    </tr>\n    <tr>\n      <th>167</th>\n      <td>168</td>\n      <td>None</td>\n      <td>None</td>\n      <td>None</td>\n      <td>None</td>\n      <td>2023-07-15 00:00:00</td>\n      <td>Yes</td>\n      <td>မောင်ဟန်နွေထွန်း</td>\n      <td>M</td>\n      <td>2021-11-29</td>\n      <td>...</td>\n      <td>P</td>\n      <td>Yes</td>\n      <td>Yes</td>\n      <td>No</td>\n      <td>NaN</td>\n      <td>19.766667</td>\n      <td>17.766667</td>\n      <td>18.766667</td>\n      <td>19.766667</td>\n      <td>19.766667</td>\n    </tr>\n    <tr>\n      <th>172</th>\n      <td>173</td>\n      <td>None</td>\n      <td>None</td>\n      <td>None</td>\n      <td>None</td>\n      <td>2023-07-15 00:00:00</td>\n      <td>Yes</td>\n      <td>မောင်ဖရန်စစ်</td>\n      <td>M</td>\n      <td>2021-09-20</td>\n      <td>...</td>\n      <td>P</td>\n      <td>Yes</td>\n      <td>P</td>\n      <td>Yes</td>\n      <td>NaN</td>\n      <td>22.100000</td>\n      <td>20.100000</td>\n      <td>21.100000</td>\n      <td>22.100000</td>\n      <td>22.100000</td>\n    </tr>\n    <tr>\n      <th>173</th>\n      <td>174</td>\n      <td>None</td>\n      <td>None</td>\n      <td>None</td>\n      <td>None</td>\n      <td>2023-07-15 00:00:00</td>\n      <td>Yes</td>\n      <td>မခရစ္စတင်းဂျူးဂျူး</td>\n      <td>F</td>\n      <td>2021-12-13</td>\n      <td>...</td>\n      <td>Yes</td>\n      <td>No</td>\n      <td>Yes</td>\n      <td>No</td>\n      <td>NaN</td>\n      <td>19.300000</td>\n      <td>17.300000</td>\n      <td>18.300000</td>\n      <td>19.300000</td>\n      <td>19.300000</td>\n    </tr>\n    <tr>\n      <th>181</th>\n      <td>182</td>\n      <td>None</td>\n      <td>None</td>\n      <td>None</td>\n      <td>None</td>\n      <td>2023-07-15 00:00:00</td>\n      <td>Yes</td>\n      <td>မောင်ပီတာစိုး</td>\n      <td>M</td>\n      <td>2019-10-28</td>\n      <td>...</td>\n      <td>P</td>\n      <td>P</td>\n      <td>P</td>\n      <td>Yes</td>\n      <td>NaN</td>\n      <td>45.200000</td>\n      <td>43.200000</td>\n      <td>44.200000</td>\n      <td>45.200000</td>\n      <td>45.200000</td>\n    </tr>\n    <tr>\n      <th>183</th>\n      <td>184</td>\n      <td>None</td>\n      <td>None</td>\n      <td>None</td>\n      <td>None</td>\n      <td>2023-07-15 00:00:00</td>\n      <td>Yes</td>\n      <td>မောင်ရောဘတ်</td>\n      <td>M</td>\n      <td>2020-09-17</td>\n      <td>...</td>\n      <td>P</td>\n      <td>P</td>\n      <td>Yes</td>\n      <td>No</td>\n      <td>NaN</td>\n      <td>34.366667</td>\n      <td>32.366667</td>\n      <td>33.366667</td>\n      <td>34.366667</td>\n      <td>34.366667</td>\n    </tr>\n  </tbody>\n</table>\n<p>39 rows × 64 columns</p>\n</div>"
     },
     "execution_count": 59,
     "metadata": {},
     "output_type": "execute_result"
    }
   ],
   "source": [
    "df.loc[df['PreV']=='Yes',:]"
   ],
   "metadata": {
    "collapsed": false,
    "ExecuteTime": {
     "end_time": "2023-08-25T18:16:09.602807Z",
     "start_time": "2023-08-25T18:16:09.553068Z"
    }
   }
  },
  {
   "cell_type": "code",
   "execution_count": 60,
   "outputs": [],
   "source": [
    "df.to_excel('hi.xlsx')"
   ],
   "metadata": {
    "collapsed": false,
    "ExecuteTime": {
     "end_time": "2023-08-25T18:25:45.919605Z",
     "start_time": "2023-08-25T18:25:44.459567Z"
    }
   }
  },
  {
   "cell_type": "code",
   "execution_count": 47,
   "outputs": [],
   "source": [
    "df2 = df.loc[df['ReNu']!='NO SHOW', :]"
   ],
   "metadata": {
    "collapsed": false,
    "ExecuteTime": {
     "end_time": "2023-08-27T16:24:04.378411Z",
     "start_time": "2023-08-27T16:24:04.369354Z"
    }
   }
  },
  {
   "cell_type": "code",
   "execution_count": 53,
   "outputs": [
    {
     "data": {
      "text/plain": "    ReNu                 Att1                 Att2                 Att3  \\\n10    11  2023-03-15 00:00:00  2023-04-15 00:00:00                 None   \n12    13  2023-03-15 00:00:00  2023-04-15 00:00:00                 None   \n18    19  2023-03-15 00:00:00  2023-04-15 00:00:00  2023-05-15 00:00:00   \n31    32  2023-03-15 00:00:00  2023-04-15 00:00:00                 None   \n35    36  2023-03-15 00:00:00                 None                 None   \n..   ...                  ...                  ...                  ...   \n177  178                 None                 None                 None   \n178  179                 None                 None                 None   \n179  180                 None                 None                 None   \n180  181                 None                 None                 None   \n182  183                 None                 None                 None   \n\n                    Att4                 Att5 PreV                      Name  \\\n10   2023-06-15 00:00:00                 None   No   မောင်ဒဲနစ်(ကေပိုင်ဆန်း)   \n12   2023-06-15 00:00:00                 None   No                  မဇင်မိုး   \n18                  None                 None   No                မအော်ရီးယာ   \n31                  None  2023-07-15 00:00:00   No          မောင်သြဂုတ်စတင်း   \n35   2023-06-15 00:00:00                 None   No        မောင်အိန်ဂျယ်ဖြိုး   \n..                   ...                  ...  ...                       ...   \n177                 None  2023-07-15 00:00:00   No            မောင်ဂျက်စတင်း   \n178                 None  2023-07-15 00:00:00   No  မောင်ကျော်အောင်နိုင်စိုး   \n179                 None  2023-07-15 00:00:00   No                မဂျူးလိယက်   \n180                 None  2023-07-15 00:00:00   No                မောင်ထားရု   \n182                 None  2023-07-15 00:00:00   No                  မဗျားမြာ   \n\n    Sex        DoB  ... P5Po2 P5Po3 P5M1 P5M2 ReDB        AGE  AGE_APR15  \\\n10    M 2023-02-10  ...   Yes    No   No   No  NaN   1.100000   2.100000   \n12    F 2022-12-30  ...   Yes    No   No   No  NaN   2.500000   3.500000   \n18    F 2022-03-11  ...   Yes    No  Yes  Yes  NaN  12.300000  13.300000   \n31    M 2022-08-01  ...   Yes    No  Yes  Yes  NaN   7.533333   8.533333   \n35    M 2023-02-18  ...   Yes    No   No   No  NaN   0.833333   1.833333   \n..   ..        ...  ...   ...   ...  ...  ...  ...        ...        ...   \n177   M 2023-02-17  ...    No    No   No   No  NaN   4.933333   1.933333   \n178   M 2023-04-18  ...    No    No   No   No  NaN   2.933333  -0.066667   \n179   F 2023-04-13  ...    No    No   No   No  NaN   3.100000   0.100000   \n180   M 2023-04-09  ...    No    No   No   No  NaN   3.233333   0.233333   \n182   F 2022-11-11  ...    No    No   No   No  NaN   8.200000   5.200000   \n\n     AGE_MAY15 AGE_JUNE15 AGE_JULY15  \n10    3.100000   4.100000   5.100000  \n12    4.500000   5.500000   6.500000  \n18   14.300000  15.300000  16.300000  \n31    9.533333  10.533333  11.533333  \n35    2.833333   3.833333   4.833333  \n..         ...        ...        ...  \n177   2.933333   3.933333   4.933333  \n178   0.933333   1.933333   2.933333  \n179   1.100000   2.100000   3.100000  \n180   1.233333   2.233333   3.233333  \n182   6.200000   7.200000   8.200000  \n\n[74 rows x 64 columns]",
      "text/html": "<div>\n<style scoped>\n    .dataframe tbody tr th:only-of-type {\n        vertical-align: middle;\n    }\n\n    .dataframe tbody tr th {\n        vertical-align: top;\n    }\n\n    .dataframe thead th {\n        text-align: right;\n    }\n</style>\n<table border=\"1\" class=\"dataframe\">\n  <thead>\n    <tr style=\"text-align: right;\">\n      <th></th>\n      <th>ReNu</th>\n      <th>Att1</th>\n      <th>Att2</th>\n      <th>Att3</th>\n      <th>Att4</th>\n      <th>Att5</th>\n      <th>PreV</th>\n      <th>Name</th>\n      <th>Sex</th>\n      <th>DoB</th>\n      <th>...</th>\n      <th>P5Po2</th>\n      <th>P5Po3</th>\n      <th>P5M1</th>\n      <th>P5M2</th>\n      <th>ReDB</th>\n      <th>AGE</th>\n      <th>AGE_APR15</th>\n      <th>AGE_MAY15</th>\n      <th>AGE_JUNE15</th>\n      <th>AGE_JULY15</th>\n    </tr>\n  </thead>\n  <tbody>\n    <tr>\n      <th>10</th>\n      <td>11</td>\n      <td>2023-03-15 00:00:00</td>\n      <td>2023-04-15 00:00:00</td>\n      <td>None</td>\n      <td>2023-06-15 00:00:00</td>\n      <td>None</td>\n      <td>No</td>\n      <td>မောင်ဒဲနစ်(ကေပိုင်ဆန်း)</td>\n      <td>M</td>\n      <td>2023-02-10</td>\n      <td>...</td>\n      <td>Yes</td>\n      <td>No</td>\n      <td>No</td>\n      <td>No</td>\n      <td>NaN</td>\n      <td>1.100000</td>\n      <td>2.100000</td>\n      <td>3.100000</td>\n      <td>4.100000</td>\n      <td>5.100000</td>\n    </tr>\n    <tr>\n      <th>12</th>\n      <td>13</td>\n      <td>2023-03-15 00:00:00</td>\n      <td>2023-04-15 00:00:00</td>\n      <td>None</td>\n      <td>2023-06-15 00:00:00</td>\n      <td>None</td>\n      <td>No</td>\n      <td>မဇင်မိုး</td>\n      <td>F</td>\n      <td>2022-12-30</td>\n      <td>...</td>\n      <td>Yes</td>\n      <td>No</td>\n      <td>No</td>\n      <td>No</td>\n      <td>NaN</td>\n      <td>2.500000</td>\n      <td>3.500000</td>\n      <td>4.500000</td>\n      <td>5.500000</td>\n      <td>6.500000</td>\n    </tr>\n    <tr>\n      <th>18</th>\n      <td>19</td>\n      <td>2023-03-15 00:00:00</td>\n      <td>2023-04-15 00:00:00</td>\n      <td>2023-05-15 00:00:00</td>\n      <td>None</td>\n      <td>None</td>\n      <td>No</td>\n      <td>မအော်ရီးယာ</td>\n      <td>F</td>\n      <td>2022-03-11</td>\n      <td>...</td>\n      <td>Yes</td>\n      <td>No</td>\n      <td>Yes</td>\n      <td>Yes</td>\n      <td>NaN</td>\n      <td>12.300000</td>\n      <td>13.300000</td>\n      <td>14.300000</td>\n      <td>15.300000</td>\n      <td>16.300000</td>\n    </tr>\n    <tr>\n      <th>31</th>\n      <td>32</td>\n      <td>2023-03-15 00:00:00</td>\n      <td>2023-04-15 00:00:00</td>\n      <td>None</td>\n      <td>None</td>\n      <td>2023-07-15 00:00:00</td>\n      <td>No</td>\n      <td>မောင်သြဂုတ်စတင်း</td>\n      <td>M</td>\n      <td>2022-08-01</td>\n      <td>...</td>\n      <td>Yes</td>\n      <td>No</td>\n      <td>Yes</td>\n      <td>Yes</td>\n      <td>NaN</td>\n      <td>7.533333</td>\n      <td>8.533333</td>\n      <td>9.533333</td>\n      <td>10.533333</td>\n      <td>11.533333</td>\n    </tr>\n    <tr>\n      <th>35</th>\n      <td>36</td>\n      <td>2023-03-15 00:00:00</td>\n      <td>None</td>\n      <td>None</td>\n      <td>2023-06-15 00:00:00</td>\n      <td>None</td>\n      <td>No</td>\n      <td>မောင်အိန်ဂျယ်ဖြိုး</td>\n      <td>M</td>\n      <td>2023-02-18</td>\n      <td>...</td>\n      <td>Yes</td>\n      <td>No</td>\n      <td>No</td>\n      <td>No</td>\n      <td>NaN</td>\n      <td>0.833333</td>\n      <td>1.833333</td>\n      <td>2.833333</td>\n      <td>3.833333</td>\n      <td>4.833333</td>\n    </tr>\n    <tr>\n      <th>...</th>\n      <td>...</td>\n      <td>...</td>\n      <td>...</td>\n      <td>...</td>\n      <td>...</td>\n      <td>...</td>\n      <td>...</td>\n      <td>...</td>\n      <td>...</td>\n      <td>...</td>\n      <td>...</td>\n      <td>...</td>\n      <td>...</td>\n      <td>...</td>\n      <td>...</td>\n      <td>...</td>\n      <td>...</td>\n      <td>...</td>\n      <td>...</td>\n      <td>...</td>\n      <td>...</td>\n    </tr>\n    <tr>\n      <th>177</th>\n      <td>178</td>\n      <td>None</td>\n      <td>None</td>\n      <td>None</td>\n      <td>None</td>\n      <td>2023-07-15 00:00:00</td>\n      <td>No</td>\n      <td>မောင်ဂျက်စတင်း</td>\n      <td>M</td>\n      <td>2023-02-17</td>\n      <td>...</td>\n      <td>No</td>\n      <td>No</td>\n      <td>No</td>\n      <td>No</td>\n      <td>NaN</td>\n      <td>4.933333</td>\n      <td>1.933333</td>\n      <td>2.933333</td>\n      <td>3.933333</td>\n      <td>4.933333</td>\n    </tr>\n    <tr>\n      <th>178</th>\n      <td>179</td>\n      <td>None</td>\n      <td>None</td>\n      <td>None</td>\n      <td>None</td>\n      <td>2023-07-15 00:00:00</td>\n      <td>No</td>\n      <td>မောင်ကျော်အောင်နိုင်စိုး</td>\n      <td>M</td>\n      <td>2023-04-18</td>\n      <td>...</td>\n      <td>No</td>\n      <td>No</td>\n      <td>No</td>\n      <td>No</td>\n      <td>NaN</td>\n      <td>2.933333</td>\n      <td>-0.066667</td>\n      <td>0.933333</td>\n      <td>1.933333</td>\n      <td>2.933333</td>\n    </tr>\n    <tr>\n      <th>179</th>\n      <td>180</td>\n      <td>None</td>\n      <td>None</td>\n      <td>None</td>\n      <td>None</td>\n      <td>2023-07-15 00:00:00</td>\n      <td>No</td>\n      <td>မဂျူးလိယက်</td>\n      <td>F</td>\n      <td>2023-04-13</td>\n      <td>...</td>\n      <td>No</td>\n      <td>No</td>\n      <td>No</td>\n      <td>No</td>\n      <td>NaN</td>\n      <td>3.100000</td>\n      <td>0.100000</td>\n      <td>1.100000</td>\n      <td>2.100000</td>\n      <td>3.100000</td>\n    </tr>\n    <tr>\n      <th>180</th>\n      <td>181</td>\n      <td>None</td>\n      <td>None</td>\n      <td>None</td>\n      <td>None</td>\n      <td>2023-07-15 00:00:00</td>\n      <td>No</td>\n      <td>မောင်ထားရု</td>\n      <td>M</td>\n      <td>2023-04-09</td>\n      <td>...</td>\n      <td>No</td>\n      <td>No</td>\n      <td>No</td>\n      <td>No</td>\n      <td>NaN</td>\n      <td>3.233333</td>\n      <td>0.233333</td>\n      <td>1.233333</td>\n      <td>2.233333</td>\n      <td>3.233333</td>\n    </tr>\n    <tr>\n      <th>182</th>\n      <td>183</td>\n      <td>None</td>\n      <td>None</td>\n      <td>None</td>\n      <td>None</td>\n      <td>2023-07-15 00:00:00</td>\n      <td>No</td>\n      <td>မဗျားမြာ</td>\n      <td>F</td>\n      <td>2022-11-11</td>\n      <td>...</td>\n      <td>No</td>\n      <td>No</td>\n      <td>No</td>\n      <td>No</td>\n      <td>NaN</td>\n      <td>8.200000</td>\n      <td>5.200000</td>\n      <td>6.200000</td>\n      <td>7.200000</td>\n      <td>8.200000</td>\n    </tr>\n  </tbody>\n</table>\n<p>74 rows × 64 columns</p>\n</div>"
     },
     "execution_count": 53,
     "metadata": {},
     "output_type": "execute_result"
    }
   ],
   "source": [
    "df2.loc[(df2['P5Po3']=='No'),:]"
   ],
   "metadata": {
    "collapsed": false,
    "ExecuteTime": {
     "end_time": "2023-08-27T16:28:51.525638Z",
     "start_time": "2023-08-27T16:28:51.492552Z"
    }
   }
  },
  {
   "cell_type": "code",
   "execution_count": 54,
   "outputs": [
    {
     "data": {
      "text/plain": "0.40217391304347827"
     },
     "execution_count": 54,
     "metadata": {},
     "output_type": "execute_result"
    }
   ],
   "source": [
    "74/184"
   ],
   "metadata": {
    "collapsed": false,
    "ExecuteTime": {
     "end_time": "2023-08-27T16:28:56.889996Z",
     "start_time": "2023-08-27T16:28:56.836397Z"
    }
   }
  },
  {
   "cell_type": "code",
   "execution_count": null,
   "outputs": [],
   "source": [],
   "metadata": {
    "collapsed": false
   }
  }
 ],
 "metadata": {
  "kernelspec": {
   "display_name": "Python 3 (ipykernel)",
   "language": "python",
   "name": "python3"
  },
  "language_info": {
   "codemirror_mode": {
    "name": "ipython",
    "version": 3
   },
   "file_extension": ".py",
   "mimetype": "text/x-python",
   "name": "python",
   "nbconvert_exporter": "python",
   "pygments_lexer": "ipython3",
   "version": "3.9.12"
  }
 },
 "nbformat": 4,
 "nbformat_minor": 1
}
